{
 "cells": [
  {
   "cell_type": "markdown",
   "id": "a7013c39",
   "metadata": {},
   "source": [
    "<font style=\"font-size: 2rem; color: blue\">\n",
    "\n",
    "Building a neural network for our survey data, by using StratifiedKFold and Entity Embedding. \n",
    "   \n",
    " \n",
    "</font>"
   ]
  },
  {
   "cell_type": "code",
   "execution_count": 3,
   "id": "3bef977b",
   "metadata": {},
   "outputs": [],
   "source": [
    "import pandas as pd\n",
    "import numpy as np \n",
    "import matplotlib.pyplot as plt\n",
    "import seaborn as sns"
   ]
  },
  {
   "cell_type": "code",
   "execution_count": 4,
   "id": "4f2a0d10",
   "metadata": {},
   "outputs": [],
   "source": [
    "import warnings\n",
    "warnings.filterwarnings('ignore')"
   ]
  },
  {
   "cell_type": "code",
   "execution_count": 5,
   "id": "522208b1",
   "metadata": {},
   "outputs": [],
   "source": [
    "import os\n",
    "import gc\n",
    "import joblib\n",
    "import pandas as pd\n",
    "import numpy as np\n",
    "from sklearn import metrics, preprocessing\n",
    "from tensorflow.keras import layers\n",
    "from tensorflow.keras import optimizers\n",
    "from tensorflow.keras.models import Model, load_model\n",
    "from tensorflow.keras import callbacks\n",
    "from tensorflow.keras import backend as K\n",
    "from tensorflow.keras import utils"
   ]
  },
  {
   "cell_type": "code",
   "execution_count": 16,
   "id": "050e66d9",
   "metadata": {},
   "outputs": [],
   "source": [
    "from sklearn import preprocessing"
   ]
  },
  {
   "cell_type": "code",
   "execution_count": 17,
   "id": "67c996dd",
   "metadata": {},
   "outputs": [],
   "source": [
    "from sklearn import model_selection"
   ]
  },
  {
   "cell_type": "code",
   "execution_count": 18,
   "id": "476263fd",
   "metadata": {},
   "outputs": [],
   "source": [
    "df = pd.read_csv(\"../data/train_clean.csv\")\n",
    "df.drop(columns=[\"respondent_id\"],inplace=True)"
   ]
  },
  {
   "cell_type": "code",
   "execution_count": 19,
   "id": "8add54c7",
   "metadata": {},
   "outputs": [],
   "source": [
    "#initiate the kfold class from model_selection module\n",
    "#This cross-validation object is a variation of KFold that returns stratified folds. \n",
    "#The folds are made by preserving the percentage of samples for each class.\n",
    "kf = model_selection.StratifiedKFold(n_splits=5)"
   ]
  },
  {
   "cell_type": "code",
   "execution_count": 20,
   "id": "94b983ff",
   "metadata": {},
   "outputs": [],
   "source": [
    "df[\"kfold\"] = -1"
   ]
  },
  {
   "cell_type": "code",
   "execution_count": 21,
   "id": "e9303f34",
   "metadata": {},
   "outputs": [],
   "source": [
    "df = df.sample(frac=1).reset_index(drop=True)"
   ]
  },
  {
   "cell_type": "code",
   "execution_count": 22,
   "id": "5a40b4d1",
   "metadata": {},
   "outputs": [],
   "source": [
    "y = df.h1n1_vaccine.values"
   ]
  },
  {
   "cell_type": "code",
   "execution_count": 23,
   "id": "ce9a5052",
   "metadata": {},
   "outputs": [],
   "source": [
    "for f, (t_,v_) in enumerate(kf.split(X=df,y=y)):\n",
    "    df.loc[v_,\"kfold\"] = f"
   ]
  },
  {
   "cell_type": "code",
   "execution_count": 24,
   "id": "b1890d4d",
   "metadata": {},
   "outputs": [],
   "source": [
    "def fit_model_h1n1(fold):\n",
    "     #create a list of just the categorical variables\n",
    "    features = [f for f in df.columns if f not in ('household_adults','household_children','h1n1_vaccine', 'seasonal_vaccine', 'kfold')]\n",
    "    #convert the categorical variables to strings\n",
    "    for col in features:\n",
    "        df.loc[:,col] = df[col].astype(str)\n",
    "    for feat in features:\n",
    "        lbl_enc = preprocessing.LabelEncoder()\n",
    "        df.loc[:,feat]=lbl_enc.fit_transform(df[feat].values)\n",
    "    #Hold one of the five folds as validation set and four folds as training sets \n",
    "    df_train = df[df.kfold != fold].reset_index(drop=True)\n",
    "    df_valid = df[df.kfold == fold].reset_index(drop=True)\n",
    "    model = create_model(df,features)\n",
    "    # our features are lists of lists\n",
    "    xtrain = [\n",
    "     df_train[features].values[:, k] for k in range(len(features))\n",
    "    ]\n",
    "    xvalid = [\n",
    "    df_valid[features].values[:, k] for k in range(len(features))\n",
    "    ]\n",
    "    # get target columns\n",
    "    ytrain = df_train.h1n1_vaccine.values\n",
    "    yvalid = df_valid.h1n1_vaccine.values\n",
    "    # convert target columns to categories\n",
    "\n",
    "    ytrain_cat = utils.to_categorical(ytrain)\n",
    "    yvalid_cat = utils.to_categorical(yvalid)\n",
    "    \n",
    "    # fit the model\n",
    "    model.fit(xtrain,\n",
    "    ytrain_cat,\n",
    "    validation_data=(xvalid, yvalid_cat),\n",
    "    verbose=0,\n",
    "    batch_size=32,\n",
    "    epochs=100)\n",
    "    valid_preds = model.predict(xvalid)[:, 1]\n",
    "    auc = metrics.roc_auc_score(yvalid, valid_preds)\n",
    "    print(f\"For fold = {fold}, AUC = {auc}\")\n",
    "    \n",
    "    K.clear_session()\n"
   ]
  },
  {
   "cell_type": "code",
   "execution_count": 25,
   "id": "fec6f410",
   "metadata": {},
   "outputs": [],
   "source": [
    "def create_model(data, catcols):\n",
    "    inputs = []\n",
    "    outputs = []\n",
    "    for c in catcols:\n",
    "        num_unique_values = int(data[c].nunique())\n",
    "        embed_dim = int(min(np.ceil((num_unique_values)/2), 50))\n",
    "        inp = layers.Input(shape=(1,))\n",
    "        out = layers.Embedding(num_unique_values + 1, embed_dim, name=c)(inp)\n",
    "        out = layers.SpatialDropout1D(0.3)(out)\n",
    "        out = layers.Reshape(target_shape=(embed_dim, ))(out)\n",
    "        inputs.append(inp)\n",
    "        outputs.append(out)\n",
    "    x = layers.Concatenate()(outputs)\n",
    "    x = layers.BatchNormalization()(x)\n",
    "    x = layers.Dense(45, activation=\"relu\")(x)\n",
    "    x = layers.Dropout(0.3)(x)\n",
    "    x = layers.BatchNormalization()(x)\n",
    "    x = layers.Dense(45, activation=\"relu\")(x)\n",
    "    x = layers.Dropout(0.3)(x)\n",
    "    x = layers.BatchNormalization()(x)\n",
    "    y = layers.Dense(2, activation=\"softmax\")(x)\n",
    "    model = Model(inputs=inputs, outputs=y)\n",
    "    model.compile(loss='binary_crossentropy', optimizer='adam')\n",
    "    return model"
   ]
  },
  {
   "cell_type": "markdown",
   "id": "82a29c11",
   "metadata": {},
   "source": [
    "<font style=\"font-size: 2rem; color: blue\">\n",
    "\n",
    "Results for H1N1 data. \n",
    "   \n",
    " \n",
    "</font>"
   ]
  },
  {
   "cell_type": "code",
   "execution_count": 26,
   "id": "11bcde47",
   "metadata": {},
   "outputs": [
    {
     "name": "stdout",
     "output_type": "stream",
     "text": [
      "The Neural Network results for predicting H1N1 Flu\n",
      "For fold = 0, AUC = 0.8632551788554632\n"
     ]
    }
   ],
   "source": [
    "print(\"The Neural Network results for predicting H1N1 Flu\")\n",
    "score = fit_model_h1n1(0)"
   ]
  },
  {
   "cell_type": "code",
   "execution_count": 27,
   "id": "a8686f4f",
   "metadata": {},
   "outputs": [
    {
     "name": "stdout",
     "output_type": "stream",
     "text": [
      "For fold = 1, AUC = 0.8731076483603475\n"
     ]
    }
   ],
   "source": [
    "score = fit_model_h1n1(1)"
   ]
  },
  {
   "cell_type": "code",
   "execution_count": 28,
   "id": "3e57906e",
   "metadata": {},
   "outputs": [
    {
     "name": "stdout",
     "output_type": "stream",
     "text": [
      "For fold = 2, AUC = 0.8743907127157265\n"
     ]
    }
   ],
   "source": [
    "score = fit_model_h1n1(2)"
   ]
  },
  {
   "cell_type": "code",
   "execution_count": 29,
   "id": "90c5b28c",
   "metadata": {},
   "outputs": [
    {
     "name": "stdout",
     "output_type": "stream",
     "text": [
      "For fold = 3, AUC = 0.8671434346989093\n"
     ]
    }
   ],
   "source": [
    "score = fit_model_h1n1(3)"
   ]
  },
  {
   "cell_type": "code",
   "execution_count": 30,
   "id": "ddab7d9f",
   "metadata": {},
   "outputs": [
    {
     "name": "stdout",
     "output_type": "stream",
     "text": [
      "For fold = 4, AUC = 0.8638480584690216\n"
     ]
    }
   ],
   "source": [
    "score = fit_model_h1n1(4)"
   ]
  },
  {
   "cell_type": "markdown",
   "id": "1c794705",
   "metadata": {},
   "source": [
    "<font style=\"font-size: 2rem; color: blue\">\n",
    "\n",
    "For Seasonal Flu  survey. \n",
    "   \n",
    " \n",
    "</font>"
   ]
  },
  {
   "cell_type": "code",
   "execution_count": 31,
   "id": "6a65bac7",
   "metadata": {},
   "outputs": [],
   "source": [
    "df = pd.read_csv(\"../data/train_clean.csv\")\n",
    "df.drop(columns=[\"respondent_id\"],inplace=True)"
   ]
  },
  {
   "cell_type": "code",
   "execution_count": 32,
   "id": "723633e7",
   "metadata": {},
   "outputs": [],
   "source": [
    "#initiate the kfold class from model_selection module\n",
    "#This cross-validation object is a variation of KFold that returns stratified folds. \n",
    "#The folds are made by preserving the percentage of samples for each class.\n",
    "kf_seas = model_selection.StratifiedKFold(n_splits=5)"
   ]
  },
  {
   "cell_type": "code",
   "execution_count": 33,
   "id": "39435e27",
   "metadata": {},
   "outputs": [],
   "source": [
    "df[\"kfold_seas\"] = -1"
   ]
  },
  {
   "cell_type": "code",
   "execution_count": 34,
   "id": "fd7acaf9",
   "metadata": {},
   "outputs": [],
   "source": [
    "df = df.sample(frac=1).reset_index(drop=True)"
   ]
  },
  {
   "cell_type": "code",
   "execution_count": 35,
   "id": "8e058d8e",
   "metadata": {},
   "outputs": [],
   "source": [
    "y = df.seasonal_vaccine.values"
   ]
  },
  {
   "cell_type": "code",
   "execution_count": 36,
   "id": "2363b584",
   "metadata": {},
   "outputs": [],
   "source": [
    "for f, (t_,v_) in enumerate(kf.split(X=df,y=y)):\n",
    "    df.loc[v_,\"kfold_seas\"] = f"
   ]
  },
  {
   "cell_type": "code",
   "execution_count": 37,
   "id": "9a7690c6",
   "metadata": {},
   "outputs": [],
   "source": [
    "def fit_model_seas(fold):\n",
    "     #create a list of just the categorical variables\n",
    "    features = [f for f in df.columns if f not in ('household_adults','household_children','h1n1_vaccine', 'seasonal_vaccine', 'kfold_seas')]\n",
    "    #convert the categorical variables to strings\n",
    "    for col in features:\n",
    "        df.loc[:,col] = df[col].astype(str)\n",
    "    for feat in features:\n",
    "        lbl_enc = preprocessing.LabelEncoder()\n",
    "        df.loc[:,feat]=lbl_enc.fit_transform(df[feat].values)\n",
    "    #Hold one of the five folds as validation set and four folds as training sets \n",
    "    df_train = df[df.kfold_seas != fold].reset_index(drop=True)\n",
    "    df_valid = df[df.kfold_seas == fold].reset_index(drop=True)\n",
    "    model = create_model(df,features)\n",
    "    # our features are lists of lists\n",
    "    xtrain = [\n",
    "     df_train[features].values[:, k] for k in range(len(features))\n",
    "    ]\n",
    "    xvalid = [\n",
    "    df_valid[features].values[:, k] for k in range(len(features))\n",
    "    ]\n",
    "    # get target columns\n",
    "    ytrain = df_train.seasonal_vaccine.values\n",
    "    yvalid = df_valid.seasonal_vaccine.values\n",
    "    # convert target columns to categories\n",
    "\n",
    "    ytrain_cat = utils.to_categorical(ytrain)\n",
    "    yvalid_cat = utils.to_categorical(yvalid)\n",
    "    \n",
    "    # fit the model\n",
    "    model.fit(xtrain,\n",
    "    ytrain_cat,\n",
    "    validation_data=(xvalid, yvalid_cat),\n",
    "    verbose=0,\n",
    "    batch_size=32,\n",
    "    epochs=100)\n",
    "    valid_preds = model.predict(xvalid)[:, 1]\n",
    "    auc = metrics.roc_auc_score(yvalid, valid_preds)\n",
    "    print(f\"For fold = {fold}, AUC = {auc}\")\n",
    "    K.clear_session()"
   ]
  },
  {
   "cell_type": "code",
   "execution_count": 38,
   "id": "591c9391",
   "metadata": {},
   "outputs": [],
   "source": [
    "def create_model(data, catcols):\n",
    "    inputs = []\n",
    "    outputs = []\n",
    "    for c in catcols:\n",
    "        num_unique_values = int(data[c].nunique())\n",
    "        embed_dim = int(min(np.ceil((num_unique_values)/2), 50))\n",
    "        inp = layers.Input(shape=(1,))\n",
    "        out = layers.Embedding(num_unique_values + 1, embed_dim, name=c)(inp)\n",
    "        out = layers.SpatialDropout1D(0.3)(out)\n",
    "        out = layers.Reshape(target_shape=(embed_dim, ))(out)\n",
    "        inputs.append(inp)\n",
    "        outputs.append(out)\n",
    "    x = layers.Concatenate()(outputs)\n",
    "    x = layers.BatchNormalization()(x)\n",
    "    x = layers.Dense(45, activation=\"relu\")(x)\n",
    "    x = layers.Dropout(0.3)(x)\n",
    "    x = layers.BatchNormalization()(x)\n",
    "    x = layers.Dense(45, activation=\"relu\")(x)\n",
    "    x = layers.Dropout(0.3)(x)\n",
    "    x = layers.BatchNormalization()(x)\n",
    "    y = layers.Dense(2, activation=\"softmax\")(x)\n",
    "    model = Model(inputs=inputs, outputs=y)\n",
    "    model.compile(loss='binary_crossentropy', optimizer='adam')\n",
    "    return model"
   ]
  },
  {
   "cell_type": "code",
   "execution_count": 39,
   "id": "ff665ecf",
   "metadata": {},
   "outputs": [
    {
     "name": "stdout",
     "output_type": "stream",
     "text": [
      "The Neural Network results for predicting Seasonal Flu\n",
      "For fold = 0, AUC = 0.8672824079257675\n"
     ]
    }
   ],
   "source": [
    "print(\"The Neural Network results for predicting Seasonal Flu\")\n",
    "fit_model_seas(0)\n",
    "    "
   ]
  },
  {
   "cell_type": "code",
   "execution_count": 40,
   "id": "9850b512",
   "metadata": {},
   "outputs": [
    {
     "name": "stdout",
     "output_type": "stream",
     "text": [
      "For fold = 1, AUC = 0.8587448427092335\n"
     ]
    }
   ],
   "source": [
    "fit_model_seas(1)"
   ]
  },
  {
   "cell_type": "code",
   "execution_count": 41,
   "id": "ee214fe4",
   "metadata": {},
   "outputs": [
    {
     "name": "stdout",
     "output_type": "stream",
     "text": [
      "For fold = 2, AUC = 0.8568116222577445\n"
     ]
    }
   ],
   "source": [
    "fit_model_seas(2)"
   ]
  },
  {
   "cell_type": "code",
   "execution_count": 42,
   "id": "89e957c8",
   "metadata": {},
   "outputs": [
    {
     "name": "stdout",
     "output_type": "stream",
     "text": [
      "For fold = 3, AUC = 0.8554497401906874\n"
     ]
    }
   ],
   "source": [
    "fit_model_seas(3)"
   ]
  },
  {
   "cell_type": "code",
   "execution_count": null,
   "id": "6fd84065",
   "metadata": {},
   "outputs": [],
   "source": [
    "fit_model_seas(4)"
   ]
  }
 ],
 "metadata": {
  "kernelspec": {
   "display_name": "Python 3 (ipykernel)",
   "language": "python",
   "name": "python3"
  },
  "language_info": {
   "codemirror_mode": {
    "name": "ipython",
    "version": 3
   },
   "file_extension": ".py",
   "mimetype": "text/x-python",
   "name": "python",
   "nbconvert_exporter": "python",
   "pygments_lexer": "ipython3",
   "version": "3.9.11"
  }
 },
 "nbformat": 4,
 "nbformat_minor": 5
}
