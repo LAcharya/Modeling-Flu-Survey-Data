{
 "cells": [
  {
   "cell_type": "markdown",
   "id": "1aeca4c0-65cb-40f7-803e-dba80f295c9d",
   "metadata": {
    "tags": []
   },
   "source": [
    "# Predicting Seasonal Flu vaccination refusal using best features \n",
    "## Features selected from XGBoost Classifier"
   ]
  },
  {
   "cell_type": "markdown",
   "id": "371cd08c-59e5-4a69-9712-99cbed742b8c",
   "metadata": {},
   "source": [
    "This notebook uses 15 best features as selected using as XGBoost Classifier. The features are listed below:\n",
    "* `doctor_recc_seasonal`\n",
    "* `opinion_seas_vacc_effective`\n",
    "* `opinion_seas_risk`\n",
    "* `age_group`\n",
    "* `health_insurance`\n",
    "* `health_worker`\n",
    "* `rent_or_own`\n",
    "* `employment_industry`\n",
    "* `h1n1_knowledge`\n",
    "* `doctor_recc_h1n1`\n",
    "* `employment_occupation`\n",
    "* `opinion_seas_sick_from_vacc`\n",
    "* `chronic_med_condition`\n",
    "* `opinion_h1n1_risk`\n",
    "* `education`\n",
    "* `h1n1_vaccine`\n",
    "* `seasonal_vaccine`\n",
    "\n",
    "The notebook runs a single model using these fifteen features as is with the XGBoost model that was optimized in the previous notebook. \n",
    "\n",
    "The results comparing metrics when using all features vs only the top 15 are below: \n",
    "\n",
    "Metric | With all features | With top 15 features\n",
    "-------|-------------------|--------------------\n",
    "Accuracy|0.797| 0.849\n",
    "Precision|0.800| 0.873\n",
    "Recall| 0.825 | 0.956\n",
    "Roc_Auc| 0.794| 0.717"
   ]
  },
  {
   "cell_type": "code",
   "execution_count": 1,
   "id": "dec77ad8-0e86-4817-af2b-053f5d9d65df",
   "metadata": {},
   "outputs": [
    {
     "name": "stderr",
     "output_type": "stream",
     "text": [
      "C:\\ProgramData\\Anaconda3\\envs\\xgboost\\lib\\site-packages\\xgboost\\compat.py:36: FutureWarning: pandas.Int64Index is deprecated and will be removed from pandas in a future version. Use pandas.Index with the appropriate dtype instead.\n",
      "  from pandas import MultiIndex, Int64Index\n"
     ]
    }
   ],
   "source": [
    "import pandas as pd\n",
    "import numpy as np\n",
    "import xgboost as xgb\n",
    "from imblearn.over_sampling import SMOTE\n",
    "from sklearn.model_selection import train_test_split, GridSearchCV\n",
    "from sklearn.metrics import (accuracy_score, recall_score, precision_score, \n",
    "                            roc_auc_score, balanced_accuracy_score, ConfusionMatrixDisplay)"
   ]
  },
  {
   "cell_type": "markdown",
   "id": "f2cf439e-a081-4ef0-9968-85f1037e7b62",
   "metadata": {},
   "source": [
    "### Using top features from XGBoost"
   ]
  },
  {
   "cell_type": "code",
   "execution_count": 2,
   "id": "436325d7-b985-48fc-86b3-40d8d2597a0e",
   "metadata": {},
   "outputs": [],
   "source": [
    "# import data\n",
    "data = pd.read_csv('../data/train_clean.csv')"
   ]
  },
  {
   "cell_type": "code",
   "execution_count": 3,
   "id": "aa349c98-2f36-4370-930e-e4ab1bae3099",
   "metadata": {},
   "outputs": [
    {
     "data": {
      "text/plain": [
       "Index(['respondent_id', 'h1n1_concern', 'h1n1_knowledge',\n",
       "       'behavioral_antiviral_meds', 'behavioral_avoidance',\n",
       "       'behavioral_face_mask', 'behavioral_wash_hands',\n",
       "       'behavioral_large_gatherings', 'behavioral_outside_home',\n",
       "       'behavioral_touch_face', 'doctor_recc_h1n1', 'doctor_recc_seasonal',\n",
       "       'chronic_med_condition', 'child_under_6_months', 'health_worker',\n",
       "       'health_insurance', 'opinion_h1n1_vacc_effective', 'opinion_h1n1_risk',\n",
       "       'opinion_h1n1_sick_from_vacc', 'opinion_seas_vacc_effective',\n",
       "       'opinion_seas_risk', 'opinion_seas_sick_from_vacc', 'age_group',\n",
       "       'education', 'race', 'sex', 'income_poverty', 'marital_status',\n",
       "       'rent_or_own', 'employment_status', 'hhs_geo_region', 'census_msa',\n",
       "       'household_adults', 'household_children', 'employment_industry',\n",
       "       'employment_occupation', 'h1n1_vaccine', 'seasonal_vaccine'],\n",
       "      dtype='object')"
      ]
     },
     "execution_count": 3,
     "metadata": {},
     "output_type": "execute_result"
    }
   ],
   "source": [
    "data.columns"
   ]
  },
  {
   "cell_type": "code",
   "execution_count": 4,
   "id": "e80b796c-ee87-49d6-8c09-10d929805a2c",
   "metadata": {},
   "outputs": [
    {
     "data": {
      "text/plain": [
       "0    0.787546\n",
       "1    0.212454\n",
       "Name: h1n1_vaccine, dtype: float64"
      ]
     },
     "execution_count": 4,
     "metadata": {},
     "output_type": "execute_result"
    }
   ],
   "source": [
    "data['h1n1_vaccine'].value_counts(normalize=True)"
   ]
  },
  {
   "cell_type": "code",
   "execution_count": 5,
   "id": "c2617b94-d8e4-4b0b-9cc3-721dbb66c5b6",
   "metadata": {},
   "outputs": [
    {
     "data": {
      "text/plain": [
       "0    0.534392\n",
       "1    0.465608\n",
       "Name: seasonal_vaccine, dtype: float64"
      ]
     },
     "execution_count": 5,
     "metadata": {},
     "output_type": "execute_result"
    }
   ],
   "source": [
    "data['seasonal_vaccine'].value_counts(normalize=True)"
   ]
  },
  {
   "cell_type": "code",
   "execution_count": 6,
   "id": "9321ac57-68ec-4850-b17d-ccd88f4cb776",
   "metadata": {
    "tags": []
   },
   "outputs": [
    {
     "data": {
      "text/plain": [
       "1    14272\n",
       "0    12435\n",
       "Name: seasonal_vaccine, dtype: int64"
      ]
     },
     "execution_count": 6,
     "metadata": {},
     "output_type": "execute_result"
    }
   ],
   "source": [
    "# since we're interested in the people who did not get vaccinated: switch 0 and 1 labels\n",
    "data['h1n1_vaccine'].replace({1:0, 0:1}, inplace=True)\n",
    "data['h1n1_vaccine'].value_counts()\n",
    "\n",
    "data['seasonal_vaccine'].replace({1:0, 0:1}, inplace=True)\n",
    "data['seasonal_vaccine'].value_counts()"
   ]
  },
  {
   "cell_type": "code",
   "execution_count": 12,
   "id": "0adc10e8-1eaf-45bb-b0b7-4da85cb2fdf3",
   "metadata": {},
   "outputs": [],
   "source": [
    "features_to_use = pd.read_csv('../data/XGB_seasonal_feature_imp.csv')"
   ]
  },
  {
   "cell_type": "code",
   "execution_count": 13,
   "id": "5dd77963-8efb-4956-9c59-f846eec36b02",
   "metadata": {},
   "outputs": [
    {
     "data": {
      "text/plain": [
       "['doctor_recc_seasonal',\n",
       " 'opinion_seas_vacc_effective',\n",
       " 'opinion_seas_risk',\n",
       " 'age_group',\n",
       " 'health_insurance',\n",
       " 'health_worker',\n",
       " 'rent_or_own',\n",
       " 'employment_industry',\n",
       " 'h1n1_knowledge',\n",
       " 'doctor_recc_h1n1',\n",
       " 'employment_occupation',\n",
       " 'opinion_seas_sick_from_vacc',\n",
       " 'chronic_med_condition',\n",
       " 'opinion_h1n1_risk',\n",
       " 'education',\n",
       " 'h1n1_vaccine',\n",
       " 'seasonal_vaccine']"
      ]
     },
     "execution_count": 13,
     "metadata": {},
     "output_type": "execute_result"
    }
   ],
   "source": [
    "features = list(features_to_use['feature'])\n",
    "features.append('h1n1_vaccine')\n",
    "features.append('seasonal_vaccine')\n",
    "features"
   ]
  },
  {
   "cell_type": "code",
   "execution_count": 14,
   "id": "af3abcfe-9c90-41f4-84e7-152a6578fe04",
   "metadata": {},
   "outputs": [],
   "source": [
    "data = data[features]"
   ]
  },
  {
   "cell_type": "code",
   "execution_count": 15,
   "id": "06a10144-5aed-4cf5-aab5-cc564d8d291f",
   "metadata": {},
   "outputs": [
    {
     "data": {
      "text/plain": [
       "Index(['doctor_recc_seasonal', 'opinion_seas_vacc_effective',\n",
       "       'opinion_seas_risk', 'age_group', 'health_insurance', 'health_worker',\n",
       "       'rent_or_own', 'employment_industry', 'h1n1_knowledge',\n",
       "       'doctor_recc_h1n1', 'employment_occupation',\n",
       "       'opinion_seas_sick_from_vacc', 'chronic_med_condition',\n",
       "       'opinion_h1n1_risk', 'education', 'h1n1_vaccine', 'seasonal_vaccine'],\n",
       "      dtype='object')"
      ]
     },
     "execution_count": 15,
     "metadata": {},
     "output_type": "execute_result"
    }
   ],
   "source": [
    "data.columns"
   ]
  },
  {
   "cell_type": "markdown",
   "id": "efb08223-bfc7-4818-9b91-223a0848fe92",
   "metadata": {},
   "source": [
    "**dummify x**"
   ]
  },
  {
   "cell_type": "code",
   "execution_count": 16,
   "id": "9dd6ffea-5680-4f3d-ae05-5ae0e298a843",
   "metadata": {},
   "outputs": [
    {
     "data": {
      "text/plain": [
       "['doctor_recc_seasonal',\n",
       " 'age_group',\n",
       " 'health_insurance',\n",
       " 'health_worker',\n",
       " 'rent_or_own',\n",
       " 'employment_industry',\n",
       " 'doctor_recc_h1n1',\n",
       " 'employment_occupation',\n",
       " 'chronic_med_condition',\n",
       " 'education']"
      ]
     },
     "execution_count": 16,
     "metadata": {},
     "output_type": "execute_result"
    }
   ],
   "source": [
    "categorical_columns = list(data.select_dtypes('object').columns)\n",
    "categorical_columns"
   ]
  },
  {
   "cell_type": "code",
   "execution_count": 17,
   "id": "1cac3520-af5c-4390-bf02-78b6b69ddcb0",
   "metadata": {},
   "outputs": [],
   "source": [
    "X = pd.get_dummies(data=data.drop(columns=['h1n1_vaccine', 'seasonal_vaccine']),\n",
    "                    columns=categorical_columns, drop_first=True)"
   ]
  },
  {
   "cell_type": "markdown",
   "id": "d1b652c5-c0fb-4e8b-9105-ddb6a6fee5dd",
   "metadata": {},
   "source": [
    "**define X and y**"
   ]
  },
  {
   "cell_type": "code",
   "execution_count": 18,
   "id": "85676567-b691-47ab-a352-dc6500e144c5",
   "metadata": {},
   "outputs": [
    {
     "data": {
      "text/plain": [
       "Index(['opinion_seas_vacc_effective', 'opinion_seas_risk', 'h1n1_knowledge',\n",
       "       'opinion_seas_sick_from_vacc', 'opinion_h1n1_risk',\n",
       "       'doctor_recc_seasonal_1.0', 'doctor_recc_seasonal_no_response',\n",
       "       'age_group_35 - 44 Years', 'age_group_45 - 54 Years',\n",
       "       'age_group_55 - 64 Years', 'age_group_65+ Years',\n",
       "       'health_insurance_no_response', 'health_insurance_yes',\n",
       "       'health_worker_no_response', 'health_worker_yes', 'rent_or_own_Rent',\n",
       "       'rent_or_own_no_response', 'employment_industry_atmlpfrs',\n",
       "       'employment_industry_cfqqtusy', 'employment_industry_dotnnunm',\n",
       "       'employment_industry_fcxhlnwr', 'employment_industry_haxffmxo',\n",
       "       'employment_industry_ldnlellj', 'employment_industry_mcubkhph',\n",
       "       'employment_industry_mfikgejo', 'employment_industry_msuufmds',\n",
       "       'employment_industry_nduyfdeo', 'employment_industry_no_response',\n",
       "       'employment_industry_phxvnwax', 'employment_industry_pxcmvdjn',\n",
       "       'employment_industry_qnlwzans', 'employment_industry_rucpziij',\n",
       "       'employment_industry_saaquncn', 'employment_industry_vjjrobsf',\n",
       "       'employment_industry_wlfvacwt', 'employment_industry_wxleyezf',\n",
       "       'employment_industry_xicduogh', 'employment_industry_xqicxuve',\n",
       "       'doctor_recc_h1n1_1.0', 'doctor_recc_h1n1_no_response',\n",
       "       'employment_occupation_ccgxvspp', 'employment_occupation_cmhcxjea',\n",
       "       'employment_occupation_dcjcmpih', 'employment_occupation_dlvbwzss',\n",
       "       'employment_occupation_emcorrxb', 'employment_occupation_haliazsg',\n",
       "       'employment_occupation_hfxkjkmi', 'employment_occupation_hodpvpew',\n",
       "       'employment_occupation_kldqjyjy', 'employment_occupation_mxkfnird',\n",
       "       'employment_occupation_no_response', 'employment_occupation_oijqvulv',\n",
       "       'employment_occupation_pvmttkik', 'employment_occupation_qxajmpny',\n",
       "       'employment_occupation_rcertsgn', 'employment_occupation_tfqavkke',\n",
       "       'employment_occupation_ukymxvdu', 'employment_occupation_uqqtjvyb',\n",
       "       'employment_occupation_vlluhbov', 'employment_occupation_xgwztkwe',\n",
       "       'employment_occupation_xqwwgdyp', 'employment_occupation_xtkaffoo',\n",
       "       'employment_occupation_xzmlyyjv', 'chronic_med_condition_1.0',\n",
       "       'chronic_med_condition_no_response', 'education_< 12 Years',\n",
       "       'education_College Graduate', 'education_Some College',\n",
       "       'education_no_response'],\n",
       "      dtype='object')"
      ]
     },
     "execution_count": 18,
     "metadata": {},
     "output_type": "execute_result"
    }
   ],
   "source": [
    "X.columns"
   ]
  },
  {
   "cell_type": "code",
   "execution_count": 19,
   "id": "3658fc64-c607-4e31-a17a-caca31e9e6d7",
   "metadata": {},
   "outputs": [],
   "source": [
    "y = data['h1n1_vaccine']"
   ]
  },
  {
   "cell_type": "code",
   "execution_count": 20,
   "id": "9d9b423e-ca38-424f-b64f-3f7c19a7dc9a",
   "metadata": {},
   "outputs": [],
   "source": [
    "# train test split\n",
    "X_train, X_test, y_train, y_test = train_test_split(X, y, random_state=42, stratify=y)"
   ]
  },
  {
   "cell_type": "code",
   "execution_count": 21,
   "id": "ba2e3b42-0a5e-45b9-94e7-c594d2e695e5",
   "metadata": {},
   "outputs": [],
   "source": [
    "X_train = np.array(X_train)\n",
    "X_test = np.array(X_test)"
   ]
  },
  {
   "cell_type": "code",
   "execution_count": 22,
   "id": "24ce39b5-41ac-466e-8a4b-c438919d7be0",
   "metadata": {},
   "outputs": [],
   "source": [
    "y_train = np.array(y_train)\n",
    "y_test = np.array(y_test)"
   ]
  },
  {
   "cell_type": "markdown",
   "id": "c7232e2b-7bc7-42fe-9480-546105d0013b",
   "metadata": {},
   "source": [
    "**Run model**"
   ]
  },
  {
   "cell_type": "code",
   "execution_count": 23,
   "id": "362ebc7a-99e9-4ef0-9f9e-02161ad74ab1",
   "metadata": {},
   "outputs": [
    {
     "data": {
      "text/plain": [
       "XGBClassifier(base_score=0.5, booster='gbtree', colsample_bylevel=1,\n",
       "              colsample_bynode=1, colsample_bytree=0.5,\n",
       "              enable_categorical=False, eval_metric='error', gamma=0, gpu_id=-1,\n",
       "              importance_type=None, interaction_constraints='',\n",
       "              learning_rate=0.1, max_delta_step=0, max_depth=5,\n",
       "              min_child_weight=1, missing=nan, monotone_constraints='()',\n",
       "              n_estimators=100, n_jobs=-1, num_parallel_tree=1,\n",
       "              predictor='auto', random_state=42, reg_alpha=0, reg_lambda=1,\n",
       "              scale_pos_weight=1, subsample=1, tree_method='exact',\n",
       "              use_label_encoder=False, validate_parameters=1, verbosity=None)"
      ]
     },
     "execution_count": 23,
     "metadata": {},
     "output_type": "execute_result"
    }
   ],
   "source": [
    "xgb_best = xgb.XGBClassifier(random_state=42,\n",
    "                           use_label_encoder=False,\n",
    "                           max_depth=5,\n",
    "                           colsample_bytree = 0.5,\n",
    "                           subsample=1,\n",
    "                           learning_rate=0.1,\n",
    "                           n_estimators=100,\n",
    "                           n_jobs=-1, \n",
    "                           eval_metric='error'\n",
    "                            )\n",
    "xgb_best.fit(X_train, y_train)"
   ]
  },
  {
   "cell_type": "code",
   "execution_count": 24,
   "id": "fe9d4a15-94a5-4657-a9f7-9df3e4e7b4af",
   "metadata": {},
   "outputs": [],
   "source": [
    "test_pred = xgb_best.predict(X_test)\n",
    "train_pred = xgb_best.predict(X_train)"
   ]
  },
  {
   "cell_type": "code",
   "execution_count": 25,
   "id": "02232e06-6fc7-436e-9a29-068b082c4c13",
   "metadata": {},
   "outputs": [
    {
     "data": {
      "text/plain": [
       "<sklearn.metrics._plot.confusion_matrix.ConfusionMatrixDisplay at 0x27984eb3e80>"
      ]
     },
     "execution_count": 25,
     "metadata": {},
     "output_type": "execute_result"
    },
    {
     "data": {
      "image/png": "[encoded data removed]",
      "text/plain": [
       "<Figure size 432x288 with 2 Axes>"
      ]
     },
     "metadata": {
      "needs_background": "light"
     },
     "output_type": "display_data"
    }
   ],
   "source": [
    "ConfusionMatrixDisplay.from_predictions(y_test, test_pred, display_labels=['Vaccinated', 'Unvaccinated'])"
   ]
  },
  {
   "cell_type": "code",
   "execution_count": 26,
   "id": "5312a98d-f524-4688-8452-b4bba5057f62",
   "metadata": {},
   "outputs": [
    {
     "data": {
      "text/plain": [
       "(0.8491837651639959, 0.8636045931103346)"
      ]
     },
     "execution_count": 26,
     "metadata": {},
     "output_type": "execute_result"
    }
   ],
   "source": [
    "accuracy_score(y_test, test_pred), accuracy_score(y_train, train_pred)"
   ]
  },
  {
   "cell_type": "code",
   "execution_count": 27,
   "id": "886a8068-524a-491b-b0e8-7f7b63a7289e",
   "metadata": {},
   "outputs": [
    {
     "data": {
      "text/plain": [
       "0.8728293281880372"
      ]
     },
     "execution_count": 27,
     "metadata": {},
     "output_type": "execute_result"
    }
   ],
   "source": [
    "precision_score(y_test, test_pred)"
   ]
  },
  {
   "cell_type": "code",
   "execution_count": 28,
   "id": "129f060a-d52a-4028-83e2-c54a9cf378bf",
   "metadata": {},
   "outputs": [
    {
     "data": {
      "text/plain": [
       "0.9463674400912895"
      ]
     },
     "execution_count": 28,
     "metadata": {},
     "output_type": "execute_result"
    }
   ],
   "source": [
    "recall_score(y_test, test_pred)"
   ]
  },
  {
   "cell_type": "code",
   "execution_count": 29,
   "id": "11f6e075-27c2-4323-85b9-d5b5abe72a5b",
   "metadata": {},
   "outputs": [
    {
     "data": {
      "text/plain": [
       "0.7177221273747497"
      ]
     },
     "execution_count": 29,
     "metadata": {},
     "output_type": "execute_result"
    }
   ],
   "source": [
    "roc_auc_score(y_test, test_pred)"
   ]
  },
  {
   "cell_type": "code",
   "execution_count": 30,
   "id": "622814c6-8a5a-470d-98f0-954a0c963e74",
   "metadata": {},
   "outputs": [
    {
     "data": {
      "text/plain": [
       "0.7177221273747497"
      ]
     },
     "execution_count": 30,
     "metadata": {},
     "output_type": "execute_result"
    }
   ],
   "source": [
    "balanced_accuracy_score(y_test, test_pred)"
   ]
  },
  {
   "cell_type": "markdown",
   "id": "89a390a8-9537-4f80-bb60-7e5606657377",
   "metadata": {},
   "source": [
    "### Conclusions\n",
    "\n",
    "Metric | Score\n",
    "-------|------\n",
    "Accuracy| 0.849\n",
    "Precision| 0.873\n",
    "Recall| 0.956\n",
    "Roc_Auc| 0.717"
   ]
  },
  {
   "cell_type": "code",
   "execution_count": null,
   "id": "b9b8fc71-3fe7-420d-8362-754e3c497c3b",
   "metadata": {},
   "outputs": [],
   "source": []
  }
 ],
 "metadata": {
  "kernelspec": {
   "display_name": "Python [conda env:xgboost]",
   "language": "python",
   "name": "conda-env-xgboost-py"
  },
  "language_info": {
   "codemirror_mode": {
    "name": "ipython",
    "version": 3
   },
   "file_extension": ".py",
   "mimetype": "text/x-python",
   "name": "python",
   "nbconvert_exporter": "python",
   "pygments_lexer": "ipython3",
   "version": "3.10.4"
  }
 },
 "nbformat": 4,
 "nbformat_minor": 5
}
