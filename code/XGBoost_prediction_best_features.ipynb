{
 "cells": [
  {
   "cell_type": "code",
   "execution_count": 1,
   "id": "ccf297a8-908b-4f3a-a5f2-f98c07280c81",
   "metadata": {},
   "outputs": [
    {
     "name": "stderr",
     "output_type": "stream",
     "text": [
      "C:\\ProgramData\\Anaconda3\\envs\\xgboost\\lib\\site-packages\\xgboost\\compat.py:36: FutureWarning: pandas.Int64Index is deprecated and will be removed from pandas in a future version. Use pandas.Index with the appropriate dtype instead.\n",
      "  from pandas import MultiIndex, Int64Index\n"
     ]
    }
   ],
   "source": [
    "import pandas as pd\n",
    "import numpy as np\n",
    "import xgboost as xgb\n",
    "from imblearn.over_sampling import SMOTE\n",
    "from sklearn.model_selection import train_test_split, GridSearchCV\n",
    "from sklearn.metrics import (accuracy_score, recall_score, precision_score, \n",
    "                            roc_auc_score, balanced_accuracy_score, ConfusionMatrixDisplay)"
   ]
  },
  {
   "cell_type": "code",
   "execution_count": 2,
   "id": "7135bff1-2317-469d-b9a8-e2e16dfad386",
   "metadata": {},
   "outputs": [],
   "source": [
    "# import data\n",
    "data = pd.read_csv('../data/train_clean.csv')"
   ]
  },
  {
   "cell_type": "code",
   "execution_count": 3,
   "id": "7b1d402f-a4e4-4267-b5ba-5a13b9edad7e",
   "metadata": {},
   "outputs": [
    {
     "data": {
      "text/plain": [
       "Index(['respondent_id', 'h1n1_concern', 'h1n1_knowledge',\n",
       "       'behavioral_antiviral_meds', 'behavioral_avoidance',\n",
       "       'behavioral_face_mask', 'behavioral_wash_hands',\n",
       "       'behavioral_large_gatherings', 'behavioral_outside_home',\n",
       "       'behavioral_touch_face', 'doctor_recc_h1n1', 'doctor_recc_seasonal',\n",
       "       'chronic_med_condition', 'child_under_6_months', 'health_worker',\n",
       "       'health_insurance', 'opinion_h1n1_vacc_effective', 'opinion_h1n1_risk',\n",
       "       'opinion_h1n1_sick_from_vacc', 'opinion_seas_vacc_effective',\n",
       "       'opinion_seas_risk', 'opinion_seas_sick_from_vacc', 'age_group',\n",
       "       'education', 'race', 'sex', 'income_poverty', 'marital_status',\n",
       "       'rent_or_own', 'employment_status', 'hhs_geo_region', 'census_msa',\n",
       "       'household_adults', 'household_children', 'employment_industry',\n",
       "       'employment_occupation', 'h1n1_vaccine', 'seasonal_vaccine'],\n",
       "      dtype='object')"
      ]
     },
     "execution_count": 3,
     "metadata": {},
     "output_type": "execute_result"
    }
   ],
   "source": [
    "data.columns"
   ]
  },
  {
   "cell_type": "code",
   "execution_count": 4,
   "id": "5e1f7516-5138-4c40-a856-8b5d33e277ce",
   "metadata": {},
   "outputs": [
    {
     "data": {
      "text/plain": [
       "0    0.787546\n",
       "1    0.212454\n",
       "Name: h1n1_vaccine, dtype: float64"
      ]
     },
     "execution_count": 4,
     "metadata": {},
     "output_type": "execute_result"
    }
   ],
   "source": [
    "data['h1n1_vaccine'].value_counts(normalize=True)"
   ]
  },
  {
   "cell_type": "code",
   "execution_count": 5,
   "id": "1e72941b-6426-4145-a7e6-5587f8169cbf",
   "metadata": {},
   "outputs": [
    {
     "data": {
      "text/plain": [
       "0    0.534392\n",
       "1    0.465608\n",
       "Name: seasonal_vaccine, dtype: float64"
      ]
     },
     "execution_count": 5,
     "metadata": {},
     "output_type": "execute_result"
    }
   ],
   "source": [
    "data['seasonal_vaccine'].value_counts(normalize=True)"
   ]
  },
  {
   "cell_type": "code",
   "execution_count": 6,
   "id": "114fcbeb-e909-443c-a270-76ade40adbd3",
   "metadata": {
    "tags": []
   },
   "outputs": [
    {
     "data": {
      "text/plain": [
       "1    14272\n",
       "0    12435\n",
       "Name: seasonal_vaccine, dtype: int64"
      ]
     },
     "execution_count": 6,
     "metadata": {},
     "output_type": "execute_result"
    }
   ],
   "source": [
    "# since we're interested in the people who did not get vaccinated: switch 0 and 1 labels\n",
    "data['h1n1_vaccine'].replace({1:0, 0:1}, inplace=True)\n",
    "data['h1n1_vaccine'].value_counts()\n",
    "\n",
    "data['seasonal_vaccine'].replace({1:0, 0:1}, inplace=True)\n",
    "data['seasonal_vaccine'].value_counts()"
   ]
  },
  {
   "cell_type": "markdown",
   "id": "9cff5122-061b-4f21-9e56-bcb8b02fd9f0",
   "metadata": {},
   "source": [
    "**Feature Engineering** : only use top fifteen features"
   ]
  },
  {
   "cell_type": "code",
   "execution_count": 7,
   "id": "a436470d-d2ab-4950-8cf5-344294c77ce2",
   "metadata": {},
   "outputs": [],
   "source": [
    "features_to_use = pd.read_csv('../data/XGB_H1N1_feature_imp.csv')"
   ]
  },
  {
   "cell_type": "markdown",
   "id": "cd6b49ec-15c6-4d23-8d12-e6cb4b88f93c",
   "metadata": {},
   "source": [
    "Doctor recommended features"
   ]
  },
  {
   "cell_type": "code",
   "execution_count": 8,
   "id": "17e5a8b5-f98a-425b-8bfd-c01053798fe1",
   "metadata": {},
   "outputs": [
    {
     "data": {
      "text/plain": [
       "0.0            19139\n",
       "1.0             5408\n",
       "no_response     2160\n",
       "Name: doctor_recc_h1n1, dtype: int64"
      ]
     },
     "execution_count": 8,
     "metadata": {},
     "output_type": "execute_result"
    }
   ],
   "source": [
    "#####\n",
    "data['doctor_recc_h1n1'].value_counts()"
   ]
  },
  {
   "cell_type": "code",
   "execution_count": 9,
   "id": "c7498738-ed33-4333-b5da-636925bc99a7",
   "metadata": {},
   "outputs": [
    {
     "data": {
      "text/plain": [
       "dtype('O')"
      ]
     },
     "execution_count": 9,
     "metadata": {},
     "output_type": "execute_result"
    }
   ],
   "source": [
    "data['doctor_recc_h1n1'].dtypes"
   ]
  },
  {
   "cell_type": "code",
   "execution_count": 10,
   "id": "80ba01dd-1f90-418e-b6a2-5a9835d2e3f5",
   "metadata": {},
   "outputs": [
    {
     "data": {
      "text/plain": [
       "1    19139\n",
       "2     5408\n",
       "0     2160\n",
       "Name: doctor_recc_h1n1, dtype: int64"
      ]
     },
     "execution_count": 10,
     "metadata": {},
     "output_type": "execute_result"
    }
   ],
   "source": [
    "data['doctor_recc_h1n1'] = data['doctor_recc_h1n1'].replace({'0.0': 1, '1.0': 2, 'no_response': 0})\n",
    "\n",
    "data['doctor_recc_h1n1'].value_counts()"
   ]
  },
  {
   "cell_type": "code",
   "execution_count": 11,
   "id": "a1a18a10-6576-425e-92c9-b71887a8d68f",
   "metadata": {},
   "outputs": [
    {
     "data": {
      "text/plain": [
       "0.0            16453\n",
       "1.0             8094\n",
       "no_response     2160\n",
       "Name: doctor_recc_seasonal, dtype: int64"
      ]
     },
     "execution_count": 11,
     "metadata": {},
     "output_type": "execute_result"
    }
   ],
   "source": [
    "#####\n",
    "data['doctor_recc_seasonal'].value_counts()"
   ]
  },
  {
   "cell_type": "code",
   "execution_count": 12,
   "id": "1e83184a-ef31-4aee-811a-3d8622eb7d82",
   "metadata": {},
   "outputs": [
    {
     "data": {
      "text/plain": [
       "1    16453\n",
       "2     8094\n",
       "0     2160\n",
       "Name: doctor_recc_seasonal, dtype: int64"
      ]
     },
     "execution_count": 12,
     "metadata": {},
     "output_type": "execute_result"
    }
   ],
   "source": [
    "data['doctor_recc_seasonal'] = data['doctor_recc_seasonal'].replace({'0.0': 1, '1.0': 2, 'no_response': 0})\n",
    "data['doctor_recc_seasonal'].value_counts()"
   ]
  },
  {
   "cell_type": "code",
   "execution_count": 13,
   "id": "0c51a6a5-7680-403b-b054-0e28dffa1b03",
   "metadata": {},
   "outputs": [
    {
     "data": {
      "text/plain": [
       "0.0            18446\n",
       "1.0             7290\n",
       "no_response      971\n",
       "Name: chronic_med_condition, dtype: int64"
      ]
     },
     "execution_count": 13,
     "metadata": {},
     "output_type": "execute_result"
    }
   ],
   "source": [
    "#####\n",
    "data['chronic_med_condition'].value_counts()"
   ]
  },
  {
   "cell_type": "code",
   "execution_count": 14,
   "id": "99e50d36-e03e-4add-a1b4-6b3be5f60f6e",
   "metadata": {},
   "outputs": [
    {
     "data": {
      "text/plain": [
       "1    18446\n",
       "2     7290\n",
       "0      971\n",
       "Name: chronic_med_condition, dtype: int64"
      ]
     },
     "execution_count": 14,
     "metadata": {},
     "output_type": "execute_result"
    }
   ],
   "source": [
    "data['chronic_med_condition'] = data['chronic_med_condition'].replace({'no_response' : 0, '0.0' : 1, '1.0': 2})\n",
    "data['chronic_med_condition'].value_counts()"
   ]
  },
  {
   "cell_type": "code",
   "execution_count": 15,
   "id": "78141736-a17b-400b-90ad-2e20592fe05d",
   "metadata": {},
   "outputs": [
    {
     "data": {
      "text/plain": [
       "65+ Years        6843\n",
       "55 - 64 Years    5563\n",
       "45 - 54 Years    5238\n",
       "18 - 34 Years    5215\n",
       "35 - 44 Years    3848\n",
       "Name: age_group, dtype: int64"
      ]
     },
     "execution_count": 15,
     "metadata": {},
     "output_type": "execute_result"
    }
   ],
   "source": [
    "#####\n",
    "data['age_group'].value_counts()"
   ]
  },
  {
   "cell_type": "code",
   "execution_count": 16,
   "id": "21f1d53e-2f17-4b78-b72f-222cead2c3d6",
   "metadata": {},
   "outputs": [
    {
     "data": {
      "text/plain": [
       "5    6843\n",
       "4    5563\n",
       "2    5238\n",
       "0    5215\n",
       "1    3848\n",
       "Name: age_group, dtype: int64"
      ]
     },
     "execution_count": 16,
     "metadata": {},
     "output_type": "execute_result"
    }
   ],
   "source": [
    "data['age_group'].replace({\n",
    "    '18 - 34 Years' : 0,\n",
    "    '35 - 44 Years' : 1,\n",
    "    '45 - 54 Years' : 2,\n",
    "    '55 - 64 Years' : 3,\n",
    "    '55 - 64 Years' : 4,\n",
    "    '65+ Years' : 5\n",
    "    \n",
    "}, inplace=True)\n",
    "\n",
    "data['age_group'].value_counts()"
   ]
  },
  {
   "cell_type": "code",
   "execution_count": 17,
   "id": "3c0906f2-800e-44d1-ba51-8e624713430a",
   "metadata": {},
   "outputs": [
    {
     "data": {
      "text/plain": [
       "no             23004\n",
       "yes             2899\n",
       "no_response      804\n",
       "Name: health_worker, dtype: int64"
      ]
     },
     "execution_count": 17,
     "metadata": {},
     "output_type": "execute_result"
    }
   ],
   "source": [
    "#####\n",
    "\n",
    "data['health_worker'].value_counts()"
   ]
  },
  {
   "cell_type": "code",
   "execution_count": 18,
   "id": "ce886113-1832-468b-9a7a-e3345c7c5b95",
   "metadata": {},
   "outputs": [
    {
     "data": {
      "text/plain": [
       "1    23004\n",
       "2     2899\n",
       "0      804\n",
       "Name: health_worker, dtype: int64"
      ]
     },
     "execution_count": 18,
     "metadata": {},
     "output_type": "execute_result"
    }
   ],
   "source": [
    "data['health_worker'].replace({'no_response': 0,'no': 1, 'yes': 2}, inplace=True)\n",
    "data['health_worker'].value_counts()"
   ]
  },
  {
   "cell_type": "code",
   "execution_count": 19,
   "id": "5445253d-ac3f-4684-a72e-b710731a017e",
   "metadata": {},
   "outputs": [
    {
     "data": {
      "text/plain": [
       "h1n1_concern      float64\n",
       "h1n1_knowledge    float64\n",
       "dtype: object"
      ]
     },
     "execution_count": 19,
     "metadata": {},
     "output_type": "execute_result"
    }
   ],
   "source": [
    "# make a new feature h1n1_all for participants who had both h1n1_concern and h1n1_knowledge\n",
    "data[['h1n1_concern', 'h1n1_knowledge']].dtypes"
   ]
  },
  {
   "cell_type": "code",
   "execution_count": 20,
   "id": "da18c600-63df-48fb-bd1d-27da500ec8fa",
   "metadata": {},
   "outputs": [],
   "source": [
    "data['h1n1_all'] = data['h1n1_concern'] * data['h1n1_knowledge']"
   ]
  },
  {
   "cell_type": "code",
   "execution_count": 21,
   "id": "26522670-e576-4b7e-866c-8fe2115b6cbd",
   "metadata": {},
   "outputs": [
    {
     "data": {
      "text/plain": [
       "behavioral_antiviral_meds      float64\n",
       "behavioral_avoidance           float64\n",
       "behavioral_face_mask           float64\n",
       "behavioral_wash_hands          float64\n",
       "behavioral_large_gatherings    float64\n",
       "behavioral_outside_home        float64\n",
       "behavioral_touch_face          float64\n",
       "dtype: object"
      ]
     },
     "execution_count": 21,
     "metadata": {},
     "output_type": "execute_result"
    }
   ],
   "source": [
    "# make a new feature h1n1_all for participants who responded yes to all the behavior questions\n",
    "behaviour_columns = [column for column in list(data.columns) if 'behavioral' in column]\n",
    "data[behaviour_columns].dtypes"
   ]
  },
  {
   "cell_type": "code",
   "execution_count": 22,
   "id": "67891762-b6f1-431d-bf81-09863b0c9acc",
   "metadata": {},
   "outputs": [],
   "source": [
    "data['behavioral_all'] = 1\n",
    "\n",
    "for column in behaviour_columns:\n",
    "    data['behavioral_all'] = data['behavioral_all'] * data[column]"
   ]
  },
  {
   "cell_type": "code",
   "execution_count": 23,
   "id": "3ae4b46d-6115-4cdf-9c3a-d42cce25d648",
   "metadata": {},
   "outputs": [
    {
     "data": {
      "text/plain": [
       "opinion_h1n1_vacc_effective    float64\n",
       "opinion_h1n1_risk              float64\n",
       "opinion_h1n1_sick_from_vacc    float64\n",
       "opinion_seas_vacc_effective    float64\n",
       "opinion_seas_risk              float64\n",
       "opinion_seas_sick_from_vacc    float64\n",
       "dtype: object"
      ]
     },
     "execution_count": 23,
     "metadata": {},
     "output_type": "execute_result"
    }
   ],
   "source": [
    "# make a new feature opinion_all for participants based on their opinion scores to the opinion questions\n",
    "opinion_columns = [column for column in list(data.columns) if 'opinion' in column]\n",
    "data[opinion_columns].dtypes"
   ]
  },
  {
   "cell_type": "code",
   "execution_count": 24,
   "id": "c4f53673-84b7-4890-8236-fd436baeb007",
   "metadata": {},
   "outputs": [],
   "source": [
    "data['opinion_all'] = 1\n",
    "\n",
    "for column in opinion_columns:\n",
    "    data['opinion_all'] = data['opinion_all'] * data[column]"
   ]
  },
  {
   "cell_type": "code",
   "execution_count": 25,
   "id": "fd12081f-bbcd-4449-94e6-eb3fd28dc83a",
   "metadata": {},
   "outputs": [],
   "source": [
    "# doctor recommended columns\n",
    "doctor_columns = [column for column in list(data.columns) if 'doctor' in column]\n",
    "\n",
    "data['doctor_recc_all'] = 1\n",
    "\n",
    "for column in opinion_columns:\n",
    "    data['doctor_recc_all'] = data['doctor_recc_all'] * data[column]"
   ]
  },
  {
   "cell_type": "code",
   "execution_count": 26,
   "id": "41dfab5e-e8ce-4c72-8a34-0f3cf1bebb81",
   "metadata": {},
   "outputs": [],
   "source": [
    "# health_worker and age group\n",
    "\n",
    "data['health_worker_by_age'] = data['health_worker'] * data['age_group']"
   ]
  },
  {
   "cell_type": "code",
   "execution_count": 27,
   "id": "66bae5bc-3014-43e5-b3f1-272455a93720",
   "metadata": {},
   "outputs": [
    {
     "data": {
      "text/plain": [
       "Index(['respondent_id', 'h1n1_concern', 'h1n1_knowledge',\n",
       "       'behavioral_antiviral_meds', 'behavioral_avoidance',\n",
       "       'behavioral_face_mask', 'behavioral_wash_hands',\n",
       "       'behavioral_large_gatherings', 'behavioral_outside_home',\n",
       "       'behavioral_touch_face', 'doctor_recc_h1n1', 'doctor_recc_seasonal',\n",
       "       'chronic_med_condition', 'child_under_6_months', 'health_worker',\n",
       "       'health_insurance', 'opinion_h1n1_vacc_effective', 'opinion_h1n1_risk',\n",
       "       'opinion_h1n1_sick_from_vacc', 'opinion_seas_vacc_effective',\n",
       "       'opinion_seas_risk', 'opinion_seas_sick_from_vacc', 'age_group',\n",
       "       'education', 'race', 'sex', 'income_poverty', 'marital_status',\n",
       "       'rent_or_own', 'employment_status', 'hhs_geo_region', 'census_msa',\n",
       "       'household_adults', 'household_children', 'employment_industry',\n",
       "       'employment_occupation', 'h1n1_vaccine', 'seasonal_vaccine', 'h1n1_all',\n",
       "       'behavioral_all', 'opinion_all', 'doctor_recc_all',\n",
       "       'health_worker_by_age'],\n",
       "      dtype='object')"
      ]
     },
     "execution_count": 27,
     "metadata": {},
     "output_type": "execute_result"
    }
   ],
   "source": [
    "data.columns"
   ]
  },
  {
   "cell_type": "markdown",
   "id": "ddd18709-b408-4089-836b-f8408b7c45a3",
   "metadata": {},
   "source": [
    "**dummify x**"
   ]
  },
  {
   "cell_type": "code",
   "execution_count": 28,
   "id": "ee982cc1-edf5-4670-9a63-febc44540eb2",
   "metadata": {},
   "outputs": [
    {
     "data": {
      "text/plain": [
       "['health_insurance',\n",
       " 'education',\n",
       " 'race',\n",
       " 'sex',\n",
       " 'income_poverty',\n",
       " 'marital_status',\n",
       " 'rent_or_own',\n",
       " 'employment_status',\n",
       " 'hhs_geo_region',\n",
       " 'census_msa',\n",
       " 'employment_industry',\n",
       " 'employment_occupation']"
      ]
     },
     "execution_count": 28,
     "metadata": {},
     "output_type": "execute_result"
    }
   ],
   "source": [
    "categorical_columns = list(data.select_dtypes('object').columns)\n",
    "categorical_columns"
   ]
  },
  {
   "cell_type": "code",
   "execution_count": 29,
   "id": "0efa8d81-6b09-48fe-b84b-ad4ff0955263",
   "metadata": {},
   "outputs": [],
   "source": [
    "Xd = pd.get_dummies(data=data.drop(columns=['h1n1_vaccine', 'seasonal_vaccine']),\n",
    "                    columns=categorical_columns, drop_first=True)"
   ]
  },
  {
   "cell_type": "markdown",
   "id": "fb060b2b-cd0f-4de9-8fd5-18fb770953b3",
   "metadata": {},
   "source": [
    "**define X and y**"
   ]
  },
  {
   "cell_type": "code",
   "execution_count": 30,
   "id": "702728c2-e7f8-46f1-bac6-5cae70bad208",
   "metadata": {},
   "outputs": [],
   "source": [
    "X = Xd[features_to_use['feature']]"
   ]
  },
  {
   "cell_type": "code",
   "execution_count": 31,
   "id": "20b61eac-e22d-46da-96c7-af7a14f38a41",
   "metadata": {},
   "outputs": [],
   "source": [
    "y = data['h1n1_vaccine']"
   ]
  },
  {
   "cell_type": "code",
   "execution_count": 32,
   "id": "e40eb704-0cef-4ab8-9e2e-8e750649a525",
   "metadata": {},
   "outputs": [],
   "source": [
    "# train test split\n",
    "X_train, X_test, y_train, y_test = train_test_split(Xd, y, random_state=42, stratify=y)"
   ]
  },
  {
   "cell_type": "code",
   "execution_count": 33,
   "id": "1b046b08-5547-483b-9782-7eb49fafa6d4",
   "metadata": {},
   "outputs": [],
   "source": [
    "# balance classes\n",
    "\n",
    "smo = SMOTE(k_neighbors=7, random_state=42)\n",
    "\n",
    "X_train_over, y_train_over = smo.fit_resample(X_train, y_train)\n"
   ]
  },
  {
   "cell_type": "code",
   "execution_count": 34,
   "id": "2edd5f00-d8a3-44f5-88cf-59d38b712dd8",
   "metadata": {},
   "outputs": [],
   "source": [
    "X_train_over = np.array(X_train_over)\n",
    "X_test = np.array(X_test)"
   ]
  },
  {
   "cell_type": "code",
   "execution_count": 35,
   "id": "5422cbec-5fc7-4c20-95c0-cfbadd62909b",
   "metadata": {},
   "outputs": [],
   "source": [
    "y_train_over = np.array(y_train_over)\n",
    "y_test = np.array(y_test)"
   ]
  },
  {
   "cell_type": "code",
   "execution_count": 46,
   "id": "90ff01ce-ef5c-4700-8406-332b6a6f2f4d",
   "metadata": {},
   "outputs": [
    {
     "data": {
      "text/plain": [
       "Index(['opinion_h1n1_vacc_effective', 'health_insurance_no_response',\n",
       "       'opinion_h1n1_risk', 'h1n1_knowledge', 'behavioral_large_gatherings',\n",
       "       'marital_status_Not Married', 'rent_or_own_Rent',\n",
       "       'behavioral_touch_face', 'opinion_seas_risk',\n",
       "       'opinion_seas_vacc_effective', 'education_< 12 Years',\n",
       "       'behavioral_avoidance', 'doctor_recc_h1n1', 'behavioral_outside_home',\n",
       "       'household_adults'],\n",
       "      dtype='object')"
      ]
     },
     "execution_count": 46,
     "metadata": {},
     "output_type": "execute_result"
    }
   ],
   "source": [
    "X.columns"
   ]
  },
  {
   "cell_type": "markdown",
   "id": "315eda74-2829-414e-a5a1-4f13fde695f6",
   "metadata": {},
   "source": [
    "**Run model**"
   ]
  },
  {
   "cell_type": "code",
   "execution_count": 36,
   "id": "96c629ec-6171-4aae-a9da-1f11ee7e00ad",
   "metadata": {},
   "outputs": [
    {
     "data": {
      "text/plain": [
       "XGBClassifier(base_score=0.5, booster='gbtree', colsample_bylevel=1,\n",
       "              colsample_bynode=1, colsample_bytree=0.9,\n",
       "              enable_categorical=False, eval_metric='error', gamma=0, gpu_id=-1,\n",
       "              importance_type=None, interaction_constraints='',\n",
       "              learning_rate=0.05, max_delta_step=0, max_depth=7,\n",
       "              min_child_weight=1, missing=nan, monotone_constraints='()',\n",
       "              n_estimators=100, n_jobs=16, num_parallel_tree=1,\n",
       "              predictor='auto', random_state=42, reg_alpha=0, reg_lambda=1,\n",
       "              scale_pos_weight=1, subsample=0.5, tree_method='exact',\n",
       "              use_label_encoder=False, validate_parameters=1, verbosity=None)"
      ]
     },
     "execution_count": 36,
     "metadata": {},
     "output_type": "execute_result"
    }
   ],
   "source": [
    "xgb_best = xgb.XGBClassifier(random_state=42,\n",
    "                             use_label_encoder=False,\n",
    "                             eval_metric='error',\n",
    "                            booster='gbtree',\n",
    "                            colsample_bytree=0.9,\n",
    "                            learning_rate=0.05,\n",
    "                            max_depth=7,\n",
    "                            n_estimators=100,\n",
    "                            subsample=0.5)\n",
    "xgb_best.fit(X_train_over, y_train_over)"
   ]
  },
  {
   "cell_type": "code",
   "execution_count": 37,
   "id": "0aca7d39-f1e8-4e96-9127-8c761513895d",
   "metadata": {},
   "outputs": [
    {
     "name": "stderr",
     "output_type": "stream",
     "text": [
      "C:\\ProgramData\\Anaconda3\\envs\\xgboost\\lib\\site-packages\\xgboost\\data.py:262: FutureWarning: pandas.Int64Index is deprecated and will be removed from pandas in a future version. Use pandas.Index with the appropriate dtype instead.\n",
      "  elif isinstance(data.columns, (pd.Int64Index, pd.RangeIndex)):\n"
     ]
    }
   ],
   "source": [
    "test_pred = xgb_best.predict(X_test)\n",
    "train_pred = xgb_best.predict(X_train)"
   ]
  },
  {
   "cell_type": "code",
   "execution_count": 38,
   "id": "f75e6fdf-e936-4cc0-8b61-98c8a7b734b2",
   "metadata": {},
   "outputs": [
    {
     "data": {
      "text/plain": [
       "<sklearn.metrics._plot.confusion_matrix.ConfusionMatrixDisplay at 0x180dfad89a0>"
      ]
     },
     "execution_count": 38,
     "metadata": {},
     "output_type": "execute_result"
    },
    {
     "data": {
      "image/png": "[encoded data removed]",
      "text/plain": [
       "<Figure size 432x288 with 2 Axes>"
      ]
     },
     "metadata": {
      "needs_background": "light"
     },
     "output_type": "display_data"
    }
   ],
   "source": [
    "ConfusionMatrixDisplay.from_predictions(y_test, test_pred, display_labels=['Vaccinated', 'Unvaccinated'])"
   ]
  },
  {
   "cell_type": "code",
   "execution_count": 39,
   "id": "36651f8f-c311-4471-a9dc-f2da6cef205f",
   "metadata": {},
   "outputs": [
    {
     "data": {
      "text/plain": [
       "(0.8502321401827168, 0.8767848227658512)"
      ]
     },
     "execution_count": 39,
     "metadata": {},
     "output_type": "execute_result"
    }
   ],
   "source": [
    "accuracy_score(y_test, test_pred), accuracy_score(y_train, train_pred)"
   ]
  },
  {
   "cell_type": "code",
   "execution_count": 40,
   "id": "f9ace2a6-9fd0-41ab-be2e-6fb3e0d6d358",
   "metadata": {},
   "outputs": [
    {
     "data": {
      "text/plain": [
       "0.8812679083094556"
      ]
     },
     "execution_count": 40,
     "metadata": {},
     "output_type": "execute_result"
    }
   ],
   "source": [
    "precision_score(y_test, test_pred)"
   ]
  },
  {
   "cell_type": "code",
   "execution_count": 41,
   "id": "a389686b-d9e8-412f-80c2-d0c86539cc6d",
   "metadata": {},
   "outputs": [
    {
     "data": {
      "text/plain": [
       "0.9359071890452644"
      ]
     },
     "execution_count": 41,
     "metadata": {},
     "output_type": "execute_result"
    }
   ],
   "source": [
    "recall_score(y_test, test_pred)"
   ]
  },
  {
   "cell_type": "code",
   "execution_count": 42,
   "id": "fc6bf0be-f161-45f2-8355-5066c0f5b5f0",
   "metadata": {},
   "outputs": [
    {
     "data": {
      "text/plain": [
       "0.7343383725353172"
      ]
     },
     "execution_count": 42,
     "metadata": {},
     "output_type": "execute_result"
    }
   ],
   "source": [
    "roc_auc_score(y_test, test_pred)"
   ]
  },
  {
   "cell_type": "code",
   "execution_count": 43,
   "id": "df1a8ba1-5e0c-46ac-9085-176c49e3e047",
   "metadata": {},
   "outputs": [
    {
     "data": {
      "text/plain": [
       "0.7343383725353172"
      ]
     },
     "execution_count": 43,
     "metadata": {},
     "output_type": "execute_result"
    }
   ],
   "source": [
    "balanced_accuracy_score(y_test, test_pred)"
   ]
  },
  {
   "cell_type": "code",
   "execution_count": null,
   "id": "dbe51df8-e55d-4429-80ff-d8bb21e59cdb",
   "metadata": {},
   "outputs": [],
   "source": []
  }
 ],
 "metadata": {
  "kernelspec": {
   "display_name": "Python [conda env:xgboost]",
   "language": "python",
   "name": "conda-env-xgboost-py"
  },
  "language_info": {
   "codemirror_mode": {
    "name": "ipython",
    "version": 3
   },
   "file_extension": ".py",
   "mimetype": "text/x-python",
   "name": "python",
   "nbconvert_exporter": "python",
   "pygments_lexer": "ipython3",
   "version": "3.10.4"
  }
 },
 "nbformat": 4,
 "nbformat_minor": 5
}
