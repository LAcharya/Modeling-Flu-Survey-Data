{
 "cells": [
  {
   "cell_type": "markdown",
   "id": "0b5da1bd",
   "metadata": {},
   "source": [
    "<img src=\"https://m1.quebecormedia.com/emp/emp/bender8175858f-7dbd-4927-85c5-85557e800b98_ORIGINAL.jpg?impolicy=crop-resize&x=0&y=0&w=1000&h=745&width=925&height=925\" style=\"float: left; margin: 30px; height: 75px\">\n",
    "\n",
    "# Approaching Categorical Variables \n"
   ]
  },
  {
   "cell_type": "code",
   "execution_count": 1,
   "id": "e004b79e",
   "metadata": {},
   "outputs": [],
   "source": [
    "import pandas as pd\n",
    "import numpy as np \n",
    "import matplotlib.pyplot as plt\n",
    "import seaborn as sns"
   ]
  },
  {
   "cell_type": "code",
   "execution_count": 30,
   "id": "3ac0a66a",
   "metadata": {},
   "outputs": [],
   "source": [
    "import warnings\n",
    "warnings.filterwarnings('ignore')"
   ]
  },
  {
   "cell_type": "code",
   "execution_count": 9,
   "id": "e421931d",
   "metadata": {},
   "outputs": [],
   "source": [
    "data = pd.read_csv(\"data/train_clean.csv\")\n",
    "data.drop(columns=[\"respondent_id\"],inplace=True)"
   ]
  },
  {
   "cell_type": "code",
   "execution_count": 10,
   "id": "a57dca98",
   "metadata": {},
   "outputs": [
    {
     "data": {
      "text/html": [
       "<div>\n",
       "<style scoped>\n",
       "    .dataframe tbody tr th:only-of-type {\n",
       "        vertical-align: middle;\n",
       "    }\n",
       "\n",
       "    .dataframe tbody tr th {\n",
       "        vertical-align: top;\n",
       "    }\n",
       "\n",
       "    .dataframe thead th {\n",
       "        text-align: right;\n",
       "    }\n",
       "</style>\n",
       "<table border=\"1\" class=\"dataframe\">\n",
       "  <thead>\n",
       "    <tr style=\"text-align: right;\">\n",
       "      <th></th>\n",
       "      <th>h1n1_concern</th>\n",
       "      <th>h1n1_knowledge</th>\n",
       "      <th>behavioral_antiviral_meds</th>\n",
       "      <th>behavioral_avoidance</th>\n",
       "      <th>behavioral_face_mask</th>\n",
       "      <th>behavioral_wash_hands</th>\n",
       "      <th>behavioral_large_gatherings</th>\n",
       "      <th>behavioral_outside_home</th>\n",
       "      <th>behavioral_touch_face</th>\n",
       "      <th>doctor_recc_h1n1</th>\n",
       "      <th>...</th>\n",
       "      <th>rent_or_own</th>\n",
       "      <th>employment_status</th>\n",
       "      <th>hhs_geo_region</th>\n",
       "      <th>census_msa</th>\n",
       "      <th>household_adults</th>\n",
       "      <th>household_children</th>\n",
       "      <th>employment_industry</th>\n",
       "      <th>employment_occupation</th>\n",
       "      <th>h1n1_vaccine</th>\n",
       "      <th>seasonal_vaccine</th>\n",
       "    </tr>\n",
       "  </thead>\n",
       "  <tbody>\n",
       "    <tr>\n",
       "      <th>0</th>\n",
       "      <td>1.0</td>\n",
       "      <td>0.0</td>\n",
       "      <td>0.0</td>\n",
       "      <td>0.0</td>\n",
       "      <td>0.0</td>\n",
       "      <td>0.0</td>\n",
       "      <td>0.0</td>\n",
       "      <td>1.0</td>\n",
       "      <td>1.0</td>\n",
       "      <td>0.0</td>\n",
       "      <td>...</td>\n",
       "      <td>Own</td>\n",
       "      <td>Not in Labor Force</td>\n",
       "      <td>oxchjgsf</td>\n",
       "      <td>Non-MSA</td>\n",
       "      <td>0.0</td>\n",
       "      <td>0.0</td>\n",
       "      <td>no_response</td>\n",
       "      <td>no_response</td>\n",
       "      <td>0</td>\n",
       "      <td>0</td>\n",
       "    </tr>\n",
       "    <tr>\n",
       "      <th>1</th>\n",
       "      <td>3.0</td>\n",
       "      <td>2.0</td>\n",
       "      <td>0.0</td>\n",
       "      <td>1.0</td>\n",
       "      <td>0.0</td>\n",
       "      <td>1.0</td>\n",
       "      <td>0.0</td>\n",
       "      <td>1.0</td>\n",
       "      <td>1.0</td>\n",
       "      <td>0.0</td>\n",
       "      <td>...</td>\n",
       "      <td>Rent</td>\n",
       "      <td>Employed</td>\n",
       "      <td>bhuqouqj</td>\n",
       "      <td>MSA, Not Principle  City</td>\n",
       "      <td>0.0</td>\n",
       "      <td>0.0</td>\n",
       "      <td>pxcmvdjn</td>\n",
       "      <td>xgwztkwe</td>\n",
       "      <td>0</td>\n",
       "      <td>1</td>\n",
       "    </tr>\n",
       "    <tr>\n",
       "      <th>2</th>\n",
       "      <td>1.0</td>\n",
       "      <td>1.0</td>\n",
       "      <td>0.0</td>\n",
       "      <td>1.0</td>\n",
       "      <td>0.0</td>\n",
       "      <td>0.0</td>\n",
       "      <td>0.0</td>\n",
       "      <td>0.0</td>\n",
       "      <td>0.0</td>\n",
       "      <td>no_response</td>\n",
       "      <td>...</td>\n",
       "      <td>Own</td>\n",
       "      <td>Employed</td>\n",
       "      <td>qufhixun</td>\n",
       "      <td>MSA, Not Principle  City</td>\n",
       "      <td>2.0</td>\n",
       "      <td>0.0</td>\n",
       "      <td>rucpziij</td>\n",
       "      <td>xtkaffoo</td>\n",
       "      <td>0</td>\n",
       "      <td>0</td>\n",
       "    </tr>\n",
       "    <tr>\n",
       "      <th>3</th>\n",
       "      <td>1.0</td>\n",
       "      <td>1.0</td>\n",
       "      <td>0.0</td>\n",
       "      <td>1.0</td>\n",
       "      <td>0.0</td>\n",
       "      <td>1.0</td>\n",
       "      <td>1.0</td>\n",
       "      <td>0.0</td>\n",
       "      <td>0.0</td>\n",
       "      <td>0.0</td>\n",
       "      <td>...</td>\n",
       "      <td>Rent</td>\n",
       "      <td>Not in Labor Force</td>\n",
       "      <td>lrircsnp</td>\n",
       "      <td>MSA, Principle City</td>\n",
       "      <td>0.0</td>\n",
       "      <td>0.0</td>\n",
       "      <td>no_response</td>\n",
       "      <td>no_response</td>\n",
       "      <td>0</td>\n",
       "      <td>1</td>\n",
       "    </tr>\n",
       "    <tr>\n",
       "      <th>4</th>\n",
       "      <td>2.0</td>\n",
       "      <td>1.0</td>\n",
       "      <td>0.0</td>\n",
       "      <td>1.0</td>\n",
       "      <td>0.0</td>\n",
       "      <td>1.0</td>\n",
       "      <td>1.0</td>\n",
       "      <td>0.0</td>\n",
       "      <td>1.0</td>\n",
       "      <td>0.0</td>\n",
       "      <td>...</td>\n",
       "      <td>Own</td>\n",
       "      <td>Employed</td>\n",
       "      <td>qufhixun</td>\n",
       "      <td>MSA, Not Principle  City</td>\n",
       "      <td>1.0</td>\n",
       "      <td>0.0</td>\n",
       "      <td>wxleyezf</td>\n",
       "      <td>emcorrxb</td>\n",
       "      <td>0</td>\n",
       "      <td>0</td>\n",
       "    </tr>\n",
       "  </tbody>\n",
       "</table>\n",
       "<p>5 rows × 37 columns</p>\n",
       "</div>"
      ],
      "text/plain": [
       "   h1n1_concern  h1n1_knowledge  behavioral_antiviral_meds  \\\n",
       "0           1.0             0.0                        0.0   \n",
       "1           3.0             2.0                        0.0   \n",
       "2           1.0             1.0                        0.0   \n",
       "3           1.0             1.0                        0.0   \n",
       "4           2.0             1.0                        0.0   \n",
       "\n",
       "   behavioral_avoidance  behavioral_face_mask  behavioral_wash_hands  \\\n",
       "0                   0.0                   0.0                    0.0   \n",
       "1                   1.0                   0.0                    1.0   \n",
       "2                   1.0                   0.0                    0.0   \n",
       "3                   1.0                   0.0                    1.0   \n",
       "4                   1.0                   0.0                    1.0   \n",
       "\n",
       "   behavioral_large_gatherings  behavioral_outside_home  \\\n",
       "0                          0.0                      1.0   \n",
       "1                          0.0                      1.0   \n",
       "2                          0.0                      0.0   \n",
       "3                          1.0                      0.0   \n",
       "4                          1.0                      0.0   \n",
       "\n",
       "   behavioral_touch_face doctor_recc_h1n1  ... rent_or_own  \\\n",
       "0                    1.0              0.0  ...         Own   \n",
       "1                    1.0              0.0  ...        Rent   \n",
       "2                    0.0      no_response  ...         Own   \n",
       "3                    0.0              0.0  ...        Rent   \n",
       "4                    1.0              0.0  ...         Own   \n",
       "\n",
       "    employment_status  hhs_geo_region                census_msa  \\\n",
       "0  Not in Labor Force        oxchjgsf                   Non-MSA   \n",
       "1            Employed        bhuqouqj  MSA, Not Principle  City   \n",
       "2            Employed        qufhixun  MSA, Not Principle  City   \n",
       "3  Not in Labor Force        lrircsnp       MSA, Principle City   \n",
       "4            Employed        qufhixun  MSA, Not Principle  City   \n",
       "\n",
       "  household_adults  household_children  employment_industry  \\\n",
       "0              0.0                 0.0          no_response   \n",
       "1              0.0                 0.0             pxcmvdjn   \n",
       "2              2.0                 0.0             rucpziij   \n",
       "3              0.0                 0.0          no_response   \n",
       "4              1.0                 0.0             wxleyezf   \n",
       "\n",
       "   employment_occupation  h1n1_vaccine  seasonal_vaccine  \n",
       "0            no_response             0                 0  \n",
       "1               xgwztkwe             0                 1  \n",
       "2               xtkaffoo             0                 0  \n",
       "3            no_response             0                 1  \n",
       "4               emcorrxb             0                 0  \n",
       "\n",
       "[5 rows x 37 columns]"
      ]
     },
     "execution_count": 10,
     "metadata": {},
     "output_type": "execute_result"
    }
   ],
   "source": [
    "data.head()"
   ]
  },
  {
   "cell_type": "code",
   "execution_count": 11,
   "id": "685d500a",
   "metadata": {},
   "outputs": [],
   "source": [
    "from sklearn import preprocessing"
   ]
  },
  {
   "cell_type": "markdown",
   "id": "008a80fe",
   "metadata": {},
   "source": [
    "## H1N1 Vaccine"
   ]
  },
  {
   "cell_type": "markdown",
   "id": "1ea54661",
   "metadata": {},
   "source": [
    "<font style=\"font-size: 2rem; color: blue\">\n",
    "Before going to any kind of model building, it’s essential to take care of crossvalidation. We have already seen the label/target distribution, and we know that it\n",
    "is a binary classification problem with skewed targets. Thus, we will be using\n",
    "StratifiedKFold to split the data here.\n",
    "</font>"
   ]
  },
  {
   "cell_type": "code",
   "execution_count": 12,
   "id": "530d73d1",
   "metadata": {},
   "outputs": [],
   "source": [
    "from sklearn import model_selection"
   ]
  },
  {
   "cell_type": "code",
   "execution_count": 13,
   "id": "d0de93d1",
   "metadata": {},
   "outputs": [],
   "source": [
    "#Create a new column called k-fold and fill it with -1. \n",
    "data[\"kfold\"] = -1"
   ]
  },
  {
   "cell_type": "code",
   "execution_count": 14,
   "id": "0f97ac0a",
   "metadata": {},
   "outputs": [],
   "source": [
    "#randomize the rows of the data \n",
    "data = data.sample(frac=1).reset_index(drop=True)"
   ]
  },
  {
   "cell_type": "code",
   "execution_count": 15,
   "id": "89914365",
   "metadata": {},
   "outputs": [
    {
     "name": "stdout",
     "output_type": "stream",
     "text": [
      "<class 'numpy.ndarray'>\n"
     ]
    }
   ],
   "source": [
    "#get labels \n",
    "y = data.h1n1_vaccine.values\n",
    "print(type(y))"
   ]
  },
  {
   "cell_type": "code",
   "execution_count": 17,
   "id": "c8a16c82",
   "metadata": {},
   "outputs": [],
   "source": [
    "#initiate the kfold class from model_selection module\n",
    "#This cross-validation object is a variation of KFold that returns stratified folds. \n",
    "#The folds are made by preserving the percentage of samples for each class.\n",
    "kf = model_selection.StratifiedKFold(n_splits=5)"
   ]
  },
  {
   "cell_type": "code",
   "execution_count": 22,
   "id": "b6905195",
   "metadata": {},
   "outputs": [],
   "source": [
    "#Fill the kfold column with the number of the k-fold. \n",
    "for f, (t_,v_) in enumerate(kf.split(X=data,y=y)):\n",
    "    data.loc[v_,\"kfold\"] = f"
   ]
  },
  {
   "cell_type": "code",
   "execution_count": 23,
   "id": "1a0b2e93",
   "metadata": {},
   "outputs": [
    {
     "data": {
      "text/plain": [
       "0    5342\n",
       "1    5342\n",
       "2    5341\n",
       "3    5341\n",
       "4    5341\n",
       "Name: kfold, dtype: int64"
      ]
     },
     "execution_count": 23,
     "metadata": {},
     "output_type": "execute_result"
    }
   ],
   "source": [
    "#Check that the number of folds is equal. \n",
    "data.kfold.value_counts()"
   ]
  },
  {
   "cell_type": "code",
   "execution_count": 25,
   "id": "c0506e12",
   "metadata": {},
   "outputs": [
    {
     "name": "stdout",
     "output_type": "stream",
     "text": [
      "fold: k = 0\n",
      "0    4207\n",
      "1    1135\n",
      "Name: h1n1_vaccine, dtype: int64\n",
      "fold: k = 1\n",
      "0    4207\n",
      "1    1135\n",
      "Name: h1n1_vaccine, dtype: int64\n",
      "fold: k = 2\n",
      "0    4207\n",
      "1    1134\n",
      "Name: h1n1_vaccine, dtype: int64\n",
      "fold: k = 3\n",
      "0    4206\n",
      "1    1135\n",
      "Name: h1n1_vaccine, dtype: int64\n",
      "fold: k = 4\n",
      "0    4206\n",
      "1    1135\n",
      "Name: h1n1_vaccine, dtype: int64\n"
     ]
    }
   ],
   "source": [
    "#Check that the target variable has the same distribution  the same in each fold. \n",
    "for k in range(5):\n",
    "    print(f\"fold: k = {k}\")\n",
    "    print(data[data.kfold==k].h1n1_vaccine.value_counts())\n"
   ]
  },
  {
   "cell_type": "markdown",
   "id": "1c4f3c97",
   "metadata": {},
   "source": [
    "## Try Logistic Regression on H1N1"
   ]
  },
  {
   "cell_type": "code",
   "execution_count": 26,
   "id": "6fe9733f",
   "metadata": {},
   "outputs": [],
   "source": [
    "from sklearn import linear_model\n",
    "from sklearn import metrics\n",
    "from sklearn import preprocessing\n"
   ]
  },
  {
   "cell_type": "code",
   "execution_count": 28,
   "id": "de6a346c",
   "metadata": {},
   "outputs": [
    {
     "data": {
      "text/plain": [
       "Index(['h1n1_concern', 'h1n1_knowledge', 'behavioral_antiviral_meds',\n",
       "       'behavioral_avoidance', 'behavioral_face_mask', 'behavioral_wash_hands',\n",
       "       'behavioral_large_gatherings', 'behavioral_outside_home',\n",
       "       'behavioral_touch_face', 'doctor_recc_h1n1', 'doctor_recc_seasonal',\n",
       "       'chronic_med_condition', 'child_under_6_months', 'health_worker',\n",
       "       'health_insurance', 'opinion_h1n1_vacc_effective', 'opinion_h1n1_risk',\n",
       "       'opinion_h1n1_sick_from_vacc', 'opinion_seas_vacc_effective',\n",
       "       'opinion_seas_risk', 'opinion_seas_sick_from_vacc', 'age_group',\n",
       "       'education', 'race', 'sex', 'income_poverty', 'marital_status',\n",
       "       'rent_or_own', 'employment_status', 'hhs_geo_region', 'census_msa',\n",
       "       'household_adults', 'household_children', 'employment_industry',\n",
       "       'employment_occupation', 'h1n1_vaccine', 'seasonal_vaccine', 'kfold'],\n",
       "      dtype='object')"
      ]
     },
     "execution_count": 28,
     "metadata": {},
     "output_type": "execute_result"
    }
   ],
   "source": [
    "data.columns"
   ]
  },
  {
   "cell_type": "code",
   "execution_count": 32,
   "id": "582e8042",
   "metadata": {},
   "outputs": [],
   "source": [
    "def run(fold):\n",
    "    #create a list of just the categorical variables\n",
    "    features = [f for f in data.columns if f not in ('household_adults','household_children','h1n1_vaccine', 'seasonal_vaccine', 'kfold')]\n",
    "    #convert the categorical variables to strings\n",
    "    for col in features:\n",
    "        data.loc[:,col] = data[col].astype(str)\n",
    "    #Hold one of the five folds as validation set and four folds as training sets \n",
    "    df_train = data[data.kfold!=fold].reset_index(drop=True)\n",
    "    df_valid = data[data.kfold==fold].reset_index(drop=True)\n",
    "    \n",
    "    #Initialize one hot processing \n",
    "    ohe = preprocessing.OneHotEncoder()\n",
    "    #fit ohe on training + validation categorical features\n",
    "    full_data = pd.concat([df_train[features],df_valid[features]],axis=0)\n",
    "    ohe.fit(full_data[features])\n",
    "    # transform training data\n",
    "    x_train = ohe.transform(df_train[features])\n",
    "    # transform validation data\n",
    "    x_valid = ohe.transform(df_valid[features])\n",
    "    \n",
    "    #initialize Logistic Regression\n",
    "    model = linear_model.LogisticRegression()\n",
    "    \n",
    "    #fit model on training data\n",
    "    model.fit(x_train,df_train.h1n1_vaccine.values)\n",
    "    \n",
    "    #predict the validation data\n",
    "    valid_preds = model.predict_proba(x_valid)[:,1]\n",
    "    \n",
    "    #get roc auc score\n",
    "    auc = metrics.roc_auc_score(df_valid.h1n1_vaccine.values,valid_preds)\n",
    "    print(f\"For fold = {fold}, AUC = {auc}\")\n",
    "    "
   ]
  },
  {
   "cell_type": "code",
   "execution_count": 33,
   "id": "d6574524",
   "metadata": {},
   "outputs": [
    {
     "name": "stdout",
     "output_type": "stream",
     "text": [
      "For fold = 0, AUC = 0.8680397365833533\n",
      "For fold = 1, AUC = 0.8640424130539723\n",
      "For fold = 2, AUC = 0.8631044085841644\n",
      "For fold = 3, AUC = 0.8604871161608862\n",
      "For fold = 4, AUC = 0.859028113812657\n"
     ]
    }
   ],
   "source": [
    "for k in range(5):\n",
    "    run(k)"
   ]
  },
  {
   "cell_type": "code",
   "execution_count": null,
   "id": "1277817c",
   "metadata": {},
   "outputs": [],
   "source": []
  }
 ],
 "metadata": {
  "kernelspec": {
   "display_name": "Python 3 (ipykernel)",
   "language": "python",
   "name": "python3"
  },
  "language_info": {
   "codemirror_mode": {
    "name": "ipython",
    "version": 3
   },
   "file_extension": ".py",
   "mimetype": "text/x-python",
   "name": "python",
   "nbconvert_exporter": "python",
   "pygments_lexer": "ipython3",
   "version": "3.9.11"
  }
 },
 "nbformat": 4,
 "nbformat_minor": 5
}
