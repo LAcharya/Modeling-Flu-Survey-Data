{
 "cells": [
  {
   "cell_type": "markdown",
   "id": "939baeb3-8a1f-4458-bdcd-aef05569642a",
   "metadata": {},
   "source": [
    "## Imports"
   ]
  },
  {
   "cell_type": "code",
   "execution_count": 1,
   "id": "c6881f2c-2a3e-4587-a472-8f5093a45b95",
   "metadata": {},
   "outputs": [],
   "source": [
    "import pandas as pd\n",
    "import numpy as np\n",
    "import matplotlib.pyplot as plt\n",
    "from sklearn.model_selection import train_test_split, GridSearchCV\n",
    "from sklearn.preprocessing import OneHotEncoder, StandardScaler\n",
    "from sklearn.pipeline import Pipeline\n",
    "from sklearn.naive_bayes import MultinomialNB\n",
    "from sklearn.linear_model import LogisticRegression\n",
    "from sklearn.neighbors import KNeighborsClassifier\n",
    "from sklearn.ensemble import RandomForestClassifier\n",
    "from sklearn.metrics import confusion_matrix, plot_confusion_matrix"
   ]
  },
  {
   "cell_type": "markdown",
   "id": "2e0d637a-bdb6-45e5-ae5b-9056f5ffff26",
   "metadata": {},
   "source": [
    "### Setting up data"
   ]
  },
  {
   "cell_type": "code",
   "execution_count": 2,
   "id": "bd73ebf1-3d00-428b-992a-34dc79d5b7c6",
   "metadata": {},
   "outputs": [],
   "source": [
    "#read in data\n",
    "data = pd.read_csv('../data/train_clean.csv', index_col='respondent_id')"
   ]
  },
  {
   "cell_type": "code",
   "execution_count": 3,
   "id": "2ccc1754-5517-4f22-b75a-f5df4786ee91",
   "metadata": {},
   "outputs": [
    {
     "data": {
      "text/html": [
       "<div>\n",
       "<style scoped>\n",
       "    .dataframe tbody tr th:only-of-type {\n",
       "        vertical-align: middle;\n",
       "    }\n",
       "\n",
       "    .dataframe tbody tr th {\n",
       "        vertical-align: top;\n",
       "    }\n",
       "\n",
       "    .dataframe thead th {\n",
       "        text-align: right;\n",
       "    }\n",
       "</style>\n",
       "<table border=\"1\" class=\"dataframe\">\n",
       "  <thead>\n",
       "    <tr style=\"text-align: right;\">\n",
       "      <th></th>\n",
       "      <th>h1n1_concern</th>\n",
       "      <th>h1n1_knowledge</th>\n",
       "      <th>behavioral_antiviral_meds</th>\n",
       "      <th>behavioral_avoidance</th>\n",
       "      <th>behavioral_face_mask</th>\n",
       "      <th>behavioral_wash_hands</th>\n",
       "      <th>behavioral_large_gatherings</th>\n",
       "      <th>behavioral_outside_home</th>\n",
       "      <th>behavioral_touch_face</th>\n",
       "      <th>doctor_recc_h1n1</th>\n",
       "      <th>...</th>\n",
       "      <th>rent_or_own</th>\n",
       "      <th>employment_status</th>\n",
       "      <th>hhs_geo_region</th>\n",
       "      <th>census_msa</th>\n",
       "      <th>household_adults</th>\n",
       "      <th>household_children</th>\n",
       "      <th>employment_industry</th>\n",
       "      <th>employment_occupation</th>\n",
       "      <th>h1n1_vaccine</th>\n",
       "      <th>seasonal_vaccine</th>\n",
       "    </tr>\n",
       "    <tr>\n",
       "      <th>respondent_id</th>\n",
       "      <th></th>\n",
       "      <th></th>\n",
       "      <th></th>\n",
       "      <th></th>\n",
       "      <th></th>\n",
       "      <th></th>\n",
       "      <th></th>\n",
       "      <th></th>\n",
       "      <th></th>\n",
       "      <th></th>\n",
       "      <th></th>\n",
       "      <th></th>\n",
       "      <th></th>\n",
       "      <th></th>\n",
       "      <th></th>\n",
       "      <th></th>\n",
       "      <th></th>\n",
       "      <th></th>\n",
       "      <th></th>\n",
       "      <th></th>\n",
       "      <th></th>\n",
       "    </tr>\n",
       "  </thead>\n",
       "  <tbody>\n",
       "    <tr>\n",
       "      <th>0</th>\n",
       "      <td>1.0</td>\n",
       "      <td>0.0</td>\n",
       "      <td>0.0</td>\n",
       "      <td>0.0</td>\n",
       "      <td>0.0</td>\n",
       "      <td>0.0</td>\n",
       "      <td>0.0</td>\n",
       "      <td>1.0</td>\n",
       "      <td>1.0</td>\n",
       "      <td>0.0</td>\n",
       "      <td>...</td>\n",
       "      <td>Own</td>\n",
       "      <td>Not in Labor Force</td>\n",
       "      <td>oxchjgsf</td>\n",
       "      <td>Non-MSA</td>\n",
       "      <td>0.0</td>\n",
       "      <td>0.0</td>\n",
       "      <td>no_response</td>\n",
       "      <td>no_response</td>\n",
       "      <td>0</td>\n",
       "      <td>0</td>\n",
       "    </tr>\n",
       "    <tr>\n",
       "      <th>1</th>\n",
       "      <td>3.0</td>\n",
       "      <td>2.0</td>\n",
       "      <td>0.0</td>\n",
       "      <td>1.0</td>\n",
       "      <td>0.0</td>\n",
       "      <td>1.0</td>\n",
       "      <td>0.0</td>\n",
       "      <td>1.0</td>\n",
       "      <td>1.0</td>\n",
       "      <td>0.0</td>\n",
       "      <td>...</td>\n",
       "      <td>Rent</td>\n",
       "      <td>Employed</td>\n",
       "      <td>bhuqouqj</td>\n",
       "      <td>MSA, Not Principle  City</td>\n",
       "      <td>0.0</td>\n",
       "      <td>0.0</td>\n",
       "      <td>pxcmvdjn</td>\n",
       "      <td>xgwztkwe</td>\n",
       "      <td>0</td>\n",
       "      <td>1</td>\n",
       "    </tr>\n",
       "    <tr>\n",
       "      <th>2</th>\n",
       "      <td>1.0</td>\n",
       "      <td>1.0</td>\n",
       "      <td>0.0</td>\n",
       "      <td>1.0</td>\n",
       "      <td>0.0</td>\n",
       "      <td>0.0</td>\n",
       "      <td>0.0</td>\n",
       "      <td>0.0</td>\n",
       "      <td>0.0</td>\n",
       "      <td>no_response</td>\n",
       "      <td>...</td>\n",
       "      <td>Own</td>\n",
       "      <td>Employed</td>\n",
       "      <td>qufhixun</td>\n",
       "      <td>MSA, Not Principle  City</td>\n",
       "      <td>2.0</td>\n",
       "      <td>0.0</td>\n",
       "      <td>rucpziij</td>\n",
       "      <td>xtkaffoo</td>\n",
       "      <td>0</td>\n",
       "      <td>0</td>\n",
       "    </tr>\n",
       "    <tr>\n",
       "      <th>3</th>\n",
       "      <td>1.0</td>\n",
       "      <td>1.0</td>\n",
       "      <td>0.0</td>\n",
       "      <td>1.0</td>\n",
       "      <td>0.0</td>\n",
       "      <td>1.0</td>\n",
       "      <td>1.0</td>\n",
       "      <td>0.0</td>\n",
       "      <td>0.0</td>\n",
       "      <td>0.0</td>\n",
       "      <td>...</td>\n",
       "      <td>Rent</td>\n",
       "      <td>Not in Labor Force</td>\n",
       "      <td>lrircsnp</td>\n",
       "      <td>MSA, Principle City</td>\n",
       "      <td>0.0</td>\n",
       "      <td>0.0</td>\n",
       "      <td>no_response</td>\n",
       "      <td>no_response</td>\n",
       "      <td>0</td>\n",
       "      <td>1</td>\n",
       "    </tr>\n",
       "    <tr>\n",
       "      <th>4</th>\n",
       "      <td>2.0</td>\n",
       "      <td>1.0</td>\n",
       "      <td>0.0</td>\n",
       "      <td>1.0</td>\n",
       "      <td>0.0</td>\n",
       "      <td>1.0</td>\n",
       "      <td>1.0</td>\n",
       "      <td>0.0</td>\n",
       "      <td>1.0</td>\n",
       "      <td>0.0</td>\n",
       "      <td>...</td>\n",
       "      <td>Own</td>\n",
       "      <td>Employed</td>\n",
       "      <td>qufhixun</td>\n",
       "      <td>MSA, Not Principle  City</td>\n",
       "      <td>1.0</td>\n",
       "      <td>0.0</td>\n",
       "      <td>wxleyezf</td>\n",
       "      <td>emcorrxb</td>\n",
       "      <td>0</td>\n",
       "      <td>0</td>\n",
       "    </tr>\n",
       "  </tbody>\n",
       "</table>\n",
       "<p>5 rows × 37 columns</p>\n",
       "</div>"
      ],
      "text/plain": [
       "               h1n1_concern  h1n1_knowledge  behavioral_antiviral_meds  \\\n",
       "respondent_id                                                            \n",
       "0                       1.0             0.0                        0.0   \n",
       "1                       3.0             2.0                        0.0   \n",
       "2                       1.0             1.0                        0.0   \n",
       "3                       1.0             1.0                        0.0   \n",
       "4                       2.0             1.0                        0.0   \n",
       "\n",
       "               behavioral_avoidance  behavioral_face_mask  \\\n",
       "respondent_id                                               \n",
       "0                               0.0                   0.0   \n",
       "1                               1.0                   0.0   \n",
       "2                               1.0                   0.0   \n",
       "3                               1.0                   0.0   \n",
       "4                               1.0                   0.0   \n",
       "\n",
       "               behavioral_wash_hands  behavioral_large_gatherings  \\\n",
       "respondent_id                                                       \n",
       "0                                0.0                          0.0   \n",
       "1                                1.0                          0.0   \n",
       "2                                0.0                          0.0   \n",
       "3                                1.0                          1.0   \n",
       "4                                1.0                          1.0   \n",
       "\n",
       "               behavioral_outside_home  behavioral_touch_face  \\\n",
       "respondent_id                                                   \n",
       "0                                  1.0                    1.0   \n",
       "1                                  1.0                    1.0   \n",
       "2                                  0.0                    0.0   \n",
       "3                                  0.0                    0.0   \n",
       "4                                  0.0                    1.0   \n",
       "\n",
       "              doctor_recc_h1n1  ... rent_or_own   employment_status  \\\n",
       "respondent_id                   ...                                   \n",
       "0                          0.0  ...         Own  Not in Labor Force   \n",
       "1                          0.0  ...        Rent            Employed   \n",
       "2                  no_response  ...         Own            Employed   \n",
       "3                          0.0  ...        Rent  Not in Labor Force   \n",
       "4                          0.0  ...         Own            Employed   \n",
       "\n",
       "               hhs_geo_region                census_msa household_adults  \\\n",
       "respondent_id                                                              \n",
       "0                    oxchjgsf                   Non-MSA              0.0   \n",
       "1                    bhuqouqj  MSA, Not Principle  City              0.0   \n",
       "2                    qufhixun  MSA, Not Principle  City              2.0   \n",
       "3                    lrircsnp       MSA, Principle City              0.0   \n",
       "4                    qufhixun  MSA, Not Principle  City              1.0   \n",
       "\n",
       "               household_children  employment_industry  employment_occupation  \\\n",
       "respondent_id                                                                   \n",
       "0                             0.0          no_response            no_response   \n",
       "1                             0.0             pxcmvdjn               xgwztkwe   \n",
       "2                             0.0             rucpziij               xtkaffoo   \n",
       "3                             0.0          no_response            no_response   \n",
       "4                             0.0             wxleyezf               emcorrxb   \n",
       "\n",
       "               h1n1_vaccine  seasonal_vaccine  \n",
       "respondent_id                                  \n",
       "0                         0                 0  \n",
       "1                         0                 1  \n",
       "2                         0                 0  \n",
       "3                         0                 1  \n",
       "4                         0                 0  \n",
       "\n",
       "[5 rows x 37 columns]"
      ]
     },
     "execution_count": 3,
     "metadata": {},
     "output_type": "execute_result"
    }
   ],
   "source": [
    "data.head()"
   ]
  },
  {
   "cell_type": "code",
   "execution_count": 4,
   "id": "a18e0e6e-6278-4ac8-af0b-3da9aa6c78f6",
   "metadata": {},
   "outputs": [
    {
     "data": {
      "text/plain": [
       "Index(['h1n1_concern', 'h1n1_knowledge', 'behavioral_antiviral_meds',\n",
       "       'behavioral_avoidance', 'behavioral_face_mask', 'behavioral_wash_hands',\n",
       "       'behavioral_large_gatherings', 'behavioral_outside_home',\n",
       "       'behavioral_touch_face', 'doctor_recc_h1n1', 'doctor_recc_seasonal',\n",
       "       'chronic_med_condition', 'child_under_6_months', 'health_worker',\n",
       "       'health_insurance', 'opinion_h1n1_vacc_effective', 'opinion_h1n1_risk',\n",
       "       'opinion_h1n1_sick_from_vacc', 'opinion_seas_vacc_effective',\n",
       "       'opinion_seas_risk', 'opinion_seas_sick_from_vacc', 'age_group',\n",
       "       'education', 'race', 'sex', 'income_poverty', 'marital_status',\n",
       "       'rent_or_own', 'employment_status', 'hhs_geo_region', 'census_msa',\n",
       "       'household_adults', 'household_children', 'employment_industry',\n",
       "       'employment_occupation', 'h1n1_vaccine', 'seasonal_vaccine'],\n",
       "      dtype='object')"
      ]
     },
     "execution_count": 4,
     "metadata": {},
     "output_type": "execute_result"
    }
   ],
   "source": [
    "data.columns"
   ]
  },
  {
   "cell_type": "code",
   "execution_count": 5,
   "id": "0e1807c8-b921-40e4-95b8-4bd16c61e508",
   "metadata": {},
   "outputs": [
    {
     "data": {
      "text/plain": [
       "(26707, 37)"
      ]
     },
     "execution_count": 5,
     "metadata": {},
     "output_type": "execute_result"
    }
   ],
   "source": [
    "data.shape"
   ]
  },
  {
   "cell_type": "code",
   "execution_count": 6,
   "id": "990f0521-e7ae-4201-9105-5e93be3df879",
   "metadata": {},
   "outputs": [
    {
     "data": {
      "text/plain": [
       "h1n1_concern                   0\n",
       "h1n1_knowledge                 0\n",
       "behavioral_antiviral_meds      0\n",
       "behavioral_avoidance           0\n",
       "behavioral_face_mask           0\n",
       "behavioral_wash_hands          0\n",
       "behavioral_large_gatherings    0\n",
       "behavioral_outside_home        0\n",
       "behavioral_touch_face          0\n",
       "doctor_recc_h1n1               0\n",
       "doctor_recc_seasonal           0\n",
       "chronic_med_condition          0\n",
       "child_under_6_months           0\n",
       "health_worker                  0\n",
       "health_insurance               0\n",
       "opinion_h1n1_vacc_effective    0\n",
       "opinion_h1n1_risk              0\n",
       "opinion_h1n1_sick_from_vacc    0\n",
       "opinion_seas_vacc_effective    0\n",
       "opinion_seas_risk              0\n",
       "opinion_seas_sick_from_vacc    0\n",
       "age_group                      0\n",
       "education                      0\n",
       "race                           0\n",
       "sex                            0\n",
       "income_poverty                 0\n",
       "marital_status                 0\n",
       "rent_or_own                    0\n",
       "employment_status              0\n",
       "hhs_geo_region                 0\n",
       "census_msa                     0\n",
       "household_adults               0\n",
       "household_children             0\n",
       "employment_industry            0\n",
       "employment_occupation          0\n",
       "h1n1_vaccine                   0\n",
       "seasonal_vaccine               0\n",
       "dtype: int64"
      ]
     },
     "execution_count": 6,
     "metadata": {},
     "output_type": "execute_result"
    }
   ],
   "source": [
    "data.isnull().sum()"
   ]
  },
  {
   "cell_type": "code",
   "execution_count": 7,
   "id": "50023dd4-b6ea-47ea-9960-69d6a07bcb6e",
   "metadata": {},
   "outputs": [
    {
     "data": {
      "text/plain": [
       "h1n1_concern                   float64\n",
       "h1n1_knowledge                 float64\n",
       "behavioral_antiviral_meds      float64\n",
       "behavioral_avoidance           float64\n",
       "behavioral_face_mask           float64\n",
       "behavioral_wash_hands          float64\n",
       "behavioral_large_gatherings    float64\n",
       "behavioral_outside_home        float64\n",
       "behavioral_touch_face          float64\n",
       "doctor_recc_h1n1                object\n",
       "doctor_recc_seasonal            object\n",
       "chronic_med_condition           object\n",
       "child_under_6_months           float64\n",
       "health_worker                   object\n",
       "health_insurance                object\n",
       "opinion_h1n1_vacc_effective    float64\n",
       "opinion_h1n1_risk              float64\n",
       "opinion_h1n1_sick_from_vacc    float64\n",
       "opinion_seas_vacc_effective    float64\n",
       "opinion_seas_risk              float64\n",
       "opinion_seas_sick_from_vacc    float64\n",
       "age_group                       object\n",
       "education                       object\n",
       "race                            object\n",
       "sex                             object\n",
       "income_poverty                  object\n",
       "marital_status                  object\n",
       "rent_or_own                     object\n",
       "employment_status               object\n",
       "hhs_geo_region                  object\n",
       "census_msa                      object\n",
       "household_adults               float64\n",
       "household_children             float64\n",
       "employment_industry             object\n",
       "employment_occupation           object\n",
       "h1n1_vaccine                     int64\n",
       "seasonal_vaccine                 int64\n",
       "dtype: object"
      ]
     },
     "execution_count": 7,
     "metadata": {},
     "output_type": "execute_result"
    }
   ],
   "source": [
    "data.dtypes"
   ]
  },
  {
   "cell_type": "code",
   "execution_count": 8,
   "id": "0612ea50-af11-4a43-9b89-3912500b5b2c",
   "metadata": {},
   "outputs": [],
   "source": [
    "cols = list(data.select_dtypes('object').columns)"
   ]
  },
  {
   "cell_type": "code",
   "execution_count": 9,
   "id": "5fdfd22f-b979-46c4-abaf-e63d480fbf1c",
   "metadata": {},
   "outputs": [
    {
     "data": {
      "text/plain": [
       "['doctor_recc_h1n1',\n",
       " 'doctor_recc_seasonal',\n",
       " 'chronic_med_condition',\n",
       " 'health_worker',\n",
       " 'health_insurance',\n",
       " 'age_group',\n",
       " 'education',\n",
       " 'race',\n",
       " 'sex',\n",
       " 'income_poverty',\n",
       " 'marital_status',\n",
       " 'rent_or_own',\n",
       " 'employment_status',\n",
       " 'hhs_geo_region',\n",
       " 'census_msa',\n",
       " 'employment_industry',\n",
       " 'employment_occupation']"
      ]
     },
     "execution_count": 9,
     "metadata": {},
     "output_type": "execute_result"
    }
   ],
   "source": [
    "cols"
   ]
  },
  {
   "cell_type": "code",
   "execution_count": 10,
   "id": "168f7969-ebac-4618-94cc-3170638d5932",
   "metadata": {},
   "outputs": [],
   "source": [
    "data = pd.get_dummies(data=data, columns=cols, drop_first=True)"
   ]
  },
  {
   "cell_type": "code",
   "execution_count": 11,
   "id": "2ff23625-03bc-4f8b-b5aa-ca60f5c4e184",
   "metadata": {},
   "outputs": [
    {
     "data": {
      "text/html": [
       "<div>\n",
       "<style scoped>\n",
       "    .dataframe tbody tr th:only-of-type {\n",
       "        vertical-align: middle;\n",
       "    }\n",
       "\n",
       "    .dataframe tbody tr th {\n",
       "        vertical-align: top;\n",
       "    }\n",
       "\n",
       "    .dataframe thead th {\n",
       "        text-align: right;\n",
       "    }\n",
       "</style>\n",
       "<table border=\"1\" class=\"dataframe\">\n",
       "  <thead>\n",
       "    <tr style=\"text-align: right;\">\n",
       "      <th></th>\n",
       "      <th>h1n1_concern</th>\n",
       "      <th>h1n1_knowledge</th>\n",
       "      <th>behavioral_antiviral_meds</th>\n",
       "      <th>behavioral_avoidance</th>\n",
       "      <th>behavioral_face_mask</th>\n",
       "      <th>behavioral_wash_hands</th>\n",
       "      <th>behavioral_large_gatherings</th>\n",
       "      <th>behavioral_outside_home</th>\n",
       "      <th>behavioral_touch_face</th>\n",
       "      <th>child_under_6_months</th>\n",
       "      <th>...</th>\n",
       "      <th>employment_occupation_qxajmpny</th>\n",
       "      <th>employment_occupation_rcertsgn</th>\n",
       "      <th>employment_occupation_tfqavkke</th>\n",
       "      <th>employment_occupation_ukymxvdu</th>\n",
       "      <th>employment_occupation_uqqtjvyb</th>\n",
       "      <th>employment_occupation_vlluhbov</th>\n",
       "      <th>employment_occupation_xgwztkwe</th>\n",
       "      <th>employment_occupation_xqwwgdyp</th>\n",
       "      <th>employment_occupation_xtkaffoo</th>\n",
       "      <th>employment_occupation_xzmlyyjv</th>\n",
       "    </tr>\n",
       "    <tr>\n",
       "      <th>respondent_id</th>\n",
       "      <th></th>\n",
       "      <th></th>\n",
       "      <th></th>\n",
       "      <th></th>\n",
       "      <th></th>\n",
       "      <th></th>\n",
       "      <th></th>\n",
       "      <th></th>\n",
       "      <th></th>\n",
       "      <th></th>\n",
       "      <th></th>\n",
       "      <th></th>\n",
       "      <th></th>\n",
       "      <th></th>\n",
       "      <th></th>\n",
       "      <th></th>\n",
       "      <th></th>\n",
       "      <th></th>\n",
       "      <th></th>\n",
       "      <th></th>\n",
       "      <th></th>\n",
       "    </tr>\n",
       "  </thead>\n",
       "  <tbody>\n",
       "    <tr>\n",
       "      <th>0</th>\n",
       "      <td>1.0</td>\n",
       "      <td>0.0</td>\n",
       "      <td>0.0</td>\n",
       "      <td>0.0</td>\n",
       "      <td>0.0</td>\n",
       "      <td>0.0</td>\n",
       "      <td>0.0</td>\n",
       "      <td>1.0</td>\n",
       "      <td>1.0</td>\n",
       "      <td>0.0</td>\n",
       "      <td>...</td>\n",
       "      <td>0</td>\n",
       "      <td>0</td>\n",
       "      <td>0</td>\n",
       "      <td>0</td>\n",
       "      <td>0</td>\n",
       "      <td>0</td>\n",
       "      <td>0</td>\n",
       "      <td>0</td>\n",
       "      <td>0</td>\n",
       "      <td>0</td>\n",
       "    </tr>\n",
       "    <tr>\n",
       "      <th>1</th>\n",
       "      <td>3.0</td>\n",
       "      <td>2.0</td>\n",
       "      <td>0.0</td>\n",
       "      <td>1.0</td>\n",
       "      <td>0.0</td>\n",
       "      <td>1.0</td>\n",
       "      <td>0.0</td>\n",
       "      <td>1.0</td>\n",
       "      <td>1.0</td>\n",
       "      <td>0.0</td>\n",
       "      <td>...</td>\n",
       "      <td>0</td>\n",
       "      <td>0</td>\n",
       "      <td>0</td>\n",
       "      <td>0</td>\n",
       "      <td>0</td>\n",
       "      <td>0</td>\n",
       "      <td>1</td>\n",
       "      <td>0</td>\n",
       "      <td>0</td>\n",
       "      <td>0</td>\n",
       "    </tr>\n",
       "    <tr>\n",
       "      <th>2</th>\n",
       "      <td>1.0</td>\n",
       "      <td>1.0</td>\n",
       "      <td>0.0</td>\n",
       "      <td>1.0</td>\n",
       "      <td>0.0</td>\n",
       "      <td>0.0</td>\n",
       "      <td>0.0</td>\n",
       "      <td>0.0</td>\n",
       "      <td>0.0</td>\n",
       "      <td>0.0</td>\n",
       "      <td>...</td>\n",
       "      <td>0</td>\n",
       "      <td>0</td>\n",
       "      <td>0</td>\n",
       "      <td>0</td>\n",
       "      <td>0</td>\n",
       "      <td>0</td>\n",
       "      <td>0</td>\n",
       "      <td>0</td>\n",
       "      <td>1</td>\n",
       "      <td>0</td>\n",
       "    </tr>\n",
       "    <tr>\n",
       "      <th>3</th>\n",
       "      <td>1.0</td>\n",
       "      <td>1.0</td>\n",
       "      <td>0.0</td>\n",
       "      <td>1.0</td>\n",
       "      <td>0.0</td>\n",
       "      <td>1.0</td>\n",
       "      <td>1.0</td>\n",
       "      <td>0.0</td>\n",
       "      <td>0.0</td>\n",
       "      <td>0.0</td>\n",
       "      <td>...</td>\n",
       "      <td>0</td>\n",
       "      <td>0</td>\n",
       "      <td>0</td>\n",
       "      <td>0</td>\n",
       "      <td>0</td>\n",
       "      <td>0</td>\n",
       "      <td>0</td>\n",
       "      <td>0</td>\n",
       "      <td>0</td>\n",
       "      <td>0</td>\n",
       "    </tr>\n",
       "    <tr>\n",
       "      <th>4</th>\n",
       "      <td>2.0</td>\n",
       "      <td>1.0</td>\n",
       "      <td>0.0</td>\n",
       "      <td>1.0</td>\n",
       "      <td>0.0</td>\n",
       "      <td>1.0</td>\n",
       "      <td>1.0</td>\n",
       "      <td>0.0</td>\n",
       "      <td>1.0</td>\n",
       "      <td>0.0</td>\n",
       "      <td>...</td>\n",
       "      <td>0</td>\n",
       "      <td>0</td>\n",
       "      <td>0</td>\n",
       "      <td>0</td>\n",
       "      <td>0</td>\n",
       "      <td>0</td>\n",
       "      <td>0</td>\n",
       "      <td>0</td>\n",
       "      <td>0</td>\n",
       "      <td>0</td>\n",
       "    </tr>\n",
       "  </tbody>\n",
       "</table>\n",
       "<p>5 rows × 107 columns</p>\n",
       "</div>"
      ],
      "text/plain": [
       "               h1n1_concern  h1n1_knowledge  behavioral_antiviral_meds  \\\n",
       "respondent_id                                                            \n",
       "0                       1.0             0.0                        0.0   \n",
       "1                       3.0             2.0                        0.0   \n",
       "2                       1.0             1.0                        0.0   \n",
       "3                       1.0             1.0                        0.0   \n",
       "4                       2.0             1.0                        0.0   \n",
       "\n",
       "               behavioral_avoidance  behavioral_face_mask  \\\n",
       "respondent_id                                               \n",
       "0                               0.0                   0.0   \n",
       "1                               1.0                   0.0   \n",
       "2                               1.0                   0.0   \n",
       "3                               1.0                   0.0   \n",
       "4                               1.0                   0.0   \n",
       "\n",
       "               behavioral_wash_hands  behavioral_large_gatherings  \\\n",
       "respondent_id                                                       \n",
       "0                                0.0                          0.0   \n",
       "1                                1.0                          0.0   \n",
       "2                                0.0                          0.0   \n",
       "3                                1.0                          1.0   \n",
       "4                                1.0                          1.0   \n",
       "\n",
       "               behavioral_outside_home  behavioral_touch_face  \\\n",
       "respondent_id                                                   \n",
       "0                                  1.0                    1.0   \n",
       "1                                  1.0                    1.0   \n",
       "2                                  0.0                    0.0   \n",
       "3                                  0.0                    0.0   \n",
       "4                                  0.0                    1.0   \n",
       "\n",
       "               child_under_6_months  ...  employment_occupation_qxajmpny  \\\n",
       "respondent_id                        ...                                   \n",
       "0                               0.0  ...                               0   \n",
       "1                               0.0  ...                               0   \n",
       "2                               0.0  ...                               0   \n",
       "3                               0.0  ...                               0   \n",
       "4                               0.0  ...                               0   \n",
       "\n",
       "               employment_occupation_rcertsgn  employment_occupation_tfqavkke  \\\n",
       "respondent_id                                                                   \n",
       "0                                           0                               0   \n",
       "1                                           0                               0   \n",
       "2                                           0                               0   \n",
       "3                                           0                               0   \n",
       "4                                           0                               0   \n",
       "\n",
       "               employment_occupation_ukymxvdu  employment_occupation_uqqtjvyb  \\\n",
       "respondent_id                                                                   \n",
       "0                                           0                               0   \n",
       "1                                           0                               0   \n",
       "2                                           0                               0   \n",
       "3                                           0                               0   \n",
       "4                                           0                               0   \n",
       "\n",
       "               employment_occupation_vlluhbov  employment_occupation_xgwztkwe  \\\n",
       "respondent_id                                                                   \n",
       "0                                           0                               0   \n",
       "1                                           0                               1   \n",
       "2                                           0                               0   \n",
       "3                                           0                               0   \n",
       "4                                           0                               0   \n",
       "\n",
       "               employment_occupation_xqwwgdyp  employment_occupation_xtkaffoo  \\\n",
       "respondent_id                                                                   \n",
       "0                                           0                               0   \n",
       "1                                           0                               0   \n",
       "2                                           0                               1   \n",
       "3                                           0                               0   \n",
       "4                                           0                               0   \n",
       "\n",
       "               employment_occupation_xzmlyyjv  \n",
       "respondent_id                                  \n",
       "0                                           0  \n",
       "1                                           0  \n",
       "2                                           0  \n",
       "3                                           0  \n",
       "4                                           0  \n",
       "\n",
       "[5 rows x 107 columns]"
      ]
     },
     "execution_count": 11,
     "metadata": {},
     "output_type": "execute_result"
    }
   ],
   "source": [
    "data.head()"
   ]
  },
  {
   "cell_type": "code",
   "execution_count": 12,
   "id": "3ebdc639-2f19-47a4-ad38-d4647e294776",
   "metadata": {},
   "outputs": [],
   "source": [
    "#Set up variables\n",
    "X = data.drop(columns=['h1n1_vaccine', 'seasonal_vaccine'])\n",
    "y_h1n1 = data['h1n1_vaccine']\n",
    "y_szn = data['seasonal_vaccine']"
   ]
  },
  {
   "cell_type": "code",
   "execution_count": 13,
   "id": "60cfea57-d50e-4539-8aff-d3403024fea1",
   "metadata": {},
   "outputs": [],
   "source": [
    "#Setting up pipelines and parameters\n",
    "pipe_log = Pipeline([\n",
    "    ('log', LogisticRegression(max_iter=5000))\n",
    "])\n",
    "\n",
    "pipe_mnb = Pipeline([\n",
    "    ('mnb', MultinomialNB())\n",
    "])\n",
    "\n",
    "pipe_knn = Pipeline([\n",
    "    ('knn', KNeighborsClassifier())\n",
    "])\n",
    "\n",
    "pipe_rfc = Pipeline([\n",
    "    ('rfc', RandomForestClassifier())\n",
    "])\n",
    "\n",
    "log_par = {\n",
    "    'log__C': [1, 0.1, 0.01, 0.001],\n",
    "    'log__solver': ['liblinear', 'lbfgs']\n",
    "}\n",
    "\n",
    "mnb_par = {\n",
    "}\n",
    "\n",
    "knn_par = {\n",
    "    'knn__n_neighbors': [3, 5, 7, 9],\n",
    "    'knn__weights': ['uniform', 'distance'],\n",
    "    'knn__p': [1, 2],\n",
    "}\n",
    "    \n",
    "rfc_par = {\n",
    "    'rfc__n_estimators': [50, 100, 150, 200],\n",
    "    'rfc__max_depth': [None, 1, 2, 3, 4, 5],\n",
    "    'rfc__max_features': [6, 8, 10]\n",
    "}"
   ]
  },
  {
   "cell_type": "markdown",
   "id": "f461e101-a37b-4d34-94ca-14fb25bd3dd8",
   "metadata": {},
   "source": [
    "### Models for Seasonal Flu"
   ]
  },
  {
   "cell_type": "code",
   "execution_count": 18,
   "id": "d1d4d717-b4e4-46e4-8904-079e228f3695",
   "metadata": {},
   "outputs": [],
   "source": [
    "X_train, X_test, y_train, y_test = train_test_split(X, y_szn, random_state=42, stratify = y_szn)"
   ]
  },
  {
   "cell_type": "code",
   "execution_count": 21,
   "id": "c04681ce-5167-47c9-85f6-659e253c8184",
   "metadata": {},
   "outputs": [],
   "source": [
    "gsl = GridSearchCV(pipe_log, param_grid = log_par, scoring = 'roc_auc', n_jobs = -1, cv = 5)"
   ]
  },
  {
   "cell_type": "code",
   "execution_count": 22,
   "id": "06ded3da-772d-447d-a2d1-92f1f75dce84",
   "metadata": {},
   "outputs": [
    {
     "data": {
      "text/plain": [
       "GridSearchCV(cv=5,\n",
       "             estimator=Pipeline(steps=[('log',\n",
       "                                        LogisticRegression(max_iter=5000))]),\n",
       "             n_jobs=-1,\n",
       "             param_grid={'log__C': [1, 0.1, 0.01, 0.001],\n",
       "                         'log__solver': ['liblinear', 'lbfgs']},\n",
       "             scoring='roc_auc')"
      ]
     },
     "execution_count": 22,
     "metadata": {},
     "output_type": "execute_result"
    }
   ],
   "source": [
    "gsl.fit(X_train, y_train)"
   ]
  },
  {
   "cell_type": "code",
   "execution_count": 23,
   "id": "03d93618-66a7-46d2-9466-2956bc8a5a39",
   "metadata": {},
   "outputs": [],
   "source": [
    "gsm = GridSearchCV(pipe_mnb, param_grid = mnb_par, scoring = 'roc_auc', n_jobs = -1, cv = 5)"
   ]
  },
  {
   "cell_type": "code",
   "execution_count": 24,
   "id": "6999b855-1b6f-4b29-9797-2f05d9ed9c35",
   "metadata": {},
   "outputs": [
    {
     "data": {
      "text/plain": [
       "GridSearchCV(cv=5, estimator=Pipeline(steps=[('mnb', MultinomialNB())]),\n",
       "             n_jobs=-1, param_grid={}, scoring='roc_auc')"
      ]
     },
     "execution_count": 24,
     "metadata": {},
     "output_type": "execute_result"
    }
   ],
   "source": [
    "gsm.fit(X_train, y_train)"
   ]
  },
  {
   "cell_type": "code",
   "execution_count": 25,
   "id": "90546547-92cf-4962-b9a0-1ead2d499c4e",
   "metadata": {},
   "outputs": [],
   "source": [
    "gsk = GridSearchCV(pipe_knn, param_grid = knn_par, scoring = 'roc_auc', n_jobs = -1, cv = 5)"
   ]
  },
  {
   "cell_type": "code",
   "execution_count": 26,
   "id": "4cba23ca-e3a7-42ff-bc99-dda1050ef8f6",
   "metadata": {},
   "outputs": [
    {
     "data": {
      "text/plain": [
       "GridSearchCV(cv=5, estimator=Pipeline(steps=[('knn', KNeighborsClassifier())]),\n",
       "             n_jobs=-1,\n",
       "             param_grid={'knn__n_neighbors': [3, 5, 7, 9], 'knn__p': [1, 2],\n",
       "                         'knn__weights': ['uniform', 'distance']},\n",
       "             scoring='roc_auc')"
      ]
     },
     "execution_count": 26,
     "metadata": {},
     "output_type": "execute_result"
    }
   ],
   "source": [
    "gsk.fit(X_train, y_train)"
   ]
  },
  {
   "cell_type": "code",
   "execution_count": 27,
   "id": "27f047a1-233c-499e-b170-ef8c28c9b848",
   "metadata": {},
   "outputs": [],
   "source": [
    "gsr = GridSearchCV(pipe_rfc, param_grid = rfc_par, scoring = 'roc_auc', n_jobs = -1, cv = 5)"
   ]
  },
  {
   "cell_type": "code",
   "execution_count": 28,
   "id": "1926ecb2-9841-4beb-b5f4-a4b954e67621",
   "metadata": {},
   "outputs": [
    {
     "data": {
      "text/plain": [
       "GridSearchCV(cv=5,\n",
       "             estimator=Pipeline(steps=[('rfc', RandomForestClassifier())]),\n",
       "             n_jobs=-1,\n",
       "             param_grid={'rfc__max_depth': [None, 1, 2, 3, 4, 5],\n",
       "                         'rfc__max_features': [6, 8, 10],\n",
       "                         'rfc__n_estimators': [50, 100, 150, 200]},\n",
       "             scoring='roc_auc')"
      ]
     },
     "execution_count": 28,
     "metadata": {},
     "output_type": "execute_result"
    }
   ],
   "source": [
    "gsr.fit(X_train, y_train)"
   ]
  },
  {
   "cell_type": "code",
   "execution_count": 29,
   "id": "4867947c-5fc7-491d-94be-b20ab42c4e0b",
   "metadata": {},
   "outputs": [
    {
     "data": {
      "text/plain": [
       "(0.8578840032703468, 0.8535572985704745)"
      ]
     },
     "execution_count": 29,
     "metadata": {},
     "output_type": "execute_result"
    }
   ],
   "source": [
    "gsl.score(X_train, y_train), gsl.score(X_test, y_test)"
   ]
  },
  {
   "cell_type": "code",
   "execution_count": 30,
   "id": "da51f1cc-917b-4db8-9aee-ff776c81a1a3",
   "metadata": {},
   "outputs": [
    {
     "data": {
      "image/png": "[encoded data removed]",
      "text/plain": [
       "<Figure size 432x288 with 2 Axes>"
      ]
     },
     "metadata": {
      "needs_background": "light"
     },
     "output_type": "display_data"
    }
   ],
   "source": [
    "plot_confusion_matrix(gsl, X_test, y_test, display_labels=['Received Vaccine', 'Did not Receive Vaccine'], cmap = 'plasma');"
   ]
  },
  {
   "cell_type": "code",
   "execution_count": 31,
   "id": "e2b8d4fe-6354-4a5a-930e-e48f91d0a448",
   "metadata": {},
   "outputs": [
    {
     "data": {
      "text/plain": [
       "(0.7853977777061862, 0.7830688641539751)"
      ]
     },
     "execution_count": 31,
     "metadata": {},
     "output_type": "execute_result"
    }
   ],
   "source": [
    "gsm.score(X_train, y_train), gsm.score(X_test, y_test)"
   ]
  },
  {
   "cell_type": "code",
   "execution_count": 32,
   "id": "621cea14-c45f-4525-822a-d97a0f807395",
   "metadata": {},
   "outputs": [
    {
     "data": {
      "image/png": "[encoded data removed]",
      "text/plain": [
       "<Figure size 432x288 with 2 Axes>"
      ]
     },
     "metadata": {
      "needs_background": "light"
     },
     "output_type": "display_data"
    }
   ],
   "source": [
    "plot_confusion_matrix(gsm, X_test, y_test, display_labels=['Received Vaccine', 'Did not Receive Vaccine'], cmap = 'plasma');"
   ]
  },
  {
   "cell_type": "code",
   "execution_count": 33,
   "id": "b8f267b4-d845-4921-a523-3a44ada9788c",
   "metadata": {},
   "outputs": [
    {
     "data": {
      "text/plain": [
       "(1.0, 0.8104159665198822)"
      ]
     },
     "execution_count": 33,
     "metadata": {},
     "output_type": "execute_result"
    }
   ],
   "source": [
    "gsk.score(X_train, y_train), gsk.score(X_test, y_test)"
   ]
  },
  {
   "cell_type": "code",
   "execution_count": 34,
   "id": "478e54fa-b9a3-4257-bb6a-4cccb2582531",
   "metadata": {},
   "outputs": [
    {
     "data": {
      "image/png": "[encoded data removed]",
      "text/plain": [
       "<Figure size 432x288 with 2 Axes>"
      ]
     },
     "metadata": {
      "needs_background": "light"
     },
     "output_type": "display_data"
    }
   ],
   "source": [
    "plot_confusion_matrix(gsk, X_test, y_test, display_labels=['Received Vaccine', 'Did not Receive Vaccine'], cmap = 'plasma');"
   ]
  },
  {
   "cell_type": "code",
   "execution_count": 35,
   "id": "654cbc34-4524-4acc-b0bd-57d1c567dedd",
   "metadata": {},
   "outputs": [
    {
     "data": {
      "text/plain": [
       "(1.0, 0.8514618163382167)"
      ]
     },
     "execution_count": 35,
     "metadata": {},
     "output_type": "execute_result"
    }
   ],
   "source": [
    "gsr.score(X_train, y_train), gsr.score(X_test, y_test)"
   ]
  },
  {
   "cell_type": "code",
   "execution_count": 36,
   "id": "932d3495-897d-4771-bd62-ae5ddfb4817d",
   "metadata": {},
   "outputs": [
    {
     "data": {
      "image/png": "[encoded data removed]",
      "text/plain": [
       "<Figure size 432x288 with 2 Axes>"
      ]
     },
     "metadata": {
      "needs_background": "light"
     },
     "output_type": "display_data"
    }
   ],
   "source": [
    "plot_confusion_matrix(gsr, X_test, y_test, display_labels=['Received Vaccine', 'Did not Receive Vaccine'], cmap = 'plasma');"
   ]
  },
  {
   "cell_type": "markdown",
   "id": "ff9893fa-c87a-465b-8846-a9ce2346dfc2",
   "metadata": {},
   "source": [
    "### Same models but for H1N1"
   ]
  },
  {
   "cell_type": "code",
   "execution_count": 37,
   "id": "895b80f3-1932-45bc-8da5-4f479440188b",
   "metadata": {},
   "outputs": [],
   "source": [
    "X_train2, X_test2, y_train2, y_test2 = train_test_split(X, y_h1n1, random_state=42, stratify = y_h1n1)"
   ]
  },
  {
   "cell_type": "code",
   "execution_count": 38,
   "id": "fe5b3bf0-2236-45c8-9501-ece6522213ca",
   "metadata": {},
   "outputs": [],
   "source": [
    "gsl2 = GridSearchCV(pipe_log, param_grid = log_par, scoring = 'roc_auc', n_jobs = -1, cv = 5)"
   ]
  },
  {
   "cell_type": "code",
   "execution_count": 39,
   "id": "d2a3f5e4-5b2f-4fba-872c-376020dc63ec",
   "metadata": {},
   "outputs": [
    {
     "data": {
      "text/plain": [
       "GridSearchCV(cv=5,\n",
       "             estimator=Pipeline(steps=[('log',\n",
       "                                        LogisticRegression(max_iter=5000))]),\n",
       "             n_jobs=-1,\n",
       "             param_grid={'log__C': [1, 0.1, 0.01, 0.001],\n",
       "                         'log__solver': ['liblinear', 'lbfgs']},\n",
       "             scoring='roc_auc')"
      ]
     },
     "execution_count": 39,
     "metadata": {},
     "output_type": "execute_result"
    }
   ],
   "source": [
    "gsl2.fit(X_train2, y_train2)"
   ]
  },
  {
   "cell_type": "code",
   "execution_count": 40,
   "id": "ef9cd4f5-4711-4b02-8c04-ba33ce1e6086",
   "metadata": {},
   "outputs": [],
   "source": [
    "gsm2 = GridSearchCV(pipe_mnb, param_grid = mnb_par, scoring = 'roc_auc', n_jobs = -1, cv = 5)"
   ]
  },
  {
   "cell_type": "code",
   "execution_count": 41,
   "id": "80eba258-f70f-40ef-918f-8dd7089b1d9a",
   "metadata": {},
   "outputs": [
    {
     "data": {
      "text/plain": [
       "GridSearchCV(cv=5, estimator=Pipeline(steps=[('mnb', MultinomialNB())]),\n",
       "             n_jobs=-1, param_grid={}, scoring='roc_auc')"
      ]
     },
     "execution_count": 41,
     "metadata": {},
     "output_type": "execute_result"
    }
   ],
   "source": [
    "gsm2.fit(X_train2, y_train2)"
   ]
  },
  {
   "cell_type": "code",
   "execution_count": 42,
   "id": "360e0657-2cb8-4a10-bb87-321e4b3c659f",
   "metadata": {},
   "outputs": [],
   "source": [
    "gsk2 = GridSearchCV(pipe_knn, param_grid = knn_par, scoring = 'roc_auc', n_jobs = -1, cv = 5)"
   ]
  },
  {
   "cell_type": "code",
   "execution_count": 43,
   "id": "9960d53f-d0f8-4189-84f6-dc0c02fb2d4c",
   "metadata": {},
   "outputs": [
    {
     "data": {
      "text/plain": [
       "GridSearchCV(cv=5, estimator=Pipeline(steps=[('knn', KNeighborsClassifier())]),\n",
       "             n_jobs=-1,\n",
       "             param_grid={'knn__n_neighbors': [3, 5, 7, 9], 'knn__p': [1, 2],\n",
       "                         'knn__weights': ['uniform', 'distance']},\n",
       "             scoring='roc_auc')"
      ]
     },
     "execution_count": 43,
     "metadata": {},
     "output_type": "execute_result"
    }
   ],
   "source": [
    "gsk2.fit(X_train2, y_train2)"
   ]
  },
  {
   "cell_type": "code",
   "execution_count": 44,
   "id": "d2bb9338-a404-4fcb-8052-aae9a463121f",
   "metadata": {},
   "outputs": [],
   "source": [
    "gsr2 = GridSearchCV(pipe_rfc, param_grid = rfc_par, scoring = 'roc_auc', n_jobs = -1, cv = 5)"
   ]
  },
  {
   "cell_type": "code",
   "execution_count": 45,
   "id": "7f4988e7-6467-47bc-820b-6a57a2f6ff32",
   "metadata": {},
   "outputs": [
    {
     "data": {
      "text/plain": [
       "GridSearchCV(cv=5,\n",
       "             estimator=Pipeline(steps=[('rfc', RandomForestClassifier())]),\n",
       "             n_jobs=-1,\n",
       "             param_grid={'rfc__max_depth': [None, 1, 2, 3, 4, 5],\n",
       "                         'rfc__max_features': [6, 8, 10],\n",
       "                         'rfc__n_estimators': [50, 100, 150, 200]},\n",
       "             scoring='roc_auc')"
      ]
     },
     "execution_count": 45,
     "metadata": {},
     "output_type": "execute_result"
    }
   ],
   "source": [
    "gsr2.fit(X_train2, y_train2)"
   ]
  },
  {
   "cell_type": "code",
   "execution_count": 46,
   "id": "79ae2401-dc14-430f-a0c2-f9e8a00bc007",
   "metadata": {},
   "outputs": [
    {
     "data": {
      "text/plain": [
       "(0.8666110421039106, 0.8550088177322869)"
      ]
     },
     "execution_count": 46,
     "metadata": {},
     "output_type": "execute_result"
    }
   ],
   "source": [
    "gsl2.score(X_train2, y_train2), gsl2.score(X_test2, y_test2)"
   ]
  },
  {
   "cell_type": "code",
   "execution_count": 47,
   "id": "ed004d57-5744-4bb3-81a3-419e171f9522",
   "metadata": {},
   "outputs": [
    {
     "data": {
      "image/png": "[encoded data removed]",
      "text/plain": [
       "<Figure size 432x288 with 2 Axes>"
      ]
     },
     "metadata": {
      "needs_background": "light"
     },
     "output_type": "display_data"
    }
   ],
   "source": [
    "plot_confusion_matrix(gsl2, X_test2, y_test2, display_labels=['Received Vaccine', 'Did not Receive Vaccine'], cmap = 'plasma');"
   ]
  },
  {
   "cell_type": "code",
   "execution_count": 48,
   "id": "9a915d13-60ef-46f0-9b35-2fa5878bc116",
   "metadata": {},
   "outputs": [
    {
     "data": {
      "text/plain": [
       "(0.8018562593462338, 0.7889522218031598)"
      ]
     },
     "execution_count": 48,
     "metadata": {},
     "output_type": "execute_result"
    }
   ],
   "source": [
    "gsm2.score(X_train2, y_train2), gsm2.score(X_test2, y_test2)"
   ]
  },
  {
   "cell_type": "code",
   "execution_count": 49,
   "id": "5580ee40-3894-4537-9c03-ea6ba39307af",
   "metadata": {},
   "outputs": [
    {
     "data": {
      "image/png": "[encoded data removed]",
      "text/plain": [
       "<Figure size 432x288 with 2 Axes>"
      ]
     },
     "metadata": {
      "needs_background": "light"
     },
     "output_type": "display_data"
    }
   ],
   "source": [
    "plot_confusion_matrix(gsm2, X_test2, y_test2, display_labels=['Received Vaccine', 'Did not Receive Vaccine'], cmap = 'plasma');"
   ]
  },
  {
   "cell_type": "code",
   "execution_count": 50,
   "id": "5a9b13da-e4e4-4501-8f4d-60bb8687a74c",
   "metadata": {},
   "outputs": [
    {
     "data": {
      "text/plain": [
       "(1.0, 0.7980549656069572)"
      ]
     },
     "execution_count": 50,
     "metadata": {},
     "output_type": "execute_result"
    }
   ],
   "source": [
    "gsk2.score(X_train2, y_train2), gsk2.score(X_test2, y_test2)"
   ]
  },
  {
   "cell_type": "code",
   "execution_count": 51,
   "id": "2768e9c7-d6a4-411d-9c5f-f2fde3d8b938",
   "metadata": {},
   "outputs": [
    {
     "data": {
      "image/png": "[encoded data removed]",
      "text/plain": [
       "<Figure size 432x288 with 2 Axes>"
      ]
     },
     "metadata": {
      "needs_background": "light"
     },
     "output_type": "display_data"
    }
   ],
   "source": [
    "plot_confusion_matrix(gsk2, X_test2, y_test2, display_labels=['Received Vaccine', 'Did not Receive Vaccine'], cmap = 'plasma');"
   ]
  },
  {
   "cell_type": "code",
   "execution_count": 52,
   "id": "6c7fb2e0-cb5c-4f35-8274-693539e994a8",
   "metadata": {},
   "outputs": [
    {
     "data": {
      "text/plain": [
       "(1.0, 0.8537700597043172)"
      ]
     },
     "execution_count": 52,
     "metadata": {},
     "output_type": "execute_result"
    }
   ],
   "source": [
    "gsr2.score(X_train2, y_train2), gsr2.score(X_test2, y_test2)"
   ]
  },
  {
   "cell_type": "code",
   "execution_count": 53,
   "id": "4c1a3db7-a563-402e-98a2-859cff7b3af1",
   "metadata": {},
   "outputs": [
    {
     "data": {
      "image/png": "[encoded data removed]",
      "text/plain": [
       "<Figure size 432x288 with 2 Axes>"
      ]
     },
     "metadata": {
      "needs_background": "light"
     },
     "output_type": "display_data"
    }
   ],
   "source": [
    "plot_confusion_matrix(gsr2, X_test2, y_test2, display_labels=['Received Vaccine', 'Did not Receive Vaccine'], cmap = 'plasma');"
   ]
  },
  {
   "cell_type": "markdown",
   "id": "18833da1-c7ec-4db1-a195-2d2bd58ca167",
   "metadata": {
    "tags": []
   },
   "source": [
    "### Pickling Models"
   ]
  },
  {
   "cell_type": "code",
   "execution_count": 55,
   "id": "f3dcf7f5-2709-482c-b08b-25e956202aeb",
   "metadata": {},
   "outputs": [],
   "source": [
    "import pickle"
   ]
  },
  {
   "cell_type": "code",
   "execution_count": 56,
   "id": "a97e2d62-43d7-4ee7-b35f-98a56ae65112",
   "metadata": {},
   "outputs": [],
   "source": [
    "path = '../models/AUROC/'"
   ]
  },
  {
   "cell_type": "code",
   "execution_count": 57,
   "id": "1215c722-553e-41d9-8f32-ab8a6380ecb7",
   "metadata": {},
   "outputs": [],
   "source": [
    "def pickler(model, name, dir):\n",
    "    with open(dir+f'{name}.pkl', 'wb') as pickle_out:\n",
    "        pickle_out = pickle.dump(model, pickle_out)"
   ]
  },
  {
   "cell_type": "code",
   "execution_count": 58,
   "id": "ca4139ca-c9ba-41d5-b8b7-ec7152777a15",
   "metadata": {},
   "outputs": [],
   "source": [
    "pickler(gsl, 'logreg_seasonal_auroc', path)"
   ]
  },
  {
   "cell_type": "code",
   "execution_count": 59,
   "id": "429e66b0-d1b7-43bb-a422-ae14cd147fb6",
   "metadata": {},
   "outputs": [],
   "source": [
    "pickler(gsm, 'mnb_seasonal_auroc', path)"
   ]
  },
  {
   "cell_type": "code",
   "execution_count": 60,
   "id": "264cf95b-3d8a-49d0-a81d-9c7f795a5467",
   "metadata": {},
   "outputs": [],
   "source": [
    "pickler(gsk, 'knn_seasonal_auroc', path)"
   ]
  },
  {
   "cell_type": "code",
   "execution_count": 61,
   "id": "c4d32e4a-5e4c-4eec-99b4-1a38c1049f51",
   "metadata": {},
   "outputs": [],
   "source": [
    "pickler(gsr, 'rfc_seasonal_auroc', path)"
   ]
  },
  {
   "cell_type": "code",
   "execution_count": 62,
   "id": "c14bbfb0-2f02-4fd4-8ada-8c9329ef51db",
   "metadata": {},
   "outputs": [],
   "source": [
    "pickler(gsl2, 'logreg_h1n1_auroc', path)"
   ]
  },
  {
   "cell_type": "code",
   "execution_count": 63,
   "id": "eb121d42-c996-4e49-b480-527fd7b36140",
   "metadata": {},
   "outputs": [],
   "source": [
    "pickler(gsm2, 'mnb_h1n1_auroc', path)"
   ]
  },
  {
   "cell_type": "code",
   "execution_count": 64,
   "id": "43b8d427-bc46-49c9-860d-19bf51ffd85e",
   "metadata": {},
   "outputs": [],
   "source": [
    "pickler(gsk2, 'knn_h1n1_auroc', path)"
   ]
  },
  {
   "cell_type": "code",
   "execution_count": 65,
   "id": "cdb213c3-fb83-4b8b-9472-6834809ea3f8",
   "metadata": {},
   "outputs": [],
   "source": [
    "pickler(gsr2, 'rfc_h1n1_auroc', path)"
   ]
  },
  {
   "cell_type": "code",
   "execution_count": null,
   "id": "b17b6dd0-0414-4c37-ba6f-55be3c3384ff",
   "metadata": {},
   "outputs": [],
   "source": []
  },
  {
   "cell_type": "code",
   "execution_count": null,
   "id": "7a89768a-da4d-4c91-996b-b1ddd0dd135c",
   "metadata": {},
   "outputs": [],
   "source": []
  }
 ],
 "metadata": {
  "kernelspec": {
   "display_name": "Python 3 (ipykernel)",
   "language": "python",
   "name": "python3"
  },
  "language_info": {
   "codemirror_mode": {
    "name": "ipython",
    "version": 3
   },
   "file_extension": ".py",
   "mimetype": "text/x-python",
   "name": "python",
   "nbconvert_exporter": "python",
   "pygments_lexer": "ipython3",
   "version": "3.9.7"
  }
 },
 "nbformat": 4,
 "nbformat_minor": 5
}
