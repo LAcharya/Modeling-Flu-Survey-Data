{
 "cells": [
  {
   "cell_type": "markdown",
   "id": "2bfbf32b-0839-476e-b4b9-b9a6d1571931",
   "metadata": {
    "tags": []
   },
   "source": [
    "# Predicting H1N1 vaccination refusal using best features \n",
    "## Features selected from XGBoost Classifier"
   ]
  },
  {
   "cell_type": "markdown",
   "id": "4561fc21-5774-40cb-b5d9-0a454fb5352a",
   "metadata": {},
   "source": [
    "This notebook uses 15 best features as selected using as XGBoost Classifier. The features are lsited below:\n",
    " \n",
    "* `opinion_h1n1_vacc_effective`\n",
    "* `health_insurance`\n",
    "* `opinion_h1n1_risk1`\n",
    "* `h1n1_knowledge`\n",
    "* `behavioral_large_gatherings`\n",
    "* `marital_status`\n",
    "* `rent_or_own`\n",
    "* `behavioral_touch_face`\n",
    "* `opinion_seas_risk`\n",
    "* `opinion_seas_vacc_effective`\n",
    "* `education`\n",
    "* `behavioral_avoidance`\n",
    "* `doctor_recc_h1n1`\n",
    "* `behavioral_outside_home'`\n",
    "* `household_adults`\n",
    "* `h1n1_vaccine`\n",
    "* `seasonal_vaccine`\n",
    "\n",
    "\n",
    "The notebook runs three kinds of models. \n",
    "\n",
    "1. Using best features and engineered features, and balancing classes using SMOTE\n",
    "2. Using features as is, and SMOTE for balancing features\n",
    "3. Using features and imbalanced classes as is\n",
    "\n",
    "The findings are summarized belo along with the results from the previous notebook that used features from a logistic regression model\n",
    "\n",
    "Model|Accuracy|Precision|Recall|AUC|\n",
    "-----|--------|---------|------|---|\n",
    "Logistic Regression feat.engg + SMOTE|0.817|0.899|0.865|0.753|\n",
    "Logistic Regression feat as is + SMOTE|0.824|0.901|0.873|0.759|\n",
    "Logistic Regression feat as is|0.851|0.876|0.944|0.725|\n",
    "XGBoost feat.engg + SMOTE|0.839|0.886|0.913|0.740|\n",
    "XGBoost feat as is + SMOTE|0.839|0.886|0.913|0.739|\n",
    "XGBoost feat. as is|0.847|0.871|0.945|0.714|"
   ]
  },
  {
   "cell_type": "code",
   "execution_count": 1,
   "id": "7f504ea3-0c63-4848-818b-67c3609af326",
   "metadata": {},
   "outputs": [
    {
     "name": "stderr",
     "output_type": "stream",
     "text": [
      "C:\\ProgramData\\Anaconda3\\envs\\xgboost\\lib\\site-packages\\xgboost\\compat.py:36: FutureWarning: pandas.Int64Index is deprecated and will be removed from pandas in a future version. Use pandas.Index with the appropriate dtype instead.\n",
      "  from pandas import MultiIndex, Int64Index\n"
     ]
    }
   ],
   "source": [
    "import pandas as pd\n",
    "import numpy as np\n",
    "import xgboost as xgb\n",
    "from imblearn.over_sampling import SMOTE\n",
    "from sklearn.model_selection import train_test_split, GridSearchCV\n",
    "from sklearn.metrics import (accuracy_score, recall_score, precision_score, \n",
    "                            roc_auc_score, balanced_accuracy_score, ConfusionMatrixDisplay)"
   ]
  },
  {
   "cell_type": "markdown",
   "id": "e3791a6b-05dc-4e31-be76-3447c532ed3f",
   "metadata": {},
   "source": [
    "### Using features from XGBoost List with feature engineering and SMOTE"
   ]
  },
  {
   "cell_type": "code",
   "execution_count": 2,
   "id": "014b4c89-0cd9-43c3-9363-57d831c452c6",
   "metadata": {},
   "outputs": [],
   "source": [
    "# import data\n",
    "data = pd.read_csv('../data/train_clean.csv')"
   ]
  },
  {
   "cell_type": "code",
   "execution_count": 3,
   "id": "d7dfaa67-dd7c-4254-bd02-2c20c12525dc",
   "metadata": {},
   "outputs": [
    {
     "data": {
      "text/plain": [
       "Index(['respondent_id', 'h1n1_concern', 'h1n1_knowledge',\n",
       "       'behavioral_antiviral_meds', 'behavioral_avoidance',\n",
       "       'behavioral_face_mask', 'behavioral_wash_hands',\n",
       "       'behavioral_large_gatherings', 'behavioral_outside_home',\n",
       "       'behavioral_touch_face', 'doctor_recc_h1n1', 'doctor_recc_seasonal',\n",
       "       'chronic_med_condition', 'child_under_6_months', 'health_worker',\n",
       "       'health_insurance', 'opinion_h1n1_vacc_effective', 'opinion_h1n1_risk',\n",
       "       'opinion_h1n1_sick_from_vacc', 'opinion_seas_vacc_effective',\n",
       "       'opinion_seas_risk', 'opinion_seas_sick_from_vacc', 'age_group',\n",
       "       'education', 'race', 'sex', 'income_poverty', 'marital_status',\n",
       "       'rent_or_own', 'employment_status', 'hhs_geo_region', 'census_msa',\n",
       "       'household_adults', 'household_children', 'employment_industry',\n",
       "       'employment_occupation', 'h1n1_vaccine', 'seasonal_vaccine'],\n",
       "      dtype='object')"
      ]
     },
     "execution_count": 3,
     "metadata": {},
     "output_type": "execute_result"
    }
   ],
   "source": [
    "data.columns"
   ]
  },
  {
   "cell_type": "code",
   "execution_count": 4,
   "id": "dbf2851c-271b-4b75-8a36-d342f46a2c89",
   "metadata": {},
   "outputs": [
    {
     "data": {
      "text/plain": [
       "0    0.787546\n",
       "1    0.212454\n",
       "Name: h1n1_vaccine, dtype: float64"
      ]
     },
     "execution_count": 4,
     "metadata": {},
     "output_type": "execute_result"
    }
   ],
   "source": [
    "data['h1n1_vaccine'].value_counts(normalize=True)"
   ]
  },
  {
   "cell_type": "code",
   "execution_count": 5,
   "id": "51de85a0-b3dc-4255-91b8-0aff87e9d3c3",
   "metadata": {},
   "outputs": [
    {
     "data": {
      "text/plain": [
       "0    0.534392\n",
       "1    0.465608\n",
       "Name: seasonal_vaccine, dtype: float64"
      ]
     },
     "execution_count": 5,
     "metadata": {},
     "output_type": "execute_result"
    }
   ],
   "source": [
    "data['seasonal_vaccine'].value_counts(normalize=True)"
   ]
  },
  {
   "cell_type": "code",
   "execution_count": 6,
   "id": "ec66b5bc-ad28-4e24-bfdf-588e88f86ba6",
   "metadata": {
    "tags": []
   },
   "outputs": [
    {
     "data": {
      "text/plain": [
       "1    14272\n",
       "0    12435\n",
       "Name: seasonal_vaccine, dtype: int64"
      ]
     },
     "execution_count": 6,
     "metadata": {},
     "output_type": "execute_result"
    }
   ],
   "source": [
    "# since we're interested in the people who did not get vaccinated: switch 0 and 1 labels\n",
    "data['h1n1_vaccine'].replace({1:0, 0:1}, inplace=True)\n",
    "data['h1n1_vaccine'].value_counts()\n",
    "\n",
    "data['seasonal_vaccine'].replace({1:0, 0:1}, inplace=True)\n",
    "data['seasonal_vaccine'].value_counts()"
   ]
  },
  {
   "cell_type": "code",
   "execution_count": 7,
   "id": "bad50584-c661-4af7-8bf1-a786f3de92d0",
   "metadata": {},
   "outputs": [],
   "source": [
    "features_to_use = pd.read_csv('../data/XGB_H1N1_feature_imp.csv')"
   ]
  },
  {
   "cell_type": "code",
   "execution_count": 8,
   "id": "3d342e89-54ce-4d38-b1a1-077380934165",
   "metadata": {},
   "outputs": [
    {
     "data": {
      "text/plain": [
       "['opinion_h1n1_vacc_effective',\n",
       " 'health_insurance',\n",
       " 'opinion_h1n1_risk',\n",
       " 'h1n1_knowledge',\n",
       " 'behavioral_large_gatherings',\n",
       " 'marital_status',\n",
       " 'rent_or_own',\n",
       " 'behavioral_touch_face',\n",
       " 'opinion_seas_risk',\n",
       " 'opinion_seas_vacc_effective',\n",
       " 'education',\n",
       " 'behavioral_avoidance',\n",
       " 'doctor_recc_h1n1',\n",
       " 'behavioral_outside_home',\n",
       " 'household_adults',\n",
       " 'h1n1_vaccine',\n",
       " 'seasonal_vaccine']"
      ]
     },
     "execution_count": 8,
     "metadata": {},
     "output_type": "execute_result"
    }
   ],
   "source": [
    "features = list(features_to_use['feature'])\n",
    "features.append('h1n1_vaccine')\n",
    "features.append('seasonal_vaccine')\n",
    "features"
   ]
  },
  {
   "cell_type": "code",
   "execution_count": 9,
   "id": "8fcb2af5-fb97-4789-8c32-cbbd3d4443b7",
   "metadata": {},
   "outputs": [],
   "source": [
    "data = data[features]"
   ]
  },
  {
   "cell_type": "code",
   "execution_count": 10,
   "id": "19e6c35b-ae2d-4958-9901-78d472653952",
   "metadata": {},
   "outputs": [
    {
     "data": {
      "text/plain": [
       "Index(['opinion_h1n1_vacc_effective', 'health_insurance', 'opinion_h1n1_risk',\n",
       "       'h1n1_knowledge', 'behavioral_large_gatherings', 'marital_status',\n",
       "       'rent_or_own', 'behavioral_touch_face', 'opinion_seas_risk',\n",
       "       'opinion_seas_vacc_effective', 'education', 'behavioral_avoidance',\n",
       "       'doctor_recc_h1n1', 'behavioral_outside_home', 'household_adults',\n",
       "       'h1n1_vaccine', 'seasonal_vaccine'],\n",
       "      dtype='object')"
      ]
     },
     "execution_count": 10,
     "metadata": {},
     "output_type": "execute_result"
    }
   ],
   "source": [
    "data.columns"
   ]
  },
  {
   "cell_type": "markdown",
   "id": "51ab802e-937f-4f68-aa1f-b4687af9e5c5",
   "metadata": {},
   "source": [
    "Doctor recommended features"
   ]
  },
  {
   "cell_type": "code",
   "execution_count": 11,
   "id": "da635836-52b8-4be2-8973-0d4710ce8837",
   "metadata": {
    "tags": []
   },
   "outputs": [
    {
     "data": {
      "text/plain": [
       "0.0            19139\n",
       "1.0             5408\n",
       "no_response     2160\n",
       "Name: doctor_recc_h1n1, dtype: int64"
      ]
     },
     "execution_count": 11,
     "metadata": {},
     "output_type": "execute_result"
    }
   ],
   "source": [
    "# #####\n",
    "data['doctor_recc_h1n1'].value_counts()"
   ]
  },
  {
   "cell_type": "code",
   "execution_count": 12,
   "id": "19a0d0b3-91e3-476b-ad73-f4df2e03a574",
   "metadata": {
    "tags": []
   },
   "outputs": [
    {
     "data": {
      "text/plain": [
       "dtype('O')"
      ]
     },
     "execution_count": 12,
     "metadata": {},
     "output_type": "execute_result"
    }
   ],
   "source": [
    "data['doctor_recc_h1n1'].dtypes"
   ]
  },
  {
   "cell_type": "code",
   "execution_count": 13,
   "id": "38d0c933-1f07-4944-8206-7378e593224c",
   "metadata": {},
   "outputs": [
    {
     "data": {
      "text/plain": [
       "1    19139\n",
       "2     5408\n",
       "0     2160\n",
       "Name: doctor_recc_h1n1, dtype: int64"
      ]
     },
     "execution_count": 13,
     "metadata": {},
     "output_type": "execute_result"
    }
   ],
   "source": [
    "data['doctor_recc_h1n1'] = data['doctor_recc_h1n1'].replace({'0.0': 1, '1.0': 2, 'no_response': 0})\n",
    "\n",
    "data['doctor_recc_h1n1'].value_counts()"
   ]
  },
  {
   "cell_type": "code",
   "execution_count": 14,
   "id": "7598f03d-6f77-42cc-a093-d165437f33e1",
   "metadata": {},
   "outputs": [
    {
     "data": {
      "text/plain": [
       "behavioral_large_gatherings    float64\n",
       "behavioral_touch_face          float64\n",
       "behavioral_avoidance           float64\n",
       "behavioral_outside_home        float64\n",
       "dtype: object"
      ]
     },
     "execution_count": 14,
     "metadata": {},
     "output_type": "execute_result"
    }
   ],
   "source": [
    "# make a new feature h1n1_all for participants who responded yes to all the behavior questions\n",
    "behaviour_columns = [column for column in list(data.columns) if 'behavioral' in column]\n",
    "data[behaviour_columns].dtypes"
   ]
  },
  {
   "cell_type": "code",
   "execution_count": 15,
   "id": "a5a673d6-b5a5-4049-9644-33d0b0a743c3",
   "metadata": {},
   "outputs": [],
   "source": [
    "data['behavioral_all'] = 1\n",
    "\n",
    "for column in behaviour_columns:\n",
    "    data['behavioral_all'] = data['behavioral_all'] * data[column]"
   ]
  },
  {
   "cell_type": "code",
   "execution_count": 16,
   "id": "b10a9ada-dbea-463e-aa3c-8be15d6c00bc",
   "metadata": {},
   "outputs": [
    {
     "data": {
      "text/plain": [
       "opinion_h1n1_vacc_effective    float64\n",
       "opinion_h1n1_risk              float64\n",
       "opinion_seas_risk              float64\n",
       "opinion_seas_vacc_effective    float64\n",
       "dtype: object"
      ]
     },
     "execution_count": 16,
     "metadata": {},
     "output_type": "execute_result"
    }
   ],
   "source": [
    "# make a new feature opinion_all for participants based on their opinion scores to the opinion questions\n",
    "opinion_columns = [column for column in list(data.columns) if 'opinion' in column]\n",
    "data[opinion_columns].dtypes"
   ]
  },
  {
   "cell_type": "code",
   "execution_count": 17,
   "id": "8641d1eb-1849-40f0-9c1e-233927aa56cf",
   "metadata": {},
   "outputs": [],
   "source": [
    "data['opinion_all'] = 1\n",
    "\n",
    "for column in opinion_columns:\n",
    "    data['opinion_all'] = data['opinion_all'] * data[column]"
   ]
  },
  {
   "cell_type": "code",
   "execution_count": 18,
   "id": "e9075fba-8e5f-4c89-9520-b5fc35be62ec",
   "metadata": {},
   "outputs": [
    {
     "data": {
      "text/plain": [
       "Index(['opinion_h1n1_vacc_effective', 'health_insurance', 'opinion_h1n1_risk',\n",
       "       'h1n1_knowledge', 'behavioral_large_gatherings', 'marital_status',\n",
       "       'rent_or_own', 'behavioral_touch_face', 'opinion_seas_risk',\n",
       "       'opinion_seas_vacc_effective', 'education', 'behavioral_avoidance',\n",
       "       'doctor_recc_h1n1', 'behavioral_outside_home', 'household_adults',\n",
       "       'h1n1_vaccine', 'seasonal_vaccine', 'behavioral_all', 'opinion_all'],\n",
       "      dtype='object')"
      ]
     },
     "execution_count": 18,
     "metadata": {},
     "output_type": "execute_result"
    }
   ],
   "source": [
    "data.columns"
   ]
  },
  {
   "cell_type": "markdown",
   "id": "023aee17-8981-4255-bf2f-c58cd86cae9d",
   "metadata": {},
   "source": [
    "**dummify x**"
   ]
  },
  {
   "cell_type": "code",
   "execution_count": 19,
   "id": "532c01f3-83f3-4c51-84bc-aca4cc1fd5fb",
   "metadata": {},
   "outputs": [
    {
     "data": {
      "text/plain": [
       "['health_insurance', 'marital_status', 'rent_or_own', 'education']"
      ]
     },
     "execution_count": 19,
     "metadata": {},
     "output_type": "execute_result"
    }
   ],
   "source": [
    "categorical_columns = list(data.select_dtypes('object').columns)\n",
    "categorical_columns"
   ]
  },
  {
   "cell_type": "code",
   "execution_count": 20,
   "id": "2e0139e3-8067-460e-be7e-44a496cc5fac",
   "metadata": {},
   "outputs": [],
   "source": [
    "X = pd.get_dummies(data=data.drop(columns=['h1n1_vaccine', 'seasonal_vaccine']),\n",
    "                    columns=categorical_columns, drop_first=True)"
   ]
  },
  {
   "cell_type": "markdown",
   "id": "60df8023-a64e-46e5-a464-6e9e9f297adf",
   "metadata": {},
   "source": [
    "**define X and y**"
   ]
  },
  {
   "cell_type": "code",
   "execution_count": 21,
   "id": "9cac8a13-1931-47bd-9a52-f4acb49019e0",
   "metadata": {},
   "outputs": [
    {
     "data": {
      "text/plain": [
       "Index(['opinion_h1n1_vacc_effective', 'opinion_h1n1_risk', 'h1n1_knowledge',\n",
       "       'behavioral_large_gatherings', 'behavioral_touch_face',\n",
       "       'opinion_seas_risk', 'opinion_seas_vacc_effective',\n",
       "       'behavioral_avoidance', 'doctor_recc_h1n1', 'behavioral_outside_home',\n",
       "       'household_adults', 'behavioral_all', 'opinion_all',\n",
       "       'health_insurance_no_response', 'health_insurance_yes',\n",
       "       'marital_status_Not Married', 'marital_status_no_response',\n",
       "       'rent_or_own_Rent', 'rent_or_own_no_response', 'education_< 12 Years',\n",
       "       'education_College Graduate', 'education_Some College',\n",
       "       'education_no_response'],\n",
       "      dtype='object')"
      ]
     },
     "execution_count": 21,
     "metadata": {},
     "output_type": "execute_result"
    }
   ],
   "source": [
    "X.columns"
   ]
  },
  {
   "cell_type": "code",
   "execution_count": 22,
   "id": "460d1bea-e882-4aa7-a86b-1ff25765c0f8",
   "metadata": {},
   "outputs": [],
   "source": [
    "y = data['h1n1_vaccine']"
   ]
  },
  {
   "cell_type": "code",
   "execution_count": 23,
   "id": "48efb0d3-e595-4b0b-b832-54817a8b5dd9",
   "metadata": {},
   "outputs": [],
   "source": [
    "# train test split\n",
    "X_train, X_test, y_train, y_test = train_test_split(X, y, random_state=42, stratify=y)"
   ]
  },
  {
   "cell_type": "code",
   "execution_count": 24,
   "id": "53182f9d-e08f-40cf-bb39-093ca6523b92",
   "metadata": {},
   "outputs": [],
   "source": [
    "# balance classes\n",
    "\n",
    "smo = SMOTE(k_neighbors=7, random_state=42)\n",
    "\n",
    "X_train_over, y_train_over = smo.fit_resample(X_train, y_train)\n"
   ]
  },
  {
   "cell_type": "code",
   "execution_count": 25,
   "id": "bc3eca29-e155-41e2-abe4-f21df9e15698",
   "metadata": {},
   "outputs": [],
   "source": [
    "X_train_over = np.array(X_train_over)\n",
    "X_test = np.array(X_test)"
   ]
  },
  {
   "cell_type": "code",
   "execution_count": 26,
   "id": "05e8bcc2-e92d-48d1-8f1c-8b6e3bb0f072",
   "metadata": {},
   "outputs": [],
   "source": [
    "y_train_over = np.array(y_train_over)\n",
    "y_test = np.array(y_test)"
   ]
  },
  {
   "cell_type": "code",
   "execution_count": 27,
   "id": "5a1c0ab8-a78f-4c88-b161-b55ec2e24369",
   "metadata": {},
   "outputs": [
    {
     "data": {
      "text/plain": [
       "Index(['opinion_h1n1_vacc_effective', 'opinion_h1n1_risk', 'h1n1_knowledge',\n",
       "       'behavioral_large_gatherings', 'behavioral_touch_face',\n",
       "       'opinion_seas_risk', 'opinion_seas_vacc_effective',\n",
       "       'behavioral_avoidance', 'doctor_recc_h1n1', 'behavioral_outside_home',\n",
       "       'household_adults', 'behavioral_all', 'opinion_all',\n",
       "       'health_insurance_no_response', 'health_insurance_yes',\n",
       "       'marital_status_Not Married', 'marital_status_no_response',\n",
       "       'rent_or_own_Rent', 'rent_or_own_no_response', 'education_< 12 Years',\n",
       "       'education_College Graduate', 'education_Some College',\n",
       "       'education_no_response'],\n",
       "      dtype='object')"
      ]
     },
     "execution_count": 27,
     "metadata": {},
     "output_type": "execute_result"
    }
   ],
   "source": [
    "X.columns"
   ]
  },
  {
   "cell_type": "markdown",
   "id": "291c80a2-35de-4dfb-8351-b3ef9fee6f0b",
   "metadata": {},
   "source": [
    "**Run model**"
   ]
  },
  {
   "cell_type": "code",
   "execution_count": 28,
   "id": "e6b373f1-7e1a-4e28-9cc7-e094743caec7",
   "metadata": {},
   "outputs": [
    {
     "data": {
      "text/plain": [
       "XGBClassifier(base_score=0.5, booster='gbtree', colsample_bylevel=1,\n",
       "              colsample_bynode=1, colsample_bytree=0.9,\n",
       "              enable_categorical=False, eval_metric='error', gamma=0, gpu_id=-1,\n",
       "              importance_type=None, interaction_constraints='',\n",
       "              learning_rate=0.05, max_delta_step=0, max_depth=3,\n",
       "              min_child_weight=1, missing=nan, monotone_constraints='()',\n",
       "              n_estimators=600, n_jobs=16, num_parallel_tree=1,\n",
       "              predictor='auto', random_state=42, reg_alpha=0, reg_lambda=1,\n",
       "              scale_pos_weight=1, subsample=1, tree_method='exact',\n",
       "              use_label_encoder=False, validate_parameters=1, verbosity=None)"
      ]
     },
     "execution_count": 28,
     "metadata": {},
     "output_type": "execute_result"
    }
   ],
   "source": [
    "xgb_best = xgb.XGBClassifier(random_state=42,\n",
    "                             use_label_encoder=False,\n",
    "                             eval_metric='error',\n",
    "                             booster='gbtree',\n",
    "                             colsample_bytree=0.9,\n",
    "                             learning_rate=0.05,\n",
    "                             max_depth=3,\n",
    "                             n_estimators=600,\n",
    "                             subsample=1)\n",
    "xgb_best.fit(X_train_over, y_train_over)"
   ]
  },
  {
   "cell_type": "code",
   "execution_count": 29,
   "id": "1e66b1f6-4ec9-48bc-8996-8bfaad69a51c",
   "metadata": {},
   "outputs": [
    {
     "name": "stderr",
     "output_type": "stream",
     "text": [
      "C:\\ProgramData\\Anaconda3\\envs\\xgboost\\lib\\site-packages\\xgboost\\data.py:262: FutureWarning: pandas.Int64Index is deprecated and will be removed from pandas in a future version. Use pandas.Index with the appropriate dtype instead.\n",
      "  elif isinstance(data.columns, (pd.Int64Index, pd.RangeIndex)):\n"
     ]
    }
   ],
   "source": [
    "test_pred = xgb_best.predict(X_test)\n",
    "train_pred = xgb_best.predict(X_train)"
   ]
  },
  {
   "cell_type": "code",
   "execution_count": 30,
   "id": "6d7f7b88-5478-4acd-9af8-d1188d368ee8",
   "metadata": {},
   "outputs": [
    {
     "data": {
      "text/plain": [
       "<sklearn.metrics._plot.confusion_matrix.ConfusionMatrixDisplay at 0x212342e7100>"
      ]
     },
     "execution_count": 30,
     "metadata": {},
     "output_type": "execute_result"
    },
    {
     "data": {
      "image/png": "[encoded data removed]",
      "text/plain": [
       "<Figure size 432x288 with 2 Axes>"
      ]
     },
     "metadata": {
      "needs_background": "light"
     },
     "output_type": "display_data"
    }
   ],
   "source": [
    "ConfusionMatrixDisplay.from_predictions(y_test, test_pred, display_labels=['Vaccinated', 'Unvaccinated'])"
   ]
  },
  {
   "cell_type": "code",
   "execution_count": 31,
   "id": "7bbf22fc-f001-43e8-b6f6-2eb071ceafb8",
   "metadata": {},
   "outputs": [
    {
     "data": {
      "text/plain": [
       "(0.8395986221356897, 0.843884173739391)"
      ]
     },
     "execution_count": 31,
     "metadata": {},
     "output_type": "execute_result"
    }
   ],
   "source": [
    "accuracy_score(y_test, test_pred), accuracy_score(y_train, train_pred)"
   ]
  },
  {
   "cell_type": "code",
   "execution_count": 32,
   "id": "ec3c3b20-bb13-45f3-acf6-b75b0de18e17",
   "metadata": {},
   "outputs": [
    {
     "data": {
      "text/plain": [
       "0.8866112650046168"
      ]
     },
     "execution_count": 32,
     "metadata": {},
     "output_type": "execute_result"
    }
   ],
   "source": [
    "precision_score(y_test, test_pred)"
   ]
  },
  {
   "cell_type": "code",
   "execution_count": 33,
   "id": "344438b5-b6b9-4732-b405-2f842ac39b73",
   "metadata": {},
   "outputs": [
    {
     "data": {
      "text/plain": [
       "0.9130848231266642"
      ]
     },
     "execution_count": 33,
     "metadata": {},
     "output_type": "execute_result"
    }
   ],
   "source": [
    "recall_score(y_test, test_pred)"
   ]
  },
  {
   "cell_type": "code",
   "execution_count": 34,
   "id": "266af8c1-0f28-43e2-a249-ee40bc5b255d",
   "metadata": {},
   "outputs": [
    {
     "data": {
      "text/plain": [
       "0.740192869632395"
      ]
     },
     "execution_count": 34,
     "metadata": {},
     "output_type": "execute_result"
    }
   ],
   "source": [
    "roc_auc_score(y_test, test_pred)"
   ]
  },
  {
   "cell_type": "code",
   "execution_count": 35,
   "id": "e5128ab0-83c7-4bd1-81ba-87d2be8eea0f",
   "metadata": {},
   "outputs": [
    {
     "data": {
      "text/plain": [
       "0.7401928696323947"
      ]
     },
     "execution_count": 35,
     "metadata": {},
     "output_type": "execute_result"
    }
   ],
   "source": [
    "balanced_accuracy_score(y_test, test_pred)"
   ]
  },
  {
   "cell_type": "markdown",
   "id": "e3f6ab93-7e52-4a1d-981c-92aef2fba815",
   "metadata": {},
   "source": [
    "Model|Accuracy|Precision|Recall|AUC|\n",
    "-----|--------|---------|------|---|\n",
    "LR feat.engg + SMOTE|0.817|0.899|0.865|0.753|\n",
    "LR feat as is + SMOTE|0.824|0.901|0.873|0.759|\n",
    "LR feat as is|0.851|0.876|0.944|0.725|\n",
    "XGB feat.engg + SMOTE|0.839|0.886|0.913|0.740|\n",
    "XGB feat as is + SMOTE|0.839|0.886|0.913|0.739|\n",
    "XGB feat. as is|0.847|0.871|0.945|0.714|"
   ]
  },
  {
   "cell_type": "markdown",
   "id": "d02831f5-51b8-4a66-83ce-3422d69a637a",
   "metadata": {
    "tags": []
   },
   "source": [
    "### Using top features from XGBoost, without feature engineering, but with SMOTE"
   ]
  },
  {
   "cell_type": "code",
   "execution_count": 50,
   "id": "5791f3b2-0a89-4adf-951e-be7f754be14b",
   "metadata": {},
   "outputs": [],
   "source": [
    "# import data\n",
    "data = pd.read_csv('../data/train_clean.csv')"
   ]
  },
  {
   "cell_type": "code",
   "execution_count": 51,
   "id": "c73b8def-8d9f-42fd-9fce-a199ddd33e6e",
   "metadata": {},
   "outputs": [
    {
     "data": {
      "text/plain": [
       "Index(['respondent_id', 'h1n1_concern', 'h1n1_knowledge',\n",
       "       'behavioral_antiviral_meds', 'behavioral_avoidance',\n",
       "       'behavioral_face_mask', 'behavioral_wash_hands',\n",
       "       'behavioral_large_gatherings', 'behavioral_outside_home',\n",
       "       'behavioral_touch_face', 'doctor_recc_h1n1', 'doctor_recc_seasonal',\n",
       "       'chronic_med_condition', 'child_under_6_months', 'health_worker',\n",
       "       'health_insurance', 'opinion_h1n1_vacc_effective', 'opinion_h1n1_risk',\n",
       "       'opinion_h1n1_sick_from_vacc', 'opinion_seas_vacc_effective',\n",
       "       'opinion_seas_risk', 'opinion_seas_sick_from_vacc', 'age_group',\n",
       "       'education', 'race', 'sex', 'income_poverty', 'marital_status',\n",
       "       'rent_or_own', 'employment_status', 'hhs_geo_region', 'census_msa',\n",
       "       'household_adults', 'household_children', 'employment_industry',\n",
       "       'employment_occupation', 'h1n1_vaccine', 'seasonal_vaccine'],\n",
       "      dtype='object')"
      ]
     },
     "execution_count": 51,
     "metadata": {},
     "output_type": "execute_result"
    }
   ],
   "source": [
    "data.columns"
   ]
  },
  {
   "cell_type": "code",
   "execution_count": 52,
   "id": "dab19daa-20e6-45ba-92f0-2013ca3495b7",
   "metadata": {},
   "outputs": [
    {
     "data": {
      "text/plain": [
       "0    0.787546\n",
       "1    0.212454\n",
       "Name: h1n1_vaccine, dtype: float64"
      ]
     },
     "execution_count": 52,
     "metadata": {},
     "output_type": "execute_result"
    }
   ],
   "source": [
    "data['h1n1_vaccine'].value_counts(normalize=True)"
   ]
  },
  {
   "cell_type": "code",
   "execution_count": 53,
   "id": "784adfcb-74d0-4823-98ba-35ef575fe31c",
   "metadata": {},
   "outputs": [
    {
     "data": {
      "text/plain": [
       "0    0.534392\n",
       "1    0.465608\n",
       "Name: seasonal_vaccine, dtype: float64"
      ]
     },
     "execution_count": 53,
     "metadata": {},
     "output_type": "execute_result"
    }
   ],
   "source": [
    "data['seasonal_vaccine'].value_counts(normalize=True)"
   ]
  },
  {
   "cell_type": "code",
   "execution_count": 54,
   "id": "a13ecd8c-629e-4d64-bfef-a5a1436e117a",
   "metadata": {
    "tags": []
   },
   "outputs": [
    {
     "data": {
      "text/plain": [
       "1    14272\n",
       "0    12435\n",
       "Name: seasonal_vaccine, dtype: int64"
      ]
     },
     "execution_count": 54,
     "metadata": {},
     "output_type": "execute_result"
    }
   ],
   "source": [
    "# since we're interested in the people who did not get vaccinated: switch 0 and 1 labels\n",
    "data['h1n1_vaccine'].replace({1:0, 0:1}, inplace=True)\n",
    "data['h1n1_vaccine'].value_counts()\n",
    "\n",
    "data['seasonal_vaccine'].replace({1:0, 0:1}, inplace=True)\n",
    "data['seasonal_vaccine'].value_counts()"
   ]
  },
  {
   "cell_type": "code",
   "execution_count": 55,
   "id": "77bf8c0f-9125-46f2-94bf-77c5a6239681",
   "metadata": {},
   "outputs": [],
   "source": [
    "features_to_use = pd.read_csv('../data/XGB_H1N1_feature_imp.csv')"
   ]
  },
  {
   "cell_type": "code",
   "execution_count": 56,
   "id": "a5837ee5-7ead-4521-8c2b-66c3f66cb2a9",
   "metadata": {},
   "outputs": [
    {
     "data": {
      "text/plain": [
       "['opinion_h1n1_vacc_effective',\n",
       " 'health_insurance',\n",
       " 'opinion_h1n1_risk',\n",
       " 'h1n1_knowledge',\n",
       " 'behavioral_large_gatherings',\n",
       " 'marital_status',\n",
       " 'rent_or_own',\n",
       " 'behavioral_touch_face',\n",
       " 'opinion_seas_risk',\n",
       " 'opinion_seas_vacc_effective',\n",
       " 'education',\n",
       " 'behavioral_avoidance',\n",
       " 'doctor_recc_h1n1',\n",
       " 'behavioral_outside_home',\n",
       " 'household_adults',\n",
       " 'h1n1_vaccine',\n",
       " 'seasonal_vaccine']"
      ]
     },
     "execution_count": 56,
     "metadata": {},
     "output_type": "execute_result"
    }
   ],
   "source": [
    "features = list(features_to_use['feature'])\n",
    "features.append('h1n1_vaccine')\n",
    "features.append('seasonal_vaccine')\n",
    "features"
   ]
  },
  {
   "cell_type": "code",
   "execution_count": 57,
   "id": "8c6f17e5-1feb-4709-8394-7d22e390095f",
   "metadata": {},
   "outputs": [],
   "source": [
    "data = data[features]"
   ]
  },
  {
   "cell_type": "code",
   "execution_count": 58,
   "id": "0f97f931-0495-4f1e-be67-df132c066e79",
   "metadata": {},
   "outputs": [
    {
     "data": {
      "text/plain": [
       "Index(['opinion_h1n1_vacc_effective', 'health_insurance', 'opinion_h1n1_risk',\n",
       "       'h1n1_knowledge', 'behavioral_large_gatherings', 'marital_status',\n",
       "       'rent_or_own', 'behavioral_touch_face', 'opinion_seas_risk',\n",
       "       'opinion_seas_vacc_effective', 'education', 'behavioral_avoidance',\n",
       "       'doctor_recc_h1n1', 'behavioral_outside_home', 'household_adults',\n",
       "       'h1n1_vaccine', 'seasonal_vaccine'],\n",
       "      dtype='object')"
      ]
     },
     "execution_count": 58,
     "metadata": {},
     "output_type": "execute_result"
    }
   ],
   "source": [
    "data.columns"
   ]
  },
  {
   "cell_type": "markdown",
   "id": "e2d9a7d7-a6fa-402c-bd42-27e631bddc81",
   "metadata": {},
   "source": [
    "**dummify x**"
   ]
  },
  {
   "cell_type": "code",
   "execution_count": 59,
   "id": "c29d8ab3-6cc3-40b6-8526-162c6c368319",
   "metadata": {},
   "outputs": [
    {
     "data": {
      "text/plain": [
       "['health_insurance',\n",
       " 'marital_status',\n",
       " 'rent_or_own',\n",
       " 'education',\n",
       " 'doctor_recc_h1n1']"
      ]
     },
     "execution_count": 59,
     "metadata": {},
     "output_type": "execute_result"
    }
   ],
   "source": [
    "categorical_columns = list(data.select_dtypes('object').columns)\n",
    "categorical_columns"
   ]
  },
  {
   "cell_type": "code",
   "execution_count": 60,
   "id": "d7e30374-80cf-4420-b2fb-2dbd552856d5",
   "metadata": {},
   "outputs": [],
   "source": [
    "X = pd.get_dummies(data=data.drop(columns=['h1n1_vaccine', 'seasonal_vaccine']),\n",
    "                    columns=categorical_columns, drop_first=True)"
   ]
  },
  {
   "cell_type": "markdown",
   "id": "285d4de7-e589-4083-8050-c37e2bb4c90a",
   "metadata": {},
   "source": [
    "**define X and y**"
   ]
  },
  {
   "cell_type": "code",
   "execution_count": 61,
   "id": "0ad5c933-6aac-4c68-a541-7c4b0330f55f",
   "metadata": {},
   "outputs": [
    {
     "data": {
      "text/plain": [
       "Index(['opinion_h1n1_vacc_effective', 'opinion_h1n1_risk', 'h1n1_knowledge',\n",
       "       'behavioral_large_gatherings', 'behavioral_touch_face',\n",
       "       'opinion_seas_risk', 'opinion_seas_vacc_effective',\n",
       "       'behavioral_avoidance', 'behavioral_outside_home', 'household_adults',\n",
       "       'health_insurance_no_response', 'health_insurance_yes',\n",
       "       'marital_status_Not Married', 'marital_status_no_response',\n",
       "       'rent_or_own_Rent', 'rent_or_own_no_response', 'education_< 12 Years',\n",
       "       'education_College Graduate', 'education_Some College',\n",
       "       'education_no_response', 'doctor_recc_h1n1_1.0',\n",
       "       'doctor_recc_h1n1_no_response'],\n",
       "      dtype='object')"
      ]
     },
     "execution_count": 61,
     "metadata": {},
     "output_type": "execute_result"
    }
   ],
   "source": [
    "X.columns"
   ]
  },
  {
   "cell_type": "code",
   "execution_count": 62,
   "id": "ae6267f3-d803-4bf8-a60f-8df04867932c",
   "metadata": {},
   "outputs": [],
   "source": [
    "y = data['h1n1_vaccine']"
   ]
  },
  {
   "cell_type": "code",
   "execution_count": 63,
   "id": "313a74ad-a238-408c-a92a-a9daad2d8a46",
   "metadata": {},
   "outputs": [],
   "source": [
    "# train test split\n",
    "X_train, X_test, y_train, y_test = train_test_split(X, y, random_state=42, stratify=y)"
   ]
  },
  {
   "cell_type": "code",
   "execution_count": 64,
   "id": "a45baf9e-d758-4b50-be07-dc49f6db57e2",
   "metadata": {},
   "outputs": [],
   "source": [
    "# balance classes\n",
    "\n",
    "smo = SMOTE(k_neighbors=7, random_state=42)\n",
    "\n",
    "X_train_over, y_train_over = smo.fit_resample(X_train, y_train)\n"
   ]
  },
  {
   "cell_type": "code",
   "execution_count": 65,
   "id": "ac4aac48-7586-45ab-803e-9f4d495173f7",
   "metadata": {},
   "outputs": [],
   "source": [
    "X_train_over = np.array(X_train_over)\n",
    "X_test = np.array(X_test)"
   ]
  },
  {
   "cell_type": "code",
   "execution_count": 66,
   "id": "037b385c-aa60-44bc-87c1-230fc14980c7",
   "metadata": {},
   "outputs": [],
   "source": [
    "y_train_over = np.array(y_train_over)\n",
    "y_test = np.array(y_test)"
   ]
  },
  {
   "cell_type": "code",
   "execution_count": 67,
   "id": "880b97e4-8244-405b-ba53-f8ce4de234cf",
   "metadata": {},
   "outputs": [
    {
     "data": {
      "text/plain": [
       "Index(['opinion_h1n1_vacc_effective', 'opinion_h1n1_risk', 'h1n1_knowledge',\n",
       "       'behavioral_large_gatherings', 'behavioral_touch_face',\n",
       "       'opinion_seas_risk', 'opinion_seas_vacc_effective',\n",
       "       'behavioral_avoidance', 'behavioral_outside_home', 'household_adults',\n",
       "       'health_insurance_no_response', 'health_insurance_yes',\n",
       "       'marital_status_Not Married', 'marital_status_no_response',\n",
       "       'rent_or_own_Rent', 'rent_or_own_no_response', 'education_< 12 Years',\n",
       "       'education_College Graduate', 'education_Some College',\n",
       "       'education_no_response', 'doctor_recc_h1n1_1.0',\n",
       "       'doctor_recc_h1n1_no_response'],\n",
       "      dtype='object')"
      ]
     },
     "execution_count": 67,
     "metadata": {},
     "output_type": "execute_result"
    }
   ],
   "source": [
    "X.columns"
   ]
  },
  {
   "cell_type": "markdown",
   "id": "16ef8088-7a73-414b-aa3a-4e13d89256b5",
   "metadata": {},
   "source": [
    "**Run model**"
   ]
  },
  {
   "cell_type": "code",
   "execution_count": 68,
   "id": "7f12099b-2a7b-406d-b351-d0c37fbb6868",
   "metadata": {},
   "outputs": [
    {
     "data": {
      "text/plain": [
       "XGBClassifier(base_score=0.5, booster='gbtree', colsample_bylevel=1,\n",
       "              colsample_bynode=1, colsample_bytree=0.9,\n",
       "              enable_categorical=False, eval_metric='error', gamma=0, gpu_id=-1,\n",
       "              importance_type=None, interaction_constraints='',\n",
       "              learning_rate=0.05, max_delta_step=0, max_depth=3,\n",
       "              min_child_weight=1, missing=nan, monotone_constraints='()',\n",
       "              n_estimators=600, n_jobs=16, num_parallel_tree=1,\n",
       "              predictor='auto', random_state=42, reg_alpha=0, reg_lambda=1,\n",
       "              scale_pos_weight=1, subsample=1, tree_method='exact',\n",
       "              use_label_encoder=False, validate_parameters=1, verbosity=None)"
      ]
     },
     "execution_count": 68,
     "metadata": {},
     "output_type": "execute_result"
    }
   ],
   "source": [
    "xgb_best = xgb.XGBClassifier(random_state=42,\n",
    "                             use_label_encoder=False,\n",
    "                             eval_metric='error',\n",
    "                             booster='gbtree',\n",
    "                             colsample_bytree=0.9,\n",
    "                             learning_rate=0.05,\n",
    "                             max_depth=3,\n",
    "                             n_estimators=600,\n",
    "                             subsample=1)\n",
    "xgb_best.fit(X_train_over, y_train_over)"
   ]
  },
  {
   "cell_type": "code",
   "execution_count": 69,
   "id": "3cd270d6-12cf-497b-b9de-e4132713616b",
   "metadata": {},
   "outputs": [
    {
     "name": "stderr",
     "output_type": "stream",
     "text": [
      "C:\\ProgramData\\Anaconda3\\envs\\xgboost\\lib\\site-packages\\xgboost\\data.py:262: FutureWarning: pandas.Int64Index is deprecated and will be removed from pandas in a future version. Use pandas.Index with the appropriate dtype instead.\n",
      "  elif isinstance(data.columns, (pd.Int64Index, pd.RangeIndex)):\n"
     ]
    }
   ],
   "source": [
    "test_pred = xgb_best.predict(X_test)\n",
    "train_pred = xgb_best.predict(X_train)"
   ]
  },
  {
   "cell_type": "code",
   "execution_count": 70,
   "id": "8b614717-0fc6-416d-8883-c8b7057b9319",
   "metadata": {},
   "outputs": [
    {
     "data": {
      "text/plain": [
       "<sklearn.metrics._plot.confusion_matrix.ConfusionMatrixDisplay at 0x212342e6ec0>"
      ]
     },
     "execution_count": 70,
     "metadata": {},
     "output_type": "execute_result"
    },
    {
     "data": {
      "image/png": "[encoded data removed]",
      "text/plain": [
       "<Figure size 432x288 with 2 Axes>"
      ]
     },
     "metadata": {
      "needs_background": "light"
     },
     "output_type": "display_data"
    }
   ],
   "source": [
    "ConfusionMatrixDisplay.from_predictions(y_test, test_pred, display_labels=['Vaccinated', 'Unvaccinated'])"
   ]
  },
  {
   "cell_type": "code",
   "execution_count": 71,
   "id": "fec1db63-804d-47a4-a359-74ffb201be3f",
   "metadata": {},
   "outputs": [
    {
     "data": {
      "text/plain": [
       "(0.8388497828366033, 0.844882675986021)"
      ]
     },
     "execution_count": 71,
     "metadata": {},
     "output_type": "execute_result"
    }
   ],
   "source": [
    "accuracy_score(y_test, test_pred), accuracy_score(y_train, train_pred)"
   ]
  },
  {
   "cell_type": "code",
   "execution_count": 72,
   "id": "ca2cda78-5aea-443c-aa42-2866d89ba4ac",
   "metadata": {},
   "outputs": [
    {
     "data": {
      "text/plain": [
       "0.8859357696566998"
      ]
     },
     "execution_count": 72,
     "metadata": {},
     "output_type": "execute_result"
    }
   ],
   "source": [
    "precision_score(y_test, test_pred)"
   ]
  },
  {
   "cell_type": "code",
   "execution_count": 73,
   "id": "4afb171f-0529-4127-aa09-568aec86d83d",
   "metadata": {},
   "outputs": [
    {
     "data": {
      "text/plain": [
       "0.9128946367440092"
      ]
     },
     "execution_count": 73,
     "metadata": {},
     "output_type": "execute_result"
    }
   ],
   "source": [
    "recall_score(y_test, test_pred)"
   ]
  },
  {
   "cell_type": "code",
   "execution_count": 74,
   "id": "526bcc74-9d43-43b6-af67-54ca5555512c",
   "metadata": {},
   "outputs": [
    {
     "data": {
      "text/plain": [
       "0.7386883331711589"
      ]
     },
     "execution_count": 74,
     "metadata": {},
     "output_type": "execute_result"
    }
   ],
   "source": [
    "roc_auc_score(y_test, test_pred)"
   ]
  },
  {
   "cell_type": "code",
   "execution_count": 75,
   "id": "b52105cb-8c73-4362-a3ad-05184a18434c",
   "metadata": {},
   "outputs": [
    {
     "data": {
      "text/plain": [
       "0.7386883331711589"
      ]
     },
     "execution_count": 75,
     "metadata": {},
     "output_type": "execute_result"
    }
   ],
   "source": [
    "balanced_accuracy_score(y_test, test_pred)"
   ]
  },
  {
   "cell_type": "markdown",
   "id": "4e5adf4c-4774-4cd5-b6f1-79c0661ca90c",
   "metadata": {},
   "source": [
    "Model|Accuracy|Precision|Recall|AUC|\n",
    "-----|--------|---------|------|---|\n",
    "LR feat.engg + SMOTE|0.817|0.899|0.865|0.753|\n",
    "LR feat as is + SMOTE|0.824|0.901|0.873|0.759|\n",
    "LR feat as is|0.851|0.876|0.944|0.725|\n",
    "XGB feat.engg + SMOTE|0.830|0.880|0.91|0.74|\n",
    "XGB feat as is + SMOTE|0.839|0.886|0.913|0.739|"
   ]
  },
  {
   "cell_type": "markdown",
   "id": "f0bf2549-4a3b-4d4e-9fd7-76dea9875cdd",
   "metadata": {},
   "source": [
    "### Using top features from XGBoost without feature engineering or smote"
   ]
  },
  {
   "cell_type": "code",
   "execution_count": 76,
   "id": "20c93ed1-f400-4806-bb8c-fdf6488d7e63",
   "metadata": {},
   "outputs": [],
   "source": [
    "# import data\n",
    "data = pd.read_csv('../data/train_clean.csv')"
   ]
  },
  {
   "cell_type": "code",
   "execution_count": 77,
   "id": "6f7e2ead-9b07-441e-8e9c-ceabdadb9be4",
   "metadata": {},
   "outputs": [
    {
     "data": {
      "text/plain": [
       "Index(['respondent_id', 'h1n1_concern', 'h1n1_knowledge',\n",
       "       'behavioral_antiviral_meds', 'behavioral_avoidance',\n",
       "       'behavioral_face_mask', 'behavioral_wash_hands',\n",
       "       'behavioral_large_gatherings', 'behavioral_outside_home',\n",
       "       'behavioral_touch_face', 'doctor_recc_h1n1', 'doctor_recc_seasonal',\n",
       "       'chronic_med_condition', 'child_under_6_months', 'health_worker',\n",
       "       'health_insurance', 'opinion_h1n1_vacc_effective', 'opinion_h1n1_risk',\n",
       "       'opinion_h1n1_sick_from_vacc', 'opinion_seas_vacc_effective',\n",
       "       'opinion_seas_risk', 'opinion_seas_sick_from_vacc', 'age_group',\n",
       "       'education', 'race', 'sex', 'income_poverty', 'marital_status',\n",
       "       'rent_or_own', 'employment_status', 'hhs_geo_region', 'census_msa',\n",
       "       'household_adults', 'household_children', 'employment_industry',\n",
       "       'employment_occupation', 'h1n1_vaccine', 'seasonal_vaccine'],\n",
       "      dtype='object')"
      ]
     },
     "execution_count": 77,
     "metadata": {},
     "output_type": "execute_result"
    }
   ],
   "source": [
    "data.columns"
   ]
  },
  {
   "cell_type": "code",
   "execution_count": 78,
   "id": "52f56232-883c-48cd-a2b5-88afbf81c923",
   "metadata": {},
   "outputs": [
    {
     "data": {
      "text/plain": [
       "0    0.787546\n",
       "1    0.212454\n",
       "Name: h1n1_vaccine, dtype: float64"
      ]
     },
     "execution_count": 78,
     "metadata": {},
     "output_type": "execute_result"
    }
   ],
   "source": [
    "data['h1n1_vaccine'].value_counts(normalize=True)"
   ]
  },
  {
   "cell_type": "code",
   "execution_count": 79,
   "id": "137c7831-8507-4433-9679-1de602788caa",
   "metadata": {},
   "outputs": [
    {
     "data": {
      "text/plain": [
       "0    0.534392\n",
       "1    0.465608\n",
       "Name: seasonal_vaccine, dtype: float64"
      ]
     },
     "execution_count": 79,
     "metadata": {},
     "output_type": "execute_result"
    }
   ],
   "source": [
    "data['seasonal_vaccine'].value_counts(normalize=True)"
   ]
  },
  {
   "cell_type": "code",
   "execution_count": 80,
   "id": "62863629-110c-4c71-bf0f-ff790168dcf7",
   "metadata": {
    "tags": []
   },
   "outputs": [
    {
     "data": {
      "text/plain": [
       "1    14272\n",
       "0    12435\n",
       "Name: seasonal_vaccine, dtype: int64"
      ]
     },
     "execution_count": 80,
     "metadata": {},
     "output_type": "execute_result"
    }
   ],
   "source": [
    "# since we're interested in the people who did not get vaccinated: switch 0 and 1 labels\n",
    "data['h1n1_vaccine'].replace({1:0, 0:1}, inplace=True)\n",
    "data['h1n1_vaccine'].value_counts()\n",
    "\n",
    "data['seasonal_vaccine'].replace({1:0, 0:1}, inplace=True)\n",
    "data['seasonal_vaccine'].value_counts()"
   ]
  },
  {
   "cell_type": "code",
   "execution_count": 81,
   "id": "3d3e8ee6-0c2e-40b6-a52d-67c7eddd5ede",
   "metadata": {},
   "outputs": [],
   "source": [
    "features_to_use = pd.read_csv('../data/XGB_H1N1_feature_imp.csv')"
   ]
  },
  {
   "cell_type": "code",
   "execution_count": 82,
   "id": "3a364523-30db-4fe0-9d53-413ad61781b7",
   "metadata": {},
   "outputs": [
    {
     "data": {
      "text/plain": [
       "['opinion_h1n1_vacc_effective',\n",
       " 'health_insurance',\n",
       " 'opinion_h1n1_risk',\n",
       " 'h1n1_knowledge',\n",
       " 'behavioral_large_gatherings',\n",
       " 'marital_status',\n",
       " 'rent_or_own',\n",
       " 'behavioral_touch_face',\n",
       " 'opinion_seas_risk',\n",
       " 'opinion_seas_vacc_effective',\n",
       " 'education',\n",
       " 'behavioral_avoidance',\n",
       " 'doctor_recc_h1n1',\n",
       " 'behavioral_outside_home',\n",
       " 'household_adults',\n",
       " 'h1n1_vaccine',\n",
       " 'seasonal_vaccine']"
      ]
     },
     "execution_count": 82,
     "metadata": {},
     "output_type": "execute_result"
    }
   ],
   "source": [
    "features = list(features_to_use['feature'])\n",
    "features.append('h1n1_vaccine')\n",
    "features.append('seasonal_vaccine')\n",
    "features"
   ]
  },
  {
   "cell_type": "code",
   "execution_count": 83,
   "id": "16604774-a1e0-4f26-8141-5673c9aaf7cf",
   "metadata": {},
   "outputs": [],
   "source": [
    "data = data[features]"
   ]
  },
  {
   "cell_type": "code",
   "execution_count": 84,
   "id": "c4b606c2-75f0-4d3f-a961-51fe334eb1e9",
   "metadata": {},
   "outputs": [
    {
     "data": {
      "text/plain": [
       "Index(['opinion_h1n1_vacc_effective', 'health_insurance', 'opinion_h1n1_risk',\n",
       "       'h1n1_knowledge', 'behavioral_large_gatherings', 'marital_status',\n",
       "       'rent_or_own', 'behavioral_touch_face', 'opinion_seas_risk',\n",
       "       'opinion_seas_vacc_effective', 'education', 'behavioral_avoidance',\n",
       "       'doctor_recc_h1n1', 'behavioral_outside_home', 'household_adults',\n",
       "       'h1n1_vaccine', 'seasonal_vaccine'],\n",
       "      dtype='object')"
      ]
     },
     "execution_count": 84,
     "metadata": {},
     "output_type": "execute_result"
    }
   ],
   "source": [
    "data.columns"
   ]
  },
  {
   "cell_type": "markdown",
   "id": "4c3ef042-c04d-424b-8016-56d3a91a8d98",
   "metadata": {},
   "source": [
    "**dummify x**"
   ]
  },
  {
   "cell_type": "code",
   "execution_count": 85,
   "id": "11bba5e3-1564-4860-8a6c-d770e55fcfe7",
   "metadata": {},
   "outputs": [
    {
     "data": {
      "text/plain": [
       "['health_insurance',\n",
       " 'marital_status',\n",
       " 'rent_or_own',\n",
       " 'education',\n",
       " 'doctor_recc_h1n1']"
      ]
     },
     "execution_count": 85,
     "metadata": {},
     "output_type": "execute_result"
    }
   ],
   "source": [
    "categorical_columns = list(data.select_dtypes('object').columns)\n",
    "categorical_columns"
   ]
  },
  {
   "cell_type": "code",
   "execution_count": 86,
   "id": "5045e9fb-4a10-41c4-879a-ce9300e66347",
   "metadata": {},
   "outputs": [],
   "source": [
    "X = pd.get_dummies(data=data.drop(columns=['h1n1_vaccine', 'seasonal_vaccine']),\n",
    "                    columns=categorical_columns, drop_first=True)"
   ]
  },
  {
   "cell_type": "markdown",
   "id": "019a1e01-3d1c-4c87-a519-e13fa9c03cfb",
   "metadata": {},
   "source": [
    "**define X and y**"
   ]
  },
  {
   "cell_type": "code",
   "execution_count": 87,
   "id": "2e2992d8-8d73-4da9-b73a-a4f2ea0d1569",
   "metadata": {},
   "outputs": [
    {
     "data": {
      "text/plain": [
       "Index(['opinion_h1n1_vacc_effective', 'opinion_h1n1_risk', 'h1n1_knowledge',\n",
       "       'behavioral_large_gatherings', 'behavioral_touch_face',\n",
       "       'opinion_seas_risk', 'opinion_seas_vacc_effective',\n",
       "       'behavioral_avoidance', 'behavioral_outside_home', 'household_adults',\n",
       "       'health_insurance_no_response', 'health_insurance_yes',\n",
       "       'marital_status_Not Married', 'marital_status_no_response',\n",
       "       'rent_or_own_Rent', 'rent_or_own_no_response', 'education_< 12 Years',\n",
       "       'education_College Graduate', 'education_Some College',\n",
       "       'education_no_response', 'doctor_recc_h1n1_1.0',\n",
       "       'doctor_recc_h1n1_no_response'],\n",
       "      dtype='object')"
      ]
     },
     "execution_count": 87,
     "metadata": {},
     "output_type": "execute_result"
    }
   ],
   "source": [
    "X.columns"
   ]
  },
  {
   "cell_type": "code",
   "execution_count": 88,
   "id": "909da0a4-ce7e-49b1-b13a-86dcbdc78264",
   "metadata": {},
   "outputs": [],
   "source": [
    "y = data['h1n1_vaccine']"
   ]
  },
  {
   "cell_type": "code",
   "execution_count": 89,
   "id": "104b7284-5a2d-4f5b-b6b0-d856822f9dc5",
   "metadata": {},
   "outputs": [],
   "source": [
    "# train test split\n",
    "X_train, X_test, y_train, y_test = train_test_split(X, y, random_state=42, stratify=y)"
   ]
  },
  {
   "cell_type": "code",
   "execution_count": 90,
   "id": "f9a91836-77ab-4ef7-94ec-39e1be193fb2",
   "metadata": {},
   "outputs": [],
   "source": [
    "X_train = np.array(X_train)\n",
    "X_test = np.array(X_test)"
   ]
  },
  {
   "cell_type": "code",
   "execution_count": 91,
   "id": "975f81de-912b-4929-9a66-195b38127551",
   "metadata": {},
   "outputs": [],
   "source": [
    "y_train = np.array(y_train)\n",
    "y_test = np.array(y_test)"
   ]
  },
  {
   "cell_type": "markdown",
   "id": "5aa7b0fe-a3aa-4427-9ddd-c91117876e20",
   "metadata": {},
   "source": [
    "**Run model**"
   ]
  },
  {
   "cell_type": "code",
   "execution_count": 92,
   "id": "d136f3ee-c9f2-4f16-9bea-8360552af4c3",
   "metadata": {},
   "outputs": [
    {
     "data": {
      "text/plain": [
       "XGBClassifier(base_score=0.5, booster='gbtree', colsample_bylevel=1,\n",
       "              colsample_bynode=1, colsample_bytree=0.9,\n",
       "              enable_categorical=False, eval_metric='error', gamma=0, gpu_id=-1,\n",
       "              importance_type=None, interaction_constraints='',\n",
       "              learning_rate=0.05, max_delta_step=0, max_depth=3,\n",
       "              min_child_weight=1, missing=nan, monotone_constraints='()',\n",
       "              n_estimators=600, n_jobs=16, num_parallel_tree=1,\n",
       "              predictor='auto', random_state=42, reg_alpha=0, reg_lambda=1,\n",
       "              scale_pos_weight=1, subsample=1, tree_method='exact',\n",
       "              use_label_encoder=False, validate_parameters=1, verbosity=None)"
      ]
     },
     "execution_count": 92,
     "metadata": {},
     "output_type": "execute_result"
    }
   ],
   "source": [
    "xgb_best = xgb.XGBClassifier(random_state=42,\n",
    "                             use_label_encoder=False,\n",
    "                             eval_metric='error',\n",
    "                             booster='gbtree',\n",
    "                             colsample_bytree=0.9,\n",
    "                             learning_rate=0.05,\n",
    "                             max_depth=3,\n",
    "                             n_estimators=600,\n",
    "                             subsample=1)\n",
    "xgb_best.fit(X_train, y_train)"
   ]
  },
  {
   "cell_type": "code",
   "execution_count": 93,
   "id": "0f2183a1-bfe1-4e20-8bcb-5784653addea",
   "metadata": {},
   "outputs": [],
   "source": [
    "test_pred = xgb_best.predict(X_test)\n",
    "train_pred = xgb_best.predict(X_train)"
   ]
  },
  {
   "cell_type": "code",
   "execution_count": 94,
   "id": "588ed15f-c63c-40f0-8cba-274ccb3e1572",
   "metadata": {},
   "outputs": [
    {
     "data": {
      "text/plain": [
       "<sklearn.metrics._plot.confusion_matrix.ConfusionMatrixDisplay at 0x212367bc9a0>"
      ]
     },
     "execution_count": 94,
     "metadata": {},
     "output_type": "execute_result"
    },
    {
     "data": {
      "image/png": "[encoded data removed]",
      "text/plain": [
       "<Figure size 432x288 with 2 Axes>"
      ]
     },
     "metadata": {
      "needs_background": "light"
     },
     "output_type": "display_data"
    }
   ],
   "source": [
    "ConfusionMatrixDisplay.from_predictions(y_test, test_pred, display_labels=['Vaccinated', 'Unvaccinated'])"
   ]
  },
  {
   "cell_type": "code",
   "execution_count": 95,
   "id": "90356e3d-6b05-46bd-83a7-8467e638d601",
   "metadata": {},
   "outputs": [
    {
     "data": {
      "text/plain": [
       "(0.8470870151265538, 0.855716425361957)"
      ]
     },
     "execution_count": 95,
     "metadata": {},
     "output_type": "execute_result"
    }
   ],
   "source": [
    "accuracy_score(y_test, test_pred), accuracy_score(y_train, train_pred)"
   ]
  },
  {
   "cell_type": "code",
   "execution_count": 96,
   "id": "a5e31a1a-ebdb-4d8b-b546-647fd0d53a13",
   "metadata": {},
   "outputs": [
    {
     "data": {
      "text/plain": [
       "0.8712107937620466"
      ]
     },
     "execution_count": 96,
     "metadata": {},
     "output_type": "execute_result"
    }
   ],
   "source": [
    "precision_score(y_test, test_pred)"
   ]
  },
  {
   "cell_type": "code",
   "execution_count": 97,
   "id": "66f4e100-2995-4658-8f3d-44c17e3f5899",
   "metadata": {},
   "outputs": [
    {
     "data": {
      "text/plain": [
       "0.9456066945606695"
      ]
     },
     "execution_count": 97,
     "metadata": {},
     "output_type": "execute_result"
    }
   ],
   "source": [
    "recall_score(y_test, test_pred)"
   ]
  },
  {
   "cell_type": "code",
   "execution_count": 98,
   "id": "1c778410-6681-4650-b822-021087c494fc",
   "metadata": {},
   "outputs": [
    {
     "data": {
      "text/plain": [
       "0.7138181464346688"
      ]
     },
     "execution_count": 98,
     "metadata": {},
     "output_type": "execute_result"
    }
   ],
   "source": [
    "roc_auc_score(y_test, test_pred)"
   ]
  },
  {
   "cell_type": "code",
   "execution_count": 99,
   "id": "f4fc733e-8661-40c6-9415-d533cd41d540",
   "metadata": {},
   "outputs": [
    {
     "data": {
      "text/plain": [
       "0.7138181464346688"
      ]
     },
     "execution_count": 99,
     "metadata": {},
     "output_type": "execute_result"
    }
   ],
   "source": [
    "balanced_accuracy_score(y_test, test_pred)"
   ]
  },
  {
   "cell_type": "markdown",
   "id": "31a581a6-ae65-4299-a055-1ba7525343fd",
   "metadata": {},
   "source": [
    "### Conclusions"
   ]
  },
  {
   "cell_type": "markdown",
   "id": "27e02118-d9d4-4c92-b7dc-7e1a75f07664",
   "metadata": {},
   "source": [
    "Model|Accuracy|Precision|Recall|AUC|\n",
    "-----|--------|---------|------|---|\n",
    "LR feat.engg + SMOTE|0.817|0.899|0.865|0.753|\n",
    "LR feat as is + SMOTE|0.824|0.901|0.873|0.759|\n",
    "LR feat as is|0.851|0.876|0.944|0.725|\n",
    "XGB feat.engg + SMOTE|0.830|0.880|0.910|0.740|\n",
    "XGB feat as is + SMOTE|0.839|0.886|0.913|0.739|\n",
    "XGB feat. as is|0.847|0.871|0.945|0.714|"
   ]
  },
  {
   "cell_type": "code",
   "execution_count": null,
   "id": "e3f48a3a-0230-4d5e-ab1c-cf4d54de482e",
   "metadata": {},
   "outputs": [],
   "source": []
  }
 ],
 "metadata": {
  "kernelspec": {
   "display_name": "Python [conda env:xgboost]",
   "language": "python",
   "name": "conda-env-xgboost-py"
  },
  "language_info": {
   "codemirror_mode": {
    "name": "ipython",
    "version": 3
   },
   "file_extension": ".py",
   "mimetype": "text/x-python",
   "name": "python",
   "nbconvert_exporter": "python",
   "pygments_lexer": "ipython3",
   "version": "3.10.4"
  }
 },
 "nbformat": 4,
 "nbformat_minor": 5
}
