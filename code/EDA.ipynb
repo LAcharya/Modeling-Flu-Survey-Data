{
 "cells": [
  {
   "cell_type": "code",
   "execution_count": 64,
   "id": "8aae412e-bd58-4eb8-bffa-97f35b437744",
   "metadata": {},
   "outputs": [],
   "source": [
    "import pandas as pd\n",
    "import numpy as np\n",
    "import matplotlib.pyplot as plt\n",
    "import seaborn as sns"
   ]
  },
  {
   "cell_type": "markdown",
   "id": "4717803e-b4d8-4b7f-8900-ae418d782dfb",
   "metadata": {},
   "source": [
    "## Functions"
   ]
  },
  {
   "cell_type": "code",
   "execution_count": 65,
   "id": "d890cd35-5b79-43f2-afed-3486610e61db",
   "metadata": {},
   "outputs": [],
   "source": [
    "def fill_nulls(var, grouping_var):\n",
    "    '''\n",
    "    dataset : full data_frame\n",
    "    var: variable in which nans need to be filled\n",
    "    grouping_var : grouping variable used to determine best value to fill\n",
    "    '''  \n",
    "    import random\n",
    "    import math\n",
    "    \n",
    "    # group vars\n",
    "    grouped_df = pd.crosstab(index=grouping_var, columns=var,margins=True,normalize='index').round(3)\n",
    "    \n",
    "    # establish values to fill nulls with and groups to use\n",
    "    values = list(grouped_df.columns)\n",
    "    groups = list(grouped_df.index)\n",
    "    groups.remove('All')\n",
    "    \n",
    "    # access each group one at a time and replace nulls there\n",
    "    for group in groups:\n",
    "        probabilities = grouped_df.loc[group, :].values\n",
    "        \n",
    "        # find indexes within that group that are nulls\n",
    "        mask = ((grouping_var==group) & (var.isna()))\n",
    "        nan_indexes = list(var[mask].index)\n",
    "        random.shuffle(nan_indexes)\n",
    "        \n",
    "        # calculate the number of observations that match the corresponding percentage of values\n",
    "        # for instance: if the percentage of 18-25 year olds that earl above $75k is 0.2, how many \n",
    "        # observations that have null values is that?\n",
    "        \n",
    "        lengths = [math.ceil(round(p,2)*len(nan_indexes)) for p in probabilities]\n",
    "        \n",
    "        # begin replacements\n",
    "        for i in range(len(lengths)):\n",
    "            sample = var[mask].sample(n=lengths[i])\n",
    "            nulls_to_fill = list(sample.index)\n",
    "            var.loc[nulls_to_fill] = values[i]\n",
    "            proba = list(probabilities)\n",
    "            maxprob_val = values[proba.index(max(proba))]\n",
    "        var[mask] = maxprob_val\n",
    "    return var"
   ]
  },
  {
   "cell_type": "code",
   "execution_count": null,
   "id": "d77528f6-d77b-4070-99ed-df802a668a9b",
   "metadata": {},
   "outputs": [],
   "source": []
  },
  {
   "cell_type": "code",
   "execution_count": 66,
   "id": "a37a29a3-7dc2-4d7d-828a-d9735f3df7d0",
   "metadata": {},
   "outputs": [],
   "source": [
    "def visualize(df, var):\n",
    "    num_nulls = df[var].isnull().sum() # count number ofnulls\n",
    "\n",
    "    # copy data to variable that can be modified without modifying original dataframe\n",
    "    var_data = df[[var, 'h1n1_vaccine', 'seasonal_vaccine']].copy() \n",
    "\n",
    "    # replace nulls with appropriate value\n",
    "    var_data[var].fillna('no_response', inplace=True)\n",
    "\n",
    "    # visualize results\n",
    "    var_data.groupby(var)[['h1n1_vaccine', 'seasonal_vaccine']].mean().plot(kind='bar')\n",
    "    plt.title(f'{var} : nulls = {num_nulls}');"
   ]
  },
  {
   "cell_type": "code",
   "execution_count": 67,
   "id": "db14d407-9d35-4210-9db5-a73429ec7d63",
   "metadata": {},
   "outputs": [],
   "source": [
    "def null_replacement(data, var):\n",
    "    visualize(data, var)\n",
    "    print(f'Number of Nulls: {data[var].isna().sum()},\\n Value Counts : {data[var].value_counts()}')"
   ]
  },
  {
   "cell_type": "markdown",
   "id": "25c27aa6-082a-41af-b6ec-537824904406",
   "metadata": {},
   "source": [
    "## Import data"
   ]
  },
  {
   "cell_type": "code",
   "execution_count": 68,
   "id": "d1dd039f-24a9-4a30-a929-d5b5927a5e01",
   "metadata": {},
   "outputs": [],
   "source": [
    "features = pd.read_csv('../training_set_features.csv')\n",
    "labels = pd.read_csv('../training_set_labels.csv')"
   ]
  },
  {
   "cell_type": "code",
   "execution_count": 69,
   "id": "317c44cf-1b11-4e7c-8883-6338009eb814",
   "metadata": {},
   "outputs": [
    {
     "data": {
      "text/plain": [
       "(26707, 36)"
      ]
     },
     "execution_count": 69,
     "metadata": {},
     "output_type": "execute_result"
    }
   ],
   "source": [
    "features.shape"
   ]
  },
  {
   "cell_type": "code",
   "execution_count": 70,
   "id": "f6ee44fd-dfbe-4bf1-977f-e4f221b85b98",
   "metadata": {},
   "outputs": [],
   "source": [
    "data = pd.merge(left=features, right=labels, on='respondent_id')"
   ]
  },
  {
   "cell_type": "code",
   "execution_count": 71,
   "id": "f43c63db-477d-4e86-900c-8b78d80c53f0",
   "metadata": {},
   "outputs": [
    {
     "data": {
      "text/plain": [
       "respondent_id                      0\n",
       "h1n1_concern                      92\n",
       "h1n1_knowledge                   116\n",
       "behavioral_antiviral_meds         71\n",
       "behavioral_avoidance             208\n",
       "behavioral_face_mask              19\n",
       "behavioral_wash_hands             42\n",
       "behavioral_large_gatherings       87\n",
       "behavioral_outside_home           82\n",
       "behavioral_touch_face            128\n",
       "doctor_recc_h1n1                2160\n",
       "doctor_recc_seasonal            2160\n",
       "chronic_med_condition            971\n",
       "child_under_6_months             820\n",
       "health_worker                    804\n",
       "health_insurance               12274\n",
       "opinion_h1n1_vacc_effective      391\n",
       "opinion_h1n1_risk                388\n",
       "opinion_h1n1_sick_from_vacc      395\n",
       "opinion_seas_vacc_effective      462\n",
       "opinion_seas_risk                514\n",
       "opinion_seas_sick_from_vacc      537\n",
       "age_group                          0\n",
       "education                       1407\n",
       "race                               0\n",
       "sex                                0\n",
       "income_poverty                  4423\n",
       "marital_status                  1408\n",
       "rent_or_own                     2042\n",
       "employment_status               1463\n",
       "hhs_geo_region                     0\n",
       "census_msa                         0\n",
       "household_adults                 249\n",
       "household_children               249\n",
       "employment_industry            13330\n",
       "employment_occupation          13470\n",
       "h1n1_vaccine                       0\n",
       "seasonal_vaccine                   0\n",
       "dtype: int64"
      ]
     },
     "execution_count": 71,
     "metadata": {},
     "output_type": "execute_result"
    }
   ],
   "source": [
    "data.isna().sum()"
   ]
  },
  {
   "cell_type": "code",
   "execution_count": 72,
   "id": "0ba89db9-455c-4afd-81c0-42999add14f5",
   "metadata": {},
   "outputs": [
    {
     "data": {
      "text/plain": [
       "65+ Years        6843\n",
       "55 - 64 Years    5563\n",
       "45 - 54 Years    5238\n",
       "18 - 34 Years    5215\n",
       "35 - 44 Years    3848\n",
       "Name: age_group, dtype: int64"
      ]
     },
     "execution_count": 72,
     "metadata": {},
     "output_type": "execute_result"
    }
   ],
   "source": [
    "data['age_group'].value_counts()"
   ]
  },
  {
   "cell_type": "markdown",
   "id": "e20cb2ed-358b-4731-aa2d-10596e554311",
   "metadata": {},
   "source": [
    "#### **Print out the percentage of nulls that belong to the positive class of each target variable**\n",
    "\n",
    "**for instance:**\n",
    "\n",
    "```\n",
    "h1n1_concern    \n",
    "h1n1_vaccine        0.173913    \n",
    "seasonal_vaccine    0.456522  \n",
    "dtype: float64  \n",
    "Nulls : 92  \n",
    "```\n",
    "**means:**\n",
    "The variable `h1n1_concern` has 92 null values. 17% of these nulls are in the positive class for `h1h1_vaccine` and the rest in teh negative class. 45% of the 92 nulls are in the positive class for `seasonal_vaccine` and the rest belong to the negative class. \n",
    "\n",
    "This is just to check if there are any null values that are more likely to belong to one class versus the other which will help us determine how we should replace them. \n"
   ]
  },
  {
   "cell_type": "code",
   "execution_count": 73,
   "id": "6b80270c-487c-45df-b36a-3a9602860a35",
   "metadata": {},
   "outputs": [
    {
     "data": {
      "text/html": [
       "<div>\n",
       "<style scoped>\n",
       "    .dataframe tbody tr th:only-of-type {\n",
       "        vertical-align: middle;\n",
       "    }\n",
       "\n",
       "    .dataframe tbody tr th {\n",
       "        vertical-align: top;\n",
       "    }\n",
       "\n",
       "    .dataframe thead th {\n",
       "        text-align: right;\n",
       "    }\n",
       "</style>\n",
       "<table border=\"1\" class=\"dataframe\">\n",
       "  <thead>\n",
       "    <tr style=\"text-align: right;\">\n",
       "      <th></th>\n",
       "      <th>column</th>\n",
       "      <th>h1n1</th>\n",
       "      <th>seasonal</th>\n",
       "      <th>nulls</th>\n",
       "    </tr>\n",
       "  </thead>\n",
       "  <tbody>\n",
       "    <tr>\n",
       "      <th>29</th>\n",
       "      <td>employment_occupation</td>\n",
       "      <td>0.208909</td>\n",
       "      <td>0.508389</td>\n",
       "      <td>13470</td>\n",
       "    </tr>\n",
       "    <tr>\n",
       "      <th>28</th>\n",
       "      <td>employment_industry</td>\n",
       "      <td>0.207877</td>\n",
       "      <td>0.508102</td>\n",
       "      <td>13330</td>\n",
       "    </tr>\n",
       "    <tr>\n",
       "      <th>14</th>\n",
       "      <td>health_insurance</td>\n",
       "      <td>0.112759</td>\n",
       "      <td>0.424149</td>\n",
       "      <td>12274</td>\n",
       "    </tr>\n",
       "    <tr>\n",
       "      <th>22</th>\n",
       "      <td>income_poverty</td>\n",
       "      <td>0.189012</td>\n",
       "      <td>0.448338</td>\n",
       "      <td>4423</td>\n",
       "    </tr>\n",
       "    <tr>\n",
       "      <th>9</th>\n",
       "      <td>doctor_recc_h1n1</td>\n",
       "      <td>0.085648</td>\n",
       "      <td>0.352315</td>\n",
       "      <td>2160</td>\n",
       "    </tr>\n",
       "    <tr>\n",
       "      <th>10</th>\n",
       "      <td>doctor_recc_seasonal</td>\n",
       "      <td>0.085648</td>\n",
       "      <td>0.352315</td>\n",
       "      <td>2160</td>\n",
       "    </tr>\n",
       "    <tr>\n",
       "      <th>24</th>\n",
       "      <td>rent_or_own</td>\n",
       "      <td>0.193928</td>\n",
       "      <td>0.419197</td>\n",
       "      <td>2042</td>\n",
       "    </tr>\n",
       "    <tr>\n",
       "      <th>25</th>\n",
       "      <td>employment_status</td>\n",
       "      <td>0.185236</td>\n",
       "      <td>0.387560</td>\n",
       "      <td>1463</td>\n",
       "    </tr>\n",
       "    <tr>\n",
       "      <th>23</th>\n",
       "      <td>marital_status</td>\n",
       "      <td>0.181818</td>\n",
       "      <td>0.389205</td>\n",
       "      <td>1408</td>\n",
       "    </tr>\n",
       "    <tr>\n",
       "      <th>21</th>\n",
       "      <td>education</td>\n",
       "      <td>0.185501</td>\n",
       "      <td>0.385217</td>\n",
       "      <td>1407</td>\n",
       "    </tr>\n",
       "    <tr>\n",
       "      <th>11</th>\n",
       "      <td>chronic_med_condition</td>\n",
       "      <td>0.187436</td>\n",
       "      <td>0.389289</td>\n",
       "      <td>971</td>\n",
       "    </tr>\n",
       "    <tr>\n",
       "      <th>12</th>\n",
       "      <td>child_under_6_months</td>\n",
       "      <td>0.179268</td>\n",
       "      <td>0.384146</td>\n",
       "      <td>820</td>\n",
       "    </tr>\n",
       "    <tr>\n",
       "      <th>13</th>\n",
       "      <td>health_worker</td>\n",
       "      <td>0.179104</td>\n",
       "      <td>0.383085</td>\n",
       "      <td>804</td>\n",
       "    </tr>\n",
       "    <tr>\n",
       "      <th>20</th>\n",
       "      <td>opinion_seas_sick_from_vacc</td>\n",
       "      <td>0.182495</td>\n",
       "      <td>0.364991</td>\n",
       "      <td>537</td>\n",
       "    </tr>\n",
       "    <tr>\n",
       "      <th>19</th>\n",
       "      <td>opinion_seas_risk</td>\n",
       "      <td>0.198444</td>\n",
       "      <td>0.391051</td>\n",
       "      <td>514</td>\n",
       "    </tr>\n",
       "    <tr>\n",
       "      <th>18</th>\n",
       "      <td>opinion_seas_vacc_effective</td>\n",
       "      <td>0.199134</td>\n",
       "      <td>0.383117</td>\n",
       "      <td>462</td>\n",
       "    </tr>\n",
       "    <tr>\n",
       "      <th>17</th>\n",
       "      <td>opinion_h1n1_sick_from_vacc</td>\n",
       "      <td>0.205063</td>\n",
       "      <td>0.367089</td>\n",
       "      <td>395</td>\n",
       "    </tr>\n",
       "    <tr>\n",
       "      <th>15</th>\n",
       "      <td>opinion_h1n1_vacc_effective</td>\n",
       "      <td>0.194373</td>\n",
       "      <td>0.378517</td>\n",
       "      <td>391</td>\n",
       "    </tr>\n",
       "    <tr>\n",
       "      <th>16</th>\n",
       "      <td>opinion_h1n1_risk</td>\n",
       "      <td>0.221649</td>\n",
       "      <td>0.378866</td>\n",
       "      <td>388</td>\n",
       "    </tr>\n",
       "    <tr>\n",
       "      <th>26</th>\n",
       "      <td>household_adults</td>\n",
       "      <td>0.156627</td>\n",
       "      <td>0.257028</td>\n",
       "      <td>249</td>\n",
       "    </tr>\n",
       "    <tr>\n",
       "      <th>27</th>\n",
       "      <td>household_children</td>\n",
       "      <td>0.156627</td>\n",
       "      <td>0.257028</td>\n",
       "      <td>249</td>\n",
       "    </tr>\n",
       "    <tr>\n",
       "      <th>3</th>\n",
       "      <td>behavioral_avoidance</td>\n",
       "      <td>0.158654</td>\n",
       "      <td>0.480769</td>\n",
       "      <td>208</td>\n",
       "    </tr>\n",
       "    <tr>\n",
       "      <th>8</th>\n",
       "      <td>behavioral_touch_face</td>\n",
       "      <td>0.140625</td>\n",
       "      <td>0.484375</td>\n",
       "      <td>128</td>\n",
       "    </tr>\n",
       "    <tr>\n",
       "      <th>1</th>\n",
       "      <td>h1n1_knowledge</td>\n",
       "      <td>0.189655</td>\n",
       "      <td>0.482759</td>\n",
       "      <td>116</td>\n",
       "    </tr>\n",
       "    <tr>\n",
       "      <th>0</th>\n",
       "      <td>h1n1_concern</td>\n",
       "      <td>0.173913</td>\n",
       "      <td>0.456522</td>\n",
       "      <td>92</td>\n",
       "    </tr>\n",
       "    <tr>\n",
       "      <th>6</th>\n",
       "      <td>behavioral_large_gatherings</td>\n",
       "      <td>0.160920</td>\n",
       "      <td>0.494253</td>\n",
       "      <td>87</td>\n",
       "    </tr>\n",
       "    <tr>\n",
       "      <th>7</th>\n",
       "      <td>behavioral_outside_home</td>\n",
       "      <td>0.146341</td>\n",
       "      <td>0.487805</td>\n",
       "      <td>82</td>\n",
       "    </tr>\n",
       "    <tr>\n",
       "      <th>2</th>\n",
       "      <td>behavioral_antiviral_meds</td>\n",
       "      <td>0.408451</td>\n",
       "      <td>0.676056</td>\n",
       "      <td>71</td>\n",
       "    </tr>\n",
       "    <tr>\n",
       "      <th>5</th>\n",
       "      <td>behavioral_wash_hands</td>\n",
       "      <td>0.166667</td>\n",
       "      <td>0.428571</td>\n",
       "      <td>42</td>\n",
       "    </tr>\n",
       "    <tr>\n",
       "      <th>4</th>\n",
       "      <td>behavioral_face_mask</td>\n",
       "      <td>0.315789</td>\n",
       "      <td>0.578947</td>\n",
       "      <td>19</td>\n",
       "    </tr>\n",
       "  </tbody>\n",
       "</table>\n",
       "</div>"
      ],
      "text/plain": [
       "                         column      h1n1  seasonal  nulls\n",
       "29        employment_occupation  0.208909  0.508389  13470\n",
       "28          employment_industry  0.207877  0.508102  13330\n",
       "14             health_insurance  0.112759  0.424149  12274\n",
       "22               income_poverty  0.189012  0.448338   4423\n",
       "9              doctor_recc_h1n1  0.085648  0.352315   2160\n",
       "10         doctor_recc_seasonal  0.085648  0.352315   2160\n",
       "24                  rent_or_own  0.193928  0.419197   2042\n",
       "25            employment_status  0.185236  0.387560   1463\n",
       "23               marital_status  0.181818  0.389205   1408\n",
       "21                    education  0.185501  0.385217   1407\n",
       "11        chronic_med_condition  0.187436  0.389289    971\n",
       "12         child_under_6_months  0.179268  0.384146    820\n",
       "13                health_worker  0.179104  0.383085    804\n",
       "20  opinion_seas_sick_from_vacc  0.182495  0.364991    537\n",
       "19            opinion_seas_risk  0.198444  0.391051    514\n",
       "18  opinion_seas_vacc_effective  0.199134  0.383117    462\n",
       "17  opinion_h1n1_sick_from_vacc  0.205063  0.367089    395\n",
       "15  opinion_h1n1_vacc_effective  0.194373  0.378517    391\n",
       "16            opinion_h1n1_risk  0.221649  0.378866    388\n",
       "26             household_adults  0.156627  0.257028    249\n",
       "27           household_children  0.156627  0.257028    249\n",
       "3          behavioral_avoidance  0.158654  0.480769    208\n",
       "8         behavioral_touch_face  0.140625  0.484375    128\n",
       "1                h1n1_knowledge  0.189655  0.482759    116\n",
       "0                  h1n1_concern  0.173913  0.456522     92\n",
       "6   behavioral_large_gatherings  0.160920  0.494253     87\n",
       "7       behavioral_outside_home  0.146341  0.487805     82\n",
       "2     behavioral_antiviral_meds  0.408451  0.676056     71\n",
       "5         behavioral_wash_hands  0.166667  0.428571     42\n",
       "4          behavioral_face_mask  0.315789  0.578947     19"
      ]
     },
     "execution_count": 73,
     "metadata": {},
     "output_type": "execute_result"
    }
   ],
   "source": [
    "column = []\n",
    "h1n1 = []\n",
    "sea = []\n",
    "nulls = []\n",
    "\n",
    "for col in list(data.columns):\n",
    "    if data[col].isna().sum() > 0:\n",
    "        column.append(col)\n",
    "        h1n1.append(data[data[col].isnull()][['h1n1_vaccine', 'seasonal_vaccine']].mean()['h1n1_vaccine']) \n",
    "        sea.append(data[data[col].isnull()][['h1n1_vaccine', 'seasonal_vaccine']].mean()['seasonal_vaccine'])\n",
    "        nulls.append(data[col].isna().sum())\n",
    "        # print(col)\n",
    "        # print(data[data[col].isnull()][['h1n1_vaccine', 'seasonal_vaccine']].mean())\n",
    "        # print(f'Nulls : {data[col].isna().sum()}')\n",
    "        # print('--------------------------\\n--------------------------')\n",
    "        \n",
    "null_df = pd.DataFrame({'column' : column, 'h1n1': h1n1, 'seasonal' : sea, 'nulls' : nulls})\n",
    "null_df.sort_values('nulls', ascending=False)"
   ]
  },
  {
   "cell_type": "markdown",
   "id": "1272596b-244c-43cd-bf67-c7a8a168539a",
   "metadata": {},
   "source": [
    "#### Doing some EDA and replacing nulls. Nulls will be replaced proportionally with respect to a grouping variable if there are more than 5% of observations with null values (i.e, 1000). Otherwise we will fill with median/mode value"
   ]
  },
  {
   "cell_type": "markdown",
   "id": "4009a2c7-6208-4e74-a87b-633405a44e5e",
   "metadata": {},
   "source": [
    "#### Sean's features"
   ]
  },
  {
   "cell_type": "code",
   "execution_count": 74,
   "id": "4575afc3-5e61-4189-a313-3a46fdd92daf",
   "metadata": {},
   "outputs": [
    {
     "name": "stdout",
     "output_type": "stream",
     "text": [
      "Number of Nulls: 92,\n",
      " Value Counts : 2.0    10575\n",
      "1.0     8153\n",
      "3.0     4591\n",
      "0.0     3296\n",
      "Name: h1n1_concern, dtype: int64\n"
     ]
    },
    {
     "data": {
      "image/png": "[encoded data removed]",
      "text/plain": [
       "<Figure size 432x288 with 1 Axes>"
      ]
     },
     "metadata": {
      "needs_background": "light"
     },
     "output_type": "display_data"
    }
   ],
   "source": [
    "var = 'h1n1_concern'\n",
    "null_replacement(data, var)"
   ]
  },
  {
   "cell_type": "code",
   "execution_count": 75,
   "id": "db6be077-67e8-4e84-9b92-eb092042f955",
   "metadata": {},
   "outputs": [
    {
     "data": {
      "text/plain": [
       "92"
      ]
     },
     "execution_count": 75,
     "metadata": {},
     "output_type": "execute_result"
    }
   ],
   "source": [
    "data[var].isna().sum()"
   ]
  },
  {
   "cell_type": "code",
   "execution_count": 76,
   "id": "3f6aa7c8-7d5b-4840-a057-1e95653dc84c",
   "metadata": {},
   "outputs": [
    {
     "data": {
      "text/plain": [
       "<= $75,000, Above Poverty    12777\n",
       "> $75,000                     6810\n",
       "Below Poverty                 2697\n",
       "Name: income_poverty, dtype: int64"
      ]
     },
     "execution_count": 76,
     "metadata": {},
     "output_type": "execute_result"
    }
   ],
   "source": [
    "data['income_poverty'].value_counts()"
   ]
  },
  {
   "cell_type": "code",
   "execution_count": 77,
   "id": "39539320-ddc1-4328-8e68-739b83ce7b6c",
   "metadata": {},
   "outputs": [
    {
     "data": {
      "image/png": "[encoded data removed]",
      "text/plain": [
       "<Figure size 432x288 with 1 Axes>"
      ]
     },
     "metadata": {
      "needs_background": "light"
     },
     "output_type": "display_data"
    }
   ],
   "source": [
    "visualize(data, 'h1n1_concern')"
   ]
  },
  {
   "cell_type": "code",
   "execution_count": 78,
   "id": "2cb3f30e-7378-4a3e-977f-3c1c6234e812",
   "metadata": {},
   "outputs": [
    {
     "data": {
      "text/plain": [
       "2.0    10575\n",
       "1.0     8153\n",
       "3.0     4591\n",
       "0.0     3296\n",
       "Name: h1n1_concern, dtype: int64"
      ]
     },
     "execution_count": 78,
     "metadata": {},
     "output_type": "execute_result"
    }
   ],
   "source": [
    "data['h1n1_concern'].value_counts()"
   ]
  },
  {
   "cell_type": "code",
   "execution_count": 79,
   "id": "40ccfeb3-6ca8-4b06-9c21-040986203bee",
   "metadata": {},
   "outputs": [
    {
     "data": {
      "text/plain": [
       "0"
      ]
     },
     "execution_count": 79,
     "metadata": {},
     "output_type": "execute_result"
    }
   ],
   "source": [
    "## replacing this with mode = 2.0\n",
    "\n",
    "data['h1n1_concern'].fillna(2.0, inplace=True)\n",
    "data['h1n1_concern'].isna().sum()"
   ]
  },
  {
   "cell_type": "code",
   "execution_count": 80,
   "id": "d0ffa8dd-cf4b-467c-8ff0-3522cec08efc",
   "metadata": {},
   "outputs": [
    {
     "name": "stdout",
     "output_type": "stream",
     "text": [
      "Number of Nulls: 116,\n",
      " Value Counts : 1.0    14598\n",
      "2.0     9487\n",
      "0.0     2506\n",
      "Name: h1n1_knowledge, dtype: int64\n"
     ]
    },
    {
     "data": {
      "image/png": "[encoded data removed]",
      "text/plain": [
       "<Figure size 432x288 with 1 Axes>"
      ]
     },
     "metadata": {
      "needs_background": "light"
     },
     "output_type": "display_data"
    }
   ],
   "source": [
    "null_replacement(data, 'h1n1_knowledge')"
   ]
  },
  {
   "cell_type": "code",
   "execution_count": 81,
   "id": "1c1940f0-f81c-4aba-bd55-bfae3f0fcf2b",
   "metadata": {},
   "outputs": [
    {
     "data": {
      "text/plain": [
       "1.0    14598\n",
       "2.0     9487\n",
       "0.0     2506\n",
       "Name: h1n1_knowledge, dtype: int64"
      ]
     },
     "execution_count": 81,
     "metadata": {},
     "output_type": "execute_result"
    }
   ],
   "source": [
    "data['h1n1_knowledge'].value_counts()"
   ]
  },
  {
   "cell_type": "code",
   "execution_count": 82,
   "id": "1310ace4-50f8-4219-90bf-54eb332f3615",
   "metadata": {},
   "outputs": [
    {
     "data": {
      "text/plain": [
       "0"
      ]
     },
     "execution_count": 82,
     "metadata": {},
     "output_type": "execute_result"
    }
   ],
   "source": [
    "## replacing this with mode = 1.0\n",
    "\n",
    "data['h1n1_knowledge'].fillna(1.0, inplace=True)\n",
    "data['h1n1_knowledge'].isna().sum()"
   ]
  },
  {
   "cell_type": "code",
   "execution_count": 83,
   "id": "816aa31d-94a3-4f6f-b44a-df710b7b98d7",
   "metadata": {},
   "outputs": [
    {
     "name": "stdout",
     "output_type": "stream",
     "text": [
      "Number of Nulls: 71,\n",
      " Value Counts : 0.0    25335\n",
      "1.0     1301\n",
      "Name: behavioral_antiviral_meds, dtype: int64\n"
     ]
    },
    {
     "data": {
      "image/png": "[encoded data removed]",
      "text/plain": [
       "<Figure size 432x288 with 1 Axes>"
      ]
     },
     "metadata": {
      "needs_background": "light"
     },
     "output_type": "display_data"
    }
   ],
   "source": [
    "null_replacement(data, 'behavioral_antiviral_meds')"
   ]
  },
  {
   "cell_type": "code",
   "execution_count": 84,
   "id": "d96a164c-3c95-4191-8f7d-123e0479a058",
   "metadata": {},
   "outputs": [
    {
     "data": {
      "text/plain": [
       "0"
      ]
     },
     "execution_count": 84,
     "metadata": {},
     "output_type": "execute_result"
    }
   ],
   "source": [
    "# fill with 0.0\n",
    "data['behavioral_antiviral_meds'].fillna(0.0, inplace=True)\n",
    "data['behavioral_antiviral_meds'].isna().sum()"
   ]
  },
  {
   "cell_type": "code",
   "execution_count": 85,
   "id": "95dc8e0a-4435-4f40-b6a5-0855fe316fcf",
   "metadata": {},
   "outputs": [
    {
     "name": "stdout",
     "output_type": "stream",
     "text": [
      "Number of Nulls: 208,\n",
      " Value Counts : 1.0    19228\n",
      "0.0     7271\n",
      "Name: behavioral_avoidance, dtype: int64\n"
     ]
    },
    {
     "data": {
      "image/png": "[encoded data removed]",
      "text/plain": [
       "<Figure size 432x288 with 1 Axes>"
      ]
     },
     "metadata": {
      "needs_background": "light"
     },
     "output_type": "display_data"
    }
   ],
   "source": [
    "null_replacement(data, 'behavioral_avoidance')"
   ]
  },
  {
   "cell_type": "code",
   "execution_count": 86,
   "id": "defbd63d-4669-474a-8be8-8da481b639f0",
   "metadata": {},
   "outputs": [
    {
     "data": {
      "text/plain": [
       "208"
      ]
     },
     "execution_count": 86,
     "metadata": {},
     "output_type": "execute_result"
    }
   ],
   "source": [
    "data['behavioral_avoidance'].isna().sum()"
   ]
  },
  {
   "cell_type": "code",
   "execution_count": 87,
   "id": "f1d9a356-d88e-402e-9579-fe75610b96ad",
   "metadata": {},
   "outputs": [
    {
     "data": {
      "text/plain": [
       "1.0    19228\n",
       "0.0     7271\n",
       "Name: behavioral_avoidance, dtype: int64"
      ]
     },
     "execution_count": 87,
     "metadata": {},
     "output_type": "execute_result"
    }
   ],
   "source": [
    "data['behavioral_avoidance'].value_counts()"
   ]
  },
  {
   "cell_type": "code",
   "execution_count": 88,
   "id": "41f150ad-f1ed-41b6-9b22-bd8188e909b3",
   "metadata": {},
   "outputs": [
    {
     "data": {
      "text/plain": [
       "0"
      ]
     },
     "execution_count": 88,
     "metadata": {},
     "output_type": "execute_result"
    }
   ],
   "source": [
    "data['behavioral_avoidance'].fillna(1.0, inplace=True)\n",
    "data['behavioral_avoidance'].isna().sum()"
   ]
  },
  {
   "cell_type": "code",
   "execution_count": 89,
   "id": "04a005f3-3b8d-4fd8-aac7-421e87c11e54",
   "metadata": {},
   "outputs": [
    {
     "name": "stdout",
     "output_type": "stream",
     "text": [
      "Number of Nulls: 19,\n",
      " Value Counts : 0.0    24847\n",
      "1.0     1841\n",
      "Name: behavioral_face_mask, dtype: int64\n"
     ]
    },
    {
     "data": {
      "image/png": "[encoded data removed]",
      "text/plain": [
       "<Figure size 432x288 with 1 Axes>"
      ]
     },
     "metadata": {
      "needs_background": "light"
     },
     "output_type": "display_data"
    }
   ],
   "source": [
    "null_replacement(data, 'behavioral_face_mask')"
   ]
  },
  {
   "cell_type": "code",
   "execution_count": 90,
   "id": "9b84d682-fe42-40cd-9433-645d4ca3a07a",
   "metadata": {},
   "outputs": [
    {
     "data": {
      "text/plain": [
       "0"
      ]
     },
     "execution_count": 90,
     "metadata": {},
     "output_type": "execute_result"
    }
   ],
   "source": [
    "data['behavioral_face_mask'].fillna(0, inplace=True)\n",
    "data['behavioral_face_mask'].isna().sum()"
   ]
  },
  {
   "cell_type": "code",
   "execution_count": 91,
   "id": "01249371-99f9-4d02-a3d7-6a6c598ff95d",
   "metadata": {},
   "outputs": [
    {
     "name": "stdout",
     "output_type": "stream",
     "text": [
      "Number of Nulls: 42,\n",
      " Value Counts : 1.0    22015\n",
      "0.0     4650\n",
      "Name: behavioral_wash_hands, dtype: int64\n"
     ]
    },
    {
     "data": {
      "image/png": "[encoded data removed]",
      "text/plain": [
       "<Figure size 432x288 with 1 Axes>"
      ]
     },
     "metadata": {
      "needs_background": "light"
     },
     "output_type": "display_data"
    }
   ],
   "source": [
    "null_replacement(data, 'behavioral_wash_hands')"
   ]
  },
  {
   "cell_type": "code",
   "execution_count": 92,
   "id": "3a3ee65c-d4fd-4f7a-87a5-64cc006d2cb8",
   "metadata": {},
   "outputs": [],
   "source": [
    "data['behavioral_wash_hands'].fillna(1.0, inplace=True)"
   ]
  },
  {
   "cell_type": "code",
   "execution_count": 93,
   "id": "26334044-6be7-47a9-8372-86dc35a0c177",
   "metadata": {},
   "outputs": [
    {
     "data": {
      "text/plain": [
       "0"
      ]
     },
     "execution_count": 93,
     "metadata": {},
     "output_type": "execute_result"
    }
   ],
   "source": [
    "data['behavioral_wash_hands'].isna().sum()"
   ]
  },
  {
   "cell_type": "code",
   "execution_count": 94,
   "id": "2bb06ec7-9602-4ffd-924e-8a7540a16924",
   "metadata": {},
   "outputs": [
    {
     "name": "stdout",
     "output_type": "stream",
     "text": [
      "Number of Nulls: 87,\n",
      " Value Counts : 0.0    17073\n",
      "1.0     9547\n",
      "Name: behavioral_large_gatherings, dtype: int64\n"
     ]
    },
    {
     "data": {
      "image/png": "[encoded data removed]",
      "text/plain": [
       "<Figure size 432x288 with 1 Axes>"
      ]
     },
     "metadata": {
      "needs_background": "light"
     },
     "output_type": "display_data"
    }
   ],
   "source": [
    "null_replacement(data, 'behavioral_large_gatherings')"
   ]
  },
  {
   "cell_type": "code",
   "execution_count": 95,
   "id": "4f1670aa-5a57-4661-9db9-dfc44b9dbfab",
   "metadata": {},
   "outputs": [
    {
     "data": {
      "text/plain": [
       "0"
      ]
     },
     "execution_count": 95,
     "metadata": {},
     "output_type": "execute_result"
    }
   ],
   "source": [
    "data['behavioral_large_gatherings'].fillna(0, inplace=True)\n",
    "data['behavioral_large_gatherings'].isna().sum()"
   ]
  },
  {
   "cell_type": "code",
   "execution_count": 96,
   "id": "c21426a7-e263-4670-828b-e36ae31fcfff",
   "metadata": {},
   "outputs": [
    {
     "data": {
      "text/plain": [
       "Index(['respondent_id', 'h1n1_concern', 'h1n1_knowledge',\n",
       "       'behavioral_antiviral_meds', 'behavioral_avoidance',\n",
       "       'behavioral_face_mask', 'behavioral_wash_hands',\n",
       "       'behavioral_large_gatherings', 'behavioral_outside_home',\n",
       "       'behavioral_touch_face', 'doctor_recc_h1n1', 'doctor_recc_seasonal',\n",
       "       'chronic_med_condition', 'child_under_6_months', 'health_worker',\n",
       "       'health_insurance', 'opinion_h1n1_vacc_effective', 'opinion_h1n1_risk',\n",
       "       'opinion_h1n1_sick_from_vacc', 'opinion_seas_vacc_effective',\n",
       "       'opinion_seas_risk', 'opinion_seas_sick_from_vacc', 'age_group',\n",
       "       'education', 'race', 'sex', 'income_poverty', 'marital_status',\n",
       "       'rent_or_own', 'employment_status', 'hhs_geo_region', 'census_msa',\n",
       "       'household_adults', 'household_children', 'employment_industry',\n",
       "       'employment_occupation', 'h1n1_vaccine', 'seasonal_vaccine'],\n",
       "      dtype='object')"
      ]
     },
     "execution_count": 96,
     "metadata": {},
     "output_type": "execute_result"
    }
   ],
   "source": [
    "data.columns"
   ]
  },
  {
   "cell_type": "code",
   "execution_count": 97,
   "id": "f4f1da52-33b5-40fc-a5f7-8828a3605986",
   "metadata": {},
   "outputs": [
    {
     "name": "stdout",
     "output_type": "stream",
     "text": [
      "Number of Nulls: 82,\n",
      " Value Counts : 0.0    17644\n",
      "1.0     8981\n",
      "Name: behavioral_outside_home, dtype: int64\n"
     ]
    },
    {
     "data": {
      "image/png": "[encoded data removed]",
      "text/plain": [
       "<Figure size 432x288 with 1 Axes>"
      ]
     },
     "metadata": {
      "needs_background": "light"
     },
     "output_type": "display_data"
    }
   ],
   "source": [
    "null_replacement(data, 'behavioral_outside_home')"
   ]
  },
  {
   "cell_type": "code",
   "execution_count": 98,
   "id": "dc4d6b9f-6bf8-48c3-b5eb-342baae15744",
   "metadata": {},
   "outputs": [
    {
     "data": {
      "text/plain": [
       "0"
      ]
     },
     "execution_count": 98,
     "metadata": {},
     "output_type": "execute_result"
    }
   ],
   "source": [
    "data['behavioral_outside_home'].fillna(0, inplace=True)\n",
    "data['behavioral_outside_home'].isna().sum()"
   ]
  },
  {
   "cell_type": "code",
   "execution_count": 99,
   "id": "5fb69e68-ca90-4c95-851f-cfaef830d32f",
   "metadata": {},
   "outputs": [
    {
     "name": "stdout",
     "output_type": "stream",
     "text": [
      "Number of Nulls: 128,\n",
      " Value Counts : 1.0    18001\n",
      "0.0     8578\n",
      "Name: behavioral_touch_face, dtype: int64\n"
     ]
    },
    {
     "data": {
      "image/png": "[encoded data removed]",
      "text/plain": [
       "<Figure size 432x288 with 1 Axes>"
      ]
     },
     "metadata": {
      "needs_background": "light"
     },
     "output_type": "display_data"
    }
   ],
   "source": [
    "null_replacement(data, 'behavioral_touch_face')"
   ]
  },
  {
   "cell_type": "code",
   "execution_count": 100,
   "id": "16183ade-5eab-4c05-a1ef-e20da26b5a81",
   "metadata": {},
   "outputs": [
    {
     "data": {
      "text/plain": [
       "0"
      ]
     },
     "execution_count": 100,
     "metadata": {},
     "output_type": "execute_result"
    }
   ],
   "source": [
    "data['behavioral_touch_face'].fillna(1, inplace=True)\n",
    "data['behavioral_touch_face'].isna().sum()"
   ]
  },
  {
   "cell_type": "code",
   "execution_count": 101,
   "id": "12650808-0198-4dd7-bcb7-239161b31217",
   "metadata": {},
   "outputs": [
    {
     "name": "stdout",
     "output_type": "stream",
     "text": [
      "Number of Nulls: 2160,\n",
      " Value Counts : 0.0    19139\n",
      "1.0     5408\n",
      "Name: doctor_recc_h1n1, dtype: int64\n"
     ]
    },
    {
     "data": {
      "image/png": "[encoded data removed]",
      "text/plain": [
       "<Figure size 432x288 with 1 Axes>"
      ]
     },
     "metadata": {
      "needs_background": "light"
     },
     "output_type": "display_data"
    }
   ],
   "source": [
    "null_replacement(data, 'doctor_recc_h1n1')"
   ]
  },
  {
   "cell_type": "code",
   "execution_count": 102,
   "id": "54ea921c-1ba3-4043-af56-75a717026698",
   "metadata": {},
   "outputs": [
    {
     "data": {
      "text/plain": [
       "0"
      ]
     },
     "execution_count": 102,
     "metadata": {},
     "output_type": "execute_result"
    }
   ],
   "source": [
    "# since there are a lot of nulls, we will be creating a no_response category to replace all the nulls\n",
    "data['doctor_recc_h1n1'].fillna('no_response', inplace=True)\n",
    "data['doctor_recc_h1n1'].isna().sum()"
   ]
  },
  {
   "cell_type": "code",
   "execution_count": 103,
   "id": "1fc57124-0dc8-40ee-a2c9-7e27eed906dd",
   "metadata": {},
   "outputs": [
    {
     "name": "stdout",
     "output_type": "stream",
     "text": [
      "Number of Nulls: 2160,\n",
      " Value Counts : 0.0    16453\n",
      "1.0     8094\n",
      "Name: doctor_recc_seasonal, dtype: int64\n"
     ]
    },
    {
     "data": {
      "image/png": "[encoded data removed]",
      "text/plain": [
       "<Figure size 432x288 with 1 Axes>"
      ]
     },
     "metadata": {
      "needs_background": "light"
     },
     "output_type": "display_data"
    }
   ],
   "source": [
    "null_replacement(data, 'doctor_recc_seasonal')"
   ]
  },
  {
   "cell_type": "code",
   "execution_count": 104,
   "id": "78b926c3-7180-4f89-9480-5d5ef3a0e5ce",
   "metadata": {},
   "outputs": [
    {
     "data": {
      "text/plain": [
       "0"
      ]
     },
     "execution_count": 104,
     "metadata": {},
     "output_type": "execute_result"
    }
   ],
   "source": [
    "# since there are a lot of nulls, we will be creating a no_response category to replace all the nulls\n",
    "data['doctor_recc_seasonal'].fillna('no_response', inplace=True)\n",
    "data['doctor_recc_seasonal'].isna().sum()"
   ]
  },
  {
   "cell_type": "code",
   "execution_count": 105,
   "id": "eb2c4d83-deab-4573-813d-550a0ebe5026",
   "metadata": {},
   "outputs": [
    {
     "name": "stdout",
     "output_type": "stream",
     "text": [
      "Number of Nulls: 971,\n",
      " Value Counts : 0.0    18446\n",
      "1.0     7290\n",
      "Name: chronic_med_condition, dtype: int64\n"
     ]
    },
    {
     "data": {
      "image/png": "[encoded data removed]",
      "text/plain": [
       "<Figure size 432x288 with 1 Axes>"
      ]
     },
     "metadata": {
      "needs_background": "light"
     },
     "output_type": "display_data"
    }
   ],
   "source": [
    "null_replacement(data, 'chronic_med_condition')"
   ]
  },
  {
   "cell_type": "code",
   "execution_count": 106,
   "id": "03a79f08-be50-4f83-8d31-3ce1d09af071",
   "metadata": {},
   "outputs": [
    {
     "data": {
      "text/plain": [
       "0"
      ]
     },
     "execution_count": 106,
     "metadata": {},
     "output_type": "execute_result"
    }
   ],
   "source": [
    "# since there are a lot of nulls, we will be creating a no_response category to replace all the nulls\n",
    "data['chronic_med_condition'].fillna('no_response', inplace=True)\n",
    "data['chronic_med_condition'].isna().sum()"
   ]
  },
  {
   "cell_type": "markdown",
   "id": "4d68fed6-337c-474d-b297-9bb76ebf4880",
   "metadata": {},
   "source": [
    "#### Kartin's features"
   ]
  },
  {
   "cell_type": "code",
   "execution_count": 107,
   "id": "174f9a3c-f077-45c0-8cbc-b9a233f6f78f",
   "metadata": {},
   "outputs": [],
   "source": [
    "#'opinion_h1n1_vacc_effective' - There are 391 null values. The median is 4. Replace missing values with 4. \n",
    "data['opinion_h1n1_vacc_effective'].fillna(4, inplace = True)\n",
    "#'opinion_h1n1_risk' There are 388 null values. The median is 2. Replace missing values with 2. \n",
    "data['opinion_h1n1_risk'].fillna(2, inplace = True)\n",
    "#'opinion_h1n1_sick_from_vacc' There are 395 nulls values. The median is 2. Replace missing values with 2. \n",
    "data['opinion_h1n1_sick_from_vacc'].fillna(2, inplace = True)\n",
    "# 'opinion_seas_vacc_effective'There are 462 null values.  The median is 4. Replace missing values with 4. \n",
    "data['opinion_seas_vacc_effective'].fillna(2, inplace = True)\n",
    "#'opinion_seas_risk' There are 514 null values. The median is 2. Replace missing values with 2. \n",
    "data['opinion_seas_risk'].fillna(2, inplace = True)\n",
    "# 'opinion_seas_sick_from_vacc' There are 537 null values. The median is 2. Replace missing values with 2. \n",
    "data['opinion_seas_sick_from_vacc'].fillna(2, inplace = True)"
   ]
  },
  {
   "cell_type": "code",
   "execution_count": 108,
   "id": "282ffa5b-1dc9-489c-8ca2-29b72e5ce6b5",
   "metadata": {},
   "outputs": [
    {
     "name": "stdout",
     "output_type": "stream",
     "text": [
      "Number of Nulls: 820,\n",
      " Value Counts : 0.0    23749\n",
      "1.0     2138\n",
      "Name: child_under_6_months, dtype: int64\n"
     ]
    },
    {
     "data": {
      "image/png": "[encoded data removed]",
      "text/plain": [
       "<Figure size 432x288 with 1 Axes>"
      ]
     },
     "metadata": {
      "needs_background": "light"
     },
     "output_type": "display_data"
    }
   ],
   "source": [
    "null_replacement(data, 'child_under_6_months')"
   ]
  },
  {
   "cell_type": "code",
   "execution_count": 109,
   "id": "c4e851ac-4568-4e70-9c92-c640901dbf3f",
   "metadata": {},
   "outputs": [
    {
     "data": {
      "text/html": [
       "<div>\n",
       "<style scoped>\n",
       "    .dataframe tbody tr th:only-of-type {\n",
       "        vertical-align: middle;\n",
       "    }\n",
       "\n",
       "    .dataframe tbody tr th {\n",
       "        vertical-align: top;\n",
       "    }\n",
       "\n",
       "    .dataframe thead th {\n",
       "        text-align: right;\n",
       "    }\n",
       "</style>\n",
       "<table border=\"1\" class=\"dataframe\">\n",
       "  <thead>\n",
       "    <tr style=\"text-align: right;\">\n",
       "      <th>child_under_6_months</th>\n",
       "      <th>0.0</th>\n",
       "      <th>1.0</th>\n",
       "    </tr>\n",
       "    <tr>\n",
       "      <th>age_group</th>\n",
       "      <th></th>\n",
       "      <th></th>\n",
       "    </tr>\n",
       "  </thead>\n",
       "  <tbody>\n",
       "    <tr>\n",
       "      <th>18 - 34 Years</th>\n",
       "      <td>0.865</td>\n",
       "      <td>0.135</td>\n",
       "    </tr>\n",
       "    <tr>\n",
       "      <th>35 - 44 Years</th>\n",
       "      <td>0.910</td>\n",
       "      <td>0.090</td>\n",
       "    </tr>\n",
       "    <tr>\n",
       "      <th>45 - 54 Years</th>\n",
       "      <td>0.924</td>\n",
       "      <td>0.076</td>\n",
       "    </tr>\n",
       "    <tr>\n",
       "      <th>55 - 64 Years</th>\n",
       "      <td>0.922</td>\n",
       "      <td>0.078</td>\n",
       "    </tr>\n",
       "    <tr>\n",
       "      <th>65+ Years</th>\n",
       "      <td>0.953</td>\n",
       "      <td>0.047</td>\n",
       "    </tr>\n",
       "    <tr>\n",
       "      <th>All</th>\n",
       "      <td>0.917</td>\n",
       "      <td>0.083</td>\n",
       "    </tr>\n",
       "  </tbody>\n",
       "</table>\n",
       "</div>"
      ],
      "text/plain": [
       "child_under_6_months    0.0    1.0\n",
       "age_group                         \n",
       "18 - 34 Years         0.865  0.135\n",
       "35 - 44 Years         0.910  0.090\n",
       "45 - 54 Years         0.924  0.076\n",
       "55 - 64 Years         0.922  0.078\n",
       "65+ Years             0.953  0.047\n",
       "All                   0.917  0.083"
      ]
     },
     "execution_count": 109,
     "metadata": {},
     "output_type": "execute_result"
    }
   ],
   "source": [
    "pd.crosstab(index=data['age_group'], columns=data['child_under_6_months'],margins=True,normalize='index').round(3)"
   ]
  },
  {
   "cell_type": "code",
   "execution_count": 110,
   "id": "5f89358f-52f6-4f84-8b4f-bc2eabc1f56f",
   "metadata": {},
   "outputs": [
    {
     "data": {
      "text/html": [
       "<div>\n",
       "<style scoped>\n",
       "    .dataframe tbody tr th:only-of-type {\n",
       "        vertical-align: middle;\n",
       "    }\n",
       "\n",
       "    .dataframe tbody tr th {\n",
       "        vertical-align: top;\n",
       "    }\n",
       "\n",
       "    .dataframe thead th {\n",
       "        text-align: right;\n",
       "    }\n",
       "</style>\n",
       "<table border=\"1\" class=\"dataframe\">\n",
       "  <thead>\n",
       "    <tr style=\"text-align: right;\">\n",
       "      <th>child_under_6_months</th>\n",
       "      <th>0.0</th>\n",
       "      <th>1.0</th>\n",
       "      <th>no_response</th>\n",
       "    </tr>\n",
       "    <tr>\n",
       "      <th>age_group</th>\n",
       "      <th></th>\n",
       "      <th></th>\n",
       "      <th></th>\n",
       "    </tr>\n",
       "  </thead>\n",
       "  <tbody>\n",
       "    <tr>\n",
       "      <th>18 - 34 Years</th>\n",
       "      <td>0.831</td>\n",
       "      <td>0.130</td>\n",
       "      <td>0.039</td>\n",
       "    </tr>\n",
       "    <tr>\n",
       "      <th>35 - 44 Years</th>\n",
       "      <td>0.873</td>\n",
       "      <td>0.087</td>\n",
       "      <td>0.040</td>\n",
       "    </tr>\n",
       "    <tr>\n",
       "      <th>45 - 54 Years</th>\n",
       "      <td>0.898</td>\n",
       "      <td>0.074</td>\n",
       "      <td>0.028</td>\n",
       "    </tr>\n",
       "    <tr>\n",
       "      <th>55 - 64 Years</th>\n",
       "      <td>0.901</td>\n",
       "      <td>0.076</td>\n",
       "      <td>0.023</td>\n",
       "    </tr>\n",
       "    <tr>\n",
       "      <th>65+ Years</th>\n",
       "      <td>0.927</td>\n",
       "      <td>0.046</td>\n",
       "      <td>0.027</td>\n",
       "    </tr>\n",
       "    <tr>\n",
       "      <th>All</th>\n",
       "      <td>0.889</td>\n",
       "      <td>0.080</td>\n",
       "      <td>0.031</td>\n",
       "    </tr>\n",
       "  </tbody>\n",
       "</table>\n",
       "</div>"
      ],
      "text/plain": [
       "child_under_6_months    0.0    1.0  no_response\n",
       "age_group                                      \n",
       "18 - 34 Years         0.831  0.130        0.039\n",
       "35 - 44 Years         0.873  0.087        0.040\n",
       "45 - 54 Years         0.898  0.074        0.028\n",
       "55 - 64 Years         0.901  0.076        0.023\n",
       "65+ Years             0.927  0.046        0.027\n",
       "All                   0.889  0.080        0.031"
      ]
     },
     "execution_count": 110,
     "metadata": {},
     "output_type": "execute_result"
    }
   ],
   "source": [
    "pd.crosstab(index=data['age_group'], columns=data['child_under_6_months'].fillna('no_response'),margins=True,normalize='index').round(3)"
   ]
  },
  {
   "cell_type": "code",
   "execution_count": 111,
   "id": "6280b8ae-5dc0-4cef-a47a-92a60b442cd0",
   "metadata": {},
   "outputs": [
    {
     "name": "stderr",
     "output_type": "stream",
     "text": [
      "C:\\ProgramData\\Anaconda3\\lib\\site-packages\\pandas\\core\\indexing.py:1732: SettingWithCopyWarning: \n",
      "A value is trying to be set on a copy of a slice from a DataFrame\n",
      "\n",
      "See the caveats in the documentation: https://pandas.pydata.org/pandas-docs/stable/user_guide/indexing.html#returning-a-view-versus-a-copy\n",
      "  self._setitem_single_block(indexer, value, name)\n",
      "C:\\Users\\LAVANY~1\\AppData\\Local\\Temp/ipykernel_18096/247782949.py:40: SettingWithCopyWarning: \n",
      "A value is trying to be set on a copy of a slice from a DataFrame\n",
      "\n",
      "See the caveats in the documentation: https://pandas.pydata.org/pandas-docs/stable/user_guide/indexing.html#returning-a-view-versus-a-copy\n",
      "  var[mask] = maxprob_val\n"
     ]
    }
   ],
   "source": [
    "data['child_under_6_months'] = fill_nulls(var=data['child_under_6_months'], grouping_var=data['age_group'])"
   ]
  },
  {
   "cell_type": "code",
   "execution_count": null,
   "id": "42c3082a-8052-4b2a-99a3-0d4755e249b5",
   "metadata": {},
   "outputs": [],
   "source": []
  },
  {
   "cell_type": "code",
   "execution_count": 112,
   "id": "2f9e23f4-6e92-4e26-90a3-766b2223d1bc",
   "metadata": {},
   "outputs": [
    {
     "ename": "NameError",
     "evalue": "name 'test_data' is not defined",
     "output_type": "error",
     "traceback": [
      "\u001b[1;31m---------------------------------------------------------------------------\u001b[0m",
      "\u001b[1;31mNameError\u001b[0m                                 Traceback (most recent call last)",
      "\u001b[1;32mC:\\Users\\LAVANY~1\\AppData\\Local\\Temp/ipykernel_18096/1841777081.py\u001b[0m in \u001b[0;36m<module>\u001b[1;34m\u001b[0m\n\u001b[1;32m----> 1\u001b[1;33m \u001b[0mtest_data\u001b[0m\u001b[1;33m.\u001b[0m\u001b[0mvalue_counts\u001b[0m\u001b[1;33m(\u001b[0m\u001b[1;33m)\u001b[0m\u001b[1;33m\u001b[0m\u001b[1;33m\u001b[0m\u001b[0m\n\u001b[0m",
      "\u001b[1;31mNameError\u001b[0m: name 'test_data' is not defined"
     ]
    }
   ],
   "source": [
    "test_data.value_counts()"
   ]
  },
  {
   "cell_type": "code",
   "execution_count": 113,
   "id": "b04b4a6e-5ae7-42af-9d0f-9585466df0bd",
   "metadata": {},
   "outputs": [
    {
     "ename": "NameError",
     "evalue": "name 'test_data' is not defined",
     "output_type": "error",
     "traceback": [
      "\u001b[1;31m---------------------------------------------------------------------------\u001b[0m",
      "\u001b[1;31mNameError\u001b[0m                                 Traceback (most recent call last)",
      "\u001b[1;32mC:\\Users\\LAVANY~1\\AppData\\Local\\Temp/ipykernel_18096/1854879503.py\u001b[0m in \u001b[0;36m<module>\u001b[1;34m\u001b[0m\n\u001b[1;32m----> 1\u001b[1;33m \u001b[0mpd\u001b[0m\u001b[1;33m.\u001b[0m\u001b[0mcrosstab\u001b[0m\u001b[1;33m(\u001b[0m\u001b[0mindex\u001b[0m\u001b[1;33m=\u001b[0m\u001b[0mdata\u001b[0m\u001b[1;33m[\u001b[0m\u001b[1;34m'age_group'\u001b[0m\u001b[1;33m]\u001b[0m\u001b[1;33m,\u001b[0m \u001b[0mcolumns\u001b[0m\u001b[1;33m=\u001b[0m\u001b[0mtest_data\u001b[0m\u001b[1;33m.\u001b[0m\u001b[0mfillna\u001b[0m\u001b[1;33m(\u001b[0m\u001b[1;34m'no_response'\u001b[0m\u001b[1;33m)\u001b[0m\u001b[1;33m,\u001b[0m\u001b[0mmargins\u001b[0m\u001b[1;33m=\u001b[0m\u001b[1;32mTrue\u001b[0m\u001b[1;33m,\u001b[0m\u001b[0mnormalize\u001b[0m\u001b[1;33m=\u001b[0m\u001b[1;34m'index'\u001b[0m\u001b[1;33m)\u001b[0m\u001b[1;33m.\u001b[0m\u001b[0mround\u001b[0m\u001b[1;33m(\u001b[0m\u001b[1;36m3\u001b[0m\u001b[1;33m)\u001b[0m\u001b[1;33m\u001b[0m\u001b[1;33m\u001b[0m\u001b[0m\n\u001b[0m",
      "\u001b[1;31mNameError\u001b[0m: name 'test_data' is not defined"
     ]
    }
   ],
   "source": [
    "pd.crosstab(index=data['age_group'], columns=test_data.fillna('no_response'),margins=True,normalize='index').round(3)"
   ]
  },
  {
   "cell_type": "code",
   "execution_count": 114,
   "id": "1069526f-0d56-43de-b3eb-0ee9465e6792",
   "metadata": {},
   "outputs": [
    {
     "data": {
      "text/plain": [
       "Series([], Name: child_under_6_months, dtype: float64)"
      ]
     },
     "execution_count": 114,
     "metadata": {},
     "output_type": "execute_result"
    }
   ],
   "source": [
    "data[data['child_under_6_months'].isna()]['child_under_6_months'].head(20)"
   ]
  },
  {
   "cell_type": "code",
   "execution_count": 115,
   "id": "82344386-5dd5-4366-9f99-f4fc85e796ec",
   "metadata": {},
   "outputs": [
    {
     "ename": "NameError",
     "evalue": "name 'test_data' is not defined",
     "output_type": "error",
     "traceback": [
      "\u001b[1;31m---------------------------------------------------------------------------\u001b[0m",
      "\u001b[1;31mNameError\u001b[0m                                 Traceback (most recent call last)",
      "\u001b[1;32mC:\\Users\\LAVANY~1\\AppData\\Local\\Temp/ipykernel_18096/2699592302.py\u001b[0m in \u001b[0;36m<module>\u001b[1;34m\u001b[0m\n\u001b[1;32m----> 1\u001b[1;33m \u001b[0mtest_data\u001b[0m\u001b[1;33m[\u001b[0m\u001b[1;36m183\u001b[0m\u001b[1;33m]\u001b[0m\u001b[1;33m\u001b[0m\u001b[1;33m\u001b[0m\u001b[0m\n\u001b[0m",
      "\u001b[1;31mNameError\u001b[0m: name 'test_data' is not defined"
     ]
    }
   ],
   "source": [
    "test_data[183]"
   ]
  },
  {
   "cell_type": "code",
   "execution_count": 116,
   "id": "c20449ae-24c5-44f1-871c-7598bc773133",
   "metadata": {},
   "outputs": [
    {
     "name": "stdout",
     "output_type": "stream",
     "text": [
      "Number of Nulls: 12274,\n",
      " Value Counts : 1.0    12697\n",
      "0.0     1736\n",
      "Name: health_insurance, dtype: int64\n"
     ]
    },
    {
     "data": {
      "image/png": "[encoded data removed]",
      "text/plain": [
       "<Figure size 432x288 with 1 Axes>"
      ]
     },
     "metadata": {
      "needs_background": "light"
     },
     "output_type": "display_data"
    }
   ],
   "source": [
    "null_replacement(data, 'health_insurance')"
   ]
  },
  {
   "cell_type": "code",
   "execution_count": 117,
   "id": "94caafe7-2d9c-4b6a-a332-18b49f1165f5",
   "metadata": {},
   "outputs": [
    {
     "name": "stdout",
     "output_type": "stream",
     "text": [
      "Number of Nulls: 0,\n",
      " Value Counts : yes            12697\n",
      "no_response    12274\n",
      "no              1736\n",
      "Name: health_insurance, dtype: int64\n"
     ]
    },
    {
     "data": {
      "image/png": "[encoded data removed]",
      "text/plain": [
       "<Figure size 432x288 with 1 Axes>"
      ]
     },
     "metadata": {
      "needs_background": "light"
     },
     "output_type": "display_data"
    }
   ],
   "source": [
    "data['health_insurance'].fillna('no_response', inplace=True)\n",
    "data['health_insurance'].replace({0 : 'no', 1 : 'yes'}, inplace=True)\n",
    "null_replacement(data, 'health_insurance')"
   ]
  },
  {
   "cell_type": "code",
   "execution_count": 118,
   "id": "33b2f61b-7049-4bed-bdea-29bfa1ba5575",
   "metadata": {},
   "outputs": [
    {
     "name": "stdout",
     "output_type": "stream",
     "text": [
      "Number of Nulls: 804,\n",
      " Value Counts : 0.0    23004\n",
      "1.0     2899\n",
      "Name: health_worker, dtype: int64\n"
     ]
    },
    {
     "data": {
      "image/png": "[encoded data removed]",
      "text/plain": [
       "<Figure size 432x288 with 1 Axes>"
      ]
     },
     "metadata": {
      "needs_background": "light"
     },
     "output_type": "display_data"
    }
   ],
   "source": [
    "null_replacement(data, 'health_worker')"
   ]
  },
  {
   "cell_type": "code",
   "execution_count": 119,
   "id": "fc2ad68e-b5a4-4210-ae55-0f7a36ba5f5a",
   "metadata": {},
   "outputs": [
    {
     "name": "stdout",
     "output_type": "stream",
     "text": [
      "Number of Nulls: 0,\n",
      " Value Counts : no             23004\n",
      "yes             2899\n",
      "no_response      804\n",
      "Name: health_worker, dtype: int64\n"
     ]
    },
    {
     "data": {
      "image/png": "[encoded data removed]",
      "text/plain": [
       "<Figure size 432x288 with 1 Axes>"
      ]
     },
     "metadata": {
      "needs_background": "light"
     },
     "output_type": "display_data"
    }
   ],
   "source": [
    "data['health_worker'].fillna('no_response', inplace=True)\n",
    "data['health_worker'].replace({0 : 'no', 1 : 'yes'}, inplace=True)\n",
    "null_replacement(data, 'health_worker')"
   ]
  },
  {
   "cell_type": "code",
   "execution_count": 120,
   "id": "31dcae84-c2e6-40c9-bcf3-428aa66e6d01",
   "metadata": {},
   "outputs": [
    {
     "name": "stdout",
     "output_type": "stream",
     "text": [
      "Number of Nulls: 1407,\n",
      " Value Counts : College Graduate    10097\n",
      "Some College         7043\n",
      "12 Years             5797\n",
      "< 12 Years           2363\n",
      "Name: education, dtype: int64\n"
     ]
    },
    {
     "data": {
      "image/png": "[encoded data removed]",
      "text/plain": [
       "<Figure size 432x288 with 1 Axes>"
      ]
     },
     "metadata": {
      "needs_background": "light"
     },
     "output_type": "display_data"
    }
   ],
   "source": [
    "null_replacement(data, 'education')"
   ]
  },
  {
   "cell_type": "code",
   "execution_count": 121,
   "id": "0473dc60-cef1-4e41-a0a0-36e72a84004d",
   "metadata": {},
   "outputs": [
    {
     "data": {
      "text/html": [
       "<div>\n",
       "<style scoped>\n",
       "    .dataframe tbody tr th:only-of-type {\n",
       "        vertical-align: middle;\n",
       "    }\n",
       "\n",
       "    .dataframe tbody tr th {\n",
       "        vertical-align: top;\n",
       "    }\n",
       "\n",
       "    .dataframe thead th {\n",
       "        text-align: right;\n",
       "    }\n",
       "</style>\n",
       "<table border=\"1\" class=\"dataframe\">\n",
       "  <thead>\n",
       "    <tr style=\"text-align: right;\">\n",
       "      <th>education</th>\n",
       "      <th>12 Years</th>\n",
       "      <th>&lt; 12 Years</th>\n",
       "      <th>College Graduate</th>\n",
       "      <th>Some College</th>\n",
       "    </tr>\n",
       "    <tr>\n",
       "      <th>age_group</th>\n",
       "      <th></th>\n",
       "      <th></th>\n",
       "      <th></th>\n",
       "      <th></th>\n",
       "    </tr>\n",
       "  </thead>\n",
       "  <tbody>\n",
       "    <tr>\n",
       "      <th>18 - 34 Years</th>\n",
       "      <td>22.84</td>\n",
       "      <td>10.39</td>\n",
       "      <td>35.08</td>\n",
       "      <td>31.70</td>\n",
       "    </tr>\n",
       "    <tr>\n",
       "      <th>35 - 44 Years</th>\n",
       "      <td>16.58</td>\n",
       "      <td>7.08</td>\n",
       "      <td>50.00</td>\n",
       "      <td>26.34</td>\n",
       "    </tr>\n",
       "    <tr>\n",
       "      <th>45 - 54 Years</th>\n",
       "      <td>21.57</td>\n",
       "      <td>6.81</td>\n",
       "      <td>42.60</td>\n",
       "      <td>29.02</td>\n",
       "    </tr>\n",
       "    <tr>\n",
       "      <th>55 - 64 Years</th>\n",
       "      <td>21.47</td>\n",
       "      <td>7.20</td>\n",
       "      <td>44.54</td>\n",
       "      <td>26.79</td>\n",
       "    </tr>\n",
       "    <tr>\n",
       "      <th>65+ Years</th>\n",
       "      <td>28.60</td>\n",
       "      <td>13.47</td>\n",
       "      <td>32.18</td>\n",
       "      <td>25.76</td>\n",
       "    </tr>\n",
       "    <tr>\n",
       "      <th>All</th>\n",
       "      <td>22.91</td>\n",
       "      <td>9.34</td>\n",
       "      <td>39.91</td>\n",
       "      <td>27.84</td>\n",
       "    </tr>\n",
       "  </tbody>\n",
       "</table>\n",
       "</div>"
      ],
      "text/plain": [
       "education      12 Years  < 12 Years  College Graduate  Some College\n",
       "age_group                                                          \n",
       "18 - 34 Years     22.84       10.39             35.08         31.70\n",
       "35 - 44 Years     16.58        7.08             50.00         26.34\n",
       "45 - 54 Years     21.57        6.81             42.60         29.02\n",
       "55 - 64 Years     21.47        7.20             44.54         26.79\n",
       "65+ Years         28.60       13.47             32.18         25.76\n",
       "All               22.91        9.34             39.91         27.84"
      ]
     },
     "execution_count": 121,
     "metadata": {},
     "output_type": "execute_result"
    }
   ],
   "source": [
    "pd.crosstab(index=data['age_group'], columns=data['education'],margins=True,normalize='index').round(4)*100"
   ]
  },
  {
   "cell_type": "code",
   "execution_count": 122,
   "id": "939251bd-3805-4144-aa73-a50609b44965",
   "metadata": {},
   "outputs": [],
   "source": [
    "data['education'].fillna('no_response', inplace=True)"
   ]
  },
  {
   "cell_type": "code",
   "execution_count": 123,
   "id": "2b730a49-8373-427b-b977-6f4c93f7a794",
   "metadata": {},
   "outputs": [
    {
     "data": {
      "text/plain": [
       "0"
      ]
     },
     "execution_count": 123,
     "metadata": {},
     "output_type": "execute_result"
    }
   ],
   "source": [
    "data['education'].isna().sum()"
   ]
  },
  {
   "cell_type": "markdown",
   "id": "25b055f9-f70a-4fbf-ad66-6d2ac3c10f5f",
   "metadata": {},
   "source": [
    "### EDA for each variable\n",
    "**I will be plotting observation counts/percentages for each category in the column as well as for the nulls and replacing null values based on what I see**"
   ]
  },
  {
   "cell_type": "code",
   "execution_count": 237,
   "id": "71ee5b8f-9906-4a23-affc-0c22798787a4",
   "metadata": {},
   "outputs": [],
   "source": [
    "def replace(var, kind, grouping_var='', dataset=[]):\n",
    "    '''\n",
    "    replace the null values with either 'no_response', or using percentages of distribution of values according to age group\n",
    "    '''\n",
    "    if kind=='no_response':\n",
    "        return var_data[var].fillna('no_response', inplace=True)\n",
    "    elif kind=='age_group':\n",
    "        retdata = fill_nulls(dataset, var, grouping_var) \n",
    "        return retdata"
   ]
  },
  {
   "cell_type": "code",
   "execution_count": 246,
   "id": "dfbad08a-2b7e-48fe-a1e6-d95401dcfe61",
   "metadata": {},
   "outputs": [
    {
     "data": {
      "text/html": [
       "<div>\n",
       "<style scoped>\n",
       "    .dataframe tbody tr th:only-of-type {\n",
       "        vertical-align: middle;\n",
       "    }\n",
       "\n",
       "    .dataframe tbody tr th {\n",
       "        vertical-align: top;\n",
       "    }\n",
       "\n",
       "    .dataframe thead th {\n",
       "        text-align: right;\n",
       "    }\n",
       "</style>\n",
       "<table border=\"1\" class=\"dataframe\">\n",
       "  <thead>\n",
       "    <tr style=\"text-align: right;\">\n",
       "      <th>income_poverty</th>\n",
       "      <th>&lt;= $75,000, Above Poverty</th>\n",
       "      <th>&gt; $75,000</th>\n",
       "      <th>Below Poverty</th>\n",
       "    </tr>\n",
       "    <tr>\n",
       "      <th>age_group</th>\n",
       "      <th></th>\n",
       "      <th></th>\n",
       "      <th></th>\n",
       "    </tr>\n",
       "  </thead>\n",
       "  <tbody>\n",
       "    <tr>\n",
       "      <th>18 - 34 Years</th>\n",
       "      <td>0.536</td>\n",
       "      <td>0.265</td>\n",
       "      <td>0.200</td>\n",
       "    </tr>\n",
       "    <tr>\n",
       "      <th>35 - 44 Years</th>\n",
       "      <td>0.454</td>\n",
       "      <td>0.432</td>\n",
       "      <td>0.114</td>\n",
       "    </tr>\n",
       "    <tr>\n",
       "      <th>45 - 54 Years</th>\n",
       "      <td>0.501</td>\n",
       "      <td>0.406</td>\n",
       "      <td>0.093</td>\n",
       "    </tr>\n",
       "    <tr>\n",
       "      <th>55 - 64 Years</th>\n",
       "      <td>0.579</td>\n",
       "      <td>0.338</td>\n",
       "      <td>0.083</td>\n",
       "    </tr>\n",
       "    <tr>\n",
       "      <th>65+ Years</th>\n",
       "      <td>0.736</td>\n",
       "      <td>0.145</td>\n",
       "      <td>0.118</td>\n",
       "    </tr>\n",
       "    <tr>\n",
       "      <th>All</th>\n",
       "      <td>0.573</td>\n",
       "      <td>0.306</td>\n",
       "      <td>0.121</td>\n",
       "    </tr>\n",
       "  </tbody>\n",
       "</table>\n",
       "</div>"
      ],
      "text/plain": [
       "income_poverty  <= $75,000, Above Poverty  > $75,000  Below Poverty\n",
       "age_group                                                          \n",
       "18 - 34 Years                       0.536      0.265          0.200\n",
       "35 - 44 Years                       0.454      0.432          0.114\n",
       "45 - 54 Years                       0.501      0.406          0.093\n",
       "55 - 64 Years                       0.579      0.338          0.083\n",
       "65+ Years                           0.736      0.145          0.118\n",
       "All                                 0.573      0.306          0.121"
      ]
     },
     "execution_count": 246,
     "metadata": {},
     "output_type": "execute_result"
    }
   ],
   "source": [
    "pd.crosstab(index=data['age_group'], columns=data['income_poverty'],margins=True,normalize='index').round(3)"
   ]
  },
  {
   "cell_type": "code",
   "execution_count": 242,
   "id": "b26a5d17-ec3c-4147-8197-ca0c810592d7",
   "metadata": {},
   "outputs": [
    {
     "name": "stderr",
     "output_type": "stream",
     "text": [
      "C:\\Users\\LAVANY~1\\AppData\\Local\\Temp/ipykernel_18880/2360538483.py:37: SettingWithCopyWarning: \n",
      "A value is trying to be set on a copy of a slice from a DataFrame\n",
      "\n",
      "See the caveats in the documentation: https://pandas.pydata.org/pandas-docs/stable/user_guide/indexing.html#returning-a-view-versus-a-copy\n",
      "  dataset[var][nulls_to_fill] = values[i]\n"
     ]
    }
   ],
   "source": [
    "test_data = fill_nulls(var='income_poverty', grouping_var='age_group', dataset=data)"
   ]
  },
  {
   "cell_type": "code",
   "execution_count": 247,
   "id": "fa45d316-255a-4ec9-b85d-3395a4ba8a36",
   "metadata": {},
   "outputs": [
    {
     "data": {
      "text/html": [
       "<div>\n",
       "<style scoped>\n",
       "    .dataframe tbody tr th:only-of-type {\n",
       "        vertical-align: middle;\n",
       "    }\n",
       "\n",
       "    .dataframe tbody tr th {\n",
       "        vertical-align: top;\n",
       "    }\n",
       "\n",
       "    .dataframe thead th {\n",
       "        text-align: right;\n",
       "    }\n",
       "</style>\n",
       "<table border=\"1\" class=\"dataframe\">\n",
       "  <thead>\n",
       "    <tr style=\"text-align: right;\">\n",
       "      <th>income_poverty</th>\n",
       "      <th>&lt;= $75,000, Above Poverty</th>\n",
       "      <th>&gt; $75,000</th>\n",
       "      <th>Below Poverty</th>\n",
       "    </tr>\n",
       "    <tr>\n",
       "      <th>age_group</th>\n",
       "      <th></th>\n",
       "      <th></th>\n",
       "      <th></th>\n",
       "    </tr>\n",
       "  </thead>\n",
       "  <tbody>\n",
       "    <tr>\n",
       "      <th>18 - 34 Years</th>\n",
       "      <td>0.536</td>\n",
       "      <td>0.265</td>\n",
       "      <td>0.200</td>\n",
       "    </tr>\n",
       "    <tr>\n",
       "      <th>35 - 44 Years</th>\n",
       "      <td>0.454</td>\n",
       "      <td>0.432</td>\n",
       "      <td>0.114</td>\n",
       "    </tr>\n",
       "    <tr>\n",
       "      <th>45 - 54 Years</th>\n",
       "      <td>0.501</td>\n",
       "      <td>0.406</td>\n",
       "      <td>0.093</td>\n",
       "    </tr>\n",
       "    <tr>\n",
       "      <th>55 - 64 Years</th>\n",
       "      <td>0.579</td>\n",
       "      <td>0.338</td>\n",
       "      <td>0.083</td>\n",
       "    </tr>\n",
       "    <tr>\n",
       "      <th>65+ Years</th>\n",
       "      <td>0.736</td>\n",
       "      <td>0.145</td>\n",
       "      <td>0.118</td>\n",
       "    </tr>\n",
       "    <tr>\n",
       "      <th>&lt;= $75,000, Above Poverty</th>\n",
       "      <td>1.000</td>\n",
       "      <td>0.000</td>\n",
       "      <td>0.000</td>\n",
       "    </tr>\n",
       "    <tr>\n",
       "      <th>All</th>\n",
       "      <td>0.644</td>\n",
       "      <td>0.255</td>\n",
       "      <td>0.101</td>\n",
       "    </tr>\n",
       "  </tbody>\n",
       "</table>\n",
       "</div>"
      ],
      "text/plain": [
       "income_poverty             <= $75,000, Above Poverty  > $75,000  Below Poverty\n",
       "age_group                                                                     \n",
       "18 - 34 Years                                  0.536      0.265          0.200\n",
       "35 - 44 Years                                  0.454      0.432          0.114\n",
       "45 - 54 Years                                  0.501      0.406          0.093\n",
       "55 - 64 Years                                  0.579      0.338          0.083\n",
       "65+ Years                                      0.736      0.145          0.118\n",
       "<= $75,000, Above Poverty                      1.000      0.000          0.000\n",
       "All                                            0.644      0.255          0.101"
      ]
     },
     "execution_count": 247,
     "metadata": {},
     "output_type": "execute_result"
    }
   ],
   "source": [
    "pd.crosstab(index=test_data['age_group'], columns=test_data['income_poverty'].fillna('no_response'),margins=True,normalize='index').round(3)"
   ]
  },
  {
   "cell_type": "code",
   "execution_count": 124,
   "id": "f47bb1c7-f195-44a4-aa80-f54b5af61f6e",
   "metadata": {},
   "outputs": [
    {
     "data": {
      "text/plain": [
       "4423"
      ]
     },
     "execution_count": 124,
     "metadata": {},
     "output_type": "execute_result"
    }
   ],
   "source": [
    "data['income_poverty'].isna().sum()"
   ]
  },
  {
   "cell_type": "markdown",
   "id": "d836af74-17cc-4343-b937-f56fb1318dce",
   "metadata": {},
   "source": [
    "#### sex"
   ]
  },
  {
   "cell_type": "code",
   "execution_count": 126,
   "id": "5a0ab184-e392-414f-97d1-e73cdae5ffe6",
   "metadata": {},
   "outputs": [
    {
     "data": {
      "image/png": "[encoded data removed]",
      "text/plain": [
       "<Figure size 432x288 with 1 Axes>"
      ]
     },
     "metadata": {
      "needs_background": "light"
     },
     "output_type": "display_data"
    }
   ],
   "source": [
    "var = 'sex'\n",
    "\n",
    "visualize(data, var)"
   ]
  },
  {
   "cell_type": "markdown",
   "id": "d91b6d0d-bad6-4112-a5db-7ef85f445cb8",
   "metadata": {},
   "source": [
    "#### income poverty"
   ]
  },
  {
   "cell_type": "code",
   "execution_count": 127,
   "id": "c3d5aa43-94d6-4880-a7d1-00355652b027",
   "metadata": {},
   "outputs": [
    {
     "data": {
      "text/plain": [
       "4423"
      ]
     },
     "execution_count": 127,
     "metadata": {},
     "output_type": "execute_result"
    }
   ],
   "source": [
    "data['income_poverty'].isna().sum()"
   ]
  },
  {
   "cell_type": "code",
   "execution_count": 128,
   "id": "2e4f029b-e175-4ce8-87f3-d3f353d82cdd",
   "metadata": {},
   "outputs": [
    {
     "data": {
      "text/plain": [
       "<= $75,000, Above Poverty    12777\n",
       "> $75,000                     6810\n",
       "Below Poverty                 2697\n",
       "Name: income_poverty, dtype: int64"
      ]
     },
     "execution_count": 128,
     "metadata": {},
     "output_type": "execute_result"
    }
   ],
   "source": [
    "data['income_poverty'].value_counts()"
   ]
  },
  {
   "cell_type": "code",
   "execution_count": 130,
   "id": "b9860fe2-652d-4d4d-8b06-b2963d561e24",
   "metadata": {},
   "outputs": [
    {
     "data": {
      "image/png": "[encoded data removed]",
      "text/plain": [
       "<Figure size 432x288 with 1 Axes>"
      ]
     },
     "metadata": {
      "needs_background": "light"
     },
     "output_type": "display_data"
    }
   ],
   "source": [
    "visualize(data, 'income_poverty')"
   ]
  },
  {
   "cell_type": "code",
   "execution_count": 131,
   "id": "e86a3e48-973d-4a8b-9e01-a01b85e33164",
   "metadata": {},
   "outputs": [],
   "source": [
    "data['income_poverty'].fillna('no_response', inplace=True)"
   ]
  },
  {
   "cell_type": "code",
   "execution_count": null,
   "id": "4e392d6c-23d4-45fa-a750-5812f43a7072",
   "metadata": {},
   "outputs": [],
   "source": []
  },
  {
   "cell_type": "markdown",
   "id": "0ef95567-c466-411b-9e3f-058b754b8b5d",
   "metadata": {},
   "source": [
    "### marital_status"
   ]
  },
  {
   "cell_type": "code",
   "execution_count": 132,
   "id": "bc7337d5-d3c7-4ba2-b9d6-e71593c37f6a",
   "metadata": {},
   "outputs": [
    {
     "data": {
      "image/png": "[encoded data removed]",
      "text/plain": [
       "<Figure size 432x288 with 1 Axes>"
      ]
     },
     "metadata": {
      "needs_background": "light"
     },
     "output_type": "display_data"
    }
   ],
   "source": [
    "var = 'marital_status'\n",
    "\n",
    "var_data = data[[var, 'h1n1_vaccine', 'seasonal_vaccine']].copy()\n",
    "var_data[var].fillna('unanswered', inplace=True)\n",
    "var_data.groupby(var)[['h1n1_vaccine', 'seasonal_vaccine']].mean().plot(kind='bar')\n",
    "plt.title(f'{var} : nulls = {data[var].isnull().sum()}');"
   ]
  },
  {
   "cell_type": "code",
   "execution_count": 133,
   "id": "302b51d3-4519-46b0-addb-690c314bae46",
   "metadata": {},
   "outputs": [],
   "source": [
    "data['marital_status'].fillna('no_response', inplace=True)"
   ]
  },
  {
   "cell_type": "code",
   "execution_count": null,
   "id": "8fc46351-e660-4c05-b861-d1c5fef6c239",
   "metadata": {},
   "outputs": [],
   "source": []
  },
  {
   "cell_type": "markdown",
   "id": "aa1c02c3-9ce6-4433-9be4-9cea1a111eb8",
   "metadata": {},
   "source": [
    "**Replace nulls in `marital_status` by 'unasnwered'**"
   ]
  },
  {
   "cell_type": "code",
   "execution_count": null,
   "id": "3c22fb31-c1f6-4a5e-84c7-0d9af3079754",
   "metadata": {},
   "outputs": [],
   "source": []
  },
  {
   "cell_type": "markdown",
   "id": "9ae32e45-244e-4f3f-80a7-b9769d018eee",
   "metadata": {},
   "source": [
    "#### employment_occupation"
   ]
  },
  {
   "cell_type": "code",
   "execution_count": 134,
   "id": "28ecbc7e-2046-4f88-bf81-81df59460940",
   "metadata": {},
   "outputs": [
    {
     "data": {
      "image/png": "[encoded data removed]",
      "text/plain": [
       "<Figure size 432x288 with 1 Axes>"
      ]
     },
     "metadata": {
      "needs_background": "light"
     },
     "output_type": "display_data"
    }
   ],
   "source": [
    "var = 'employment_occupation'\n",
    "\n",
    "var_data = data[[var, 'h1n1_vaccine', 'seasonal_vaccine']].copy()\n",
    "var_data[var].fillna('unanswered', inplace=True)\n",
    "\n",
    "var_data.groupby(var)[['h1n1_vaccine', 'seasonal_vaccine']].mean().plot(kind='bar')\n",
    "plt.title(f'{var} : nulls = {data[var].isnull().sum()}');"
   ]
  },
  {
   "cell_type": "code",
   "execution_count": 135,
   "id": "9264f046-77f8-405d-8211-a7ac8437dc00",
   "metadata": {},
   "outputs": [],
   "source": [
    "data['employment_occupation'].fillna('no_response', inplace=True)"
   ]
  },
  {
   "cell_type": "code",
   "execution_count": 136,
   "id": "7112bf2e-7de0-4699-b8a6-a9697a98d4ec",
   "metadata": {},
   "outputs": [
    {
     "data": {
      "image/png": "[encoded data removed]",
      "text/plain": [
       "<Figure size 432x288 with 1 Axes>"
      ]
     },
     "metadata": {
      "needs_background": "light"
     },
     "output_type": "display_data"
    }
   ],
   "source": [
    "var = 'employment_industry'\n",
    "\n",
    "var_data = data[[var, 'h1n1_vaccine', 'seasonal_vaccine']].copy()\n",
    "var_data[var].fillna('unanswered', inplace=True)\n",
    "var_data.groupby(var)[['h1n1_vaccine', 'seasonal_vaccine']].mean().plot(kind='bar')\n",
    "plt.title(f'{var} : nulls = {data[var].isnull().sum()}');"
   ]
  },
  {
   "cell_type": "code",
   "execution_count": 137,
   "id": "7bbf9d74-a57f-4cfb-84dd-85dd86025fc0",
   "metadata": {},
   "outputs": [],
   "source": [
    "data['employment_industry'].fillna('no_response', inplace=True)"
   ]
  },
  {
   "cell_type": "code",
   "execution_count": 138,
   "id": "f02ad186-7ead-4363-9dbe-b38bceb4ca49",
   "metadata": {},
   "outputs": [
    {
     "data": {
      "image/png": "[encoded data removed]",
      "text/plain": [
       "<Figure size 432x288 with 1 Axes>"
      ]
     },
     "metadata": {
      "needs_background": "light"
     },
     "output_type": "display_data"
    }
   ],
   "source": [
    "var = 'household_children'\n",
    "\n",
    "var_data = data[[var, 'h1n1_vaccine', 'seasonal_vaccine']].copy()\n",
    "var_data[var].fillna('unanswered', inplace=True)\n",
    "var_data.groupby(var)[['h1n1_vaccine', 'seasonal_vaccine']].mean().plot(kind='bar')\n",
    "plt.title(f'{var} : nulls = {data[var].isnull().sum()}');"
   ]
  },
  {
   "cell_type": "code",
   "execution_count": 139,
   "id": "adc92470-2e35-4894-93f2-a5a3580a38e0",
   "metadata": {},
   "outputs": [
    {
     "data": {
      "text/html": [
       "<div>\n",
       "<style scoped>\n",
       "    .dataframe tbody tr th:only-of-type {\n",
       "        vertical-align: middle;\n",
       "    }\n",
       "\n",
       "    .dataframe tbody tr th {\n",
       "        vertical-align: top;\n",
       "    }\n",
       "\n",
       "    .dataframe thead th {\n",
       "        text-align: right;\n",
       "    }\n",
       "</style>\n",
       "<table border=\"1\" class=\"dataframe\">\n",
       "  <thead>\n",
       "    <tr style=\"text-align: right;\">\n",
       "      <th>household_children</th>\n",
       "      <th>0.0</th>\n",
       "      <th>1.0</th>\n",
       "      <th>2.0</th>\n",
       "      <th>3.0</th>\n",
       "    </tr>\n",
       "    <tr>\n",
       "      <th>age_group</th>\n",
       "      <th></th>\n",
       "      <th></th>\n",
       "      <th></th>\n",
       "      <th></th>\n",
       "    </tr>\n",
       "  </thead>\n",
       "  <tbody>\n",
       "    <tr>\n",
       "      <th>18 - 34 Years</th>\n",
       "      <td>50.60</td>\n",
       "      <td>19.33</td>\n",
       "      <td>17.64</td>\n",
       "      <td>12.43</td>\n",
       "    </tr>\n",
       "    <tr>\n",
       "      <th>35 - 44 Years</th>\n",
       "      <td>30.48</td>\n",
       "      <td>20.16</td>\n",
       "      <td>29.44</td>\n",
       "      <td>19.92</td>\n",
       "    </tr>\n",
       "    <tr>\n",
       "      <th>45 - 54 Years</th>\n",
       "      <td>63.33</td>\n",
       "      <td>18.17</td>\n",
       "      <td>13.42</td>\n",
       "      <td>5.08</td>\n",
       "    </tr>\n",
       "    <tr>\n",
       "      <th>55 - 64 Years</th>\n",
       "      <td>90.70</td>\n",
       "      <td>6.11</td>\n",
       "      <td>2.01</td>\n",
       "      <td>1.17</td>\n",
       "    </tr>\n",
       "    <tr>\n",
       "      <th>65+ Years</th>\n",
       "      <td>96.65</td>\n",
       "      <td>2.15</td>\n",
       "      <td>0.69</td>\n",
       "      <td>0.51</td>\n",
       "    </tr>\n",
       "    <tr>\n",
       "      <th>All</th>\n",
       "      <td>70.57</td>\n",
       "      <td>12.00</td>\n",
       "      <td>10.82</td>\n",
       "      <td>6.60</td>\n",
       "    </tr>\n",
       "  </tbody>\n",
       "</table>\n",
       "</div>"
      ],
      "text/plain": [
       "household_children    0.0    1.0    2.0    3.0\n",
       "age_group                                     \n",
       "18 - 34 Years       50.60  19.33  17.64  12.43\n",
       "35 - 44 Years       30.48  20.16  29.44  19.92\n",
       "45 - 54 Years       63.33  18.17  13.42   5.08\n",
       "55 - 64 Years       90.70   6.11   2.01   1.17\n",
       "65+ Years           96.65   2.15   0.69   0.51\n",
       "All                 70.57  12.00  10.82   6.60"
      ]
     },
     "execution_count": 139,
     "metadata": {},
     "output_type": "execute_result"
    }
   ],
   "source": [
    "pd.crosstab(index=data['age_group'], columns=data['household_children'],margins=True,normalize='index').round(4)*100"
   ]
  },
  {
   "cell_type": "code",
   "execution_count": 140,
   "id": "bd1e02ce-7307-4194-80af-c685bf3fa7e6",
   "metadata": {},
   "outputs": [
    {
     "name": "stderr",
     "output_type": "stream",
     "text": [
      "C:\\ProgramData\\Anaconda3\\lib\\site-packages\\pandas\\core\\indexing.py:1732: SettingWithCopyWarning: \n",
      "A value is trying to be set on a copy of a slice from a DataFrame\n",
      "\n",
      "See the caveats in the documentation: https://pandas.pydata.org/pandas-docs/stable/user_guide/indexing.html#returning-a-view-versus-a-copy\n",
      "  self._setitem_single_block(indexer, value, name)\n",
      "C:\\Users\\LAVANY~1\\AppData\\Local\\Temp/ipykernel_18096/247782949.py:40: SettingWithCopyWarning: \n",
      "A value is trying to be set on a copy of a slice from a DataFrame\n",
      "\n",
      "See the caveats in the documentation: https://pandas.pydata.org/pandas-docs/stable/user_guide/indexing.html#returning-a-view-versus-a-copy\n",
      "  var[mask] = maxprob_val\n"
     ]
    }
   ],
   "source": [
    "data['household_children'] = fill_nulls(data['household_children'], grouping_var=data['age_group'])"
   ]
  },
  {
   "cell_type": "code",
   "execution_count": 141,
   "id": "29a020ff-8d1a-4c95-87d1-984f20d3723d",
   "metadata": {},
   "outputs": [
    {
     "data": {
      "text/html": [
       "<div>\n",
       "<style scoped>\n",
       "    .dataframe tbody tr th:only-of-type {\n",
       "        vertical-align: middle;\n",
       "    }\n",
       "\n",
       "    .dataframe tbody tr th {\n",
       "        vertical-align: top;\n",
       "    }\n",
       "\n",
       "    .dataframe thead th {\n",
       "        text-align: right;\n",
       "    }\n",
       "</style>\n",
       "<table border=\"1\" class=\"dataframe\">\n",
       "  <thead>\n",
       "    <tr style=\"text-align: right;\">\n",
       "      <th>household_children</th>\n",
       "      <th>0.0</th>\n",
       "      <th>1.0</th>\n",
       "      <th>2.0</th>\n",
       "      <th>3.0</th>\n",
       "    </tr>\n",
       "    <tr>\n",
       "      <th>age_group</th>\n",
       "      <th></th>\n",
       "      <th></th>\n",
       "      <th></th>\n",
       "      <th></th>\n",
       "    </tr>\n",
       "  </thead>\n",
       "  <tbody>\n",
       "    <tr>\n",
       "      <th>18 - 34 Years</th>\n",
       "      <td>51.83</td>\n",
       "      <td>18.85</td>\n",
       "      <td>17.20</td>\n",
       "      <td>12.12</td>\n",
       "    </tr>\n",
       "    <tr>\n",
       "      <th>35 - 44 Years</th>\n",
       "      <td>31.89</td>\n",
       "      <td>19.75</td>\n",
       "      <td>28.85</td>\n",
       "      <td>19.52</td>\n",
       "    </tr>\n",
       "    <tr>\n",
       "      <th>45 - 54 Years</th>\n",
       "      <td>63.59</td>\n",
       "      <td>18.04</td>\n",
       "      <td>13.33</td>\n",
       "      <td>5.04</td>\n",
       "    </tr>\n",
       "    <tr>\n",
       "      <th>55 - 64 Years</th>\n",
       "      <td>90.71</td>\n",
       "      <td>6.11</td>\n",
       "      <td>2.01</td>\n",
       "      <td>1.17</td>\n",
       "    </tr>\n",
       "    <tr>\n",
       "      <th>65+ Years</th>\n",
       "      <td>96.65</td>\n",
       "      <td>2.15</td>\n",
       "      <td>0.69</td>\n",
       "      <td>0.51</td>\n",
       "    </tr>\n",
       "    <tr>\n",
       "      <th>All</th>\n",
       "      <td>70.85</td>\n",
       "      <td>11.89</td>\n",
       "      <td>10.72</td>\n",
       "      <td>6.54</td>\n",
       "    </tr>\n",
       "  </tbody>\n",
       "</table>\n",
       "</div>"
      ],
      "text/plain": [
       "household_children    0.0    1.0    2.0    3.0\n",
       "age_group                                     \n",
       "18 - 34 Years       51.83  18.85  17.20  12.12\n",
       "35 - 44 Years       31.89  19.75  28.85  19.52\n",
       "45 - 54 Years       63.59  18.04  13.33   5.04\n",
       "55 - 64 Years       90.71   6.11   2.01   1.17\n",
       "65+ Years           96.65   2.15   0.69   0.51\n",
       "All                 70.85  11.89  10.72   6.54"
      ]
     },
     "execution_count": 141,
     "metadata": {},
     "output_type": "execute_result"
    }
   ],
   "source": [
    "pd.crosstab(index=data['age_group'], columns=data['household_children'],margins=True,normalize='index').round(4)*100"
   ]
  },
  {
   "cell_type": "code",
   "execution_count": 142,
   "id": "af1d594d-0ff0-4d71-a96a-c3ab1db34b25",
   "metadata": {},
   "outputs": [
    {
     "data": {
      "image/png": "[encoded data removed]",
      "text/plain": [
       "<Figure size 432x288 with 1 Axes>"
      ]
     },
     "metadata": {
      "needs_background": "light"
     },
     "output_type": "display_data"
    }
   ],
   "source": [
    "var = 'household_adults'\n",
    "\n",
    "var_data = data[[var, 'h1n1_vaccine', 'seasonal_vaccine']].copy()\n",
    "var_data[var].fillna('unanswered', inplace=True)\n",
    "var_data.groupby(var)[['h1n1_vaccine', 'seasonal_vaccine']].mean().plot(kind='bar')\n",
    "plt.title(f'{var} : nulls = {data[var].isnull().sum()}');"
   ]
  },
  {
   "cell_type": "code",
   "execution_count": 143,
   "id": "24427461-6a4d-4fa6-a7ac-342542137ef5",
   "metadata": {},
   "outputs": [
    {
     "name": "stderr",
     "output_type": "stream",
     "text": [
      "C:\\ProgramData\\Anaconda3\\lib\\site-packages\\pandas\\core\\indexing.py:1732: SettingWithCopyWarning: \n",
      "A value is trying to be set on a copy of a slice from a DataFrame\n",
      "\n",
      "See the caveats in the documentation: https://pandas.pydata.org/pandas-docs/stable/user_guide/indexing.html#returning-a-view-versus-a-copy\n",
      "  self._setitem_single_block(indexer, value, name)\n",
      "C:\\Users\\LAVANY~1\\AppData\\Local\\Temp/ipykernel_18096/247782949.py:40: SettingWithCopyWarning: \n",
      "A value is trying to be set on a copy of a slice from a DataFrame\n",
      "\n",
      "See the caveats in the documentation: https://pandas.pydata.org/pandas-docs/stable/user_guide/indexing.html#returning-a-view-versus-a-copy\n",
      "  var[mask] = maxprob_val\n"
     ]
    }
   ],
   "source": [
    "data['household_adults'] = fill_nulls(data['household_adults'], grouping_var=data['age_group'])"
   ]
  },
  {
   "cell_type": "code",
   "execution_count": null,
   "id": "f6b1f033-b7c1-4a13-b646-4695c206ff54",
   "metadata": {},
   "outputs": [],
   "source": []
  },
  {
   "cell_type": "code",
   "execution_count": null,
   "id": "1d9cbf31-e9c5-4b4f-82eb-ae4e341d0da6",
   "metadata": {},
   "outputs": [],
   "source": []
  },
  {
   "cell_type": "code",
   "execution_count": null,
   "id": "3d9268f5-ebca-4387-a9c7-cdd9c4c39541",
   "metadata": {},
   "outputs": [],
   "source": []
  },
  {
   "cell_type": "code",
   "execution_count": 144,
   "id": "3c9d3969-de94-4d35-8390-de299a754d5f",
   "metadata": {},
   "outputs": [
    {
     "data": {
      "image/png": "[encoded data removed]",
      "text/plain": [
       "<Figure size 720x576 with 1 Axes>"
      ]
     },
     "metadata": {
      "needs_background": "light"
     },
     "output_type": "display_data"
    }
   ],
   "source": [
    "data.groupby('census_msa')[['h1n1_vaccine', 'seasonal_vaccine']].mean().plot(kind='bar', figsize=(10,8));\n",
    "plt.title('Percent of people who got the vaccine');"
   ]
  },
  {
   "cell_type": "code",
   "execution_count": 145,
   "id": "6db5a0a9-420c-46be-a8c8-36fc6f74215f",
   "metadata": {},
   "outputs": [
    {
     "data": {
      "image/png": "[encoded data removed]",
      "text/plain": [
       "<Figure size 720x576 with 1 Axes>"
      ]
     },
     "metadata": {
      "needs_background": "light"
     },
     "output_type": "display_data"
    }
   ],
   "source": [
    "data.groupby('hhs_geo_region')[['h1n1_vaccine', 'seasonal_vaccine']].mean().plot(kind='bar', figsize=(10,8));\n",
    "plt.title('Percent of people who got the vaccine');"
   ]
  },
  {
   "cell_type": "code",
   "execution_count": 146,
   "id": "79ddba49-64d8-466a-8696-f4b7c356869b",
   "metadata": {},
   "outputs": [
    {
     "data": {
      "image/png": "[encoded data removed]",
      "text/plain": [
       "<Figure size 432x288 with 1 Axes>"
      ]
     },
     "metadata": {
      "needs_background": "light"
     },
     "output_type": "display_data"
    }
   ],
   "source": [
    "var = 'census_msa'\n",
    "\n",
    "var_data = data[[var, 'h1n1_vaccine', 'seasonal_vaccine']].copy()\n",
    "var_data[var].fillna('unanswered', inplace=True)\n",
    "var_data.groupby(var)[['h1n1_vaccine', 'seasonal_vaccine']].mean().plot(kind='bar')\n",
    "plt.title(f'{var} : nulls = {data[var].isnull().sum()}');"
   ]
  },
  {
   "cell_type": "code",
   "execution_count": 147,
   "id": "a6d4ba9c-2242-4d4a-8f39-9e687682d702",
   "metadata": {},
   "outputs": [
    {
     "data": {
      "image/png": "[encoded data removed]",
      "text/plain": [
       "<Figure size 432x288 with 1 Axes>"
      ]
     },
     "metadata": {
      "needs_background": "light"
     },
     "output_type": "display_data"
    }
   ],
   "source": [
    "var = 'rent_or_own'\n",
    "\n",
    "var_data = data[[var, 'h1n1_vaccine', 'seasonal_vaccine']].copy()\n",
    "var_data[var].fillna('unanswered', inplace=True)\n",
    "var_data.groupby(var)[['h1n1_vaccine', 'seasonal_vaccine']].mean().plot(kind='bar')\n",
    "plt.title(f'{var} : nulls = {data[var].isnull().sum()}');"
   ]
  },
  {
   "cell_type": "code",
   "execution_count": 148,
   "id": "5957e696-d8f2-4851-b7f0-c1d896193599",
   "metadata": {},
   "outputs": [],
   "source": [
    "data['rent_or_own'].fillna('no_response', inplace=True)"
   ]
  },
  {
   "cell_type": "code",
   "execution_count": null,
   "id": "ec113ad3-a1c0-410f-98c8-c4afc9f8c836",
   "metadata": {},
   "outputs": [],
   "source": []
  },
  {
   "cell_type": "code",
   "execution_count": 149,
   "id": "31f24ea4-7302-467f-8c7b-75abdd9751bf",
   "metadata": {},
   "outputs": [
    {
     "data": {
      "image/png": "[encoded data removed]",
      "text/plain": [
       "<Figure size 432x288 with 1 Axes>"
      ]
     },
     "metadata": {
      "needs_background": "light"
     },
     "output_type": "display_data"
    }
   ],
   "source": [
    "var = 'income_poverty'\n",
    "\n",
    "var_data = data[[var, 'h1n1_vaccine', 'seasonal_vaccine']].copy()\n",
    "var_data[var].fillna('unanswered', inplace=True)\n",
    "var_data.groupby(var)[['h1n1_vaccine', 'seasonal_vaccine']].mean().plot(kind='bar')\n",
    "plt.title(f'{var} : nulls = {data[var].isnull().sum()}');"
   ]
  },
  {
   "cell_type": "code",
   "execution_count": 154,
   "id": "feda9201-064a-43c0-bdca-9e15cdd0c29d",
   "metadata": {},
   "outputs": [
    {
     "data": {
      "text/plain": [
       "1463"
      ]
     },
     "execution_count": 154,
     "metadata": {},
     "output_type": "execute_result"
    }
   ],
   "source": [
    "data['employment_status'].isna().sum()"
   ]
  },
  {
   "cell_type": "code",
   "execution_count": 152,
   "id": "91baba27-2b0e-4086-943d-104b692ecdf5",
   "metadata": {},
   "outputs": [
    {
     "data": {
      "text/plain": [
       "Employed              13560\n",
       "Not in Labor Force    10231\n",
       "Unemployed             1453\n",
       "Name: employment_status, dtype: int64"
      ]
     },
     "execution_count": 152,
     "metadata": {},
     "output_type": "execute_result"
    }
   ],
   "source": [
    "data['employment_status'].value_counts()"
   ]
  },
  {
   "cell_type": "code",
   "execution_count": 153,
   "id": "f0bfd639-38f2-455c-b410-9a5452673b75",
   "metadata": {},
   "outputs": [
    {
     "data": {
      "text/html": [
       "<div>\n",
       "<style scoped>\n",
       "    .dataframe tbody tr th:only-of-type {\n",
       "        vertical-align: middle;\n",
       "    }\n",
       "\n",
       "    .dataframe tbody tr th {\n",
       "        vertical-align: top;\n",
       "    }\n",
       "\n",
       "    .dataframe thead th {\n",
       "        text-align: right;\n",
       "    }\n",
       "</style>\n",
       "<table border=\"1\" class=\"dataframe\">\n",
       "  <thead>\n",
       "    <tr style=\"text-align: right;\">\n",
       "      <th>employment_status</th>\n",
       "      <th>Employed</th>\n",
       "      <th>Not in Labor Force</th>\n",
       "      <th>Unemployed</th>\n",
       "    </tr>\n",
       "    <tr>\n",
       "      <th>age_group</th>\n",
       "      <th></th>\n",
       "      <th></th>\n",
       "      <th></th>\n",
       "    </tr>\n",
       "  </thead>\n",
       "  <tbody>\n",
       "    <tr>\n",
       "      <th>18 - 34 Years</th>\n",
       "      <td>62.37</td>\n",
       "      <td>28.67</td>\n",
       "      <td>8.96</td>\n",
       "    </tr>\n",
       "    <tr>\n",
       "      <th>35 - 44 Years</th>\n",
       "      <td>76.68</td>\n",
       "      <td>16.87</td>\n",
       "      <td>6.44</td>\n",
       "    </tr>\n",
       "    <tr>\n",
       "      <th>45 - 54 Years</th>\n",
       "      <td>74.98</td>\n",
       "      <td>17.50</td>\n",
       "      <td>7.52</td>\n",
       "    </tr>\n",
       "    <tr>\n",
       "      <th>55 - 64 Years</th>\n",
       "      <td>57.99</td>\n",
       "      <td>36.12</td>\n",
       "      <td>5.89</td>\n",
       "    </tr>\n",
       "    <tr>\n",
       "      <th>65+ Years</th>\n",
       "      <td>15.45</td>\n",
       "      <td>82.95</td>\n",
       "      <td>1.60</td>\n",
       "    </tr>\n",
       "    <tr>\n",
       "      <th>All</th>\n",
       "      <td>53.72</td>\n",
       "      <td>40.53</td>\n",
       "      <td>5.76</td>\n",
       "    </tr>\n",
       "  </tbody>\n",
       "</table>\n",
       "</div>"
      ],
      "text/plain": [
       "employment_status  Employed  Not in Labor Force  Unemployed\n",
       "age_group                                                  \n",
       "18 - 34 Years         62.37               28.67        8.96\n",
       "35 - 44 Years         76.68               16.87        6.44\n",
       "45 - 54 Years         74.98               17.50        7.52\n",
       "55 - 64 Years         57.99               36.12        5.89\n",
       "65+ Years             15.45               82.95        1.60\n",
       "All                   53.72               40.53        5.76"
      ]
     },
     "execution_count": 153,
     "metadata": {},
     "output_type": "execute_result"
    }
   ],
   "source": [
    "pd.crosstab(index=data['age_group'], columns=data['employment_status'],margins=True,normalize='index').round(4)*100"
   ]
  },
  {
   "cell_type": "code",
   "execution_count": 155,
   "id": "60030af8-0697-45c8-af95-ad0c3b6c74ea",
   "metadata": {},
   "outputs": [],
   "source": [
    "data['employment_status'].fillna('no_response', inplace=True)"
   ]
  },
  {
   "cell_type": "code",
   "execution_count": 156,
   "id": "64829dd0-2560-4b70-9c89-bb86af24debe",
   "metadata": {},
   "outputs": [
    {
     "data": {
      "text/plain": [
       "respondent_id                  0\n",
       "h1n1_concern                   0\n",
       "h1n1_knowledge                 0\n",
       "behavioral_antiviral_meds      0\n",
       "behavioral_avoidance           0\n",
       "behavioral_face_mask           0\n",
       "behavioral_wash_hands          0\n",
       "behavioral_large_gatherings    0\n",
       "behavioral_outside_home        0\n",
       "behavioral_touch_face          0\n",
       "doctor_recc_h1n1               0\n",
       "doctor_recc_seasonal           0\n",
       "chronic_med_condition          0\n",
       "child_under_6_months           0\n",
       "health_worker                  0\n",
       "health_insurance               0\n",
       "opinion_h1n1_vacc_effective    0\n",
       "opinion_h1n1_risk              0\n",
       "opinion_h1n1_sick_from_vacc    0\n",
       "opinion_seas_vacc_effective    0\n",
       "opinion_seas_risk              0\n",
       "opinion_seas_sick_from_vacc    0\n",
       "age_group                      0\n",
       "education                      0\n",
       "race                           0\n",
       "sex                            0\n",
       "income_poverty                 0\n",
       "marital_status                 0\n",
       "rent_or_own                    0\n",
       "employment_status              0\n",
       "hhs_geo_region                 0\n",
       "census_msa                     0\n",
       "household_adults               0\n",
       "household_children             0\n",
       "employment_industry            0\n",
       "employment_occupation          0\n",
       "h1n1_vaccine                   0\n",
       "seasonal_vaccine               0\n",
       "dtype: int64"
      ]
     },
     "execution_count": 156,
     "metadata": {},
     "output_type": "execute_result"
    }
   ],
   "source": [
    "data.isna().sum()"
   ]
  },
  {
   "cell_type": "code",
   "execution_count": 158,
   "id": "70516db4-82f6-4cf9-81c1-c8a29c307fc7",
   "metadata": {},
   "outputs": [],
   "source": [
    "data.to_csv('../train_clean.csv', index=False)"
   ]
  },
  {
   "cell_type": "code",
   "execution_count": null,
   "id": "277894a6-4109-485a-b909-9dd40274d2b4",
   "metadata": {},
   "outputs": [],
   "source": []
  },
  {
   "cell_type": "code",
   "execution_count": null,
   "id": "714b5c2f-1e62-4577-9902-7b40327ac884",
   "metadata": {},
   "outputs": [],
   "source": []
  },
  {
   "cell_type": "markdown",
   "id": "ba3ebd80-e9b8-45c0-b503-a8212bf78e8e",
   "metadata": {},
   "source": [
    "# checking nulls"
   ]
  },
  {
   "cell_type": "code",
   "execution_count": null,
   "id": "04ebcdcd-c3c5-42cd-a44e-0afeae11dac8",
   "metadata": {},
   "outputs": [],
   "source": [
    "data.isnull().sum()"
   ]
  },
  {
   "cell_type": "code",
   "execution_count": null,
   "id": "9876aaa0-0def-4357-a648-6ae66488779c",
   "metadata": {},
   "outputs": [],
   "source": [
    "col='income_poverty'\n",
    "data[data[col].isnull()][['h1n1_vaccine', 'seasonal_vaccine']].mean()"
   ]
  },
  {
   "cell_type": "markdown",
   "id": "f2d473b9-c92d-41e8-97e6-389ab8a76e9f",
   "metadata": {},
   "source": [
    "#### on average, about 80% of null values are participants who did not get the h1n1 vaccine. And 20% are those that did. This is the same as the baseline percentage of people who got the H1N1 vaccine"
   ]
  },
  {
   "cell_type": "code",
   "execution_count": null,
   "id": "bf499e9e-34a4-45fd-b774-067ef8c9f573",
   "metadata": {},
   "outputs": [],
   "source": [
    "for col in list(data.columns):\n",
    "    if data[col].isna().sum() > 0:\n",
    "        print(col)\n",
    "        print(data[data[col].isnull()][['h1n1_vaccine', 'seasonal_vaccine']].mean())\n",
    "        print(f'Nulls : {data[col].isna().sum()}')\n",
    "        print('--------------------------\\n--------------------------')"
   ]
  },
  {
   "cell_type": "code",
   "execution_count": null,
   "id": "8365de60-359d-4386-a7e3-aeb1abdf5c26",
   "metadata": {},
   "outputs": [],
   "source": [
    "data[data['household_adults']==0][['household_children']].value_counts()"
   ]
  },
  {
   "cell_type": "code",
   "execution_count": null,
   "id": "2bc950fd-f14c-4e00-adeb-7a53d2c377f2",
   "metadata": {},
   "outputs": [],
   "source": [
    "# I think we need to replace 0 household adults with 1. "
   ]
  },
  {
   "cell_type": "code",
   "execution_count": null,
   "id": "6163764f-1e95-4f74-9256-21e374460634",
   "metadata": {},
   "outputs": [],
   "source": [
    "# people who did not answer adults also did not answer about children\n",
    "data[data['household_adults'].isna()][['household_children']]"
   ]
  },
  {
   "cell_type": "code",
   "execution_count": null,
   "id": "736b9858-89a1-478e-865a-ce11d2839186",
   "metadata": {},
   "outputs": [],
   "source": [
    "data[data['household_adults'].isna()].isna().sum()"
   ]
  },
  {
   "cell_type": "code",
   "execution_count": null,
   "id": "fa1c98ef-ca6c-4732-9c7d-b94ac91d90ed",
   "metadata": {},
   "outputs": [],
   "source": [
    "var = 'health_insurance'\n",
    "\n",
    "var_data = df[[var, 'h1n1_vaccine', 'seasonal_vaccine']].copy()\n",
    "var_data[var].fillna('unanswered', inplace=True)\n",
    "var_data.groupby(var)[['h1n1_vaccine', 'seasonal_vaccine']].mean().plot(kind='bar')\n",
    "plt.title(f'{var} : nulls = {df[var].isnull().sum()}');"
   ]
  },
  {
   "cell_type": "code",
   "execution_count": null,
   "id": "17645ac6-815b-456c-b104-8651189d520a",
   "metadata": {},
   "outputs": [],
   "source": [
    "var = 'opinion_h1n1_vacc_effective'\n",
    "\n",
    "var_data = df[[var, 'h1n1_vaccine', 'seasonal_vaccine']].copy()\n",
    "var_data[var].fillna('unanswered', inplace=True)\n",
    "var_data.groupby(var)[['h1n1_vaccine', 'seasonal_vaccine']].mean().plot(kind='bar')\n",
    "plt.title(f'{var} : nulls = {df[var].isnull().sum()}');"
   ]
  },
  {
   "cell_type": "code",
   "execution_count": null,
   "id": "eb16899b-6065-4df2-82cb-e90589993149",
   "metadata": {},
   "outputs": [],
   "source": [
    "df['chronic_med_condition'].fillna('unanswered', inplace=True)"
   ]
  },
  {
   "cell_type": "code",
   "execution_count": null,
   "id": "37d237f8-0265-422a-80d3-7d45bfe6523f",
   "metadata": {},
   "outputs": [],
   "source": [
    "pd.crosstab(index=df['age_group'], columns=df['chronic_med_condition'],margins=True,normalize='index').round(4)*100"
   ]
  },
  {
   "cell_type": "code",
   "execution_count": null,
   "id": "127f7fcd-6ec5-41e5-8f9a-42a6b0aade8b",
   "metadata": {},
   "outputs": [],
   "source": []
  }
 ],
 "metadata": {
  "kernelspec": {
   "display_name": "Python 3 (ipykernel)",
   "language": "python",
   "name": "python3"
  },
  "language_info": {
   "codemirror_mode": {
    "name": "ipython",
    "version": 3
   },
   "file_extension": ".py",
   "mimetype": "text/x-python",
   "name": "python",
   "nbconvert_exporter": "python",
   "pygments_lexer": "ipython3",
   "version": "3.9.7"
  }
 },
 "nbformat": 4,
 "nbformat_minor": 5
}
