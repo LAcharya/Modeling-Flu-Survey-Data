{
 "cells": [
  {
   "cell_type": "markdown",
   "id": "853e593c-25af-475b-8353-58666614568c",
   "metadata": {},
   "source": [
    "# Model Fitting to predict Seasonal Flu Vaccination: XGBoost"
   ]
  },
  {
   "cell_type": "markdown",
   "id": "b4d61b4b-eef7-4eed-a004-fb392cd21634",
   "metadata": {},
   "source": [
    "There is one section with a gridsearch in it that I will convert to *markdown cells* so that the cells are not run when the notebook is run. The gridsearch cells are followed by cells with an XGBoost model rerun with the best parameters\n",
    "\n",
    "Three models were run. The first one is not shown in the notebook. The fiindings are summarized below: \n",
    "\n",
    "Model|Accuracy|Precision|Recall|AUC|\n",
    "-------------------------|--------|---------|------|---|\n",
    "Without switching classes|0.784|0.784|0.739|0.781|\n",
    "Switching classes|0.797|0.800|0.825|0.794|\n",
    "Add feat. engineering|0.794|0/798|0.822|0.791|"
   ]
  },
  {
   "cell_type": "code",
   "execution_count": 1,
   "id": "74ef42bc-a84b-497c-beae-e9266e201a3b",
   "metadata": {},
   "outputs": [
    {
     "name": "stderr",
     "output_type": "stream",
     "text": [
      "C:\\ProgramData\\Anaconda3\\envs\\xgboost\\lib\\site-packages\\xgboost\\compat.py:36: FutureWarning: pandas.Int64Index is deprecated and will be removed from pandas in a future version. Use pandas.Index with the appropriate dtype instead.\n",
      "  from pandas import MultiIndex, Int64Index\n"
     ]
    }
   ],
   "source": [
    "import pandas as pd\n",
    "import numpy as np\n",
    "import xgboost as xgb\n",
    "from sklearn.model_selection import train_test_split, GridSearchCV\n",
    "from sklearn.metrics import accuracy_score, recall_score, precision_score, roc_auc_score, ConfusionMatrixDisplay"
   ]
  },
  {
   "cell_type": "markdown",
   "id": "37e12222-4dc7-4457-93d4-e55753854159",
   "metadata": {},
   "source": [
    "### **Import Data**"
   ]
  },
  {
   "cell_type": "code",
   "execution_count": 2,
   "id": "8112e81c-3470-46a6-8c60-ddb2a3cc07c9",
   "metadata": {},
   "outputs": [],
   "source": [
    "data = pd.read_csv('../data/train_clean.csv')"
   ]
  },
  {
   "cell_type": "markdown",
   "id": "191728c9-7074-438d-8ed5-a0ecc5d7a3bb",
   "metadata": {},
   "source": [
    "**Switch labels so that vaccinated is 0 and unvaccinated is 1**"
   ]
  },
  {
   "cell_type": "code",
   "execution_count": 3,
   "id": "ce4da46c-ae5f-40f7-b0e2-1d49bf4a2bca",
   "metadata": {},
   "outputs": [
    {
     "data": {
      "text/plain": [
       "0    0.787546\n",
       "1    0.212454\n",
       "Name: h1n1_vaccine, dtype: float64"
      ]
     },
     "execution_count": 3,
     "metadata": {},
     "output_type": "execute_result"
    }
   ],
   "source": [
    "data['h1n1_vaccine'].value_counts(normalize=True)"
   ]
  },
  {
   "cell_type": "code",
   "execution_count": 4,
   "id": "6a8bb85b-3e14-4617-a976-bb84a5e145c1",
   "metadata": {},
   "outputs": [
    {
     "data": {
      "text/plain": [
       "0    0.534392\n",
       "1    0.465608\n",
       "Name: seasonal_vaccine, dtype: float64"
      ]
     },
     "execution_count": 4,
     "metadata": {},
     "output_type": "execute_result"
    }
   ],
   "source": [
    "data['seasonal_vaccine'].value_counts(normalize=True)"
   ]
  },
  {
   "cell_type": "code",
   "execution_count": 5,
   "id": "537d4bb4-84d7-4ee3-8d03-70685a30b3dd",
   "metadata": {
    "tags": []
   },
   "outputs": [
    {
     "data": {
      "text/plain": [
       "1    21033\n",
       "0     5674\n",
       "Name: h1n1_vaccine, dtype: int64"
      ]
     },
     "execution_count": 5,
     "metadata": {},
     "output_type": "execute_result"
    }
   ],
   "source": [
    "# since we're interested in the people who did not get vaccinated: switch 0 and 1 labels\n",
    "data['h1n1_vaccine'].replace({1:0, 0:1}, inplace=True)\n",
    "data['h1n1_vaccine'].value_counts()"
   ]
  },
  {
   "cell_type": "code",
   "execution_count": 6,
   "id": "40d669ce-7d5c-4c4a-9859-6c8ddd365dc6",
   "metadata": {
    "tags": []
   },
   "outputs": [
    {
     "data": {
      "text/plain": [
       "1    14272\n",
       "0    12435\n",
       "Name: seasonal_vaccine, dtype: int64"
      ]
     },
     "execution_count": 6,
     "metadata": {},
     "output_type": "execute_result"
    }
   ],
   "source": [
    "data['seasonal_vaccine'].replace({1:0, 0:1}, inplace=True)\n",
    "data['seasonal_vaccine'].value_counts()"
   ]
  },
  {
   "cell_type": "code",
   "execution_count": 7,
   "id": "0b5a1dde-c69b-4caa-bca1-bc945db24a7f",
   "metadata": {},
   "outputs": [
    {
     "data": {
      "text/plain": [
       "Index(['respondent_id', 'h1n1_concern', 'h1n1_knowledge',\n",
       "       'behavioral_antiviral_meds', 'behavioral_avoidance',\n",
       "       'behavioral_face_mask', 'behavioral_wash_hands',\n",
       "       'behavioral_large_gatherings', 'behavioral_outside_home',\n",
       "       'behavioral_touch_face', 'doctor_recc_h1n1', 'doctor_recc_seasonal',\n",
       "       'chronic_med_condition', 'child_under_6_months', 'health_worker',\n",
       "       'health_insurance', 'opinion_h1n1_vacc_effective', 'opinion_h1n1_risk',\n",
       "       'opinion_h1n1_sick_from_vacc', 'opinion_seas_vacc_effective',\n",
       "       'opinion_seas_risk', 'opinion_seas_sick_from_vacc', 'age_group',\n",
       "       'education', 'race', 'sex', 'income_poverty', 'marital_status',\n",
       "       'rent_or_own', 'employment_status', 'hhs_geo_region', 'census_msa',\n",
       "       'household_adults', 'household_children', 'employment_industry',\n",
       "       'employment_occupation', 'h1n1_vaccine', 'seasonal_vaccine'],\n",
       "      dtype='object')"
      ]
     },
     "execution_count": 7,
     "metadata": {},
     "output_type": "execute_result"
    }
   ],
   "source": [
    "data.columns"
   ]
  },
  {
   "cell_type": "code",
   "execution_count": 8,
   "id": "dd3ad2e9-a2ad-46ff-bc8c-99f4e41b25bc",
   "metadata": {},
   "outputs": [
    {
     "data": {
      "text/plain": [
       "['doctor_recc_h1n1',\n",
       " 'doctor_recc_seasonal',\n",
       " 'chronic_med_condition',\n",
       " 'health_worker',\n",
       " 'health_insurance',\n",
       " 'age_group',\n",
       " 'education',\n",
       " 'race',\n",
       " 'sex',\n",
       " 'income_poverty',\n",
       " 'marital_status',\n",
       " 'rent_or_own',\n",
       " 'employment_status',\n",
       " 'hhs_geo_region',\n",
       " 'census_msa',\n",
       " 'employment_industry',\n",
       " 'employment_occupation']"
      ]
     },
     "execution_count": 8,
     "metadata": {},
     "output_type": "execute_result"
    }
   ],
   "source": [
    "categorical_columns = list(data.select_dtypes('object').columns)\n",
    "categorical_columns"
   ]
  },
  {
   "cell_type": "markdown",
   "id": "80dfc24f-ea30-4261-bfc4-4a21e330aa0a",
   "metadata": {},
   "source": [
    "### **Define X and y for Model**"
   ]
  },
  {
   "cell_type": "code",
   "execution_count": 9,
   "id": "bd718e3b-5926-41e7-9920-c3c4e6f57a6a",
   "metadata": {},
   "outputs": [],
   "source": [
    "X = data.drop(columns=['h1n1_vaccine', 'seasonal_vaccine'])\n",
    "y = data['seasonal_vaccine']"
   ]
  },
  {
   "cell_type": "code",
   "execution_count": 10,
   "id": "e56e7066-6e5d-470e-a012-a5fb6ea2c5bb",
   "metadata": {},
   "outputs": [],
   "source": [
    "Xd = pd.get_dummies(data=X, columns=categorical_columns, drop_first=True)"
   ]
  },
  {
   "cell_type": "code",
   "execution_count": 11,
   "id": "8f3189f5-075d-4f87-aaf4-61a00b184d78",
   "metadata": {},
   "outputs": [],
   "source": [
    "X_train, X_test, y_train, y_test = train_test_split(Xd, y, random_state=42, stratify=y)"
   ]
  },
  {
   "cell_type": "code",
   "execution_count": 12,
   "id": "a6cc0808-4e82-4ab4-b005-7e413543dffd",
   "metadata": {},
   "outputs": [],
   "source": [
    "X_train = np.array(X_train)\n",
    "X_test = np.array(X_test)"
   ]
  },
  {
   "cell_type": "code",
   "execution_count": 13,
   "id": "ddcb6f41-1657-410e-97c0-39a065c28afe",
   "metadata": {
    "tags": []
   },
   "outputs": [],
   "source": [
    "y_train = np.array(y_train)\n",
    "y_test = np.array(y_test)"
   ]
  },
  {
   "cell_type": "markdown",
   "id": "77776de5-1d0b-46f5-a88e-40ea34fbd050",
   "metadata": {
    "tags": []
   },
   "source": [
    "## Run GridSearch to find best paramaters\n",
    "\n",
    "**Please convert the cells in this section from markdown to code if you want to run the gridsearch**"
   ]
  },
  {
   "cell_type": "markdown",
   "id": "69cd62a7-3a95-412d-ac1c-b778d6d83a38",
   "metadata": {
    "tags": []
   },
   "source": [
    "```\n",
    "xg_cls = xgb.XGBClassifier(random_state=42, use_label_encoder=False, n_jobs=-1, eval_metric='error')\n",
    "\n",
    "params = {\n",
    "    'n_estimators' : [100, 250],\n",
    "    'max_depth' : [3, 5, 6],\n",
    "    'learning_rate' : [0.01, 0.1],\n",
    "    'colsample_bytree' : [0.5, 1],\n",
    "    'subsample' : [0.6, 1] \n",
    "}\n",
    "\n",
    "gs = GridSearchCV(estimator=xg_cls, param_grid=params, scoring='roc_auc')\n",
    "\n",
    "gs.fit(X_train, y_train)\n",
    "\n",
    "y_pred = gs.predict(X_test)\n",
    "```\n",
    "--------------"
   ]
  },
  {
   "cell_type": "markdown",
   "id": "94441eac-f363-4f5a-96ca-45a10f974721",
   "metadata": {},
   "source": [
    "```\n",
    "gs.best_score_\n",
    "\n",
    "# result 0.8602725008085251\n",
    "```\n",
    "-----------"
   ]
  },
  {
   "cell_type": "markdown",
   "id": "98542527-9f43-4a97-9a2b-92a8c7de6682",
   "metadata": {},
   "source": [
    "```\n",
    "gs.best_estimator_\n",
    "\n",
    " # result\n",
    "    XGBClassifier(base_score=0.5, booster='gbtree', colsample_bylevel=1,\n",
    "              colsample_bynode=1, colsample_bytree=0.5,\n",
    "              enable_categorical=False, eval_metric='error', gamma=0, gpu_id=-1,\n",
    "              importance_type=None, interaction_constraints='',\n",
    "              learning_rate=0.1, max_delta_step=0, max_depth=5,\n",
    "              min_child_weight=1, missing=nan, monotone_constraints='()',\n",
    "              n_estimators=100, n_jobs=-1, num_parallel_tree=1,\n",
    "              predictor='auto', random_state=42, reg_alpha=0, reg_lambda=1,\n",
    "              scale_pos_weight=1, subsample=1, tree_method='exact',\n",
    "              use_label_encoder=False, validate_parameters=1, verbosity=None)\n",
    "```\n",
    "------------------"
   ]
  },
  {
   "cell_type": "markdown",
   "id": "24e2f196-57a3-45f6-a675-ab3076ad2568",
   "metadata": {},
   "source": [
    "```\n",
    "gs.best_params_\n",
    "\n",
    "# result\n",
    "\n",
    "{'colsample_bytree': 0.5,\n",
    " 'learning_rate': 0.1,\n",
    " 'max_depth': 5,\n",
    " 'n_estimators': 100,\n",
    " 'subsample': 1}\n",
    " \n",
    " ```"
   ]
  },
  {
   "cell_type": "markdown",
   "id": "4ba08c4f-defe-4bb7-8bd2-129de75dfc9f",
   "metadata": {},
   "source": [
    "```\n",
    "accuracy_score(y_test, y_pred), accuracy_score(y_train, gs.predict(X_train))\n",
    "\n",
    "precision_score(y_test, y_pred), precision_score(y_train, gs.predict(X_train))\n",
    "\n",
    "recall_score(y_test, y_pred), recall_score(y_train, gs.predict(X_train))\n",
    "\n",
    "roc_auc_score(y_test, y_pred), roc_auc_score(y_train, gs.predict(X_train))\n",
    "\n",
    "\n",
    "ConfusionMatrixDisplay.from_predictions(y_test, y_pred, display_labels=['Vaccinated', 'Unvaccinated'])\n",
    "\n",
    "```"
   ]
  },
  {
   "cell_type": "markdown",
   "id": "8b46a38c-f0b8-4921-8536-6fa4247d760b",
   "metadata": {},
   "source": [
    "Model|Accuracy|Precision|Recall|AUC|\n",
    "-------------------------|--------|---------|------|---|\n",
    "Without switching classes|0.784|0.784|0.739|0.781|\n",
    "Switching classes|0.797|0.800|0.825|0.794|"
   ]
  },
  {
   "cell_type": "markdown",
   "id": "f0eb9270-fc67-46a0-8cd6-41eb1535aa08",
   "metadata": {},
   "source": [
    "**Run best model with optimized parameters from gridsearch**"
   ]
  },
  {
   "cell_type": "code",
   "execution_count": 14,
   "id": "ac2a26c9-f212-40f3-8d62-b8f052fea64d",
   "metadata": {
    "tags": []
   },
   "outputs": [],
   "source": [
    "xg_cls = xgb.XGBClassifier(random_state=42,\n",
    "                           use_label_encoder=False,\n",
    "                           max_depth=5,\n",
    "                           colsample_bytree = 0.5,\n",
    "                           subsample=1,\n",
    "                           learning_rate=0.1,\n",
    "                           n_estimators=100,\n",
    "                           n_jobs=-1, \n",
    "                           eval_metric='error'\n",
    "                            )\n",
    "\n",
    "xg_cls.fit(X_train, y_train)\n",
    "\n",
    "y_pred = xg_cls.predict(X_test)"
   ]
  },
  {
   "cell_type": "code",
   "execution_count": 15,
   "id": "fa41f5c8-291a-4a94-91ee-c9df7fe17c6e",
   "metadata": {},
   "outputs": [
    {
     "data": {
      "text/plain": [
       "(0.7970645499475812, 0.809735396904643)"
      ]
     },
     "execution_count": 15,
     "metadata": {},
     "output_type": "execute_result"
    }
   ],
   "source": [
    "accuracy_score(y_test, y_pred), accuracy_score(y_train, xg_cls.predict(X_train))"
   ]
  },
  {
   "cell_type": "code",
   "execution_count": 16,
   "id": "ca3e5607-4158-4048-9c19-eab3bfe161dd",
   "metadata": {},
   "outputs": [
    {
     "data": {
      "text/plain": [
       "(0.8005976636783483, 0.8115339419687245)"
      ]
     },
     "execution_count": 16,
     "metadata": {},
     "output_type": "execute_result"
    }
   ],
   "source": [
    "precision_score(y_test, y_pred), precision_score(y_train, xg_cls.predict(X_train))"
   ]
  },
  {
   "cell_type": "code",
   "execution_count": 17,
   "id": "ec324278-2305-4665-ba1a-7f137c604679",
   "metadata": {},
   "outputs": [
    {
     "data": {
      "text/plain": [
       "(0.8259529147982063, 0.8387518684603886)"
      ]
     },
     "execution_count": 17,
     "metadata": {},
     "output_type": "execute_result"
    }
   ],
   "source": [
    "recall_score(y_test, y_pred), recall_score(y_train, xg_cls.predict(X_train))"
   ]
  },
  {
   "cell_type": "code",
   "execution_count": 18,
   "id": "bb6a0059-a9e6-419e-9b2e-57ee4c12d1ce",
   "metadata": {},
   "outputs": [
    {
     "data": {
      "text/plain": [
       "(0.7949320701363177, 0.8075916751695037)"
      ]
     },
     "execution_count": 18,
     "metadata": {},
     "output_type": "execute_result"
    }
   ],
   "source": [
    "roc_auc_score(y_test, y_pred), roc_auc_score(y_train, xg_cls.predict(X_train))"
   ]
  },
  {
   "cell_type": "markdown",
   "id": "f44ecd0e-c7d1-409c-bb22-b4244a956849",
   "metadata": {},
   "source": [
    "Model|Accuracy|Precision|Recall|AUC|\n",
    "-------------------------|--------|---------|------|---|\n",
    "Without switching classes|0.784|0.784|0.739|0.781|\n",
    "Switching classes|0.797|0.800|0.825|0.794|\n"
   ]
  },
  {
   "cell_type": "markdown",
   "id": "352952c5-7959-4a17-b28f-eea378c05a76",
   "metadata": {},
   "source": [
    "**Get top 15 best features**"
   ]
  },
  {
   "cell_type": "code",
   "execution_count": 19,
   "id": "cb5bf905-af3f-4095-9984-cf564ebb01c5",
   "metadata": {},
   "outputs": [],
   "source": [
    "top_feat = pd.DataFrame({'feature': Xd.columns, 'importance':xg_cls.feature_importances_}).sort_values('importance', ascending=False).head(20)"
   ]
  },
  {
   "cell_type": "code",
   "execution_count": 20,
   "id": "f9b0e0d5-ddc9-4be3-b257-16da0ed77494",
   "metadata": {},
   "outputs": [
    {
     "data": {
      "text/html": [
       "<div>\n",
       "<style scoped>\n",
       "    .dataframe tbody tr th:only-of-type {\n",
       "        vertical-align: middle;\n",
       "    }\n",
       "\n",
       "    .dataframe tbody tr th {\n",
       "        vertical-align: top;\n",
       "    }\n",
       "\n",
       "    .dataframe thead th {\n",
       "        text-align: right;\n",
       "    }\n",
       "</style>\n",
       "<table border=\"1\" class=\"dataframe\">\n",
       "  <thead>\n",
       "    <tr style=\"text-align: right;\">\n",
       "      <th></th>\n",
       "      <th>feature</th>\n",
       "      <th>importance</th>\n",
       "    </tr>\n",
       "  </thead>\n",
       "  <tbody>\n",
       "    <tr>\n",
       "      <th>21</th>\n",
       "      <td>doctor_recc_seasonal_1.0</td>\n",
       "      <td>0.118557</td>\n",
       "    </tr>\n",
       "    <tr>\n",
       "      <th>14</th>\n",
       "      <td>opinion_seas_vacc_effective</td>\n",
       "      <td>0.105583</td>\n",
       "    </tr>\n",
       "    <tr>\n",
       "      <th>15</th>\n",
       "      <td>opinion_seas_risk</td>\n",
       "      <td>0.077143</td>\n",
       "    </tr>\n",
       "    <tr>\n",
       "      <th>32</th>\n",
       "      <td>age_group_65+ Years</td>\n",
       "      <td>0.056827</td>\n",
       "    </tr>\n",
       "    <tr>\n",
       "      <th>28</th>\n",
       "      <td>health_insurance_yes</td>\n",
       "      <td>0.026104</td>\n",
       "    </tr>\n",
       "    <tr>\n",
       "      <th>26</th>\n",
       "      <td>health_worker_yes</td>\n",
       "      <td>0.025488</td>\n",
       "    </tr>\n",
       "    <tr>\n",
       "      <th>25</th>\n",
       "      <td>health_worker_no_response</td>\n",
       "      <td>0.020186</td>\n",
       "    </tr>\n",
       "    <tr>\n",
       "      <th>31</th>\n",
       "      <td>age_group_55 - 64 Years</td>\n",
       "      <td>0.017746</td>\n",
       "    </tr>\n",
       "    <tr>\n",
       "      <th>46</th>\n",
       "      <td>rent_or_own_Rent</td>\n",
       "      <td>0.015571</td>\n",
       "    </tr>\n",
       "    <tr>\n",
       "      <th>65</th>\n",
       "      <td>employment_industry_fcxhlnwr</td>\n",
       "      <td>0.015452</td>\n",
       "    </tr>\n",
       "    <tr>\n",
       "      <th>2</th>\n",
       "      <td>h1n1_knowledge</td>\n",
       "      <td>0.013707</td>\n",
       "    </tr>\n",
       "    <tr>\n",
       "      <th>19</th>\n",
       "      <td>doctor_recc_h1n1_1.0</td>\n",
       "      <td>0.013388</td>\n",
       "    </tr>\n",
       "    <tr>\n",
       "      <th>85</th>\n",
       "      <td>employment_occupation_dcjcmpih</td>\n",
       "      <td>0.013214</td>\n",
       "    </tr>\n",
       "    <tr>\n",
       "      <th>66</th>\n",
       "      <td>employment_industry_haxffmxo</td>\n",
       "      <td>0.013212</td>\n",
       "    </tr>\n",
       "    <tr>\n",
       "      <th>16</th>\n",
       "      <td>opinion_seas_sick_from_vacc</td>\n",
       "      <td>0.011968</td>\n",
       "    </tr>\n",
       "    <tr>\n",
       "      <th>23</th>\n",
       "      <td>chronic_med_condition_1.0</td>\n",
       "      <td>0.011505</td>\n",
       "    </tr>\n",
       "    <tr>\n",
       "      <th>12</th>\n",
       "      <td>opinion_h1n1_risk</td>\n",
       "      <td>0.010336</td>\n",
       "    </tr>\n",
       "    <tr>\n",
       "      <th>84</th>\n",
       "      <td>employment_occupation_cmhcxjea</td>\n",
       "      <td>0.010094</td>\n",
       "    </tr>\n",
       "    <tr>\n",
       "      <th>36</th>\n",
       "      <td>education_no_response</td>\n",
       "      <td>0.010062</td>\n",
       "    </tr>\n",
       "    <tr>\n",
       "      <th>37</th>\n",
       "      <td>race_Hispanic</td>\n",
       "      <td>0.010012</td>\n",
       "    </tr>\n",
       "  </tbody>\n",
       "</table>\n",
       "</div>"
      ],
      "text/plain": [
       "                           feature  importance\n",
       "21        doctor_recc_seasonal_1.0    0.118557\n",
       "14     opinion_seas_vacc_effective    0.105583\n",
       "15               opinion_seas_risk    0.077143\n",
       "32             age_group_65+ Years    0.056827\n",
       "28            health_insurance_yes    0.026104\n",
       "26               health_worker_yes    0.025488\n",
       "25       health_worker_no_response    0.020186\n",
       "31         age_group_55 - 64 Years    0.017746\n",
       "46                rent_or_own_Rent    0.015571\n",
       "65    employment_industry_fcxhlnwr    0.015452\n",
       "2                   h1n1_knowledge    0.013707\n",
       "19            doctor_recc_h1n1_1.0    0.013388\n",
       "85  employment_occupation_dcjcmpih    0.013214\n",
       "66    employment_industry_haxffmxo    0.013212\n",
       "16     opinion_seas_sick_from_vacc    0.011968\n",
       "23       chronic_med_condition_1.0    0.011505\n",
       "12               opinion_h1n1_risk    0.010336\n",
       "84  employment_occupation_cmhcxjea    0.010094\n",
       "36           education_no_response    0.010062\n",
       "37                   race_Hispanic    0.010012"
      ]
     },
     "execution_count": 20,
     "metadata": {},
     "output_type": "execute_result"
    }
   ],
   "source": [
    "top_feat"
   ]
  },
  {
   "cell_type": "code",
   "execution_count": 22,
   "id": "3b0d3e82-ac7c-48ec-908e-388bd4994088",
   "metadata": {},
   "outputs": [],
   "source": [
    "top_feat.to_csv('../data/XGB_seasonal_feature_imp.csv', index=False)"
   ]
  },
  {
   "cell_type": "markdown",
   "id": "55fc8c5b-dbc0-4bba-8f40-89dd7e08494a",
   "metadata": {
    "tags": []
   },
   "source": [
    "### Rerun Model with Feature Engineering\n",
    "Such as make a new feature that is 1 if the subject had both h1n1_concern and h1n1_knowledge, another one for all the behaviors and a third one for doctor recommended"
   ]
  },
  {
   "cell_type": "markdown",
   "id": "64586a7e-9109-4fc7-b4b5-747e63c7aea7",
   "metadata": {},
   "source": [
    "**Feature Engineering** :"
   ]
  },
  {
   "cell_type": "code",
   "execution_count": 24,
   "id": "b4cd6fd0-0cb9-4ea8-96c8-ec9a7775c641",
   "metadata": {},
   "outputs": [
    {
     "data": {
      "text/plain": [
       "0.0            19139\n",
       "1.0             5408\n",
       "no_response     2160\n",
       "Name: doctor_recc_h1n1, dtype: int64"
      ]
     },
     "execution_count": 24,
     "metadata": {},
     "output_type": "execute_result"
    }
   ],
   "source": [
    "#####\n",
    "data['doctor_recc_h1n1'].value_counts()"
   ]
  },
  {
   "cell_type": "code",
   "execution_count": 25,
   "id": "a513b420-d52d-44c8-8096-712cfe25b7ff",
   "metadata": {},
   "outputs": [
    {
     "data": {
      "text/plain": [
       "dtype('O')"
      ]
     },
     "execution_count": 25,
     "metadata": {},
     "output_type": "execute_result"
    }
   ],
   "source": [
    "data['doctor_recc_h1n1'].dtypes"
   ]
  },
  {
   "cell_type": "code",
   "execution_count": 26,
   "id": "3d21abb8-7e07-4dc5-a6c3-7c39c8ca937c",
   "metadata": {},
   "outputs": [
    {
     "data": {
      "text/plain": [
       "1    19139\n",
       "2     5408\n",
       "0     2160\n",
       "Name: doctor_recc_h1n1, dtype: int64"
      ]
     },
     "execution_count": 26,
     "metadata": {},
     "output_type": "execute_result"
    }
   ],
   "source": [
    "data['doctor_recc_h1n1'] = data['doctor_recc_h1n1'].replace({'0.0': 1, '1.0': 2, 'no_response': 0})\n",
    "\n",
    "data['doctor_recc_h1n1'].value_counts()"
   ]
  },
  {
   "cell_type": "code",
   "execution_count": 27,
   "id": "21b7233b-be59-4c4d-bf84-ca8772616d41",
   "metadata": {},
   "outputs": [
    {
     "data": {
      "text/plain": [
       "0.0            16453\n",
       "1.0             8094\n",
       "no_response     2160\n",
       "Name: doctor_recc_seasonal, dtype: int64"
      ]
     },
     "execution_count": 27,
     "metadata": {},
     "output_type": "execute_result"
    }
   ],
   "source": [
    "#####\n",
    "data['doctor_recc_seasonal'].value_counts()"
   ]
  },
  {
   "cell_type": "code",
   "execution_count": 28,
   "id": "8366e7d8-ceb2-46e5-b11a-de2066c1c05e",
   "metadata": {},
   "outputs": [
    {
     "data": {
      "text/plain": [
       "1    16453\n",
       "2     8094\n",
       "0     2160\n",
       "Name: doctor_recc_seasonal, dtype: int64"
      ]
     },
     "execution_count": 28,
     "metadata": {},
     "output_type": "execute_result"
    }
   ],
   "source": [
    "data['doctor_recc_seasonal'] = data['doctor_recc_seasonal'].replace({'0.0': 1, '1.0': 2, 'no_response': 0})\n",
    "data['doctor_recc_seasonal'].value_counts()"
   ]
  },
  {
   "cell_type": "code",
   "execution_count": 29,
   "id": "4d617998-fa62-47ea-8898-2c1ea7e4e6a3",
   "metadata": {},
   "outputs": [
    {
     "data": {
      "text/plain": [
       "0.0            18446\n",
       "1.0             7290\n",
       "no_response      971\n",
       "Name: chronic_med_condition, dtype: int64"
      ]
     },
     "execution_count": 29,
     "metadata": {},
     "output_type": "execute_result"
    }
   ],
   "source": [
    "#####\n",
    "data['chronic_med_condition'].value_counts()"
   ]
  },
  {
   "cell_type": "code",
   "execution_count": 30,
   "id": "b183d768-082c-4198-ae9f-8640f4c4603b",
   "metadata": {},
   "outputs": [
    {
     "data": {
      "text/plain": [
       "1    18446\n",
       "2     7290\n",
       "0      971\n",
       "Name: chronic_med_condition, dtype: int64"
      ]
     },
     "execution_count": 30,
     "metadata": {},
     "output_type": "execute_result"
    }
   ],
   "source": [
    "data['chronic_med_condition'] = data['chronic_med_condition'].replace({'no_response' : 0, '0.0' : 1, '1.0': 2})\n",
    "data['chronic_med_condition'].value_counts()"
   ]
  },
  {
   "cell_type": "code",
   "execution_count": 31,
   "id": "2529bc36-b18e-4a96-9338-c11cf73f1257",
   "metadata": {},
   "outputs": [
    {
     "data": {
      "text/plain": [
       "65+ Years        6843\n",
       "55 - 64 Years    5563\n",
       "45 - 54 Years    5238\n",
       "18 - 34 Years    5215\n",
       "35 - 44 Years    3848\n",
       "Name: age_group, dtype: int64"
      ]
     },
     "execution_count": 31,
     "metadata": {},
     "output_type": "execute_result"
    }
   ],
   "source": [
    "#####\n",
    "data['age_group'].value_counts()"
   ]
  },
  {
   "cell_type": "code",
   "execution_count": 32,
   "id": "c5a9c4a8-8d10-495e-8742-1237100540e5",
   "metadata": {},
   "outputs": [
    {
     "data": {
      "text/plain": [
       "5    6843\n",
       "4    5563\n",
       "2    5238\n",
       "0    5215\n",
       "1    3848\n",
       "Name: age_group, dtype: int64"
      ]
     },
     "execution_count": 32,
     "metadata": {},
     "output_type": "execute_result"
    }
   ],
   "source": [
    "data['age_group'].replace({\n",
    "    '18 - 34 Years' : 0,\n",
    "    '35 - 44 Years' : 1,\n",
    "    '45 - 54 Years' : 2,\n",
    "    '55 - 64 Years' : 3,\n",
    "    '55 - 64 Years' : 4,\n",
    "    '65+ Years' : 5\n",
    "    \n",
    "}, inplace=True)\n",
    "\n",
    "data['age_group'].value_counts()"
   ]
  },
  {
   "cell_type": "code",
   "execution_count": 33,
   "id": "d3d25c32-76f1-43c2-976a-9b54a0c1bb52",
   "metadata": {},
   "outputs": [
    {
     "data": {
      "text/plain": [
       "no             23004\n",
       "yes             2899\n",
       "no_response      804\n",
       "Name: health_worker, dtype: int64"
      ]
     },
     "execution_count": 33,
     "metadata": {},
     "output_type": "execute_result"
    }
   ],
   "source": [
    "#####\n",
    "\n",
    "data['health_worker'].value_counts()"
   ]
  },
  {
   "cell_type": "code",
   "execution_count": 34,
   "id": "43d1bea2-4249-40f3-9bd7-30fe6c0b47f0",
   "metadata": {},
   "outputs": [
    {
     "data": {
      "text/plain": [
       "1    23004\n",
       "2     2899\n",
       "0      804\n",
       "Name: health_worker, dtype: int64"
      ]
     },
     "execution_count": 34,
     "metadata": {},
     "output_type": "execute_result"
    }
   ],
   "source": [
    "data['health_worker'].replace({'no_response': 0,'no': 1, 'yes': 2}, inplace=True)\n",
    "data['health_worker'].value_counts()"
   ]
  },
  {
   "cell_type": "code",
   "execution_count": 35,
   "id": "4b3ab8f5-8596-4534-a006-c63ca69eb1bb",
   "metadata": {},
   "outputs": [
    {
     "data": {
      "text/plain": [
       "h1n1_concern      float64\n",
       "h1n1_knowledge    float64\n",
       "dtype: object"
      ]
     },
     "execution_count": 35,
     "metadata": {},
     "output_type": "execute_result"
    }
   ],
   "source": [
    "# make a new feature h1n1_all for participants who had both h1n1_concern and h1n1_knowledge\n",
    "data[['h1n1_concern', 'h1n1_knowledge']].dtypes"
   ]
  },
  {
   "cell_type": "code",
   "execution_count": 36,
   "id": "53bf8bcf-c174-4480-93b2-3ea97d2ce7e8",
   "metadata": {},
   "outputs": [],
   "source": [
    "data['h1n1_all'] = data['h1n1_concern'] * data['h1n1_knowledge']"
   ]
  },
  {
   "cell_type": "code",
   "execution_count": 37,
   "id": "deb026d4-6312-496b-94aa-ced7f5548360",
   "metadata": {},
   "outputs": [
    {
     "data": {
      "text/plain": [
       "behavioral_antiviral_meds      float64\n",
       "behavioral_avoidance           float64\n",
       "behavioral_face_mask           float64\n",
       "behavioral_wash_hands          float64\n",
       "behavioral_large_gatherings    float64\n",
       "behavioral_outside_home        float64\n",
       "behavioral_touch_face          float64\n",
       "dtype: object"
      ]
     },
     "execution_count": 37,
     "metadata": {},
     "output_type": "execute_result"
    }
   ],
   "source": [
    "# make a new feature h1n1_all for participants who responded yes to all the behavior questions\n",
    "behaviour_columns = [column for column in list(data.columns) if 'behavioral' in column]\n",
    "data[behaviour_columns].dtypes"
   ]
  },
  {
   "cell_type": "code",
   "execution_count": 38,
   "id": "49646700-85c0-4698-9883-1dce3a0d63bc",
   "metadata": {},
   "outputs": [],
   "source": [
    "data['behavioral_all'] = 1\n",
    "\n",
    "for column in behaviour_columns:\n",
    "    data['behavioral_all'] = data['behavioral_all'] * data[column]"
   ]
  },
  {
   "cell_type": "code",
   "execution_count": 39,
   "id": "814e2260-b819-430b-8662-4a89a341d479",
   "metadata": {},
   "outputs": [
    {
     "data": {
      "text/plain": [
       "opinion_h1n1_vacc_effective    float64\n",
       "opinion_h1n1_risk              float64\n",
       "opinion_h1n1_sick_from_vacc    float64\n",
       "opinion_seas_vacc_effective    float64\n",
       "opinion_seas_risk              float64\n",
       "opinion_seas_sick_from_vacc    float64\n",
       "dtype: object"
      ]
     },
     "execution_count": 39,
     "metadata": {},
     "output_type": "execute_result"
    }
   ],
   "source": [
    "# make a new feature opinion_all for participants based on their opinion scores to the opinion questions\n",
    "opinion_columns = [column for column in list(data.columns) if 'opinion' in column]\n",
    "data[opinion_columns].dtypes"
   ]
  },
  {
   "cell_type": "code",
   "execution_count": 40,
   "id": "dcf60c28-4087-4ffd-a8f7-1ffdcebe4361",
   "metadata": {},
   "outputs": [],
   "source": [
    "data['opinion_all'] = 1\n",
    "\n",
    "for column in opinion_columns:\n",
    "    data['opinion_all'] = data['opinion_all'] * data[column]"
   ]
  },
  {
   "cell_type": "code",
   "execution_count": 41,
   "id": "ba288a39-267d-4c1c-8528-3860537f3222",
   "metadata": {},
   "outputs": [],
   "source": [
    "# doctor recommended columns\n",
    "doctor_columns = [column for column in list(data.columns) if 'doctor' in column]"
   ]
  },
  {
   "cell_type": "code",
   "execution_count": 42,
   "id": "48e5e152-cdc7-4d7b-b054-cee36e12e09d",
   "metadata": {},
   "outputs": [
    {
     "data": {
      "text/plain": [
       "['doctor_recc_h1n1', 'doctor_recc_seasonal']"
      ]
     },
     "execution_count": 42,
     "metadata": {},
     "output_type": "execute_result"
    }
   ],
   "source": [
    "doctor_columns"
   ]
  },
  {
   "cell_type": "code",
   "execution_count": 43,
   "id": "8bdee702-ae95-4fd2-90d3-f5c27967782b",
   "metadata": {},
   "outputs": [],
   "source": [
    "data['doctor_recc_all'] = 1\n",
    "\n",
    "for column in opinion_columns:\n",
    "    data['doctor_recc_all'] = data['doctor_recc_all'] * data[column]"
   ]
  },
  {
   "cell_type": "code",
   "execution_count": 44,
   "id": "0374e7e3-a663-4725-b153-600589f97b3b",
   "metadata": {},
   "outputs": [],
   "source": [
    "# health_worker and age group\n",
    "\n",
    "data['health_worker_by_age'] = data['health_worker'] * data['age_group']"
   ]
  },
  {
   "cell_type": "code",
   "execution_count": 45,
   "id": "0eae358a-a7cc-4393-9462-df74e1508296",
   "metadata": {},
   "outputs": [
    {
     "data": {
      "text/plain": [
       "Index(['respondent_id', 'h1n1_concern', 'h1n1_knowledge',\n",
       "       'behavioral_antiviral_meds', 'behavioral_avoidance',\n",
       "       'behavioral_face_mask', 'behavioral_wash_hands',\n",
       "       'behavioral_large_gatherings', 'behavioral_outside_home',\n",
       "       'behavioral_touch_face', 'doctor_recc_h1n1', 'doctor_recc_seasonal',\n",
       "       'chronic_med_condition', 'child_under_6_months', 'health_worker',\n",
       "       'health_insurance', 'opinion_h1n1_vacc_effective', 'opinion_h1n1_risk',\n",
       "       'opinion_h1n1_sick_from_vacc', 'opinion_seas_vacc_effective',\n",
       "       'opinion_seas_risk', 'opinion_seas_sick_from_vacc', 'age_group',\n",
       "       'education', 'race', 'sex', 'income_poverty', 'marital_status',\n",
       "       'rent_or_own', 'employment_status', 'hhs_geo_region', 'census_msa',\n",
       "       'household_adults', 'household_children', 'employment_industry',\n",
       "       'employment_occupation', 'h1n1_vaccine', 'seasonal_vaccine', 'h1n1_all',\n",
       "       'behavioral_all', 'opinion_all', 'doctor_recc_all',\n",
       "       'health_worker_by_age'],\n",
       "      dtype='object')"
      ]
     },
     "execution_count": 45,
     "metadata": {},
     "output_type": "execute_result"
    }
   ],
   "source": [
    "data.columns"
   ]
  },
  {
   "cell_type": "code",
   "execution_count": 46,
   "id": "c1aa8acf-0848-481c-a3f1-bb1ba2a7a1b8",
   "metadata": {},
   "outputs": [],
   "source": [
    "X = data.drop(columns=['seasonal_vaccine', 'h1n1_vaccine'])\n",
    "y = data['seasonal_vaccine']"
   ]
  },
  {
   "cell_type": "code",
   "execution_count": 47,
   "id": "b0d0226b-9821-402d-9f59-96ffb9dd8841",
   "metadata": {},
   "outputs": [],
   "source": [
    "Xd = pd.get_dummies(data=X, columns=categorical_columns, drop_first=True)"
   ]
  },
  {
   "cell_type": "code",
   "execution_count": 48,
   "id": "66664d60-35e5-4999-8200-4f45157491c4",
   "metadata": {},
   "outputs": [],
   "source": [
    "X_train, X_test, y_train, y_test = train_test_split(Xd, y, random_state=42, stratify=y)"
   ]
  },
  {
   "cell_type": "code",
   "execution_count": 49,
   "id": "23b915a6-4b0c-4177-a7bc-1f8d318522df",
   "metadata": {},
   "outputs": [],
   "source": [
    "X_train = np.array(X_train)\n",
    "X_test = np.array(X_test)"
   ]
  },
  {
   "cell_type": "code",
   "execution_count": 50,
   "id": "157c6aed-8170-41e3-a10a-6f131ecd73ae",
   "metadata": {},
   "outputs": [],
   "source": [
    "y_train = np.array(y_train)\n",
    "y_test = np.array(y_test)"
   ]
  },
  {
   "cell_type": "markdown",
   "id": "dbf96920-62fb-411f-896a-7a6ecc774895",
   "metadata": {},
   "source": [
    "**Run best model on this new set of features**"
   ]
  },
  {
   "cell_type": "code",
   "execution_count": 51,
   "id": "9a86dc34-6d1e-4d80-b650-253eedffe03c",
   "metadata": {
    "tags": []
   },
   "outputs": [],
   "source": [
    "xg_feat = xgb.XGBClassifier(random_state=42,\n",
    "                           use_label_encoder=False,\n",
    "                           max_depth=5,\n",
    "                           colsample_bytree = 0.5,\n",
    "                           subsample=1,\n",
    "                           learning_rate=0.1,\n",
    "                           n_estimators=100,\n",
    "                           n_jobs=-1, \n",
    "                           eval_metric='error'\n",
    "                            )\n",
    "\n",
    "xg_feat.fit(X_train, y_train)\n",
    "\n",
    "y_pred = xg_feat.predict(X_test)"
   ]
  },
  {
   "cell_type": "code",
   "execution_count": 52,
   "id": "bf2c4877-9480-4a6a-b8e4-08d907f2d282",
   "metadata": {},
   "outputs": [
    {
     "data": {
      "text/plain": [
       "(0.7940691927512356, 0.8096854717923115)"
      ]
     },
     "execution_count": 52,
     "metadata": {},
     "output_type": "execute_result"
    }
   ],
   "source": [
    "accuracy_score(y_test, y_pred), accuracy_score(y_train, xg_feat.predict(X_train))"
   ]
  },
  {
   "cell_type": "code",
   "execution_count": 53,
   "id": "f428ae25-8bcf-46dd-95cf-2a161eedf379",
   "metadata": {},
   "outputs": [
    {
     "data": {
      "text/plain": [
       "(0.7983673469387755, 0.8117423557083409)"
      ]
     },
     "execution_count": 53,
     "metadata": {},
     "output_type": "execute_result"
    }
   ],
   "source": [
    "precision_score(y_test, y_pred), precision_score(y_train, xg_feat.predict(X_train))"
   ]
  },
  {
   "cell_type": "code",
   "execution_count": 54,
   "id": "5367a530-78ef-476f-8ecb-c63b8d908312",
   "metadata": {},
   "outputs": [
    {
     "data": {
      "text/plain": [
       "(0.8223094170403588, 0.8382847533632287)"
      ]
     },
     "execution_count": 54,
     "metadata": {},
     "output_type": "execute_result"
    }
   ],
   "source": [
    "recall_score(y_test, y_pred), recall_score(y_train, xg_feat.predict(X_train))"
   ]
  },
  {
   "cell_type": "code",
   "execution_count": 55,
   "id": "9002fe24-652c-49cb-8d65-120ab4dcb33e",
   "metadata": {},
   "outputs": [
    {
     "data": {
      "text/plain": [
       "(0.7919845573461685, 0.8075725718349491)"
      ]
     },
     "execution_count": 55,
     "metadata": {},
     "output_type": "execute_result"
    }
   ],
   "source": [
    "roc_auc_score(y_test, y_pred), roc_auc_score(y_train, xg_feat.predict(X_train))"
   ]
  },
  {
   "cell_type": "markdown",
   "id": "2ba3a97e-63f7-40e0-ab04-594fdf120231",
   "metadata": {},
   "source": [
    "Model|Accuracy|Precision|Recall|AUC|\n",
    "-------------------------|--------|---------|------|---|\n",
    "Without switching classes|0.784|0.784|0.739|0.781|\n",
    "Switching classes|0.797|0.800|0.825|0.794|\n",
    "Add feat. engineering|0.794|0/798|0.822|0.791|"
   ]
  },
  {
   "cell_type": "code",
   "execution_count": null,
   "id": "1ed9ae4f-1578-4bd5-957b-7a81ba0261c3",
   "metadata": {},
   "outputs": [],
   "source": []
  },
  {
   "cell_type": "markdown",
   "id": "cfa4b288-fd99-4765-bad6-38a72103b289",
   "metadata": {},
   "source": [
    "**Get top 15 best features**"
   ]
  },
  {
   "cell_type": "code",
   "execution_count": 56,
   "id": "81f1ceb8-2507-475c-b134-07f3326f40cd",
   "metadata": {},
   "outputs": [],
   "source": [
    "top_feat = pd.DataFrame({'feature': Xd.columns, 'importance':xg_feat.feature_importances_}).sort_values('importance', ascending=False).head(15)"
   ]
  },
  {
   "cell_type": "code",
   "execution_count": 57,
   "id": "00314874-f105-4f05-8f29-6f50be1415d7",
   "metadata": {},
   "outputs": [
    {
     "data": {
      "text/html": [
       "<div>\n",
       "<style scoped>\n",
       "    .dataframe tbody tr th:only-of-type {\n",
       "        vertical-align: middle;\n",
       "    }\n",
       "\n",
       "    .dataframe tbody tr th {\n",
       "        vertical-align: top;\n",
       "    }\n",
       "\n",
       "    .dataframe thead th {\n",
       "        text-align: right;\n",
       "    }\n",
       "</style>\n",
       "<table border=\"1\" class=\"dataframe\">\n",
       "  <thead>\n",
       "    <tr style=\"text-align: right;\">\n",
       "      <th></th>\n",
       "      <th>feature</th>\n",
       "      <th>importance</th>\n",
       "    </tr>\n",
       "  </thead>\n",
       "  <tbody>\n",
       "    <tr>\n",
       "      <th>27</th>\n",
       "      <td>doctor_recc_seasonal_2</td>\n",
       "      <td>0.117716</td>\n",
       "    </tr>\n",
       "    <tr>\n",
       "      <th>14</th>\n",
       "      <td>opinion_seas_vacc_effective</td>\n",
       "      <td>0.101134</td>\n",
       "    </tr>\n",
       "    <tr>\n",
       "      <th>15</th>\n",
       "      <td>opinion_seas_risk</td>\n",
       "      <td>0.075236</td>\n",
       "    </tr>\n",
       "    <tr>\n",
       "      <th>37</th>\n",
       "      <td>age_group_5</td>\n",
       "      <td>0.038628</td>\n",
       "    </tr>\n",
       "    <tr>\n",
       "      <th>23</th>\n",
       "      <td>health_worker_by_age</td>\n",
       "      <td>0.035109</td>\n",
       "    </tr>\n",
       "    <tr>\n",
       "      <th>26</th>\n",
       "      <td>doctor_recc_seasonal_1</td>\n",
       "      <td>0.028652</td>\n",
       "    </tr>\n",
       "    <tr>\n",
       "      <th>33</th>\n",
       "      <td>health_insurance_yes</td>\n",
       "      <td>0.018157</td>\n",
       "    </tr>\n",
       "    <tr>\n",
       "      <th>31</th>\n",
       "      <td>health_worker_2</td>\n",
       "      <td>0.017885</td>\n",
       "    </tr>\n",
       "    <tr>\n",
       "      <th>70</th>\n",
       "      <td>employment_industry_fcxhlnwr</td>\n",
       "      <td>0.016348</td>\n",
       "    </tr>\n",
       "    <tr>\n",
       "      <th>51</th>\n",
       "      <td>rent_or_own_Rent</td>\n",
       "      <td>0.014340</td>\n",
       "    </tr>\n",
       "    <tr>\n",
       "      <th>16</th>\n",
       "      <td>opinion_seas_sick_from_vacc</td>\n",
       "      <td>0.014007</td>\n",
       "    </tr>\n",
       "    <tr>\n",
       "      <th>25</th>\n",
       "      <td>doctor_recc_h1n1_2</td>\n",
       "      <td>0.012803</td>\n",
       "    </tr>\n",
       "    <tr>\n",
       "      <th>22</th>\n",
       "      <td>doctor_recc_all</td>\n",
       "      <td>0.012526</td>\n",
       "    </tr>\n",
       "    <tr>\n",
       "      <th>2</th>\n",
       "      <td>h1n1_knowledge</td>\n",
       "      <td>0.012074</td>\n",
       "    </tr>\n",
       "    <tr>\n",
       "      <th>71</th>\n",
       "      <td>employment_industry_haxffmxo</td>\n",
       "      <td>0.012058</td>\n",
       "    </tr>\n",
       "  </tbody>\n",
       "</table>\n",
       "</div>"
      ],
      "text/plain": [
       "                         feature  importance\n",
       "27        doctor_recc_seasonal_2    0.117716\n",
       "14   opinion_seas_vacc_effective    0.101134\n",
       "15             opinion_seas_risk    0.075236\n",
       "37                   age_group_5    0.038628\n",
       "23          health_worker_by_age    0.035109\n",
       "26        doctor_recc_seasonal_1    0.028652\n",
       "33          health_insurance_yes    0.018157\n",
       "31               health_worker_2    0.017885\n",
       "70  employment_industry_fcxhlnwr    0.016348\n",
       "51              rent_or_own_Rent    0.014340\n",
       "16   opinion_seas_sick_from_vacc    0.014007\n",
       "25            doctor_recc_h1n1_2    0.012803\n",
       "22               doctor_recc_all    0.012526\n",
       "2                 h1n1_knowledge    0.012074\n",
       "71  employment_industry_haxffmxo    0.012058"
      ]
     },
     "execution_count": 57,
     "metadata": {},
     "output_type": "execute_result"
    }
   ],
   "source": [
    "top_feat"
   ]
  },
  {
   "cell_type": "code",
   "execution_count": null,
   "id": "da5e182d-fcec-496d-9236-cdd5d06eb7eb",
   "metadata": {},
   "outputs": [],
   "source": []
  }
 ],
 "metadata": {
  "kernelspec": {
   "display_name": "Python [conda env:xgboost]",
   "language": "python",
   "name": "conda-env-xgboost-py"
  },
  "language_info": {
   "codemirror_mode": {
    "name": "ipython",
    "version": 3
   },
   "file_extension": ".py",
   "mimetype": "text/x-python",
   "name": "python",
   "nbconvert_exporter": "python",
   "pygments_lexer": "ipython3",
   "version": "3.10.4"
  }
 },
 "nbformat": 4,
 "nbformat_minor": 5
}
