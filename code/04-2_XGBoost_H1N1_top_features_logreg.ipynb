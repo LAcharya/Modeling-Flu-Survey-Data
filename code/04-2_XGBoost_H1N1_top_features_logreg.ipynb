{
 "cells": [
  {
   "cell_type": "markdown",
   "id": "97f0c1c4-3a9f-4264-a9fb-a862c6f203ce",
   "metadata": {},
   "source": [
    "# Predicting H1N1 vaccination refusal using best features \n",
    "## Features selected from Logistic Regression Classifier"
   ]
  },
  {
   "cell_type": "markdown",
   "id": "24001446-8d91-407d-b057-cbb6436b220d",
   "metadata": {},
   "source": [
    "This notebook uses 15 best features as selected using Logistic Regression, listed below:\n",
    "\n",
    "* `doctor_recc_h1n1`\n",
    "* `employment_industry`\n",
    "* `health_insurance`\n",
    "* `health_worker`\n",
    "* `employment_occupation`\n",
    "* `doctor_recc_seasonal`\n",
    "* `opinion_h1n1_vacc_effective`\n",
    "* `education`\n",
    "* `opinion_h1n1_risk`\n",
    "* `chronic_med_condition'`\n",
    "* `hhs_geo_region`\n",
    "* `rent_or_own`\n",
    "* `age_group`\n",
    "* `behavioral_antiviral_meds`\n",
    "* `h1n1_vaccine`\n",
    "* `seasonal_vaccine`\n",
    "\n",
    "The notebook runs three kinds of models. \n",
    "\n",
    "1. Using best features and engineered features, and balancing classes using SMOTE\n",
    "2. Using features as is, and SMOTE for balancing features\n",
    "3. Using features and imbalanced classes as is\n",
    "\n",
    "The findings are summarized below:\n",
    "\n",
    "Model|Accuracy|Precision|Recall|AUC|\n",
    "-----|--------|---------|------|---|\n",
    "feat.engg + SMOTE|0.817|0.899|0.865|0.753|\n",
    "feat as is + SMOTE|0.824|0.901|0.873|0.759|\n",
    "feat as is|0.851|0.876|0.944|0.725|"
   ]
  },
  {
   "cell_type": "code",
   "execution_count": 1,
   "id": "7f504ea3-0c63-4848-818b-67c3609af326",
   "metadata": {},
   "outputs": [
    {
     "name": "stderr",
     "output_type": "stream",
     "text": [
      "C:\\ProgramData\\Anaconda3\\envs\\xgboost\\lib\\site-packages\\xgboost\\compat.py:36: FutureWarning: pandas.Int64Index is deprecated and will be removed from pandas in a future version. Use pandas.Index with the appropriate dtype instead.\n",
      "  from pandas import MultiIndex, Int64Index\n"
     ]
    }
   ],
   "source": [
    "import pandas as pd\n",
    "import numpy as np\n",
    "import xgboost as xgb\n",
    "from imblearn.over_sampling import SMOTE\n",
    "from sklearn.model_selection import train_test_split, GridSearchCV\n",
    "from sklearn.metrics import (accuracy_score, recall_score, precision_score, \n",
    "                            roc_auc_score, balanced_accuracy_score, ConfusionMatrixDisplay)"
   ]
  },
  {
   "cell_type": "markdown",
   "id": "e3791a6b-05dc-4e31-be76-3447c532ed3f",
   "metadata": {},
   "source": [
    "### Using features from LogReg List with feature engineering and SMOTE"
   ]
  },
  {
   "cell_type": "code",
   "execution_count": 2,
   "id": "014b4c89-0cd9-43c3-9363-57d831c452c6",
   "metadata": {},
   "outputs": [],
   "source": [
    "# import data\n",
    "data = pd.read_csv('../data/train_clean.csv')"
   ]
  },
  {
   "cell_type": "code",
   "execution_count": 3,
   "id": "d7dfaa67-dd7c-4254-bd02-2c20c12525dc",
   "metadata": {},
   "outputs": [
    {
     "data": {
      "text/plain": [
       "Index(['respondent_id', 'h1n1_concern', 'h1n1_knowledge',\n",
       "       'behavioral_antiviral_meds', 'behavioral_avoidance',\n",
       "       'behavioral_face_mask', 'behavioral_wash_hands',\n",
       "       'behavioral_large_gatherings', 'behavioral_outside_home',\n",
       "       'behavioral_touch_face', 'doctor_recc_h1n1', 'doctor_recc_seasonal',\n",
       "       'chronic_med_condition', 'child_under_6_months', 'health_worker',\n",
       "       'health_insurance', 'opinion_h1n1_vacc_effective', 'opinion_h1n1_risk',\n",
       "       'opinion_h1n1_sick_from_vacc', 'opinion_seas_vacc_effective',\n",
       "       'opinion_seas_risk', 'opinion_seas_sick_from_vacc', 'age_group',\n",
       "       'education', 'race', 'sex', 'income_poverty', 'marital_status',\n",
       "       'rent_or_own', 'employment_status', 'hhs_geo_region', 'census_msa',\n",
       "       'household_adults', 'household_children', 'employment_industry',\n",
       "       'employment_occupation', 'h1n1_vaccine', 'seasonal_vaccine'],\n",
       "      dtype='object')"
      ]
     },
     "execution_count": 3,
     "metadata": {},
     "output_type": "execute_result"
    }
   ],
   "source": [
    "data.columns"
   ]
  },
  {
   "cell_type": "code",
   "execution_count": 4,
   "id": "dbf2851c-271b-4b75-8a36-d342f46a2c89",
   "metadata": {},
   "outputs": [
    {
     "data": {
      "text/plain": [
       "0    0.787546\n",
       "1    0.212454\n",
       "Name: h1n1_vaccine, dtype: float64"
      ]
     },
     "execution_count": 4,
     "metadata": {},
     "output_type": "execute_result"
    }
   ],
   "source": [
    "data['h1n1_vaccine'].value_counts(normalize=True)"
   ]
  },
  {
   "cell_type": "code",
   "execution_count": 5,
   "id": "51de85a0-b3dc-4255-91b8-0aff87e9d3c3",
   "metadata": {},
   "outputs": [
    {
     "data": {
      "text/plain": [
       "0    0.534392\n",
       "1    0.465608\n",
       "Name: seasonal_vaccine, dtype: float64"
      ]
     },
     "execution_count": 5,
     "metadata": {},
     "output_type": "execute_result"
    }
   ],
   "source": [
    "data['seasonal_vaccine'].value_counts(normalize=True)"
   ]
  },
  {
   "cell_type": "code",
   "execution_count": 6,
   "id": "ec66b5bc-ad28-4e24-bfdf-588e88f86ba6",
   "metadata": {
    "tags": []
   },
   "outputs": [
    {
     "data": {
      "text/plain": [
       "1    14272\n",
       "0    12435\n",
       "Name: seasonal_vaccine, dtype: int64"
      ]
     },
     "execution_count": 6,
     "metadata": {},
     "output_type": "execute_result"
    }
   ],
   "source": [
    "# since we're interested in the people who did not get vaccinated: switch 0 and 1 labels\n",
    "data['h1n1_vaccine'].replace({1:0, 0:1}, inplace=True)\n",
    "data['h1n1_vaccine'].value_counts()\n",
    "\n",
    "data['seasonal_vaccine'].replace({1:0, 0:1}, inplace=True)\n",
    "data['seasonal_vaccine'].value_counts()"
   ]
  },
  {
   "cell_type": "code",
   "execution_count": 7,
   "id": "bad50584-c661-4af7-8bf1-a786f3de92d0",
   "metadata": {},
   "outputs": [],
   "source": [
    "features_to_use = pd.read_csv('../data/logreg_H1N1_feature_imp.csv')"
   ]
  },
  {
   "cell_type": "code",
   "execution_count": 8,
   "id": "3d342e89-54ce-4d38-b1a1-077380934165",
   "metadata": {},
   "outputs": [
    {
     "data": {
      "text/plain": [
       "['doctor_recc_h1n1',\n",
       " 'employment_industry',\n",
       " 'health_insurance',\n",
       " 'health_worker',\n",
       " 'employment_occupation',\n",
       " 'doctor_recc_seasonal',\n",
       " 'opinion_h1n1_vacc_effective',\n",
       " 'education',\n",
       " 'opinion_h1n1_risk',\n",
       " 'chronic_med_condition',\n",
       " 'hhs_geo_region',\n",
       " 'rent_or_own',\n",
       " 'age_group',\n",
       " 'behavioral_antiviral_meds',\n",
       " 'h1n1_vaccine',\n",
       " 'seasonal_vaccine']"
      ]
     },
     "execution_count": 8,
     "metadata": {},
     "output_type": "execute_result"
    }
   ],
   "source": [
    "features = list(features_to_use['feature'])\n",
    "features.append('h1n1_vaccine')\n",
    "features.append('seasonal_vaccine')\n",
    "features"
   ]
  },
  {
   "cell_type": "code",
   "execution_count": 9,
   "id": "8fcb2af5-fb97-4789-8c32-cbbd3d4443b7",
   "metadata": {},
   "outputs": [],
   "source": [
    "data = data[features]"
   ]
  },
  {
   "cell_type": "code",
   "execution_count": 10,
   "id": "19e6c35b-ae2d-4958-9901-78d472653952",
   "metadata": {},
   "outputs": [
    {
     "data": {
      "text/plain": [
       "Index(['doctor_recc_h1n1', 'employment_industry', 'health_insurance',\n",
       "       'health_worker', 'employment_occupation', 'doctor_recc_seasonal',\n",
       "       'opinion_h1n1_vacc_effective', 'education', 'opinion_h1n1_risk',\n",
       "       'chronic_med_condition', 'hhs_geo_region', 'rent_or_own', 'age_group',\n",
       "       'behavioral_antiviral_meds', 'h1n1_vaccine', 'seasonal_vaccine'],\n",
       "      dtype='object')"
      ]
     },
     "execution_count": 10,
     "metadata": {},
     "output_type": "execute_result"
    }
   ],
   "source": [
    "data.columns"
   ]
  },
  {
   "cell_type": "markdown",
   "id": "51ab802e-937f-4f68-aa1f-b4687af9e5c5",
   "metadata": {},
   "source": [
    "Doctor recommended features"
   ]
  },
  {
   "cell_type": "code",
   "execution_count": 11,
   "id": "da635836-52b8-4be2-8973-0d4710ce8837",
   "metadata": {
    "tags": []
   },
   "outputs": [
    {
     "data": {
      "text/plain": [
       "0.0            19139\n",
       "1.0             5408\n",
       "no_response     2160\n",
       "Name: doctor_recc_h1n1, dtype: int64"
      ]
     },
     "execution_count": 11,
     "metadata": {},
     "output_type": "execute_result"
    }
   ],
   "source": [
    "# #####\n",
    "data['doctor_recc_h1n1'].value_counts()"
   ]
  },
  {
   "cell_type": "code",
   "execution_count": 12,
   "id": "19a0d0b3-91e3-476b-ad73-f4df2e03a574",
   "metadata": {
    "tags": []
   },
   "outputs": [
    {
     "data": {
      "text/plain": [
       "dtype('O')"
      ]
     },
     "execution_count": 12,
     "metadata": {},
     "output_type": "execute_result"
    }
   ],
   "source": [
    "data['doctor_recc_h1n1'].dtypes"
   ]
  },
  {
   "cell_type": "code",
   "execution_count": 13,
   "id": "38d0c933-1f07-4944-8206-7378e593224c",
   "metadata": {},
   "outputs": [
    {
     "data": {
      "text/plain": [
       "1    19139\n",
       "2     5408\n",
       "0     2160\n",
       "Name: doctor_recc_h1n1, dtype: int64"
      ]
     },
     "execution_count": 13,
     "metadata": {},
     "output_type": "execute_result"
    }
   ],
   "source": [
    "data['doctor_recc_h1n1'] = data['doctor_recc_h1n1'].replace({'0.0': 1, '1.0': 2, 'no_response': 0})\n",
    "\n",
    "data['doctor_recc_h1n1'].value_counts()"
   ]
  },
  {
   "cell_type": "code",
   "execution_count": 14,
   "id": "74f0ee0a-ba07-475c-b9a9-69456d4ab06a",
   "metadata": {},
   "outputs": [
    {
     "data": {
      "text/plain": [
       "0.0            16453\n",
       "1.0             8094\n",
       "no_response     2160\n",
       "Name: doctor_recc_seasonal, dtype: int64"
      ]
     },
     "execution_count": 14,
     "metadata": {},
     "output_type": "execute_result"
    }
   ],
   "source": [
    "#####\n",
    "data['doctor_recc_seasonal'].value_counts()"
   ]
  },
  {
   "cell_type": "code",
   "execution_count": 15,
   "id": "725e22c8-72fe-4050-aa92-7d55e5f9a6fa",
   "metadata": {},
   "outputs": [
    {
     "data": {
      "text/plain": [
       "1    16453\n",
       "2     8094\n",
       "0     2160\n",
       "Name: doctor_recc_seasonal, dtype: int64"
      ]
     },
     "execution_count": 15,
     "metadata": {},
     "output_type": "execute_result"
    }
   ],
   "source": [
    "data['doctor_recc_seasonal'] = data['doctor_recc_seasonal'].replace({'0.0': 1, '1.0': 2, 'no_response': 0})\n",
    "data['doctor_recc_seasonal'].value_counts()"
   ]
  },
  {
   "cell_type": "code",
   "execution_count": 16,
   "id": "4e6afa3a-8812-4c13-81a0-273c32f7dffc",
   "metadata": {},
   "outputs": [
    {
     "data": {
      "text/plain": [
       "0.0            18446\n",
       "1.0             7290\n",
       "no_response      971\n",
       "Name: chronic_med_condition, dtype: int64"
      ]
     },
     "execution_count": 16,
     "metadata": {},
     "output_type": "execute_result"
    }
   ],
   "source": [
    "#####\n",
    "data['chronic_med_condition'].value_counts()"
   ]
  },
  {
   "cell_type": "code",
   "execution_count": 17,
   "id": "0d77198b-9bdc-482e-98f2-2bfa956f5af8",
   "metadata": {},
   "outputs": [
    {
     "data": {
      "text/plain": [
       "1    18446\n",
       "2     7290\n",
       "0      971\n",
       "Name: chronic_med_condition, dtype: int64"
      ]
     },
     "execution_count": 17,
     "metadata": {},
     "output_type": "execute_result"
    }
   ],
   "source": [
    "data['chronic_med_condition'] = data['chronic_med_condition'].replace({'no_response' : 0, '0.0' : 1, '1.0': 2})\n",
    "data['chronic_med_condition'].value_counts()"
   ]
  },
  {
   "cell_type": "code",
   "execution_count": 18,
   "id": "d09546e0-72b3-46ab-bd08-155cbbac2764",
   "metadata": {},
   "outputs": [
    {
     "data": {
      "text/plain": [
       "65+ Years        6843\n",
       "55 - 64 Years    5563\n",
       "45 - 54 Years    5238\n",
       "18 - 34 Years    5215\n",
       "35 - 44 Years    3848\n",
       "Name: age_group, dtype: int64"
      ]
     },
     "execution_count": 18,
     "metadata": {},
     "output_type": "execute_result"
    }
   ],
   "source": [
    "#####\n",
    "data['age_group'].value_counts()"
   ]
  },
  {
   "cell_type": "code",
   "execution_count": 19,
   "id": "2b91c15c-70ee-40c5-9cb4-671945f54dda",
   "metadata": {},
   "outputs": [
    {
     "data": {
      "text/plain": [
       "5    6843\n",
       "4    5563\n",
       "2    5238\n",
       "0    5215\n",
       "1    3848\n",
       "Name: age_group, dtype: int64"
      ]
     },
     "execution_count": 19,
     "metadata": {},
     "output_type": "execute_result"
    }
   ],
   "source": [
    "data['age_group'].replace({\n",
    "    '18 - 34 Years' : 0,\n",
    "    '35 - 44 Years' : 1,\n",
    "    '45 - 54 Years' : 2,\n",
    "    '55 - 64 Years' : 3,\n",
    "    '55 - 64 Years' : 4,\n",
    "    '65+ Years' : 5\n",
    "    \n",
    "}, inplace=True)\n",
    "\n",
    "data['age_group'].value_counts()"
   ]
  },
  {
   "cell_type": "code",
   "execution_count": 20,
   "id": "bc6ecd16-63ef-4da8-b3e7-b73aa18aba49",
   "metadata": {},
   "outputs": [
    {
     "data": {
      "text/plain": [
       "no             23004\n",
       "yes             2899\n",
       "no_response      804\n",
       "Name: health_worker, dtype: int64"
      ]
     },
     "execution_count": 20,
     "metadata": {},
     "output_type": "execute_result"
    }
   ],
   "source": [
    "#####\n",
    "\n",
    "data['health_worker'].value_counts()"
   ]
  },
  {
   "cell_type": "code",
   "execution_count": 21,
   "id": "e85942a2-07a9-43e9-a44c-bc85c9129ed3",
   "metadata": {},
   "outputs": [
    {
     "data": {
      "text/plain": [
       "1    23004\n",
       "2     2899\n",
       "0      804\n",
       "Name: health_worker, dtype: int64"
      ]
     },
     "execution_count": 21,
     "metadata": {},
     "output_type": "execute_result"
    }
   ],
   "source": [
    "data['health_worker'].replace({'no_response': 0,'no': 1, 'yes': 2}, inplace=True)\n",
    "data['health_worker'].value_counts()"
   ]
  },
  {
   "cell_type": "code",
   "execution_count": 22,
   "id": "1ab52bf6-4fd9-4933-a958-930504bffdc5",
   "metadata": {},
   "outputs": [],
   "source": [
    "# make a new feature h1n1_all for participants who had both h1n1_concern and h1n1_knowledge\n",
    "# data[['h1n1_concern', 'h1n1_knowledge']].dtypes"
   ]
  },
  {
   "cell_type": "code",
   "execution_count": 23,
   "id": "68d6b62c-3efc-4022-a10e-f227e6b1e471",
   "metadata": {},
   "outputs": [],
   "source": [
    "# data['h1n1_all'] = data['h1n1_concern'] * data['h1n1_knowledge']"
   ]
  },
  {
   "cell_type": "code",
   "execution_count": 24,
   "id": "7598f03d-6f77-42cc-a093-d165437f33e1",
   "metadata": {},
   "outputs": [
    {
     "data": {
      "text/plain": [
       "behavioral_antiviral_meds    float64\n",
       "dtype: object"
      ]
     },
     "execution_count": 24,
     "metadata": {},
     "output_type": "execute_result"
    }
   ],
   "source": [
    "# make a new feature h1n1_all for participants who responded yes to all the behavior questions\n",
    "behaviour_columns = [column for column in list(data.columns) if 'behavioral' in column]\n",
    "data[behaviour_columns].dtypes"
   ]
  },
  {
   "cell_type": "code",
   "execution_count": 25,
   "id": "a5a673d6-b5a5-4049-9644-33d0b0a743c3",
   "metadata": {},
   "outputs": [],
   "source": [
    "# data['behavioral_all'] = 1\n",
    "\n",
    "# for column in behaviour_columns:\n",
    "#     data['behavioral_all'] = data['behavioral_all'] * data[column]"
   ]
  },
  {
   "cell_type": "code",
   "execution_count": 26,
   "id": "b10a9ada-dbea-463e-aa3c-8be15d6c00bc",
   "metadata": {},
   "outputs": [
    {
     "data": {
      "text/plain": [
       "opinion_h1n1_vacc_effective    float64\n",
       "opinion_h1n1_risk              float64\n",
       "dtype: object"
      ]
     },
     "execution_count": 26,
     "metadata": {},
     "output_type": "execute_result"
    }
   ],
   "source": [
    "# make a new feature opinion_all for participants based on their opinion scores to the opinion questions\n",
    "opinion_columns = [column for column in list(data.columns) if 'opinion' in column]\n",
    "data[opinion_columns].dtypes"
   ]
  },
  {
   "cell_type": "code",
   "execution_count": 27,
   "id": "8641d1eb-1849-40f0-9c1e-233927aa56cf",
   "metadata": {},
   "outputs": [],
   "source": [
    "data['opinion_all'] = 1\n",
    "\n",
    "for column in opinion_columns:\n",
    "    data['opinion_all'] = data['opinion_all'] * data[column]"
   ]
  },
  {
   "cell_type": "code",
   "execution_count": 28,
   "id": "1b4b24da-bd62-423f-9725-640457bd0c4b",
   "metadata": {},
   "outputs": [],
   "source": [
    "# doctor recommended columns\n",
    "doctor_columns = [column for column in list(data.columns) if 'doctor' in column]"
   ]
  },
  {
   "cell_type": "code",
   "execution_count": 29,
   "id": "7d6136ff-4caa-4526-b541-18be590532e5",
   "metadata": {},
   "outputs": [
    {
     "data": {
      "text/plain": [
       "['doctor_recc_h1n1', 'doctor_recc_seasonal']"
      ]
     },
     "execution_count": 29,
     "metadata": {},
     "output_type": "execute_result"
    }
   ],
   "source": [
    "doctor_columns"
   ]
  },
  {
   "cell_type": "code",
   "execution_count": 30,
   "id": "99731304-8ce0-446b-a10c-cc6d53d0ab97",
   "metadata": {},
   "outputs": [],
   "source": [
    "data['doctor_recc_all'] = 1\n",
    "\n",
    "for column in opinion_columns:\n",
    "    data['doctor_recc_all'] = data['doctor_recc_all'] * data[column]"
   ]
  },
  {
   "cell_type": "code",
   "execution_count": 31,
   "id": "9188a1ed-edb8-4e5f-9834-51ff557d39f9",
   "metadata": {},
   "outputs": [],
   "source": [
    "# health_worker and age group\n",
    "\n",
    "data['health_worker_by_age'] = data['health_worker'] * data['age_group']"
   ]
  },
  {
   "cell_type": "code",
   "execution_count": 32,
   "id": "e9075fba-8e5f-4c89-9520-b5fc35be62ec",
   "metadata": {},
   "outputs": [
    {
     "data": {
      "text/plain": [
       "Index(['doctor_recc_h1n1', 'employment_industry', 'health_insurance',\n",
       "       'health_worker', 'employment_occupation', 'doctor_recc_seasonal',\n",
       "       'opinion_h1n1_vacc_effective', 'education', 'opinion_h1n1_risk',\n",
       "       'chronic_med_condition', 'hhs_geo_region', 'rent_or_own', 'age_group',\n",
       "       'behavioral_antiviral_meds', 'h1n1_vaccine', 'seasonal_vaccine',\n",
       "       'opinion_all', 'doctor_recc_all', 'health_worker_by_age'],\n",
       "      dtype='object')"
      ]
     },
     "execution_count": 32,
     "metadata": {},
     "output_type": "execute_result"
    }
   ],
   "source": [
    "data.columns"
   ]
  },
  {
   "cell_type": "markdown",
   "id": "023aee17-8981-4255-bf2f-c58cd86cae9d",
   "metadata": {},
   "source": [
    "**dummify x**"
   ]
  },
  {
   "cell_type": "code",
   "execution_count": 33,
   "id": "532c01f3-83f3-4c51-84bc-aca4cc1fd5fb",
   "metadata": {},
   "outputs": [
    {
     "data": {
      "text/plain": [
       "['employment_industry',\n",
       " 'health_insurance',\n",
       " 'employment_occupation',\n",
       " 'education',\n",
       " 'hhs_geo_region',\n",
       " 'rent_or_own']"
      ]
     },
     "execution_count": 33,
     "metadata": {},
     "output_type": "execute_result"
    }
   ],
   "source": [
    "categorical_columns = list(data.select_dtypes('object').columns)\n",
    "categorical_columns"
   ]
  },
  {
   "cell_type": "code",
   "execution_count": 34,
   "id": "2e0139e3-8067-460e-be7e-44a496cc5fac",
   "metadata": {},
   "outputs": [],
   "source": [
    "X = pd.get_dummies(data=data.drop(columns=['h1n1_vaccine', 'seasonal_vaccine']),\n",
    "                    columns=categorical_columns, drop_first=True)"
   ]
  },
  {
   "cell_type": "markdown",
   "id": "60df8023-a64e-46e5-a464-6e9e9f297adf",
   "metadata": {},
   "source": [
    "**define X and y**"
   ]
  },
  {
   "cell_type": "code",
   "execution_count": 35,
   "id": "9cac8a13-1931-47bd-9a52-f4acb49019e0",
   "metadata": {},
   "outputs": [
    {
     "data": {
      "text/plain": [
       "Index(['doctor_recc_h1n1', 'health_worker', 'doctor_recc_seasonal',\n",
       "       'opinion_h1n1_vacc_effective', 'opinion_h1n1_risk',\n",
       "       'chronic_med_condition', 'age_group', 'behavioral_antiviral_meds',\n",
       "       'opinion_all', 'doctor_recc_all', 'health_worker_by_age',\n",
       "       'employment_industry_atmlpfrs', 'employment_industry_cfqqtusy',\n",
       "       'employment_industry_dotnnunm', 'employment_industry_fcxhlnwr',\n",
       "       'employment_industry_haxffmxo', 'employment_industry_ldnlellj',\n",
       "       'employment_industry_mcubkhph', 'employment_industry_mfikgejo',\n",
       "       'employment_industry_msuufmds', 'employment_industry_nduyfdeo',\n",
       "       'employment_industry_no_response', 'employment_industry_phxvnwax',\n",
       "       'employment_industry_pxcmvdjn', 'employment_industry_qnlwzans',\n",
       "       'employment_industry_rucpziij', 'employment_industry_saaquncn',\n",
       "       'employment_industry_vjjrobsf', 'employment_industry_wlfvacwt',\n",
       "       'employment_industry_wxleyezf', 'employment_industry_xicduogh',\n",
       "       'employment_industry_xqicxuve', 'health_insurance_no_response',\n",
       "       'health_insurance_yes', 'employment_occupation_ccgxvspp',\n",
       "       'employment_occupation_cmhcxjea', 'employment_occupation_dcjcmpih',\n",
       "       'employment_occupation_dlvbwzss', 'employment_occupation_emcorrxb',\n",
       "       'employment_occupation_haliazsg', 'employment_occupation_hfxkjkmi',\n",
       "       'employment_occupation_hodpvpew', 'employment_occupation_kldqjyjy',\n",
       "       'employment_occupation_mxkfnird', 'employment_occupation_no_response',\n",
       "       'employment_occupation_oijqvulv', 'employment_occupation_pvmttkik',\n",
       "       'employment_occupation_qxajmpny', 'employment_occupation_rcertsgn',\n",
       "       'employment_occupation_tfqavkke', 'employment_occupation_ukymxvdu',\n",
       "       'employment_occupation_uqqtjvyb', 'employment_occupation_vlluhbov',\n",
       "       'employment_occupation_xgwztkwe', 'employment_occupation_xqwwgdyp',\n",
       "       'employment_occupation_xtkaffoo', 'employment_occupation_xzmlyyjv',\n",
       "       'education_< 12 Years', 'education_College Graduate',\n",
       "       'education_Some College', 'education_no_response',\n",
       "       'hhs_geo_region_bhuqouqj', 'hhs_geo_region_dqpwygqj',\n",
       "       'hhs_geo_region_fpwskwrf', 'hhs_geo_region_kbazzjca',\n",
       "       'hhs_geo_region_lrircsnp', 'hhs_geo_region_lzgpxyit',\n",
       "       'hhs_geo_region_mlyzmhmf', 'hhs_geo_region_oxchjgsf',\n",
       "       'hhs_geo_region_qufhixun', 'rent_or_own_Rent',\n",
       "       'rent_or_own_no_response'],\n",
       "      dtype='object')"
      ]
     },
     "execution_count": 35,
     "metadata": {},
     "output_type": "execute_result"
    }
   ],
   "source": [
    "X.columns"
   ]
  },
  {
   "cell_type": "code",
   "execution_count": 36,
   "id": "460d1bea-e882-4aa7-a86b-1ff25765c0f8",
   "metadata": {},
   "outputs": [],
   "source": [
    "y = data['h1n1_vaccine']"
   ]
  },
  {
   "cell_type": "code",
   "execution_count": 37,
   "id": "48efb0d3-e595-4b0b-b832-54817a8b5dd9",
   "metadata": {},
   "outputs": [],
   "source": [
    "# train test split\n",
    "X_train, X_test, y_train, y_test = train_test_split(X, y, random_state=42, stratify=y)"
   ]
  },
  {
   "cell_type": "code",
   "execution_count": 38,
   "id": "53182f9d-e08f-40cf-bb39-093ca6523b92",
   "metadata": {},
   "outputs": [],
   "source": [
    "# balance classes\n",
    "\n",
    "smo = SMOTE(k_neighbors=7, random_state=42)\n",
    "\n",
    "X_train_over, y_train_over = smo.fit_resample(X_train, y_train)\n"
   ]
  },
  {
   "cell_type": "code",
   "execution_count": 39,
   "id": "bc3eca29-e155-41e2-abe4-f21df9e15698",
   "metadata": {},
   "outputs": [],
   "source": [
    "X_train_over = np.array(X_train_over)\n",
    "X_test = np.array(X_test)"
   ]
  },
  {
   "cell_type": "code",
   "execution_count": 40,
   "id": "05e8bcc2-e92d-48d1-8f1c-8b6e3bb0f072",
   "metadata": {},
   "outputs": [],
   "source": [
    "y_train_over = np.array(y_train_over)\n",
    "y_test = np.array(y_test)"
   ]
  },
  {
   "cell_type": "code",
   "execution_count": 41,
   "id": "5a1c0ab8-a78f-4c88-b161-b55ec2e24369",
   "metadata": {},
   "outputs": [
    {
     "data": {
      "text/plain": [
       "Index(['doctor_recc_h1n1', 'health_worker', 'doctor_recc_seasonal',\n",
       "       'opinion_h1n1_vacc_effective', 'opinion_h1n1_risk',\n",
       "       'chronic_med_condition', 'age_group', 'behavioral_antiviral_meds',\n",
       "       'opinion_all', 'doctor_recc_all', 'health_worker_by_age',\n",
       "       'employment_industry_atmlpfrs', 'employment_industry_cfqqtusy',\n",
       "       'employment_industry_dotnnunm', 'employment_industry_fcxhlnwr',\n",
       "       'employment_industry_haxffmxo', 'employment_industry_ldnlellj',\n",
       "       'employment_industry_mcubkhph', 'employment_industry_mfikgejo',\n",
       "       'employment_industry_msuufmds', 'employment_industry_nduyfdeo',\n",
       "       'employment_industry_no_response', 'employment_industry_phxvnwax',\n",
       "       'employment_industry_pxcmvdjn', 'employment_industry_qnlwzans',\n",
       "       'employment_industry_rucpziij', 'employment_industry_saaquncn',\n",
       "       'employment_industry_vjjrobsf', 'employment_industry_wlfvacwt',\n",
       "       'employment_industry_wxleyezf', 'employment_industry_xicduogh',\n",
       "       'employment_industry_xqicxuve', 'health_insurance_no_response',\n",
       "       'health_insurance_yes', 'employment_occupation_ccgxvspp',\n",
       "       'employment_occupation_cmhcxjea', 'employment_occupation_dcjcmpih',\n",
       "       'employment_occupation_dlvbwzss', 'employment_occupation_emcorrxb',\n",
       "       'employment_occupation_haliazsg', 'employment_occupation_hfxkjkmi',\n",
       "       'employment_occupation_hodpvpew', 'employment_occupation_kldqjyjy',\n",
       "       'employment_occupation_mxkfnird', 'employment_occupation_no_response',\n",
       "       'employment_occupation_oijqvulv', 'employment_occupation_pvmttkik',\n",
       "       'employment_occupation_qxajmpny', 'employment_occupation_rcertsgn',\n",
       "       'employment_occupation_tfqavkke', 'employment_occupation_ukymxvdu',\n",
       "       'employment_occupation_uqqtjvyb', 'employment_occupation_vlluhbov',\n",
       "       'employment_occupation_xgwztkwe', 'employment_occupation_xqwwgdyp',\n",
       "       'employment_occupation_xtkaffoo', 'employment_occupation_xzmlyyjv',\n",
       "       'education_< 12 Years', 'education_College Graduate',\n",
       "       'education_Some College', 'education_no_response',\n",
       "       'hhs_geo_region_bhuqouqj', 'hhs_geo_region_dqpwygqj',\n",
       "       'hhs_geo_region_fpwskwrf', 'hhs_geo_region_kbazzjca',\n",
       "       'hhs_geo_region_lrircsnp', 'hhs_geo_region_lzgpxyit',\n",
       "       'hhs_geo_region_mlyzmhmf', 'hhs_geo_region_oxchjgsf',\n",
       "       'hhs_geo_region_qufhixun', 'rent_or_own_Rent',\n",
       "       'rent_or_own_no_response'],\n",
       "      dtype='object')"
      ]
     },
     "execution_count": 41,
     "metadata": {},
     "output_type": "execute_result"
    }
   ],
   "source": [
    "X.columns"
   ]
  },
  {
   "cell_type": "markdown",
   "id": "291c80a2-35de-4dfb-8351-b3ef9fee6f0b",
   "metadata": {},
   "source": [
    "**Run model**"
   ]
  },
  {
   "cell_type": "code",
   "execution_count": 42,
   "id": "e6b373f1-7e1a-4e28-9cc7-e094743caec7",
   "metadata": {},
   "outputs": [
    {
     "data": {
      "text/plain": [
       "XGBClassifier(base_score=0.5, booster='gbtree', colsample_bylevel=1,\n",
       "              colsample_bynode=1, colsample_bytree=0.9,\n",
       "              enable_categorical=False, eval_metric='error', gamma=0, gpu_id=-1,\n",
       "              importance_type=None, interaction_constraints='',\n",
       "              learning_rate=0.05, max_delta_step=0, max_depth=3,\n",
       "              min_child_weight=1, missing=nan, monotone_constraints='()',\n",
       "              n_estimators=600, n_jobs=16, num_parallel_tree=1,\n",
       "              predictor='auto', random_state=42, reg_alpha=0, reg_lambda=1,\n",
       "              scale_pos_weight=1, subsample=1, tree_method='exact',\n",
       "              use_label_encoder=False, validate_parameters=1, verbosity=None)"
      ]
     },
     "execution_count": 42,
     "metadata": {},
     "output_type": "execute_result"
    }
   ],
   "source": [
    "xgb_best = xgb.XGBClassifier(random_state=42,\n",
    "                             use_label_encoder=False,\n",
    "                             eval_metric='error',\n",
    "                             booster='gbtree',\n",
    "                             colsample_bytree=0.9,\n",
    "                             learning_rate=0.05,\n",
    "                             max_depth=3,\n",
    "                             n_estimators=600,\n",
    "                             subsample=1)\n",
    "xgb_best.fit(X_train_over, y_train_over)"
   ]
  },
  {
   "cell_type": "code",
   "execution_count": 43,
   "id": "1e66b1f6-4ec9-48bc-8996-8bfaad69a51c",
   "metadata": {},
   "outputs": [
    {
     "name": "stderr",
     "output_type": "stream",
     "text": [
      "C:\\ProgramData\\Anaconda3\\envs\\xgboost\\lib\\site-packages\\xgboost\\data.py:262: FutureWarning: pandas.Int64Index is deprecated and will be removed from pandas in a future version. Use pandas.Index with the appropriate dtype instead.\n",
      "  elif isinstance(data.columns, (pd.Int64Index, pd.RangeIndex)):\n"
     ]
    }
   ],
   "source": [
    "test_pred = xgb_best.predict(X_test)\n",
    "train_pred = xgb_best.predict(X_train)"
   ]
  },
  {
   "cell_type": "code",
   "execution_count": 44,
   "id": "6d7f7b88-5478-4acd-9af8-d1188d368ee8",
   "metadata": {},
   "outputs": [
    {
     "data": {
      "text/plain": [
       "<sklearn.metrics._plot.confusion_matrix.ConfusionMatrixDisplay at 0x2333e9a4a30>"
      ]
     },
     "execution_count": 44,
     "metadata": {},
     "output_type": "execute_result"
    },
    {
     "data": {
      "image/png": "[encoded data removed]",
      "text/plain": [
       "<Figure size 432x288 with 2 Axes>"
      ]
     },
     "metadata": {
      "needs_background": "light"
     },
     "output_type": "display_data"
    }
   ],
   "source": [
    "ConfusionMatrixDisplay.from_predictions(y_test, test_pred, display_labels=['Vaccinated', 'Unvaccinated'])"
   ]
  },
  {
   "cell_type": "code",
   "execution_count": 45,
   "id": "7bbf22fc-f001-43e8-b6f6-2eb071ceafb8",
   "metadata": {},
   "outputs": [
    {
     "data": {
      "text/plain": [
       "(0.817582746742549, 0.8298052920619071)"
      ]
     },
     "execution_count": 45,
     "metadata": {},
     "output_type": "execute_result"
    }
   ],
   "source": [
    "accuracy_score(y_test, test_pred), accuracy_score(y_train, train_pred)"
   ]
  },
  {
   "cell_type": "code",
   "execution_count": 46,
   "id": "ec3c3b20-bb13-45f3-acf6-b75b0de18e17",
   "metadata": {},
   "outputs": [
    {
     "data": {
      "text/plain": [
       "0.8993673388691182"
      ]
     },
     "execution_count": 46,
     "metadata": {},
     "output_type": "execute_result"
    }
   ],
   "source": [
    "precision_score(y_test, test_pred)"
   ]
  },
  {
   "cell_type": "code",
   "execution_count": 47,
   "id": "344438b5-b6b9-4732-b405-2f842ac39b73",
   "metadata": {},
   "outputs": [
    {
     "data": {
      "text/plain": [
       "0.8651578546976036"
      ]
     },
     "execution_count": 47,
     "metadata": {},
     "output_type": "execute_result"
    }
   ],
   "source": [
    "recall_score(y_test, test_pred)"
   ]
  },
  {
   "cell_type": "code",
   "execution_count": 48,
   "id": "266af8c1-0f28-43e2-a249-ee40bc5b255d",
   "metadata": {},
   "outputs": [
    {
     "data": {
      "text/plain": [
       "0.7532272712529597"
      ]
     },
     "execution_count": 48,
     "metadata": {},
     "output_type": "execute_result"
    }
   ],
   "source": [
    "roc_auc_score(y_test, test_pred)"
   ]
  },
  {
   "cell_type": "code",
   "execution_count": 49,
   "id": "e5128ab0-83c7-4bd1-81ba-87d2be8eea0f",
   "metadata": {},
   "outputs": [
    {
     "data": {
      "text/plain": [
       "0.7532272712529597"
      ]
     },
     "execution_count": 49,
     "metadata": {},
     "output_type": "execute_result"
    }
   ],
   "source": [
    "balanced_accuracy_score(y_test, test_pred)"
   ]
  },
  {
   "cell_type": "markdown",
   "id": "e3f6ab93-7e52-4a1d-981c-92aef2fba815",
   "metadata": {},
   "source": [
    "Model|Accuracy|Precision|Recall|AUC|\n",
    "-----|--------|---------|------|---|\n",
    "feat.engg + SMOTE|0.817|0.899|0.865|0.753|\n"
   ]
  },
  {
   "cell_type": "markdown",
   "id": "d02831f5-51b8-4a66-83ce-3422d69a637a",
   "metadata": {
    "tags": []
   },
   "source": [
    "### Using top features from logreg, without feature engineering, but with SMOTE"
   ]
  },
  {
   "cell_type": "code",
   "execution_count": 50,
   "id": "5791f3b2-0a89-4adf-951e-be7f754be14b",
   "metadata": {},
   "outputs": [],
   "source": [
    "# import data\n",
    "data = pd.read_csv('../data/train_clean.csv')"
   ]
  },
  {
   "cell_type": "code",
   "execution_count": 51,
   "id": "c73b8def-8d9f-42fd-9fce-a199ddd33e6e",
   "metadata": {},
   "outputs": [
    {
     "data": {
      "text/plain": [
       "Index(['respondent_id', 'h1n1_concern', 'h1n1_knowledge',\n",
       "       'behavioral_antiviral_meds', 'behavioral_avoidance',\n",
       "       'behavioral_face_mask', 'behavioral_wash_hands',\n",
       "       'behavioral_large_gatherings', 'behavioral_outside_home',\n",
       "       'behavioral_touch_face', 'doctor_recc_h1n1', 'doctor_recc_seasonal',\n",
       "       'chronic_med_condition', 'child_under_6_months', 'health_worker',\n",
       "       'health_insurance', 'opinion_h1n1_vacc_effective', 'opinion_h1n1_risk',\n",
       "       'opinion_h1n1_sick_from_vacc', 'opinion_seas_vacc_effective',\n",
       "       'opinion_seas_risk', 'opinion_seas_sick_from_vacc', 'age_group',\n",
       "       'education', 'race', 'sex', 'income_poverty', 'marital_status',\n",
       "       'rent_or_own', 'employment_status', 'hhs_geo_region', 'census_msa',\n",
       "       'household_adults', 'household_children', 'employment_industry',\n",
       "       'employment_occupation', 'h1n1_vaccine', 'seasonal_vaccine'],\n",
       "      dtype='object')"
      ]
     },
     "execution_count": 51,
     "metadata": {},
     "output_type": "execute_result"
    }
   ],
   "source": [
    "data.columns"
   ]
  },
  {
   "cell_type": "code",
   "execution_count": 52,
   "id": "dab19daa-20e6-45ba-92f0-2013ca3495b7",
   "metadata": {},
   "outputs": [
    {
     "data": {
      "text/plain": [
       "0    0.787546\n",
       "1    0.212454\n",
       "Name: h1n1_vaccine, dtype: float64"
      ]
     },
     "execution_count": 52,
     "metadata": {},
     "output_type": "execute_result"
    }
   ],
   "source": [
    "data['h1n1_vaccine'].value_counts(normalize=True)"
   ]
  },
  {
   "cell_type": "code",
   "execution_count": 53,
   "id": "784adfcb-74d0-4823-98ba-35ef575fe31c",
   "metadata": {},
   "outputs": [
    {
     "data": {
      "text/plain": [
       "0    0.534392\n",
       "1    0.465608\n",
       "Name: seasonal_vaccine, dtype: float64"
      ]
     },
     "execution_count": 53,
     "metadata": {},
     "output_type": "execute_result"
    }
   ],
   "source": [
    "data['seasonal_vaccine'].value_counts(normalize=True)"
   ]
  },
  {
   "cell_type": "code",
   "execution_count": 54,
   "id": "a13ecd8c-629e-4d64-bfef-a5a1436e117a",
   "metadata": {
    "tags": []
   },
   "outputs": [
    {
     "data": {
      "text/plain": [
       "1    14272\n",
       "0    12435\n",
       "Name: seasonal_vaccine, dtype: int64"
      ]
     },
     "execution_count": 54,
     "metadata": {},
     "output_type": "execute_result"
    }
   ],
   "source": [
    "# since we're interested in the people who did not get vaccinated: switch 0 and 1 labels\n",
    "data['h1n1_vaccine'].replace({1:0, 0:1}, inplace=True)\n",
    "data['h1n1_vaccine'].value_counts()\n",
    "\n",
    "data['seasonal_vaccine'].replace({1:0, 0:1}, inplace=True)\n",
    "data['seasonal_vaccine'].value_counts()"
   ]
  },
  {
   "cell_type": "code",
   "execution_count": 55,
   "id": "77bf8c0f-9125-46f2-94bf-77c5a6239681",
   "metadata": {},
   "outputs": [],
   "source": [
    "features_to_use = pd.read_csv('../data/logreg_H1N1_feature_imp.csv')"
   ]
  },
  {
   "cell_type": "code",
   "execution_count": 56,
   "id": "a5837ee5-7ead-4521-8c2b-66c3f66cb2a9",
   "metadata": {},
   "outputs": [
    {
     "data": {
      "text/plain": [
       "['doctor_recc_h1n1',\n",
       " 'employment_industry',\n",
       " 'health_insurance',\n",
       " 'health_worker',\n",
       " 'employment_occupation',\n",
       " 'doctor_recc_seasonal',\n",
       " 'opinion_h1n1_vacc_effective',\n",
       " 'education',\n",
       " 'opinion_h1n1_risk',\n",
       " 'chronic_med_condition',\n",
       " 'hhs_geo_region',\n",
       " 'rent_or_own',\n",
       " 'age_group',\n",
       " 'behavioral_antiviral_meds',\n",
       " 'h1n1_vaccine',\n",
       " 'seasonal_vaccine']"
      ]
     },
     "execution_count": 56,
     "metadata": {},
     "output_type": "execute_result"
    }
   ],
   "source": [
    "features = list(features_to_use['feature'])\n",
    "features.append('h1n1_vaccine')\n",
    "features.append('seasonal_vaccine')\n",
    "features"
   ]
  },
  {
   "cell_type": "code",
   "execution_count": 57,
   "id": "8c6f17e5-1feb-4709-8394-7d22e390095f",
   "metadata": {},
   "outputs": [],
   "source": [
    "data = data[features]"
   ]
  },
  {
   "cell_type": "code",
   "execution_count": 58,
   "id": "0f97f931-0495-4f1e-be67-df132c066e79",
   "metadata": {},
   "outputs": [
    {
     "data": {
      "text/plain": [
       "Index(['doctor_recc_h1n1', 'employment_industry', 'health_insurance',\n",
       "       'health_worker', 'employment_occupation', 'doctor_recc_seasonal',\n",
       "       'opinion_h1n1_vacc_effective', 'education', 'opinion_h1n1_risk',\n",
       "       'chronic_med_condition', 'hhs_geo_region', 'rent_or_own', 'age_group',\n",
       "       'behavioral_antiviral_meds', 'h1n1_vaccine', 'seasonal_vaccine'],\n",
       "      dtype='object')"
      ]
     },
     "execution_count": 58,
     "metadata": {},
     "output_type": "execute_result"
    }
   ],
   "source": [
    "data.columns"
   ]
  },
  {
   "cell_type": "markdown",
   "id": "e2d9a7d7-a6fa-402c-bd42-27e631bddc81",
   "metadata": {},
   "source": [
    "**dummify x**"
   ]
  },
  {
   "cell_type": "code",
   "execution_count": 59,
   "id": "c29d8ab3-6cc3-40b6-8526-162c6c368319",
   "metadata": {},
   "outputs": [
    {
     "data": {
      "text/plain": [
       "['doctor_recc_h1n1',\n",
       " 'employment_industry',\n",
       " 'health_insurance',\n",
       " 'health_worker',\n",
       " 'employment_occupation',\n",
       " 'doctor_recc_seasonal',\n",
       " 'education',\n",
       " 'chronic_med_condition',\n",
       " 'hhs_geo_region',\n",
       " 'rent_or_own',\n",
       " 'age_group']"
      ]
     },
     "execution_count": 59,
     "metadata": {},
     "output_type": "execute_result"
    }
   ],
   "source": [
    "categorical_columns = list(data.select_dtypes('object').columns)\n",
    "categorical_columns"
   ]
  },
  {
   "cell_type": "code",
   "execution_count": 60,
   "id": "d7e30374-80cf-4420-b2fb-2dbd552856d5",
   "metadata": {},
   "outputs": [],
   "source": [
    "X = pd.get_dummies(data=data.drop(columns=['h1n1_vaccine', 'seasonal_vaccine']),\n",
    "                    columns=categorical_columns, drop_first=True)"
   ]
  },
  {
   "cell_type": "markdown",
   "id": "285d4de7-e589-4083-8050-c37e2bb4c90a",
   "metadata": {},
   "source": [
    "**define X and y**"
   ]
  },
  {
   "cell_type": "code",
   "execution_count": 61,
   "id": "0ad5c933-6aac-4c68-a541-7c4b0330f55f",
   "metadata": {},
   "outputs": [
    {
     "data": {
      "text/plain": [
       "Index(['opinion_h1n1_vacc_effective', 'opinion_h1n1_risk',\n",
       "       'behavioral_antiviral_meds', 'doctor_recc_h1n1_1.0',\n",
       "       'doctor_recc_h1n1_no_response', 'employment_industry_atmlpfrs',\n",
       "       'employment_industry_cfqqtusy', 'employment_industry_dotnnunm',\n",
       "       'employment_industry_fcxhlnwr', 'employment_industry_haxffmxo',\n",
       "       'employment_industry_ldnlellj', 'employment_industry_mcubkhph',\n",
       "       'employment_industry_mfikgejo', 'employment_industry_msuufmds',\n",
       "       'employment_industry_nduyfdeo', 'employment_industry_no_response',\n",
       "       'employment_industry_phxvnwax', 'employment_industry_pxcmvdjn',\n",
       "       'employment_industry_qnlwzans', 'employment_industry_rucpziij',\n",
       "       'employment_industry_saaquncn', 'employment_industry_vjjrobsf',\n",
       "       'employment_industry_wlfvacwt', 'employment_industry_wxleyezf',\n",
       "       'employment_industry_xicduogh', 'employment_industry_xqicxuve',\n",
       "       'health_insurance_no_response', 'health_insurance_yes',\n",
       "       'health_worker_no_response', 'health_worker_yes',\n",
       "       'employment_occupation_ccgxvspp', 'employment_occupation_cmhcxjea',\n",
       "       'employment_occupation_dcjcmpih', 'employment_occupation_dlvbwzss',\n",
       "       'employment_occupation_emcorrxb', 'employment_occupation_haliazsg',\n",
       "       'employment_occupation_hfxkjkmi', 'employment_occupation_hodpvpew',\n",
       "       'employment_occupation_kldqjyjy', 'employment_occupation_mxkfnird',\n",
       "       'employment_occupation_no_response', 'employment_occupation_oijqvulv',\n",
       "       'employment_occupation_pvmttkik', 'employment_occupation_qxajmpny',\n",
       "       'employment_occupation_rcertsgn', 'employment_occupation_tfqavkke',\n",
       "       'employment_occupation_ukymxvdu', 'employment_occupation_uqqtjvyb',\n",
       "       'employment_occupation_vlluhbov', 'employment_occupation_xgwztkwe',\n",
       "       'employment_occupation_xqwwgdyp', 'employment_occupation_xtkaffoo',\n",
       "       'employment_occupation_xzmlyyjv', 'doctor_recc_seasonal_1.0',\n",
       "       'doctor_recc_seasonal_no_response', 'education_< 12 Years',\n",
       "       'education_College Graduate', 'education_Some College',\n",
       "       'education_no_response', 'chronic_med_condition_1.0',\n",
       "       'chronic_med_condition_no_response', 'hhs_geo_region_bhuqouqj',\n",
       "       'hhs_geo_region_dqpwygqj', 'hhs_geo_region_fpwskwrf',\n",
       "       'hhs_geo_region_kbazzjca', 'hhs_geo_region_lrircsnp',\n",
       "       'hhs_geo_region_lzgpxyit', 'hhs_geo_region_mlyzmhmf',\n",
       "       'hhs_geo_region_oxchjgsf', 'hhs_geo_region_qufhixun',\n",
       "       'rent_or_own_Rent', 'rent_or_own_no_response',\n",
       "       'age_group_35 - 44 Years', 'age_group_45 - 54 Years',\n",
       "       'age_group_55 - 64 Years', 'age_group_65+ Years'],\n",
       "      dtype='object')"
      ]
     },
     "execution_count": 61,
     "metadata": {},
     "output_type": "execute_result"
    }
   ],
   "source": [
    "X.columns"
   ]
  },
  {
   "cell_type": "code",
   "execution_count": 62,
   "id": "ae6267f3-d803-4bf8-a60f-8df04867932c",
   "metadata": {},
   "outputs": [],
   "source": [
    "y = data['h1n1_vaccine']"
   ]
  },
  {
   "cell_type": "code",
   "execution_count": 63,
   "id": "313a74ad-a238-408c-a92a-a9daad2d8a46",
   "metadata": {},
   "outputs": [],
   "source": [
    "# train test split\n",
    "X_train, X_test, y_train, y_test = train_test_split(X, y, random_state=42, stratify=y)"
   ]
  },
  {
   "cell_type": "code",
   "execution_count": 64,
   "id": "a45baf9e-d758-4b50-be07-dc49f6db57e2",
   "metadata": {},
   "outputs": [],
   "source": [
    "# balance classes\n",
    "\n",
    "smo = SMOTE(k_neighbors=7, random_state=42)\n",
    "\n",
    "X_train_over, y_train_over = smo.fit_resample(X_train, y_train)\n"
   ]
  },
  {
   "cell_type": "code",
   "execution_count": 65,
   "id": "ac4aac48-7586-45ab-803e-9f4d495173f7",
   "metadata": {},
   "outputs": [],
   "source": [
    "X_train_over = np.array(X_train_over)\n",
    "X_test = np.array(X_test)"
   ]
  },
  {
   "cell_type": "code",
   "execution_count": 66,
   "id": "037b385c-aa60-44bc-87c1-230fc14980c7",
   "metadata": {},
   "outputs": [],
   "source": [
    "y_train_over = np.array(y_train_over)\n",
    "y_test = np.array(y_test)"
   ]
  },
  {
   "cell_type": "code",
   "execution_count": 67,
   "id": "880b97e4-8244-405b-ba53-f8ce4de234cf",
   "metadata": {},
   "outputs": [
    {
     "data": {
      "text/plain": [
       "Index(['opinion_h1n1_vacc_effective', 'opinion_h1n1_risk',\n",
       "       'behavioral_antiviral_meds', 'doctor_recc_h1n1_1.0',\n",
       "       'doctor_recc_h1n1_no_response', 'employment_industry_atmlpfrs',\n",
       "       'employment_industry_cfqqtusy', 'employment_industry_dotnnunm',\n",
       "       'employment_industry_fcxhlnwr', 'employment_industry_haxffmxo',\n",
       "       'employment_industry_ldnlellj', 'employment_industry_mcubkhph',\n",
       "       'employment_industry_mfikgejo', 'employment_industry_msuufmds',\n",
       "       'employment_industry_nduyfdeo', 'employment_industry_no_response',\n",
       "       'employment_industry_phxvnwax', 'employment_industry_pxcmvdjn',\n",
       "       'employment_industry_qnlwzans', 'employment_industry_rucpziij',\n",
       "       'employment_industry_saaquncn', 'employment_industry_vjjrobsf',\n",
       "       'employment_industry_wlfvacwt', 'employment_industry_wxleyezf',\n",
       "       'employment_industry_xicduogh', 'employment_industry_xqicxuve',\n",
       "       'health_insurance_no_response', 'health_insurance_yes',\n",
       "       'health_worker_no_response', 'health_worker_yes',\n",
       "       'employment_occupation_ccgxvspp', 'employment_occupation_cmhcxjea',\n",
       "       'employment_occupation_dcjcmpih', 'employment_occupation_dlvbwzss',\n",
       "       'employment_occupation_emcorrxb', 'employment_occupation_haliazsg',\n",
       "       'employment_occupation_hfxkjkmi', 'employment_occupation_hodpvpew',\n",
       "       'employment_occupation_kldqjyjy', 'employment_occupation_mxkfnird',\n",
       "       'employment_occupation_no_response', 'employment_occupation_oijqvulv',\n",
       "       'employment_occupation_pvmttkik', 'employment_occupation_qxajmpny',\n",
       "       'employment_occupation_rcertsgn', 'employment_occupation_tfqavkke',\n",
       "       'employment_occupation_ukymxvdu', 'employment_occupation_uqqtjvyb',\n",
       "       'employment_occupation_vlluhbov', 'employment_occupation_xgwztkwe',\n",
       "       'employment_occupation_xqwwgdyp', 'employment_occupation_xtkaffoo',\n",
       "       'employment_occupation_xzmlyyjv', 'doctor_recc_seasonal_1.0',\n",
       "       'doctor_recc_seasonal_no_response', 'education_< 12 Years',\n",
       "       'education_College Graduate', 'education_Some College',\n",
       "       'education_no_response', 'chronic_med_condition_1.0',\n",
       "       'chronic_med_condition_no_response', 'hhs_geo_region_bhuqouqj',\n",
       "       'hhs_geo_region_dqpwygqj', 'hhs_geo_region_fpwskwrf',\n",
       "       'hhs_geo_region_kbazzjca', 'hhs_geo_region_lrircsnp',\n",
       "       'hhs_geo_region_lzgpxyit', 'hhs_geo_region_mlyzmhmf',\n",
       "       'hhs_geo_region_oxchjgsf', 'hhs_geo_region_qufhixun',\n",
       "       'rent_or_own_Rent', 'rent_or_own_no_response',\n",
       "       'age_group_35 - 44 Years', 'age_group_45 - 54 Years',\n",
       "       'age_group_55 - 64 Years', 'age_group_65+ Years'],\n",
       "      dtype='object')"
      ]
     },
     "execution_count": 67,
     "metadata": {},
     "output_type": "execute_result"
    }
   ],
   "source": [
    "X.columns"
   ]
  },
  {
   "cell_type": "markdown",
   "id": "16ef8088-7a73-414b-aa3a-4e13d89256b5",
   "metadata": {},
   "source": [
    "**Run model**"
   ]
  },
  {
   "cell_type": "code",
   "execution_count": 68,
   "id": "7f12099b-2a7b-406d-b351-d0c37fbb6868",
   "metadata": {},
   "outputs": [
    {
     "data": {
      "text/plain": [
       "XGBClassifier(base_score=0.5, booster='gbtree', colsample_bylevel=1,\n",
       "              colsample_bynode=1, colsample_bytree=0.9,\n",
       "              enable_categorical=False, eval_metric='error', gamma=0, gpu_id=-1,\n",
       "              importance_type=None, interaction_constraints='',\n",
       "              learning_rate=0.05, max_delta_step=0, max_depth=3,\n",
       "              min_child_weight=1, missing=nan, monotone_constraints='()',\n",
       "              n_estimators=600, n_jobs=16, num_parallel_tree=1,\n",
       "              predictor='auto', random_state=42, reg_alpha=0, reg_lambda=1,\n",
       "              scale_pos_weight=1, subsample=1, tree_method='exact',\n",
       "              use_label_encoder=False, validate_parameters=1, verbosity=None)"
      ]
     },
     "execution_count": 68,
     "metadata": {},
     "output_type": "execute_result"
    }
   ],
   "source": [
    "xgb_best = xgb.XGBClassifier(random_state=42,\n",
    "                             use_label_encoder=False,\n",
    "                             eval_metric='error',\n",
    "                             booster='gbtree',\n",
    "                             colsample_bytree=0.9,\n",
    "                             learning_rate=0.05,\n",
    "                             max_depth=3,\n",
    "                             n_estimators=600,\n",
    "                             subsample=1)\n",
    "xgb_best.fit(X_train_over, y_train_over)"
   ]
  },
  {
   "cell_type": "code",
   "execution_count": 69,
   "id": "3cd270d6-12cf-497b-b9de-e4132713616b",
   "metadata": {},
   "outputs": [
    {
     "name": "stderr",
     "output_type": "stream",
     "text": [
      "C:\\ProgramData\\Anaconda3\\envs\\xgboost\\lib\\site-packages\\xgboost\\data.py:262: FutureWarning: pandas.Int64Index is deprecated and will be removed from pandas in a future version. Use pandas.Index with the appropriate dtype instead.\n",
      "  elif isinstance(data.columns, (pd.Int64Index, pd.RangeIndex)):\n"
     ]
    }
   ],
   "source": [
    "test_pred = xgb_best.predict(X_test)\n",
    "train_pred = xgb_best.predict(X_train)"
   ]
  },
  {
   "cell_type": "code",
   "execution_count": 70,
   "id": "8b614717-0fc6-416d-8883-c8b7057b9319",
   "metadata": {},
   "outputs": [
    {
     "data": {
      "text/plain": [
       "<sklearn.metrics._plot.confusion_matrix.ConfusionMatrixDisplay at 0x23339dcabf0>"
      ]
     },
     "execution_count": 70,
     "metadata": {},
     "output_type": "execute_result"
    },
    {
     "data": {
      "image/png": "[encoded data removed]",
      "text/plain": [
       "<Figure size 432x288 with 2 Axes>"
      ]
     },
     "metadata": {
      "needs_background": "light"
     },
     "output_type": "display_data"
    }
   ],
   "source": [
    "ConfusionMatrixDisplay.from_predictions(y_test, test_pred, display_labels=['Vaccinated', 'Unvaccinated'])"
   ]
  },
  {
   "cell_type": "code",
   "execution_count": 71,
   "id": "fec1db63-804d-47a4-a359-74ffb201be3f",
   "metadata": {},
   "outputs": [
    {
     "data": {
      "text/plain": [
       "(0.8247716040137787, 0.8333000499251123)"
      ]
     },
     "execution_count": 71,
     "metadata": {},
     "output_type": "execute_result"
    }
   ],
   "source": [
    "accuracy_score(y_test, test_pred), accuracy_score(y_train, train_pred)"
   ]
  },
  {
   "cell_type": "code",
   "execution_count": 72,
   "id": "ca2cda78-5aea-443c-aa42-2866d89ba4ac",
   "metadata": {},
   "outputs": [
    {
     "data": {
      "text/plain": [
       "0.9012563800549667"
      ]
     },
     "execution_count": 72,
     "metadata": {},
     "output_type": "execute_result"
    }
   ],
   "source": [
    "precision_score(y_test, test_pred)"
   ]
  },
  {
   "cell_type": "code",
   "execution_count": 73,
   "id": "4afb171f-0529-4127-aa09-568aec86d83d",
   "metadata": {},
   "outputs": [
    {
     "data": {
      "text/plain": [
       "0.8731456827691138"
      ]
     },
     "execution_count": 73,
     "metadata": {},
     "output_type": "execute_result"
    }
   ],
   "source": [
    "recall_score(y_test, test_pred)"
   ]
  },
  {
   "cell_type": "code",
   "execution_count": 74,
   "id": "526bcc74-9d43-43b6-af67-54ca5555512c",
   "metadata": {},
   "outputs": [
    {
     "data": {
      "text/plain": [
       "0.7593353501935773"
      ]
     },
     "execution_count": 74,
     "metadata": {},
     "output_type": "execute_result"
    }
   ],
   "source": [
    "roc_auc_score(y_test, test_pred)"
   ]
  },
  {
   "cell_type": "code",
   "execution_count": 75,
   "id": "b52105cb-8c73-4362-a3ad-05184a18434c",
   "metadata": {},
   "outputs": [
    {
     "data": {
      "text/plain": [
       "0.7593353501935773"
      ]
     },
     "execution_count": 75,
     "metadata": {},
     "output_type": "execute_result"
    }
   ],
   "source": [
    "balanced_accuracy_score(y_test, test_pred)"
   ]
  },
  {
   "cell_type": "markdown",
   "id": "04dd3d4c-a0a8-4388-a63e-e094f8ead00f",
   "metadata": {},
   "source": [
    "Model|Accuracy|Precision|Recall|AUC|\n",
    "-----|--------|---------|------|---|\n",
    "feat.engg + SMOTE|0.817|0.899|0.865|0.753|\n",
    "feat as is + SMOTE|0.824|0.901|0.873|0.759|\n"
   ]
  },
  {
   "cell_type": "markdown",
   "id": "f0bf2549-4a3b-4d4e-9fd7-76dea9875cdd",
   "metadata": {},
   "source": [
    "### Using top features from logreg without feature engineering or smote"
   ]
  },
  {
   "cell_type": "code",
   "execution_count": 76,
   "id": "20c93ed1-f400-4806-bb8c-fdf6488d7e63",
   "metadata": {},
   "outputs": [],
   "source": [
    "# import data\n",
    "data = pd.read_csv('../data/train_clean.csv')"
   ]
  },
  {
   "cell_type": "code",
   "execution_count": 77,
   "id": "6f7e2ead-9b07-441e-8e9c-ceabdadb9be4",
   "metadata": {},
   "outputs": [
    {
     "data": {
      "text/plain": [
       "Index(['respondent_id', 'h1n1_concern', 'h1n1_knowledge',\n",
       "       'behavioral_antiviral_meds', 'behavioral_avoidance',\n",
       "       'behavioral_face_mask', 'behavioral_wash_hands',\n",
       "       'behavioral_large_gatherings', 'behavioral_outside_home',\n",
       "       'behavioral_touch_face', 'doctor_recc_h1n1', 'doctor_recc_seasonal',\n",
       "       'chronic_med_condition', 'child_under_6_months', 'health_worker',\n",
       "       'health_insurance', 'opinion_h1n1_vacc_effective', 'opinion_h1n1_risk',\n",
       "       'opinion_h1n1_sick_from_vacc', 'opinion_seas_vacc_effective',\n",
       "       'opinion_seas_risk', 'opinion_seas_sick_from_vacc', 'age_group',\n",
       "       'education', 'race', 'sex', 'income_poverty', 'marital_status',\n",
       "       'rent_or_own', 'employment_status', 'hhs_geo_region', 'census_msa',\n",
       "       'household_adults', 'household_children', 'employment_industry',\n",
       "       'employment_occupation', 'h1n1_vaccine', 'seasonal_vaccine'],\n",
       "      dtype='object')"
      ]
     },
     "execution_count": 77,
     "metadata": {},
     "output_type": "execute_result"
    }
   ],
   "source": [
    "data.columns"
   ]
  },
  {
   "cell_type": "code",
   "execution_count": 78,
   "id": "52f56232-883c-48cd-a2b5-88afbf81c923",
   "metadata": {},
   "outputs": [
    {
     "data": {
      "text/plain": [
       "0    0.787546\n",
       "1    0.212454\n",
       "Name: h1n1_vaccine, dtype: float64"
      ]
     },
     "execution_count": 78,
     "metadata": {},
     "output_type": "execute_result"
    }
   ],
   "source": [
    "data['h1n1_vaccine'].value_counts(normalize=True)"
   ]
  },
  {
   "cell_type": "code",
   "execution_count": 79,
   "id": "137c7831-8507-4433-9679-1de602788caa",
   "metadata": {},
   "outputs": [
    {
     "data": {
      "text/plain": [
       "0    0.534392\n",
       "1    0.465608\n",
       "Name: seasonal_vaccine, dtype: float64"
      ]
     },
     "execution_count": 79,
     "metadata": {},
     "output_type": "execute_result"
    }
   ],
   "source": [
    "data['seasonal_vaccine'].value_counts(normalize=True)"
   ]
  },
  {
   "cell_type": "code",
   "execution_count": 80,
   "id": "62863629-110c-4c71-bf0f-ff790168dcf7",
   "metadata": {
    "tags": []
   },
   "outputs": [
    {
     "data": {
      "text/plain": [
       "1    14272\n",
       "0    12435\n",
       "Name: seasonal_vaccine, dtype: int64"
      ]
     },
     "execution_count": 80,
     "metadata": {},
     "output_type": "execute_result"
    }
   ],
   "source": [
    "# since we're interested in the people who did not get vaccinated: switch 0 and 1 labels\n",
    "data['h1n1_vaccine'].replace({1:0, 0:1}, inplace=True)\n",
    "data['h1n1_vaccine'].value_counts()\n",
    "\n",
    "data['seasonal_vaccine'].replace({1:0, 0:1}, inplace=True)\n",
    "data['seasonal_vaccine'].value_counts()"
   ]
  },
  {
   "cell_type": "code",
   "execution_count": 81,
   "id": "3d3e8ee6-0c2e-40b6-a52d-67c7eddd5ede",
   "metadata": {},
   "outputs": [],
   "source": [
    "features_to_use = pd.read_csv('../data/logreg_H1N1_feature_imp.csv')"
   ]
  },
  {
   "cell_type": "code",
   "execution_count": 82,
   "id": "3a364523-30db-4fe0-9d53-413ad61781b7",
   "metadata": {},
   "outputs": [
    {
     "data": {
      "text/plain": [
       "['doctor_recc_h1n1',\n",
       " 'employment_industry',\n",
       " 'health_insurance',\n",
       " 'health_worker',\n",
       " 'employment_occupation',\n",
       " 'doctor_recc_seasonal',\n",
       " 'opinion_h1n1_vacc_effective',\n",
       " 'education',\n",
       " 'opinion_h1n1_risk',\n",
       " 'chronic_med_condition',\n",
       " 'hhs_geo_region',\n",
       " 'rent_or_own',\n",
       " 'age_group',\n",
       " 'behavioral_antiviral_meds',\n",
       " 'h1n1_vaccine',\n",
       " 'seasonal_vaccine']"
      ]
     },
     "execution_count": 82,
     "metadata": {},
     "output_type": "execute_result"
    }
   ],
   "source": [
    "features = list(features_to_use['feature'])\n",
    "features.append('h1n1_vaccine')\n",
    "features.append('seasonal_vaccine')\n",
    "features"
   ]
  },
  {
   "cell_type": "code",
   "execution_count": 83,
   "id": "16604774-a1e0-4f26-8141-5673c9aaf7cf",
   "metadata": {},
   "outputs": [],
   "source": [
    "data = data[features]"
   ]
  },
  {
   "cell_type": "code",
   "execution_count": 84,
   "id": "c4b606c2-75f0-4d3f-a961-51fe334eb1e9",
   "metadata": {},
   "outputs": [
    {
     "data": {
      "text/plain": [
       "Index(['doctor_recc_h1n1', 'employment_industry', 'health_insurance',\n",
       "       'health_worker', 'employment_occupation', 'doctor_recc_seasonal',\n",
       "       'opinion_h1n1_vacc_effective', 'education', 'opinion_h1n1_risk',\n",
       "       'chronic_med_condition', 'hhs_geo_region', 'rent_or_own', 'age_group',\n",
       "       'behavioral_antiviral_meds', 'h1n1_vaccine', 'seasonal_vaccine'],\n",
       "      dtype='object')"
      ]
     },
     "execution_count": 84,
     "metadata": {},
     "output_type": "execute_result"
    }
   ],
   "source": [
    "data.columns"
   ]
  },
  {
   "cell_type": "markdown",
   "id": "4c3ef042-c04d-424b-8016-56d3a91a8d98",
   "metadata": {},
   "source": [
    "**dummify x**"
   ]
  },
  {
   "cell_type": "code",
   "execution_count": 85,
   "id": "11bba5e3-1564-4860-8a6c-d770e55fcfe7",
   "metadata": {},
   "outputs": [
    {
     "data": {
      "text/plain": [
       "['doctor_recc_h1n1',\n",
       " 'employment_industry',\n",
       " 'health_insurance',\n",
       " 'health_worker',\n",
       " 'employment_occupation',\n",
       " 'doctor_recc_seasonal',\n",
       " 'education',\n",
       " 'chronic_med_condition',\n",
       " 'hhs_geo_region',\n",
       " 'rent_or_own',\n",
       " 'age_group']"
      ]
     },
     "execution_count": 85,
     "metadata": {},
     "output_type": "execute_result"
    }
   ],
   "source": [
    "categorical_columns = list(data.select_dtypes('object').columns)\n",
    "categorical_columns"
   ]
  },
  {
   "cell_type": "code",
   "execution_count": 86,
   "id": "5045e9fb-4a10-41c4-879a-ce9300e66347",
   "metadata": {},
   "outputs": [],
   "source": [
    "X = pd.get_dummies(data=data.drop(columns=['h1n1_vaccine', 'seasonal_vaccine']),\n",
    "                    columns=categorical_columns, drop_first=True)"
   ]
  },
  {
   "cell_type": "markdown",
   "id": "019a1e01-3d1c-4c87-a519-e13fa9c03cfb",
   "metadata": {},
   "source": [
    "**define X and y**"
   ]
  },
  {
   "cell_type": "code",
   "execution_count": 87,
   "id": "2e2992d8-8d73-4da9-b73a-a4f2ea0d1569",
   "metadata": {},
   "outputs": [
    {
     "data": {
      "text/plain": [
       "Index(['opinion_h1n1_vacc_effective', 'opinion_h1n1_risk',\n",
       "       'behavioral_antiviral_meds', 'doctor_recc_h1n1_1.0',\n",
       "       'doctor_recc_h1n1_no_response', 'employment_industry_atmlpfrs',\n",
       "       'employment_industry_cfqqtusy', 'employment_industry_dotnnunm',\n",
       "       'employment_industry_fcxhlnwr', 'employment_industry_haxffmxo',\n",
       "       'employment_industry_ldnlellj', 'employment_industry_mcubkhph',\n",
       "       'employment_industry_mfikgejo', 'employment_industry_msuufmds',\n",
       "       'employment_industry_nduyfdeo', 'employment_industry_no_response',\n",
       "       'employment_industry_phxvnwax', 'employment_industry_pxcmvdjn',\n",
       "       'employment_industry_qnlwzans', 'employment_industry_rucpziij',\n",
       "       'employment_industry_saaquncn', 'employment_industry_vjjrobsf',\n",
       "       'employment_industry_wlfvacwt', 'employment_industry_wxleyezf',\n",
       "       'employment_industry_xicduogh', 'employment_industry_xqicxuve',\n",
       "       'health_insurance_no_response', 'health_insurance_yes',\n",
       "       'health_worker_no_response', 'health_worker_yes',\n",
       "       'employment_occupation_ccgxvspp', 'employment_occupation_cmhcxjea',\n",
       "       'employment_occupation_dcjcmpih', 'employment_occupation_dlvbwzss',\n",
       "       'employment_occupation_emcorrxb', 'employment_occupation_haliazsg',\n",
       "       'employment_occupation_hfxkjkmi', 'employment_occupation_hodpvpew',\n",
       "       'employment_occupation_kldqjyjy', 'employment_occupation_mxkfnird',\n",
       "       'employment_occupation_no_response', 'employment_occupation_oijqvulv',\n",
       "       'employment_occupation_pvmttkik', 'employment_occupation_qxajmpny',\n",
       "       'employment_occupation_rcertsgn', 'employment_occupation_tfqavkke',\n",
       "       'employment_occupation_ukymxvdu', 'employment_occupation_uqqtjvyb',\n",
       "       'employment_occupation_vlluhbov', 'employment_occupation_xgwztkwe',\n",
       "       'employment_occupation_xqwwgdyp', 'employment_occupation_xtkaffoo',\n",
       "       'employment_occupation_xzmlyyjv', 'doctor_recc_seasonal_1.0',\n",
       "       'doctor_recc_seasonal_no_response', 'education_< 12 Years',\n",
       "       'education_College Graduate', 'education_Some College',\n",
       "       'education_no_response', 'chronic_med_condition_1.0',\n",
       "       'chronic_med_condition_no_response', 'hhs_geo_region_bhuqouqj',\n",
       "       'hhs_geo_region_dqpwygqj', 'hhs_geo_region_fpwskwrf',\n",
       "       'hhs_geo_region_kbazzjca', 'hhs_geo_region_lrircsnp',\n",
       "       'hhs_geo_region_lzgpxyit', 'hhs_geo_region_mlyzmhmf',\n",
       "       'hhs_geo_region_oxchjgsf', 'hhs_geo_region_qufhixun',\n",
       "       'rent_or_own_Rent', 'rent_or_own_no_response',\n",
       "       'age_group_35 - 44 Years', 'age_group_45 - 54 Years',\n",
       "       'age_group_55 - 64 Years', 'age_group_65+ Years'],\n",
       "      dtype='object')"
      ]
     },
     "execution_count": 87,
     "metadata": {},
     "output_type": "execute_result"
    }
   ],
   "source": [
    "X.columns"
   ]
  },
  {
   "cell_type": "code",
   "execution_count": 88,
   "id": "909da0a4-ce7e-49b1-b13a-86dcbdc78264",
   "metadata": {},
   "outputs": [],
   "source": [
    "y = data['h1n1_vaccine']"
   ]
  },
  {
   "cell_type": "code",
   "execution_count": 89,
   "id": "104b7284-5a2d-4f5b-b6b0-d856822f9dc5",
   "metadata": {},
   "outputs": [],
   "source": [
    "# train test split\n",
    "X_train, X_test, y_train, y_test = train_test_split(X, y, random_state=42, stratify=y)"
   ]
  },
  {
   "cell_type": "code",
   "execution_count": 90,
   "id": "f9a91836-77ab-4ef7-94ec-39e1be193fb2",
   "metadata": {},
   "outputs": [],
   "source": [
    "X_train = np.array(X_train)\n",
    "X_test = np.array(X_test)"
   ]
  },
  {
   "cell_type": "code",
   "execution_count": 91,
   "id": "975f81de-912b-4929-9a66-195b38127551",
   "metadata": {},
   "outputs": [],
   "source": [
    "y_train = np.array(y_train)\n",
    "y_test = np.array(y_test)"
   ]
  },
  {
   "cell_type": "markdown",
   "id": "5aa7b0fe-a3aa-4427-9ddd-c91117876e20",
   "metadata": {},
   "source": [
    "**Run model**"
   ]
  },
  {
   "cell_type": "code",
   "execution_count": 92,
   "id": "d136f3ee-c9f2-4f16-9bea-8360552af4c3",
   "metadata": {},
   "outputs": [
    {
     "data": {
      "text/plain": [
       "XGBClassifier(base_score=0.5, booster='gbtree', colsample_bylevel=1,\n",
       "              colsample_bynode=1, colsample_bytree=0.9,\n",
       "              enable_categorical=False, eval_metric='error', gamma=0, gpu_id=-1,\n",
       "              importance_type=None, interaction_constraints='',\n",
       "              learning_rate=0.05, max_delta_step=0, max_depth=3,\n",
       "              min_child_weight=1, missing=nan, monotone_constraints='()',\n",
       "              n_estimators=600, n_jobs=16, num_parallel_tree=1,\n",
       "              predictor='auto', random_state=42, reg_alpha=0, reg_lambda=1,\n",
       "              scale_pos_weight=1, subsample=1, tree_method='exact',\n",
       "              use_label_encoder=False, validate_parameters=1, verbosity=None)"
      ]
     },
     "execution_count": 92,
     "metadata": {},
     "output_type": "execute_result"
    }
   ],
   "source": [
    "xgb_best = xgb.XGBClassifier(random_state=42,\n",
    "                             use_label_encoder=False,\n",
    "                             eval_metric='error',\n",
    "                             booster='gbtree',\n",
    "                             colsample_bytree=0.9,\n",
    "                             learning_rate=0.05,\n",
    "                             max_depth=3,\n",
    "                             n_estimators=600,\n",
    "                             subsample=1)\n",
    "xgb_best.fit(X_train, y_train)"
   ]
  },
  {
   "cell_type": "code",
   "execution_count": 93,
   "id": "0f2183a1-bfe1-4e20-8bcb-5784653addea",
   "metadata": {},
   "outputs": [],
   "source": [
    "test_pred = xgb_best.predict(X_test)\n",
    "train_pred = xgb_best.predict(X_train)"
   ]
  },
  {
   "cell_type": "code",
   "execution_count": 94,
   "id": "588ed15f-c63c-40f0-8cba-274ccb3e1572",
   "metadata": {},
   "outputs": [
    {
     "data": {
      "text/plain": [
       "<sklearn.metrics._plot.confusion_matrix.ConfusionMatrixDisplay at 0x23340b18d00>"
      ]
     },
     "execution_count": 94,
     "metadata": {},
     "output_type": "execute_result"
    },
    {
     "data": {
      "image/png": "[encoded data removed]",
      "text/plain": [
       "<Figure size 432x288 with 2 Axes>"
      ]
     },
     "metadata": {
      "needs_background": "light"
     },
     "output_type": "display_data"
    }
   ],
   "source": [
    "ConfusionMatrixDisplay.from_predictions(y_test, test_pred, display_labels=['Vaccinated', 'Unvaccinated'])"
   ]
  },
  {
   "cell_type": "code",
   "execution_count": 95,
   "id": "90356e3d-6b05-46bd-83a7-8467e638d601",
   "metadata": {},
   "outputs": [
    {
     "data": {
      "text/plain": [
       "(0.8512805152014378, 0.8618072890664004)"
      ]
     },
     "execution_count": 95,
     "metadata": {},
     "output_type": "execute_result"
    }
   ],
   "source": [
    "accuracy_score(y_test, test_pred), accuracy_score(y_train, train_pred)"
   ]
  },
  {
   "cell_type": "code",
   "execution_count": 96,
   "id": "a5e31a1a-ebdb-4d8b-b546-647fd0d53a13",
   "metadata": {},
   "outputs": [
    {
     "data": {
      "text/plain": [
       "0.876035972491624"
      ]
     },
     "execution_count": 96,
     "metadata": {},
     "output_type": "execute_result"
    }
   ],
   "source": [
    "precision_score(y_test, test_pred)"
   ]
  },
  {
   "cell_type": "code",
   "execution_count": 97,
   "id": "66f4e100-2995-4658-8f3d-44c17e3f5899",
   "metadata": {},
   "outputs": [
    {
     "data": {
      "text/plain": [
       "0.9448459490300495"
      ]
     },
     "execution_count": 97,
     "metadata": {},
     "output_type": "execute_result"
    }
   ],
   "source": [
    "recall_score(y_test, test_pred)"
   ]
  },
  {
   "cell_type": "code",
   "execution_count": 98,
   "id": "1c778410-6681-4650-b822-021087c494fc",
   "metadata": {},
   "outputs": [
    {
     "data": {
      "text/plain": [
       "0.7247133198286259"
      ]
     },
     "execution_count": 98,
     "metadata": {},
     "output_type": "execute_result"
    }
   ],
   "source": [
    "roc_auc_score(y_test, test_pred)"
   ]
  },
  {
   "cell_type": "code",
   "execution_count": 99,
   "id": "f4fc733e-8661-40c6-9415-d533cd41d540",
   "metadata": {},
   "outputs": [
    {
     "data": {
      "text/plain": [
       "0.7247133198286259"
      ]
     },
     "execution_count": 99,
     "metadata": {},
     "output_type": "execute_result"
    }
   ],
   "source": [
    "balanced_accuracy_score(y_test, test_pred)"
   ]
  },
  {
   "cell_type": "markdown",
   "id": "31a581a6-ae65-4299-a055-1ba7525343fd",
   "metadata": {},
   "source": [
    "### Conclusions"
   ]
  },
  {
   "cell_type": "markdown",
   "id": "27e02118-d9d4-4c92-b7dc-7e1a75f07664",
   "metadata": {},
   "source": [
    "Model|Accuracy|Precision|Recall|AUC|\n",
    "-----|--------|---------|------|---|\n",
    "feat.engg + SMOTE|0.817|0.899|0.865|0.753|\n",
    "feat as is + SMOTE|0.824|0.901|0.873|0.759|\n",
    "feat as is|0.851|0.876|0.944|0.725|"
   ]
  },
  {
   "cell_type": "code",
   "execution_count": null,
   "id": "545971c5-69ad-4ad0-b7dd-9aa3127a9c71",
   "metadata": {},
   "outputs": [],
   "source": []
  }
 ],
 "metadata": {
  "kernelspec": {
   "display_name": "Python [conda env:xgboost]",
   "language": "python",
   "name": "conda-env-xgboost-py"
  },
  "language_info": {
   "codemirror_mode": {
    "name": "ipython",
    "version": 3
   },
   "file_extension": ".py",
   "mimetype": "text/x-python",
   "name": "python",
   "nbconvert_exporter": "python",
   "pygments_lexer": "ipython3",
   "version": "3.10.4"
  }
 },
 "nbformat": 4,
 "nbformat_minor": 5
}
